{
 "cells": [
  {
   "cell_type": "code",
   "execution_count": 20,
   "metadata": {},
   "outputs": [],
   "source": [
    "import numpy as np\n",
    "import pandas as pd\n",
    "import pickle\n",
    "from numpy import load\n",
    "import plotly.graph_objects as go"
   ]
  },
  {
   "cell_type": "code",
   "execution_count": 21,
   "metadata": {},
   "outputs": [],
   "source": [
    "fifa = pd.read_csv('Datasets/fifa_cleaned.csv')"
   ]
  },
  {
   "cell_type": "code",
   "execution_count": 22,
   "metadata": {},
   "outputs": [],
   "source": [
    "fifa_new_feats = pd.read_csv('../../../Desktop/Capstone/Datasets/fifa_new_feats.csv')"
   ]
  },
  {
   "cell_type": "code",
   "execution_count": 23,
   "metadata": {},
   "outputs": [],
   "source": [
    "RS_basic = pickle.load(open('../../../Desktop/Capstone/Datasets/RecSys/RS_basic.pkl', 'rb'))"
   ]
  },
  {
   "cell_type": "code",
   "execution_count": 24,
   "metadata": {},
   "outputs": [
    {
     "data": {
      "text/html": [
       "<div>\n",
       "<style scoped>\n",
       "    .dataframe tbody tr th:only-of-type {\n",
       "        vertical-align: middle;\n",
       "    }\n",
       "\n",
       "    .dataframe tbody tr th {\n",
       "        vertical-align: top;\n",
       "    }\n",
       "\n",
       "    .dataframe thead th {\n",
       "        text-align: right;\n",
       "    }\n",
       "</style>\n",
       "<table border=\"1\" class=\"dataframe\">\n",
       "  <thead>\n",
       "    <tr style=\"text-align: right;\">\n",
       "      <th>name_club</th>\n",
       "      <th>L. Messi, FC Barcelona</th>\n",
       "      <th>Cristiano Ronaldo, Juventus</th>\n",
       "      <th>Neymar Jr, Paris Saint-Germain</th>\n",
       "      <th>J. Oblak, Atlético Madrid</th>\n",
       "      <th>E. Hazard, Real Madrid</th>\n",
       "      <th>K. De Bruyne, Manchester City</th>\n",
       "      <th>M. ter Stegen, FC Barcelona</th>\n",
       "      <th>V. van Dijk, Liverpool</th>\n",
       "      <th>L. Modric, Real Madrid</th>\n",
       "      <th>M. Salah, Liverpool</th>\n",
       "      <th>...</th>\n",
       "      <th>M. Gallagher, Finn Harps</th>\n",
       "      <th>Huang Jiahui, Dalian YiFang FC</th>\n",
       "      <th>M. Sagaf, Carlisle United</th>\n",
       "      <th>E. Tweed, Derry City</th>\n",
       "      <th>P. Martin, Waterford FC</th>\n",
       "      <th>Shao Shuai, Beijing Renhe FC</th>\n",
       "      <th>Xiao Mingjie, Shanghai SIPG FC</th>\n",
       "      <th>Zhang Wei, Hebei China Fortune FC</th>\n",
       "      <th>Wang Haijian, Shanghai Greenland Shenhua FC</th>\n",
       "      <th>Pan Ximing, Hebei China Fortune FC</th>\n",
       "    </tr>\n",
       "    <tr>\n",
       "      <th>name_club</th>\n",
       "      <th></th>\n",
       "      <th></th>\n",
       "      <th></th>\n",
       "      <th></th>\n",
       "      <th></th>\n",
       "      <th></th>\n",
       "      <th></th>\n",
       "      <th></th>\n",
       "      <th></th>\n",
       "      <th></th>\n",
       "      <th></th>\n",
       "      <th></th>\n",
       "      <th></th>\n",
       "      <th></th>\n",
       "      <th></th>\n",
       "      <th></th>\n",
       "      <th></th>\n",
       "      <th></th>\n",
       "      <th></th>\n",
       "      <th></th>\n",
       "      <th></th>\n",
       "    </tr>\n",
       "  </thead>\n",
       "  <tbody>\n",
       "    <tr>\n",
       "      <th>L. Messi, FC Barcelona</th>\n",
       "      <td>0.000000</td>\n",
       "      <td>NaN</td>\n",
       "      <td>NaN</td>\n",
       "      <td>NaN</td>\n",
       "      <td>NaN</td>\n",
       "      <td>NaN</td>\n",
       "      <td>NaN</td>\n",
       "      <td>NaN</td>\n",
       "      <td>NaN</td>\n",
       "      <td>NaN</td>\n",
       "      <td>...</td>\n",
       "      <td>NaN</td>\n",
       "      <td>NaN</td>\n",
       "      <td>NaN</td>\n",
       "      <td>NaN</td>\n",
       "      <td>NaN</td>\n",
       "      <td>NaN</td>\n",
       "      <td>NaN</td>\n",
       "      <td>NaN</td>\n",
       "      <td>NaN</td>\n",
       "      <td>NaN</td>\n",
       "    </tr>\n",
       "    <tr>\n",
       "      <th>Cristiano Ronaldo, Juventus</th>\n",
       "      <td>4.659674</td>\n",
       "      <td>0.000000</td>\n",
       "      <td>NaN</td>\n",
       "      <td>NaN</td>\n",
       "      <td>NaN</td>\n",
       "      <td>NaN</td>\n",
       "      <td>NaN</td>\n",
       "      <td>NaN</td>\n",
       "      <td>NaN</td>\n",
       "      <td>NaN</td>\n",
       "      <td>...</td>\n",
       "      <td>NaN</td>\n",
       "      <td>NaN</td>\n",
       "      <td>NaN</td>\n",
       "      <td>NaN</td>\n",
       "      <td>NaN</td>\n",
       "      <td>NaN</td>\n",
       "      <td>NaN</td>\n",
       "      <td>NaN</td>\n",
       "      <td>NaN</td>\n",
       "      <td>NaN</td>\n",
       "    </tr>\n",
       "    <tr>\n",
       "      <th>Neymar Jr, Paris Saint-Germain</th>\n",
       "      <td>4.219893</td>\n",
       "      <td>5.398275</td>\n",
       "      <td>0.000000</td>\n",
       "      <td>NaN</td>\n",
       "      <td>NaN</td>\n",
       "      <td>NaN</td>\n",
       "      <td>NaN</td>\n",
       "      <td>NaN</td>\n",
       "      <td>NaN</td>\n",
       "      <td>NaN</td>\n",
       "      <td>...</td>\n",
       "      <td>NaN</td>\n",
       "      <td>NaN</td>\n",
       "      <td>NaN</td>\n",
       "      <td>NaN</td>\n",
       "      <td>NaN</td>\n",
       "      <td>NaN</td>\n",
       "      <td>NaN</td>\n",
       "      <td>NaN</td>\n",
       "      <td>NaN</td>\n",
       "      <td>NaN</td>\n",
       "    </tr>\n",
       "    <tr>\n",
       "      <th>J. Oblak, Atlético Madrid</th>\n",
       "      <td>21.596373</td>\n",
       "      <td>20.799701</td>\n",
       "      <td>21.150322</td>\n",
       "      <td>0.000000</td>\n",
       "      <td>NaN</td>\n",
       "      <td>NaN</td>\n",
       "      <td>NaN</td>\n",
       "      <td>NaN</td>\n",
       "      <td>NaN</td>\n",
       "      <td>NaN</td>\n",
       "      <td>...</td>\n",
       "      <td>NaN</td>\n",
       "      <td>NaN</td>\n",
       "      <td>NaN</td>\n",
       "      <td>NaN</td>\n",
       "      <td>NaN</td>\n",
       "      <td>NaN</td>\n",
       "      <td>NaN</td>\n",
       "      <td>NaN</td>\n",
       "      <td>NaN</td>\n",
       "      <td>NaN</td>\n",
       "    </tr>\n",
       "    <tr>\n",
       "      <th>E. Hazard, Real Madrid</th>\n",
       "      <td>3.810909</td>\n",
       "      <td>5.169138</td>\n",
       "      <td>2.359161</td>\n",
       "      <td>20.873761</td>\n",
       "      <td>0.0</td>\n",
       "      <td>NaN</td>\n",
       "      <td>NaN</td>\n",
       "      <td>NaN</td>\n",
       "      <td>NaN</td>\n",
       "      <td>NaN</td>\n",
       "      <td>...</td>\n",
       "      <td>NaN</td>\n",
       "      <td>NaN</td>\n",
       "      <td>NaN</td>\n",
       "      <td>NaN</td>\n",
       "      <td>NaN</td>\n",
       "      <td>NaN</td>\n",
       "      <td>NaN</td>\n",
       "      <td>NaN</td>\n",
       "      <td>NaN</td>\n",
       "      <td>NaN</td>\n",
       "    </tr>\n",
       "  </tbody>\n",
       "</table>\n",
       "<p>5 rows × 18278 columns</p>\n",
       "</div>"
      ],
      "text/plain": [
       "name_club                       L. Messi, FC Barcelona  \\\n",
       "name_club                                                \n",
       "L. Messi, FC Barcelona                        0.000000   \n",
       "Cristiano Ronaldo, Juventus                   4.659674   \n",
       "Neymar Jr, Paris Saint-Germain                4.219893   \n",
       "J. Oblak, Atlético Madrid                    21.596373   \n",
       "E. Hazard, Real Madrid                        3.810909   \n",
       "\n",
       "name_club                       Cristiano Ronaldo, Juventus  \\\n",
       "name_club                                                     \n",
       "L. Messi, FC Barcelona                                  NaN   \n",
       "Cristiano Ronaldo, Juventus                        0.000000   \n",
       "Neymar Jr, Paris Saint-Germain                     5.398275   \n",
       "J. Oblak, Atlético Madrid                         20.799701   \n",
       "E. Hazard, Real Madrid                             5.169138   \n",
       "\n",
       "name_club                       Neymar Jr, Paris Saint-Germain  \\\n",
       "name_club                                                        \n",
       "L. Messi, FC Barcelona                                     NaN   \n",
       "Cristiano Ronaldo, Juventus                                NaN   \n",
       "Neymar Jr, Paris Saint-Germain                        0.000000   \n",
       "J. Oblak, Atlético Madrid                            21.150322   \n",
       "E. Hazard, Real Madrid                                2.359161   \n",
       "\n",
       "name_club                       J. Oblak, Atlético Madrid  \\\n",
       "name_club                                                   \n",
       "L. Messi, FC Barcelona                                NaN   \n",
       "Cristiano Ronaldo, Juventus                           NaN   \n",
       "Neymar Jr, Paris Saint-Germain                        NaN   \n",
       "J. Oblak, Atlético Madrid                        0.000000   \n",
       "E. Hazard, Real Madrid                          20.873761   \n",
       "\n",
       "name_club                       E. Hazard, Real Madrid  \\\n",
       "name_club                                                \n",
       "L. Messi, FC Barcelona                             NaN   \n",
       "Cristiano Ronaldo, Juventus                        NaN   \n",
       "Neymar Jr, Paris Saint-Germain                     NaN   \n",
       "J. Oblak, Atlético Madrid                          NaN   \n",
       "E. Hazard, Real Madrid                             0.0   \n",
       "\n",
       "name_club                       K. De Bruyne, Manchester City  \\\n",
       "name_club                                                       \n",
       "L. Messi, FC Barcelona                                    NaN   \n",
       "Cristiano Ronaldo, Juventus                               NaN   \n",
       "Neymar Jr, Paris Saint-Germain                            NaN   \n",
       "J. Oblak, Atlético Madrid                                 NaN   \n",
       "E. Hazard, Real Madrid                                    NaN   \n",
       "\n",
       "name_club                       M. ter Stegen, FC Barcelona  \\\n",
       "name_club                                                     \n",
       "L. Messi, FC Barcelona                                  NaN   \n",
       "Cristiano Ronaldo, Juventus                             NaN   \n",
       "Neymar Jr, Paris Saint-Germain                          NaN   \n",
       "J. Oblak, Atlético Madrid                               NaN   \n",
       "E. Hazard, Real Madrid                                  NaN   \n",
       "\n",
       "name_club                       V. van Dijk, Liverpool  \\\n",
       "name_club                                                \n",
       "L. Messi, FC Barcelona                             NaN   \n",
       "Cristiano Ronaldo, Juventus                        NaN   \n",
       "Neymar Jr, Paris Saint-Germain                     NaN   \n",
       "J. Oblak, Atlético Madrid                          NaN   \n",
       "E. Hazard, Real Madrid                             NaN   \n",
       "\n",
       "name_club                       L. Modric, Real Madrid  M. Salah, Liverpool  \\\n",
       "name_club                                                                     \n",
       "L. Messi, FC Barcelona                             NaN                  NaN   \n",
       "Cristiano Ronaldo, Juventus                        NaN                  NaN   \n",
       "Neymar Jr, Paris Saint-Germain                     NaN                  NaN   \n",
       "J. Oblak, Atlético Madrid                          NaN                  NaN   \n",
       "E. Hazard, Real Madrid                             NaN                  NaN   \n",
       "\n",
       "name_club                       ...  M. Gallagher, Finn Harps  \\\n",
       "name_club                       ...                             \n",
       "L. Messi, FC Barcelona          ...                       NaN   \n",
       "Cristiano Ronaldo, Juventus     ...                       NaN   \n",
       "Neymar Jr, Paris Saint-Germain  ...                       NaN   \n",
       "J. Oblak, Atlético Madrid       ...                       NaN   \n",
       "E. Hazard, Real Madrid          ...                       NaN   \n",
       "\n",
       "name_club                       Huang Jiahui, Dalian YiFang FC  \\\n",
       "name_club                                                        \n",
       "L. Messi, FC Barcelona                                     NaN   \n",
       "Cristiano Ronaldo, Juventus                                NaN   \n",
       "Neymar Jr, Paris Saint-Germain                             NaN   \n",
       "J. Oblak, Atlético Madrid                                  NaN   \n",
       "E. Hazard, Real Madrid                                     NaN   \n",
       "\n",
       "name_club                       M. Sagaf, Carlisle United  \\\n",
       "name_club                                                   \n",
       "L. Messi, FC Barcelona                                NaN   \n",
       "Cristiano Ronaldo, Juventus                           NaN   \n",
       "Neymar Jr, Paris Saint-Germain                        NaN   \n",
       "J. Oblak, Atlético Madrid                             NaN   \n",
       "E. Hazard, Real Madrid                                NaN   \n",
       "\n",
       "name_club                       E. Tweed, Derry City  P. Martin, Waterford FC  \\\n",
       "name_club                                                                       \n",
       "L. Messi, FC Barcelona                           NaN                      NaN   \n",
       "Cristiano Ronaldo, Juventus                      NaN                      NaN   \n",
       "Neymar Jr, Paris Saint-Germain                   NaN                      NaN   \n",
       "J. Oblak, Atlético Madrid                        NaN                      NaN   \n",
       "E. Hazard, Real Madrid                           NaN                      NaN   \n",
       "\n",
       "name_club                       Shao Shuai, Beijing Renhe FC  \\\n",
       "name_club                                                      \n",
       "L. Messi, FC Barcelona                                   NaN   \n",
       "Cristiano Ronaldo, Juventus                              NaN   \n",
       "Neymar Jr, Paris Saint-Germain                           NaN   \n",
       "J. Oblak, Atlético Madrid                                NaN   \n",
       "E. Hazard, Real Madrid                                   NaN   \n",
       "\n",
       "name_club                       Xiao Mingjie, Shanghai SIPG FC  \\\n",
       "name_club                                                        \n",
       "L. Messi, FC Barcelona                                     NaN   \n",
       "Cristiano Ronaldo, Juventus                                NaN   \n",
       "Neymar Jr, Paris Saint-Germain                             NaN   \n",
       "J. Oblak, Atlético Madrid                                  NaN   \n",
       "E. Hazard, Real Madrid                                     NaN   \n",
       "\n",
       "name_club                       Zhang Wei, Hebei China Fortune FC  \\\n",
       "name_club                                                           \n",
       "L. Messi, FC Barcelona                                        NaN   \n",
       "Cristiano Ronaldo, Juventus                                   NaN   \n",
       "Neymar Jr, Paris Saint-Germain                                NaN   \n",
       "J. Oblak, Atlético Madrid                                     NaN   \n",
       "E. Hazard, Real Madrid                                        NaN   \n",
       "\n",
       "name_club                       Wang Haijian, Shanghai Greenland Shenhua FC  \\\n",
       "name_club                                                                     \n",
       "L. Messi, FC Barcelona                                                  NaN   \n",
       "Cristiano Ronaldo, Juventus                                             NaN   \n",
       "Neymar Jr, Paris Saint-Germain                                          NaN   \n",
       "J. Oblak, Atlético Madrid                                               NaN   \n",
       "E. Hazard, Real Madrid                                                  NaN   \n",
       "\n",
       "name_club                       Pan Ximing, Hebei China Fortune FC  \n",
       "name_club                                                           \n",
       "L. Messi, FC Barcelona                                         NaN  \n",
       "Cristiano Ronaldo, Juventus                                    NaN  \n",
       "Neymar Jr, Paris Saint-Germain                                 NaN  \n",
       "J. Oblak, Atlético Madrid                                      NaN  \n",
       "E. Hazard, Real Madrid                                         NaN  \n",
       "\n",
       "[5 rows x 18278 columns]"
      ]
     },
     "execution_count": 24,
     "metadata": {},
     "output_type": "execute_result"
    }
   ],
   "source": [
    "RS_basic.head()"
   ]
  },
  {
   "cell_type": "code",
   "execution_count": 25,
   "metadata": {},
   "outputs": [],
   "source": [
    "# load all compressed arrays first:\n",
    "\n",
    "np_RS_new = load('../../../Desktop/Capstone/Datasets/RecSys/Compressed Arrays/RS/RS_new.npz')"
   ]
  },
  {
   "cell_type": "code",
   "execution_count": 26,
   "metadata": {},
   "outputs": [],
   "source": [
    "# create function to convert numpy arrays to DataFrame:\n",
    "\n",
    "def np_to_df(np_array):\n",
    "    np_array = np_array.f.arr_0\n",
    "    df = pd.DataFrame(np_array, index = RS_basic.index, columns = RS_basic.index)\n",
    "    return df"
   ]
  },
  {
   "cell_type": "code",
   "execution_count": 27,
   "metadata": {},
   "outputs": [],
   "source": [
    "RS_new = np_to_df(np_RS_new)"
   ]
  },
  {
   "cell_type": "code",
   "execution_count": 28,
   "metadata": {},
   "outputs": [
    {
     "data": {
      "text/html": [
       "<div>\n",
       "<style scoped>\n",
       "    .dataframe tbody tr th:only-of-type {\n",
       "        vertical-align: middle;\n",
       "    }\n",
       "\n",
       "    .dataframe tbody tr th {\n",
       "        vertical-align: top;\n",
       "    }\n",
       "\n",
       "    .dataframe thead th {\n",
       "        text-align: right;\n",
       "    }\n",
       "</style>\n",
       "<table border=\"1\" class=\"dataframe\">\n",
       "  <thead>\n",
       "    <tr style=\"text-align: right;\">\n",
       "      <th>name_club</th>\n",
       "      <th>L. Messi, FC Barcelona</th>\n",
       "      <th>Cristiano Ronaldo, Juventus</th>\n",
       "      <th>Neymar Jr, Paris Saint-Germain</th>\n",
       "      <th>J. Oblak, Atlético Madrid</th>\n",
       "      <th>E. Hazard, Real Madrid</th>\n",
       "      <th>K. De Bruyne, Manchester City</th>\n",
       "      <th>M. ter Stegen, FC Barcelona</th>\n",
       "      <th>V. van Dijk, Liverpool</th>\n",
       "      <th>L. Modric, Real Madrid</th>\n",
       "      <th>M. Salah, Liverpool</th>\n",
       "      <th>...</th>\n",
       "      <th>M. Gallagher, Finn Harps</th>\n",
       "      <th>Huang Jiahui, Dalian YiFang FC</th>\n",
       "      <th>M. Sagaf, Carlisle United</th>\n",
       "      <th>E. Tweed, Derry City</th>\n",
       "      <th>P. Martin, Waterford FC</th>\n",
       "      <th>Shao Shuai, Beijing Renhe FC</th>\n",
       "      <th>Xiao Mingjie, Shanghai SIPG FC</th>\n",
       "      <th>Zhang Wei, Hebei China Fortune FC</th>\n",
       "      <th>Wang Haijian, Shanghai Greenland Shenhua FC</th>\n",
       "      <th>Pan Ximing, Hebei China Fortune FC</th>\n",
       "    </tr>\n",
       "    <tr>\n",
       "      <th>name_club</th>\n",
       "      <th></th>\n",
       "      <th></th>\n",
       "      <th></th>\n",
       "      <th></th>\n",
       "      <th></th>\n",
       "      <th></th>\n",
       "      <th></th>\n",
       "      <th></th>\n",
       "      <th></th>\n",
       "      <th></th>\n",
       "      <th></th>\n",
       "      <th></th>\n",
       "      <th></th>\n",
       "      <th></th>\n",
       "      <th></th>\n",
       "      <th></th>\n",
       "      <th></th>\n",
       "      <th></th>\n",
       "      <th></th>\n",
       "      <th></th>\n",
       "      <th></th>\n",
       "    </tr>\n",
       "  </thead>\n",
       "  <tbody>\n",
       "    <tr>\n",
       "      <th>L. Messi, FC Barcelona</th>\n",
       "      <td>0.000000</td>\n",
       "      <td>NaN</td>\n",
       "      <td>NaN</td>\n",
       "      <td>NaN</td>\n",
       "      <td>NaN</td>\n",
       "      <td>NaN</td>\n",
       "      <td>NaN</td>\n",
       "      <td>NaN</td>\n",
       "      <td>NaN</td>\n",
       "      <td>NaN</td>\n",
       "      <td>...</td>\n",
       "      <td>NaN</td>\n",
       "      <td>NaN</td>\n",
       "      <td>NaN</td>\n",
       "      <td>NaN</td>\n",
       "      <td>NaN</td>\n",
       "      <td>NaN</td>\n",
       "      <td>NaN</td>\n",
       "      <td>NaN</td>\n",
       "      <td>NaN</td>\n",
       "      <td>NaN</td>\n",
       "    </tr>\n",
       "    <tr>\n",
       "      <th>Cristiano Ronaldo, Juventus</th>\n",
       "      <td>6.458527</td>\n",
       "      <td>0.000000</td>\n",
       "      <td>NaN</td>\n",
       "      <td>NaN</td>\n",
       "      <td>NaN</td>\n",
       "      <td>NaN</td>\n",
       "      <td>NaN</td>\n",
       "      <td>NaN</td>\n",
       "      <td>NaN</td>\n",
       "      <td>NaN</td>\n",
       "      <td>...</td>\n",
       "      <td>NaN</td>\n",
       "      <td>NaN</td>\n",
       "      <td>NaN</td>\n",
       "      <td>NaN</td>\n",
       "      <td>NaN</td>\n",
       "      <td>NaN</td>\n",
       "      <td>NaN</td>\n",
       "      <td>NaN</td>\n",
       "      <td>NaN</td>\n",
       "      <td>NaN</td>\n",
       "    </tr>\n",
       "    <tr>\n",
       "      <th>Neymar Jr, Paris Saint-Germain</th>\n",
       "      <td>6.542744</td>\n",
       "      <td>6.792744</td>\n",
       "      <td>0.000000</td>\n",
       "      <td>NaN</td>\n",
       "      <td>NaN</td>\n",
       "      <td>NaN</td>\n",
       "      <td>NaN</td>\n",
       "      <td>NaN</td>\n",
       "      <td>NaN</td>\n",
       "      <td>NaN</td>\n",
       "      <td>...</td>\n",
       "      <td>NaN</td>\n",
       "      <td>NaN</td>\n",
       "      <td>NaN</td>\n",
       "      <td>NaN</td>\n",
       "      <td>NaN</td>\n",
       "      <td>NaN</td>\n",
       "      <td>NaN</td>\n",
       "      <td>NaN</td>\n",
       "      <td>NaN</td>\n",
       "      <td>NaN</td>\n",
       "    </tr>\n",
       "    <tr>\n",
       "      <th>J. Oblak, Atlético Madrid</th>\n",
       "      <td>22.099849</td>\n",
       "      <td>21.227990</td>\n",
       "      <td>21.641074</td>\n",
       "      <td>0.000000</td>\n",
       "      <td>NaN</td>\n",
       "      <td>NaN</td>\n",
       "      <td>NaN</td>\n",
       "      <td>NaN</td>\n",
       "      <td>NaN</td>\n",
       "      <td>NaN</td>\n",
       "      <td>...</td>\n",
       "      <td>NaN</td>\n",
       "      <td>NaN</td>\n",
       "      <td>NaN</td>\n",
       "      <td>NaN</td>\n",
       "      <td>NaN</td>\n",
       "      <td>NaN</td>\n",
       "      <td>NaN</td>\n",
       "      <td>NaN</td>\n",
       "      <td>NaN</td>\n",
       "      <td>NaN</td>\n",
       "    </tr>\n",
       "    <tr>\n",
       "      <th>E. Hazard, Real Madrid</th>\n",
       "      <td>6.043428</td>\n",
       "      <td>6.222539</td>\n",
       "      <td>4.750330</td>\n",
       "      <td>21.206458</td>\n",
       "      <td>0.0</td>\n",
       "      <td>NaN</td>\n",
       "      <td>NaN</td>\n",
       "      <td>NaN</td>\n",
       "      <td>NaN</td>\n",
       "      <td>NaN</td>\n",
       "      <td>...</td>\n",
       "      <td>NaN</td>\n",
       "      <td>NaN</td>\n",
       "      <td>NaN</td>\n",
       "      <td>NaN</td>\n",
       "      <td>NaN</td>\n",
       "      <td>NaN</td>\n",
       "      <td>NaN</td>\n",
       "      <td>NaN</td>\n",
       "      <td>NaN</td>\n",
       "      <td>NaN</td>\n",
       "    </tr>\n",
       "  </tbody>\n",
       "</table>\n",
       "<p>5 rows × 18278 columns</p>\n",
       "</div>"
      ],
      "text/plain": [
       "name_club                       L. Messi, FC Barcelona  \\\n",
       "name_club                                                \n",
       "L. Messi, FC Barcelona                        0.000000   \n",
       "Cristiano Ronaldo, Juventus                   6.458527   \n",
       "Neymar Jr, Paris Saint-Germain                6.542744   \n",
       "J. Oblak, Atlético Madrid                    22.099849   \n",
       "E. Hazard, Real Madrid                        6.043428   \n",
       "\n",
       "name_club                       Cristiano Ronaldo, Juventus  \\\n",
       "name_club                                                     \n",
       "L. Messi, FC Barcelona                                  NaN   \n",
       "Cristiano Ronaldo, Juventus                        0.000000   \n",
       "Neymar Jr, Paris Saint-Germain                     6.792744   \n",
       "J. Oblak, Atlético Madrid                         21.227990   \n",
       "E. Hazard, Real Madrid                             6.222539   \n",
       "\n",
       "name_club                       Neymar Jr, Paris Saint-Germain  \\\n",
       "name_club                                                        \n",
       "L. Messi, FC Barcelona                                     NaN   \n",
       "Cristiano Ronaldo, Juventus                                NaN   \n",
       "Neymar Jr, Paris Saint-Germain                        0.000000   \n",
       "J. Oblak, Atlético Madrid                            21.641074   \n",
       "E. Hazard, Real Madrid                                4.750330   \n",
       "\n",
       "name_club                       J. Oblak, Atlético Madrid  \\\n",
       "name_club                                                   \n",
       "L. Messi, FC Barcelona                                NaN   \n",
       "Cristiano Ronaldo, Juventus                           NaN   \n",
       "Neymar Jr, Paris Saint-Germain                        NaN   \n",
       "J. Oblak, Atlético Madrid                        0.000000   \n",
       "E. Hazard, Real Madrid                          21.206458   \n",
       "\n",
       "name_club                       E. Hazard, Real Madrid  \\\n",
       "name_club                                                \n",
       "L. Messi, FC Barcelona                             NaN   \n",
       "Cristiano Ronaldo, Juventus                        NaN   \n",
       "Neymar Jr, Paris Saint-Germain                     NaN   \n",
       "J. Oblak, Atlético Madrid                          NaN   \n",
       "E. Hazard, Real Madrid                             0.0   \n",
       "\n",
       "name_club                       K. De Bruyne, Manchester City  \\\n",
       "name_club                                                       \n",
       "L. Messi, FC Barcelona                                    NaN   \n",
       "Cristiano Ronaldo, Juventus                               NaN   \n",
       "Neymar Jr, Paris Saint-Germain                            NaN   \n",
       "J. Oblak, Atlético Madrid                                 NaN   \n",
       "E. Hazard, Real Madrid                                    NaN   \n",
       "\n",
       "name_club                       M. ter Stegen, FC Barcelona  \\\n",
       "name_club                                                     \n",
       "L. Messi, FC Barcelona                                  NaN   \n",
       "Cristiano Ronaldo, Juventus                             NaN   \n",
       "Neymar Jr, Paris Saint-Germain                          NaN   \n",
       "J. Oblak, Atlético Madrid                               NaN   \n",
       "E. Hazard, Real Madrid                                  NaN   \n",
       "\n",
       "name_club                       V. van Dijk, Liverpool  \\\n",
       "name_club                                                \n",
       "L. Messi, FC Barcelona                             NaN   \n",
       "Cristiano Ronaldo, Juventus                        NaN   \n",
       "Neymar Jr, Paris Saint-Germain                     NaN   \n",
       "J. Oblak, Atlético Madrid                          NaN   \n",
       "E. Hazard, Real Madrid                             NaN   \n",
       "\n",
       "name_club                       L. Modric, Real Madrid  M. Salah, Liverpool  \\\n",
       "name_club                                                                     \n",
       "L. Messi, FC Barcelona                             NaN                  NaN   \n",
       "Cristiano Ronaldo, Juventus                        NaN                  NaN   \n",
       "Neymar Jr, Paris Saint-Germain                     NaN                  NaN   \n",
       "J. Oblak, Atlético Madrid                          NaN                  NaN   \n",
       "E. Hazard, Real Madrid                             NaN                  NaN   \n",
       "\n",
       "name_club                       ...  M. Gallagher, Finn Harps  \\\n",
       "name_club                       ...                             \n",
       "L. Messi, FC Barcelona          ...                       NaN   \n",
       "Cristiano Ronaldo, Juventus     ...                       NaN   \n",
       "Neymar Jr, Paris Saint-Germain  ...                       NaN   \n",
       "J. Oblak, Atlético Madrid       ...                       NaN   \n",
       "E. Hazard, Real Madrid          ...                       NaN   \n",
       "\n",
       "name_club                       Huang Jiahui, Dalian YiFang FC  \\\n",
       "name_club                                                        \n",
       "L. Messi, FC Barcelona                                     NaN   \n",
       "Cristiano Ronaldo, Juventus                                NaN   \n",
       "Neymar Jr, Paris Saint-Germain                             NaN   \n",
       "J. Oblak, Atlético Madrid                                  NaN   \n",
       "E. Hazard, Real Madrid                                     NaN   \n",
       "\n",
       "name_club                       M. Sagaf, Carlisle United  \\\n",
       "name_club                                                   \n",
       "L. Messi, FC Barcelona                                NaN   \n",
       "Cristiano Ronaldo, Juventus                           NaN   \n",
       "Neymar Jr, Paris Saint-Germain                        NaN   \n",
       "J. Oblak, Atlético Madrid                             NaN   \n",
       "E. Hazard, Real Madrid                                NaN   \n",
       "\n",
       "name_club                       E. Tweed, Derry City  P. Martin, Waterford FC  \\\n",
       "name_club                                                                       \n",
       "L. Messi, FC Barcelona                           NaN                      NaN   \n",
       "Cristiano Ronaldo, Juventus                      NaN                      NaN   \n",
       "Neymar Jr, Paris Saint-Germain                   NaN                      NaN   \n",
       "J. Oblak, Atlético Madrid                        NaN                      NaN   \n",
       "E. Hazard, Real Madrid                           NaN                      NaN   \n",
       "\n",
       "name_club                       Shao Shuai, Beijing Renhe FC  \\\n",
       "name_club                                                      \n",
       "L. Messi, FC Barcelona                                   NaN   \n",
       "Cristiano Ronaldo, Juventus                              NaN   \n",
       "Neymar Jr, Paris Saint-Germain                           NaN   \n",
       "J. Oblak, Atlético Madrid                                NaN   \n",
       "E. Hazard, Real Madrid                                   NaN   \n",
       "\n",
       "name_club                       Xiao Mingjie, Shanghai SIPG FC  \\\n",
       "name_club                                                        \n",
       "L. Messi, FC Barcelona                                     NaN   \n",
       "Cristiano Ronaldo, Juventus                                NaN   \n",
       "Neymar Jr, Paris Saint-Germain                             NaN   \n",
       "J. Oblak, Atlético Madrid                                  NaN   \n",
       "E. Hazard, Real Madrid                                     NaN   \n",
       "\n",
       "name_club                       Zhang Wei, Hebei China Fortune FC  \\\n",
       "name_club                                                           \n",
       "L. Messi, FC Barcelona                                        NaN   \n",
       "Cristiano Ronaldo, Juventus                                   NaN   \n",
       "Neymar Jr, Paris Saint-Germain                                NaN   \n",
       "J. Oblak, Atlético Madrid                                     NaN   \n",
       "E. Hazard, Real Madrid                                        NaN   \n",
       "\n",
       "name_club                       Wang Haijian, Shanghai Greenland Shenhua FC  \\\n",
       "name_club                                                                     \n",
       "L. Messi, FC Barcelona                                                  NaN   \n",
       "Cristiano Ronaldo, Juventus                                             NaN   \n",
       "Neymar Jr, Paris Saint-Germain                                          NaN   \n",
       "J. Oblak, Atlético Madrid                                               NaN   \n",
       "E. Hazard, Real Madrid                                                  NaN   \n",
       "\n",
       "name_club                       Pan Ximing, Hebei China Fortune FC  \n",
       "name_club                                                           \n",
       "L. Messi, FC Barcelona                                         NaN  \n",
       "Cristiano Ronaldo, Juventus                                    NaN  \n",
       "Neymar Jr, Paris Saint-Germain                                 NaN  \n",
       "J. Oblak, Atlético Madrid                                      NaN  \n",
       "E. Hazard, Real Madrid                                         NaN  \n",
       "\n",
       "[5 rows x 18278 columns]"
      ]
     },
     "execution_count": 28,
     "metadata": {},
     "output_type": "execute_result"
    }
   ],
   "source": [
    "RS_new.head()"
   ]
  },
  {
   "cell_type": "code",
   "execution_count": 29,
   "metadata": {},
   "outputs": [
    {
     "name": "stdout",
     "output_type": "stream",
     "text": [
      "74\n",
      "14\n",
      "88\n"
     ]
    }
   ],
   "source": [
    "# seperate and classify the different features first\n",
    "\n",
    "basic_attr = ['overall', 'potential', 'pace', 'shooting', 'passing', 'dribbling', 'defending', 'physic']\n",
    "\n",
    "pos_scores = ['ls', 'st', 'rs', 'lw', 'lf', 'cf', 'rf', 'rw', 'lam', 'cam', 'ram', 'lm', 'lcm', 'cm',\n",
    "       'rcm', 'rm', 'lwb', 'ldm', 'cdm', 'rdm', 'rwb', 'lb', 'lcb', 'cb',\n",
    "       'rcb', 'rb']\n",
    "\n",
    "gk_attr = ['gk_diving', 'gk_handling', 'gk_kicking', 'gk_reflexes', 'gk_speed', 'gk_positioning']\n",
    "\n",
    "attack_attr = ['attacking_crossing', 'attacking_finishing', 'attacking_heading_accuracy', 'attacking_short_passing', 'attacking_volleys']\n",
    "skill_attr = ['skill_dribbling', 'skill_curve', 'skill_fk_accuracy', 'skill_long_passing', 'skill_ball_control']\n",
    "movement_attr = ['movement_acceleration', 'movement_sprint_speed', 'movement_agility', 'movement_reactions', 'movement_balance']\n",
    "power_attr = ['power_shot_power', 'power_jumping', 'power_stamina', 'power_strength', 'power_long_shots']\n",
    "defend_attr = ['defending_standing_tackle', 'defending_sliding_tackle', 'defending_marking']\n",
    "\n",
    "technical_attr = attack_attr + skill_attr + movement_attr + power_attr + defend_attr + gk_attr\n",
    "technical_attr.append('weak_foot')\n",
    "\n",
    "mental_attr = ['mentality_aggression', 'mentality_interceptions', 'mentality_positioning', 'mentality_vision', 'mentality_penalties', 'mentality_composure']\n",
    "\n",
    "positions = ['player_positions', 'team_position']\n",
    "\n",
    "att_def_rate = ['attack_work_rate', 'defense_work_rate']\n",
    "\n",
    "other_var = ['name_club', 'short_name', 'long_name', 'age', 'club', 'nationality', 'work_rate', 'preferred_foot',\n",
    "             'value_eur', 'wage_eur', 'release_clause_eur', 'player_tags', 'player_traits', 'contract_valid_until']\n",
    "\n",
    "print(len(pos_scores) + len(mental_attr) + len(att_def_rate) + len(basic_attr) + len(technical_attr) + len(positions))\n",
    "\n",
    "print(len(other_var))\n",
    "\n",
    "print(len(fifa.columns))"
   ]
  },
  {
   "cell_type": "code",
   "execution_count": 30,
   "metadata": {},
   "outputs": [],
   "source": [
    "fifa_shortname = [name for name in fifa.short_name]"
   ]
  },
  {
   "cell_type": "code",
   "execution_count": 31,
   "metadata": {},
   "outputs": [],
   "source": [
    "# first, create function to return top 5 similar players by asking only for player's short name (which is what people usually input):\n",
    "\n",
    "def get_sim_players(player_name, RS):\n",
    "    if fifa_shortname.count(player_name) == 1:\n",
    "    # for players with unique name \n",
    "        player_index = int(fifa.loc[fifa.short_name == player_name].index.values)\n",
    "        player_nameclub = fifa.iloc[player_index]['name_club']\n",
    "    elif fifa_shortname.count(player_name) > 1:\n",
    "    # for players with non-unique name\n",
    "        dups_count = fifa_shortname.count(player_name)\n",
    "        dups_indexes = list(fifa.loc[fifa.short_name == player_name].index.values)\n",
    "        dups_nameclub = fifa.iloc[dups_indexes]['name_club']\n",
    "        \n",
    "        print(f\"There are a total of {dups_count} counts for {player_name}.\")\n",
    "        print(\"\")\n",
    "        print(f\"{dups_nameclub}\")\n",
    "        print(\"\")\n",
    "        print(\"Which of the following players above are you actually looking for?\")\n",
    "        exact_dup_index = int(input(\"Please key in the corresponding index beside them:\"))\n",
    "        print(\"\")\n",
    "        \n",
    "        player_nameclub = fifa.iloc[exact_dup_index]['name_club']\n",
    "        \n",
    "    else:\n",
    "        # for players whom the user keyed in wrongly (but where the last name still matches)\n",
    "        player_namesplit = player_name.split(\". \")\n",
    "        for name in fifa_shortname:\n",
    "            if player_namesplit[1] in name:\n",
    "                print(name)\n",
    "                # show list of players with same last name\n",
    "        print(\"\\n\")\n",
    "        print(f\"The player entered, {player_name}, does not exist. Do you actually mean the following player(s) above?\")\n",
    "        print(\"\")\n",
    "        \n",
    "        actual_player_name = str(input(\"If so, please enter the exact name as above:\"))\n",
    "        print(\"\")\n",
    "                \n",
    "        player_index = int(fifa.loc[fifa.short_name == actual_player_name].index.values)\n",
    "        player_nameclub = fifa.iloc[player_index]['name_club']\n",
    "        \n",
    "    print(f\"Here are the top 5 players that are similar to {player_nameclub}.\")\n",
    "    df = pd.DataFrame(RS[player_nameclub].sort_values().head(6))\n",
    "    df = df.drop([player_nameclub])\n",
    "    print(\"The distances below represent the similarity.\")\n",
    "    print(f\"The lower it is, the more similar the player is to {player_name}.\")\n",
    "    return df"
   ]
  },
  {
   "cell_type": "code",
   "execution_count": 32,
   "metadata": {},
   "outputs": [
    {
     "name": "stdout",
     "output_type": "stream",
     "text": [
      "Here are the top 5 players that are similar to L. Messi, FC Barcelona.\n",
      "The distances below represent the similarity.\n",
      "The lower it is, the more similar the player is to L. Messi.\n"
     ]
    },
    {
     "data": {
      "text/html": [
       "<div>\n",
       "<style scoped>\n",
       "    .dataframe tbody tr th:only-of-type {\n",
       "        vertical-align: middle;\n",
       "    }\n",
       "\n",
       "    .dataframe tbody tr th {\n",
       "        vertical-align: top;\n",
       "    }\n",
       "\n",
       "    .dataframe thead th {\n",
       "        text-align: right;\n",
       "    }\n",
       "</style>\n",
       "<table border=\"1\" class=\"dataframe\">\n",
       "  <thead>\n",
       "    <tr style=\"text-align: right;\">\n",
       "      <th></th>\n",
       "      <th>L. Messi, FC Barcelona</th>\n",
       "    </tr>\n",
       "    <tr>\n",
       "      <th>name_club</th>\n",
       "      <th></th>\n",
       "    </tr>\n",
       "  </thead>\n",
       "  <tbody>\n",
       "    <tr>\n",
       "      <th>K. Coman, FC Bayern München</th>\n",
       "      <td>3.524085</td>\n",
       "    </tr>\n",
       "    <tr>\n",
       "      <th>E. Hazard, Real Madrid</th>\n",
       "      <td>3.810909</td>\n",
       "    </tr>\n",
       "    <tr>\n",
       "      <th>P. Dybala, Juventus</th>\n",
       "      <td>3.923226</td>\n",
       "    </tr>\n",
       "    <tr>\n",
       "      <th>J. Sildero, Uruguay</th>\n",
       "      <td>4.035174</td>\n",
       "    </tr>\n",
       "    <tr>\n",
       "      <th>A. Januzaj, Real Sociedad</th>\n",
       "      <td>4.149007</td>\n",
       "    </tr>\n",
       "  </tbody>\n",
       "</table>\n",
       "</div>"
      ],
      "text/plain": [
       "                             L. Messi, FC Barcelona\n",
       "name_club                                          \n",
       "K. Coman, FC Bayern München                3.524085\n",
       "E. Hazard, Real Madrid                     3.810909\n",
       "P. Dybala, Juventus                        3.923226\n",
       "J. Sildero, Uruguay                        4.035174\n",
       "A. Januzaj, Real Sociedad                  4.149007"
      ]
     },
     "execution_count": 32,
     "metadata": {},
     "output_type": "execute_result"
    }
   ],
   "source": [
    "get_sim_players('L. Messi', RS_basic)"
   ]
  },
  {
   "cell_type": "code",
   "execution_count": 33,
   "metadata": {},
   "outputs": [
    {
     "name": "stdout",
     "output_type": "stream",
     "text": [
      "Here are the top 5 players that are similar to L. Messi, FC Barcelona.\n",
      "The distances below represent the similarity.\n",
      "The lower it is, the more similar the player is to L. Messi.\n"
     ]
    },
    {
     "data": {
      "text/html": [
       "<div>\n",
       "<style scoped>\n",
       "    .dataframe tbody tr th:only-of-type {\n",
       "        vertical-align: middle;\n",
       "    }\n",
       "\n",
       "    .dataframe tbody tr th {\n",
       "        vertical-align: top;\n",
       "    }\n",
       "\n",
       "    .dataframe thead th {\n",
       "        text-align: right;\n",
       "    }\n",
       "</style>\n",
       "<table border=\"1\" class=\"dataframe\">\n",
       "  <thead>\n",
       "    <tr style=\"text-align: right;\">\n",
       "      <th></th>\n",
       "      <th>L. Messi, FC Barcelona</th>\n",
       "    </tr>\n",
       "    <tr>\n",
       "      <th>name_club</th>\n",
       "      <th></th>\n",
       "    </tr>\n",
       "  </thead>\n",
       "  <tbody>\n",
       "    <tr>\n",
       "      <th>M. Salah, Liverpool</th>\n",
       "      <td>5.453304</td>\n",
       "    </tr>\n",
       "    <tr>\n",
       "      <th>P. Dybala, Juventus</th>\n",
       "      <td>5.602830</td>\n",
       "    </tr>\n",
       "    <tr>\n",
       "      <th>K. Mbappe, Paris Saint-Germain</th>\n",
       "      <td>5.744785</td>\n",
       "    </tr>\n",
       "    <tr>\n",
       "      <th>A. Januzaj, Real Sociedad</th>\n",
       "      <td>5.934160</td>\n",
       "    </tr>\n",
       "    <tr>\n",
       "      <th>D. Mertens, Napoli</th>\n",
       "      <td>5.987330</td>\n",
       "    </tr>\n",
       "  </tbody>\n",
       "</table>\n",
       "</div>"
      ],
      "text/plain": [
       "                                L. Messi, FC Barcelona\n",
       "name_club                                             \n",
       "M. Salah, Liverpool                           5.453304\n",
       "P. Dybala, Juventus                           5.602830\n",
       "K. Mbappe, Paris Saint-Germain                5.744785\n",
       "A. Januzaj, Real Sociedad                     5.934160\n",
       "D. Mertens, Napoli                            5.987330"
      ]
     },
     "execution_count": 33,
     "metadata": {},
     "output_type": "execute_result"
    }
   ],
   "source": [
    "get_sim_players('L. Messi', RS_new)"
   ]
  },
  {
   "cell_type": "markdown",
   "metadata": {},
   "source": [
    "### K-means Clustering Evaluation"
   ]
  },
  {
   "cell_type": "code",
   "execution_count": 34,
   "metadata": {},
   "outputs": [],
   "source": [
    "from sklearn.cluster import KMeans\n",
    "from sklearn.metrics import silhouette_score\n",
    "\n",
    "import seaborn as sns\n",
    "import matplotlib.pyplot as plt"
   ]
  },
  {
   "cell_type": "code",
   "execution_count": 35,
   "metadata": {},
   "outputs": [
    {
     "name": "stdout",
     "output_type": "stream",
     "text": [
      "138\n"
     ]
    }
   ],
   "source": [
    "feature_cols = [col for col in fifa_new_feats.columns if col != 'name_club']\n",
    "\n",
    "print(len(feature_cols))"
   ]
  },
  {
   "cell_type": "code",
   "execution_count": 36,
   "metadata": {},
   "outputs": [],
   "source": [
    "X = fifa_new_feats.loc[:, feature_cols]"
   ]
  },
  {
   "cell_type": "code",
   "execution_count": 37,
   "metadata": {},
   "outputs": [],
   "source": [
    "def kmeans_scores(k_lower_range, k_upper_range, k_skip, features):\n",
    "    scores = []\n",
    "    \n",
    "    for k in range(k_lower_range, k_upper_range, k_skip):\n",
    "        cl = KMeans(n_clusters=k)\n",
    "        cl.fit(features)\n",
    "        inertia = cl.inertia_\n",
    "        sil = silhouette_score(features, cl.labels_)\n",
    "        scores.append([k, inertia, sil])\n",
    "        \n",
    "    score_df = pd.DataFrame(scores)\n",
    "    score_df.columns = ['k', 'inertia', 'silhouette']\n",
    "    \n",
    "    return score_df"
   ]
  },
  {
   "cell_type": "code",
   "execution_count": 38,
   "metadata": {},
   "outputs": [],
   "source": [
    "def kmeans_plot(df):\n",
    "    fig, axes = plt.subplots(1, 2, figsize=(14, 7))\n",
    "    axes[0].plot(df.k, df.inertia)\n",
    "    axes[0].set_title('Inertia over k')\n",
    "    axes[1].plot(df.k, df.silhouette);\n",
    "    axes[1].set_title('Silhouette Score over k')"
   ]
  },
  {
   "cell_type": "code",
   "execution_count": 39,
   "metadata": {},
   "outputs": [],
   "source": [
    "df1 = kmeans_scores(2, 13, 1, X)"
   ]
  },
  {
   "cell_type": "code",
   "execution_count": 40,
   "metadata": {},
   "outputs": [
    {
     "data": {
      "text/html": [
       "<div>\n",
       "<style scoped>\n",
       "    .dataframe tbody tr th:only-of-type {\n",
       "        vertical-align: middle;\n",
       "    }\n",
       "\n",
       "    .dataframe tbody tr th {\n",
       "        vertical-align: top;\n",
       "    }\n",
       "\n",
       "    .dataframe thead th {\n",
       "        text-align: right;\n",
       "    }\n",
       "</style>\n",
       "<table border=\"1\" class=\"dataframe\">\n",
       "  <thead>\n",
       "    <tr style=\"text-align: right;\">\n",
       "      <th></th>\n",
       "      <th>k</th>\n",
       "      <th>inertia</th>\n",
       "      <th>silhouette</th>\n",
       "    </tr>\n",
       "  </thead>\n",
       "  <tbody>\n",
       "    <tr>\n",
       "      <th>0</th>\n",
       "      <td>2</td>\n",
       "      <td>453499.792567</td>\n",
       "      <td>0.558260</td>\n",
       "    </tr>\n",
       "    <tr>\n",
       "      <th>1</th>\n",
       "      <td>3</td>\n",
       "      <td>336166.563673</td>\n",
       "      <td>0.285823</td>\n",
       "    </tr>\n",
       "    <tr>\n",
       "      <th>2</th>\n",
       "      <td>4</td>\n",
       "      <td>303008.552034</td>\n",
       "      <td>0.218443</td>\n",
       "    </tr>\n",
       "    <tr>\n",
       "      <th>3</th>\n",
       "      <td>5</td>\n",
       "      <td>285805.308969</td>\n",
       "      <td>0.196103</td>\n",
       "    </tr>\n",
       "    <tr>\n",
       "      <th>4</th>\n",
       "      <td>6</td>\n",
       "      <td>271033.242169</td>\n",
       "      <td>0.183472</td>\n",
       "    </tr>\n",
       "    <tr>\n",
       "      <th>5</th>\n",
       "      <td>7</td>\n",
       "      <td>263153.509104</td>\n",
       "      <td>0.176701</td>\n",
       "    </tr>\n",
       "    <tr>\n",
       "      <th>6</th>\n",
       "      <td>8</td>\n",
       "      <td>256753.550102</td>\n",
       "      <td>0.162675</td>\n",
       "    </tr>\n",
       "    <tr>\n",
       "      <th>7</th>\n",
       "      <td>9</td>\n",
       "      <td>251217.389345</td>\n",
       "      <td>0.109095</td>\n",
       "    </tr>\n",
       "    <tr>\n",
       "      <th>8</th>\n",
       "      <td>10</td>\n",
       "      <td>245912.764572</td>\n",
       "      <td>0.102289</td>\n",
       "    </tr>\n",
       "    <tr>\n",
       "      <th>9</th>\n",
       "      <td>11</td>\n",
       "      <td>241165.260207</td>\n",
       "      <td>0.097857</td>\n",
       "    </tr>\n",
       "    <tr>\n",
       "      <th>10</th>\n",
       "      <td>12</td>\n",
       "      <td>236912.646352</td>\n",
       "      <td>0.091713</td>\n",
       "    </tr>\n",
       "  </tbody>\n",
       "</table>\n",
       "</div>"
      ],
      "text/plain": [
       "     k        inertia  silhouette\n",
       "0    2  453499.792567    0.558260\n",
       "1    3  336166.563673    0.285823\n",
       "2    4  303008.552034    0.218443\n",
       "3    5  285805.308969    0.196103\n",
       "4    6  271033.242169    0.183472\n",
       "5    7  263153.509104    0.176701\n",
       "6    8  256753.550102    0.162675\n",
       "7    9  251217.389345    0.109095\n",
       "8   10  245912.764572    0.102289\n",
       "9   11  241165.260207    0.097857\n",
       "10  12  236912.646352    0.091713"
      ]
     },
     "execution_count": 40,
     "metadata": {},
     "output_type": "execute_result"
    }
   ],
   "source": [
    "df1"
   ]
  },
  {
   "cell_type": "code",
   "execution_count": 41,
   "metadata": {
    "scrolled": false
   },
   "outputs": [
    {
     "data": {
      "image/png": "[encoded data removed]",
      "text/plain": [
       "<Figure size 1008x504 with 2 Axes>"
      ]
     },
     "metadata": {
      "needs_background": "light"
     },
     "output_type": "display_data"
    }
   ],
   "source": [
    "kmeans_plot(df1)"
   ]
  },
  {
   "cell_type": "code",
   "execution_count": 42,
   "metadata": {},
   "outputs": [
    {
     "data": {
      "text/plain": [
       "['ls',\n",
       " 'st',\n",
       " 'rs',\n",
       " 'lw',\n",
       " 'lf',\n",
       " 'cf',\n",
       " 'rf',\n",
       " 'rw',\n",
       " 'lam',\n",
       " 'cam',\n",
       " 'ram',\n",
       " 'lm',\n",
       " 'lcm',\n",
       " 'cm',\n",
       " 'rcm',\n",
       " 'rm',\n",
       " 'lwb',\n",
       " 'ldm',\n",
       " 'cdm',\n",
       " 'rdm',\n",
       " 'rwb',\n",
       " 'lb',\n",
       " 'lcb',\n",
       " 'cb',\n",
       " 'rcb',\n",
       " 'rb']"
      ]
     },
     "execution_count": 42,
     "metadata": {},
     "output_type": "execute_result"
    }
   ],
   "source": [
    "pos_scores"
   ]
  },
  {
   "cell_type": "markdown",
   "metadata": {},
   "source": [
    "I decide to choose n_clusters = 8, which is just before the sharp dropoff in silhouette score.\n",
    "\n",
    "There is an even sharper dropoff in silhouette score from 2 clusters to 3 clusters, but intuitively, it would make more sense to have 8 clusters, clustered primarily by **positions**:\n",
    "\n",
    "1) Goalkeepers (GK)\n",
    "\n",
    "2) Forwards and Strikers (LF, CF, RF, LS, ST, RS)\n",
    "\n",
    "3) Central Defenders (LCB, CB, RCB) \n",
    "\n",
    "4) Wing Backs (RB, RWB, LB, LWB)\n",
    "\n",
    "5) Wingers (LW, RW)\n",
    "\n",
    "6) Defensive Midfielders (LDM, RDM, CDM)\n",
    "\n",
    "7) Central Midfielders (LCM, CM, RCM)\n",
    "\n",
    "8) Attacking Midfielders (LAM, CAM, RAM)"
   ]
  },
  {
   "cell_type": "code",
   "execution_count": 43,
   "metadata": {},
   "outputs": [
    {
     "data": {
      "text/plain": [
       "KMeans(algorithm='auto', copy_x=True, init='k-means++', max_iter=300,\n",
       "       n_clusters=8, n_init=10, n_jobs=-1, precompute_distances='auto',\n",
       "       random_state=42, tol=0.0001, verbose=0)"
      ]
     },
     "execution_count": 43,
     "metadata": {},
     "output_type": "execute_result"
    }
   ],
   "source": [
    "km = KMeans(n_clusters = 8, random_state = 42, n_jobs = -1)\n",
    "km.fit(X)"
   ]
  },
  {
   "cell_type": "code",
   "execution_count": 44,
   "metadata": {},
   "outputs": [
    {
     "data": {
      "text/plain": [
       "array([[-0.04121846, -0.26155571, -0.30274878, ...,  0.37585421,\n",
       "         0.10348194,  0.01366743],\n",
       "       [-0.71656959, -0.30596811,  0.5629483 , ...,  0.48945845,\n",
       "         0.26953286,  0.00454733],\n",
       "       [ 1.33518896,  1.30627294, -0.98267417, ...,  0.45579568,\n",
       "         0.19941061,  0.01964637],\n",
       "       ...,\n",
       "       [-0.03745173, -0.12384587,  0.22162324, ...,  0.48751115,\n",
       "         0.13603925,  0.01248885],\n",
       "       [-0.60771001, -0.47681946,  0.31535826, ...,  0.43083969,\n",
       "         0.19572519,  0.01251908],\n",
       "       [ 0.51939194,  0.14171136, -0.45533817, ...,  0.35722611,\n",
       "         0.06468531,  0.01689977]])"
      ]
     },
     "execution_count": 44,
     "metadata": {},
     "output_type": "execute_result"
    }
   ],
   "source": [
    "km.cluster_centers_"
   ]
  },
  {
   "cell_type": "code",
   "execution_count": 45,
   "metadata": {},
   "outputs": [
    {
     "data": {
      "text/plain": [
       "array([4, 4, 4, ..., 6, 6, 6], dtype=int32)"
      ]
     },
     "execution_count": 45,
     "metadata": {},
     "output_type": "execute_result"
    }
   ],
   "source": [
    "km.predict(X)"
   ]
  },
  {
   "cell_type": "code",
   "execution_count": 46,
   "metadata": {},
   "outputs": [
    {
     "data": {
      "text/html": [
       "<div>\n",
       "<style scoped>\n",
       "    .dataframe tbody tr th:only-of-type {\n",
       "        vertical-align: middle;\n",
       "    }\n",
       "\n",
       "    .dataframe tbody tr th {\n",
       "        vertical-align: top;\n",
       "    }\n",
       "\n",
       "    .dataframe thead th {\n",
       "        text-align: right;\n",
       "    }\n",
       "</style>\n",
       "<table border=\"1\" class=\"dataframe\">\n",
       "  <thead>\n",
       "    <tr style=\"text-align: right;\">\n",
       "      <th></th>\n",
       "      <th>name_club</th>\n",
       "      <th>overall</th>\n",
       "      <th>potential</th>\n",
       "      <th>pace</th>\n",
       "      <th>shooting</th>\n",
       "      <th>passing</th>\n",
       "      <th>dribbling</th>\n",
       "      <th>defending</th>\n",
       "      <th>physic</th>\n",
       "      <th>attacking_crossing</th>\n",
       "      <th>...</th>\n",
       "      <th>position_lb</th>\n",
       "      <th>position_lcb</th>\n",
       "      <th>position_cb</th>\n",
       "      <th>position_rcb</th>\n",
       "      <th>position_rb</th>\n",
       "      <th>position_gk</th>\n",
       "      <th>position_sub</th>\n",
       "      <th>position_res</th>\n",
       "      <th>position_none</th>\n",
       "      <th>cluster</th>\n",
       "    </tr>\n",
       "  </thead>\n",
       "  <tbody>\n",
       "    <tr>\n",
       "      <th>0</th>\n",
       "      <td>L. Messi, FC Barcelona</td>\n",
       "      <td>2.682445</td>\n",
       "      <td>2.345939</td>\n",
       "      <td>-0.184119</td>\n",
       "      <td>0.845483</td>\n",
       "      <td>0.695115</td>\n",
       "      <td>0.532343</td>\n",
       "      <td>-1.615013</td>\n",
       "      <td>-0.938264</td>\n",
       "      <td>0.777831</td>\n",
       "      <td>...</td>\n",
       "      <td>0</td>\n",
       "      <td>0</td>\n",
       "      <td>0</td>\n",
       "      <td>0</td>\n",
       "      <td>0</td>\n",
       "      <td>0</td>\n",
       "      <td>0.0</td>\n",
       "      <td>0.0</td>\n",
       "      <td>0.0</td>\n",
       "      <td>4</td>\n",
       "    </tr>\n",
       "    <tr>\n",
       "      <th>1</th>\n",
       "      <td>Cristiano Ronaldo, Juventus</td>\n",
       "      <td>2.584294</td>\n",
       "      <td>2.228798</td>\n",
       "      <td>-0.012403</td>\n",
       "      <td>0.938593</td>\n",
       "      <td>0.253188</td>\n",
       "      <td>0.258920</td>\n",
       "      <td>-1.747692</td>\n",
       "      <td>-0.356545</td>\n",
       "      <td>0.605287</td>\n",
       "      <td>...</td>\n",
       "      <td>0</td>\n",
       "      <td>0</td>\n",
       "      <td>0</td>\n",
       "      <td>0</td>\n",
       "      <td>0</td>\n",
       "      <td>0</td>\n",
       "      <td>0.0</td>\n",
       "      <td>0.0</td>\n",
       "      <td>0.0</td>\n",
       "      <td>4</td>\n",
       "    </tr>\n",
       "    <tr>\n",
       "      <th>2</th>\n",
       "      <td>Neymar Jr, Paris Saint-Germain</td>\n",
       "      <td>2.503520</td>\n",
       "      <td>2.129034</td>\n",
       "      <td>0.092706</td>\n",
       "      <td>0.622736</td>\n",
       "      <td>0.560137</td>\n",
       "      <td>0.595603</td>\n",
       "      <td>-1.818389</td>\n",
       "      <td>-1.186731</td>\n",
       "      <td>0.832115</td>\n",
       "      <td>...</td>\n",
       "      <td>0</td>\n",
       "      <td>0</td>\n",
       "      <td>0</td>\n",
       "      <td>0</td>\n",
       "      <td>0</td>\n",
       "      <td>0</td>\n",
       "      <td>0.0</td>\n",
       "      <td>0.0</td>\n",
       "      <td>0.0</td>\n",
       "      <td>4</td>\n",
       "    </tr>\n",
       "    <tr>\n",
       "      <th>3</th>\n",
       "      <td>J. Oblak, Atlético Madrid</td>\n",
       "      <td>4.626806</td>\n",
       "      <td>4.559090</td>\n",
       "      <td>-1.461450</td>\n",
       "      <td>-1.136677</td>\n",
       "      <td>-1.415380</td>\n",
       "      <td>-1.468695</td>\n",
       "      <td>-0.978550</td>\n",
       "      <td>-1.510127</td>\n",
       "      <td>-0.938930</td>\n",
       "      <td>...</td>\n",
       "      <td>0</td>\n",
       "      <td>0</td>\n",
       "      <td>0</td>\n",
       "      <td>0</td>\n",
       "      <td>0</td>\n",
       "      <td>1</td>\n",
       "      <td>0.0</td>\n",
       "      <td>0.0</td>\n",
       "      <td>0.0</td>\n",
       "      <td>2</td>\n",
       "    </tr>\n",
       "    <tr>\n",
       "      <th>4</th>\n",
       "      <td>E. Hazard, Real Madrid</td>\n",
       "      <td>2.377648</td>\n",
       "      <td>1.984172</td>\n",
       "      <td>0.110723</td>\n",
       "      <td>0.546010</td>\n",
       "      <td>0.529387</td>\n",
       "      <td>0.568026</td>\n",
       "      <td>-1.666559</td>\n",
       "      <td>-0.811393</td>\n",
       "      <td>0.522709</td>\n",
       "      <td>...</td>\n",
       "      <td>0</td>\n",
       "      <td>0</td>\n",
       "      <td>0</td>\n",
       "      <td>0</td>\n",
       "      <td>0</td>\n",
       "      <td>0</td>\n",
       "      <td>0.0</td>\n",
       "      <td>0.0</td>\n",
       "      <td>0.0</td>\n",
       "      <td>4</td>\n",
       "    </tr>\n",
       "  </tbody>\n",
       "</table>\n",
       "<p>5 rows × 140 columns</p>\n",
       "</div>"
      ],
      "text/plain": [
       "                        name_club   overall  potential      pace  shooting  \\\n",
       "0          L. Messi, FC Barcelona  2.682445   2.345939 -0.184119  0.845483   \n",
       "1     Cristiano Ronaldo, Juventus  2.584294   2.228798 -0.012403  0.938593   \n",
       "2  Neymar Jr, Paris Saint-Germain  2.503520   2.129034  0.092706  0.622736   \n",
       "3       J. Oblak, Atlético Madrid  4.626806   4.559090 -1.461450 -1.136677   \n",
       "4          E. Hazard, Real Madrid  2.377648   1.984172  0.110723  0.546010   \n",
       "\n",
       "    passing  dribbling  defending    physic  attacking_crossing  ...  \\\n",
       "0  0.695115   0.532343  -1.615013 -0.938264            0.777831  ...   \n",
       "1  0.253188   0.258920  -1.747692 -0.356545            0.605287  ...   \n",
       "2  0.560137   0.595603  -1.818389 -1.186731            0.832115  ...   \n",
       "3 -1.415380  -1.468695  -0.978550 -1.510127           -0.938930  ...   \n",
       "4  0.529387   0.568026  -1.666559 -0.811393            0.522709  ...   \n",
       "\n",
       "   position_lb  position_lcb  position_cb  position_rcb  position_rb  \\\n",
       "0            0             0            0             0            0   \n",
       "1            0             0            0             0            0   \n",
       "2            0             0            0             0            0   \n",
       "3            0             0            0             0            0   \n",
       "4            0             0            0             0            0   \n",
       "\n",
       "   position_gk  position_sub  position_res  position_none  cluster  \n",
       "0            0           0.0           0.0            0.0        4  \n",
       "1            0           0.0           0.0            0.0        4  \n",
       "2            0           0.0           0.0            0.0        4  \n",
       "3            1           0.0           0.0            0.0        2  \n",
       "4            0           0.0           0.0            0.0        4  \n",
       "\n",
       "[5 rows x 140 columns]"
      ]
     },
     "execution_count": 46,
     "metadata": {},
     "output_type": "execute_result"
    }
   ],
   "source": [
    "fifa_new_feats['cluster'] = km.labels_\n",
    "fifa_new_feats.head()"
   ]
  },
  {
   "cell_type": "code",
   "execution_count": 47,
   "metadata": {},
   "outputs": [
    {
     "data": {
      "text/html": [
       "<div>\n",
       "<style scoped>\n",
       "    .dataframe tbody tr th:only-of-type {\n",
       "        vertical-align: middle;\n",
       "    }\n",
       "\n",
       "    .dataframe tbody tr th {\n",
       "        vertical-align: top;\n",
       "    }\n",
       "\n",
       "    .dataframe thead th {\n",
       "        text-align: right;\n",
       "    }\n",
       "</style>\n",
       "<table border=\"1\" class=\"dataframe\">\n",
       "  <thead>\n",
       "    <tr style=\"text-align: right;\">\n",
       "      <th></th>\n",
       "      <th>name_club</th>\n",
       "      <th>overall</th>\n",
       "      <th>potential</th>\n",
       "      <th>pace</th>\n",
       "      <th>shooting</th>\n",
       "      <th>passing</th>\n",
       "      <th>dribbling</th>\n",
       "      <th>defending</th>\n",
       "      <th>physic</th>\n",
       "      <th>attacking_crossing</th>\n",
       "      <th>...</th>\n",
       "      <th>position_lcb</th>\n",
       "      <th>position_cb</th>\n",
       "      <th>position_rcb</th>\n",
       "      <th>position_rb</th>\n",
       "      <th>position_gk</th>\n",
       "      <th>position_sub</th>\n",
       "      <th>position_res</th>\n",
       "      <th>position_none</th>\n",
       "      <th>cluster</th>\n",
       "      <th>team_position</th>\n",
       "    </tr>\n",
       "  </thead>\n",
       "  <tbody>\n",
       "    <tr>\n",
       "      <th>0</th>\n",
       "      <td>L. Messi, FC Barcelona</td>\n",
       "      <td>2.682445</td>\n",
       "      <td>2.345939</td>\n",
       "      <td>-0.184119</td>\n",
       "      <td>0.845483</td>\n",
       "      <td>0.695115</td>\n",
       "      <td>0.532343</td>\n",
       "      <td>-1.615013</td>\n",
       "      <td>-0.938264</td>\n",
       "      <td>0.777831</td>\n",
       "      <td>...</td>\n",
       "      <td>0</td>\n",
       "      <td>0</td>\n",
       "      <td>0</td>\n",
       "      <td>0</td>\n",
       "      <td>0</td>\n",
       "      <td>0.0</td>\n",
       "      <td>0.0</td>\n",
       "      <td>0.0</td>\n",
       "      <td>4</td>\n",
       "      <td>RW</td>\n",
       "    </tr>\n",
       "    <tr>\n",
       "      <th>1</th>\n",
       "      <td>Cristiano Ronaldo, Juventus</td>\n",
       "      <td>2.584294</td>\n",
       "      <td>2.228798</td>\n",
       "      <td>-0.012403</td>\n",
       "      <td>0.938593</td>\n",
       "      <td>0.253188</td>\n",
       "      <td>0.258920</td>\n",
       "      <td>-1.747692</td>\n",
       "      <td>-0.356545</td>\n",
       "      <td>0.605287</td>\n",
       "      <td>...</td>\n",
       "      <td>0</td>\n",
       "      <td>0</td>\n",
       "      <td>0</td>\n",
       "      <td>0</td>\n",
       "      <td>0</td>\n",
       "      <td>0.0</td>\n",
       "      <td>0.0</td>\n",
       "      <td>0.0</td>\n",
       "      <td>4</td>\n",
       "      <td>LW</td>\n",
       "    </tr>\n",
       "    <tr>\n",
       "      <th>2</th>\n",
       "      <td>Neymar Jr, Paris Saint-Germain</td>\n",
       "      <td>2.503520</td>\n",
       "      <td>2.129034</td>\n",
       "      <td>0.092706</td>\n",
       "      <td>0.622736</td>\n",
       "      <td>0.560137</td>\n",
       "      <td>0.595603</td>\n",
       "      <td>-1.818389</td>\n",
       "      <td>-1.186731</td>\n",
       "      <td>0.832115</td>\n",
       "      <td>...</td>\n",
       "      <td>0</td>\n",
       "      <td>0</td>\n",
       "      <td>0</td>\n",
       "      <td>0</td>\n",
       "      <td>0</td>\n",
       "      <td>0.0</td>\n",
       "      <td>0.0</td>\n",
       "      <td>0.0</td>\n",
       "      <td>4</td>\n",
       "      <td>CAM</td>\n",
       "    </tr>\n",
       "    <tr>\n",
       "      <th>3</th>\n",
       "      <td>J. Oblak, Atlético Madrid</td>\n",
       "      <td>4.626806</td>\n",
       "      <td>4.559090</td>\n",
       "      <td>-1.461450</td>\n",
       "      <td>-1.136677</td>\n",
       "      <td>-1.415380</td>\n",
       "      <td>-1.468695</td>\n",
       "      <td>-0.978550</td>\n",
       "      <td>-1.510127</td>\n",
       "      <td>-0.938930</td>\n",
       "      <td>...</td>\n",
       "      <td>0</td>\n",
       "      <td>0</td>\n",
       "      <td>0</td>\n",
       "      <td>0</td>\n",
       "      <td>1</td>\n",
       "      <td>0.0</td>\n",
       "      <td>0.0</td>\n",
       "      <td>0.0</td>\n",
       "      <td>2</td>\n",
       "      <td>GK</td>\n",
       "    </tr>\n",
       "    <tr>\n",
       "      <th>4</th>\n",
       "      <td>E. Hazard, Real Madrid</td>\n",
       "      <td>2.377648</td>\n",
       "      <td>1.984172</td>\n",
       "      <td>0.110723</td>\n",
       "      <td>0.546010</td>\n",
       "      <td>0.529387</td>\n",
       "      <td>0.568026</td>\n",
       "      <td>-1.666559</td>\n",
       "      <td>-0.811393</td>\n",
       "      <td>0.522709</td>\n",
       "      <td>...</td>\n",
       "      <td>0</td>\n",
       "      <td>0</td>\n",
       "      <td>0</td>\n",
       "      <td>0</td>\n",
       "      <td>0</td>\n",
       "      <td>0.0</td>\n",
       "      <td>0.0</td>\n",
       "      <td>0.0</td>\n",
       "      <td>4</td>\n",
       "      <td>LW</td>\n",
       "    </tr>\n",
       "  </tbody>\n",
       "</table>\n",
       "<p>5 rows × 141 columns</p>\n",
       "</div>"
      ],
      "text/plain": [
       "                        name_club   overall  potential      pace  shooting  \\\n",
       "0          L. Messi, FC Barcelona  2.682445   2.345939 -0.184119  0.845483   \n",
       "1     Cristiano Ronaldo, Juventus  2.584294   2.228798 -0.012403  0.938593   \n",
       "2  Neymar Jr, Paris Saint-Germain  2.503520   2.129034  0.092706  0.622736   \n",
       "3       J. Oblak, Atlético Madrid  4.626806   4.559090 -1.461450 -1.136677   \n",
       "4          E. Hazard, Real Madrid  2.377648   1.984172  0.110723  0.546010   \n",
       "\n",
       "    passing  dribbling  defending    physic  attacking_crossing  ...  \\\n",
       "0  0.695115   0.532343  -1.615013 -0.938264            0.777831  ...   \n",
       "1  0.253188   0.258920  -1.747692 -0.356545            0.605287  ...   \n",
       "2  0.560137   0.595603  -1.818389 -1.186731            0.832115  ...   \n",
       "3 -1.415380  -1.468695  -0.978550 -1.510127           -0.938930  ...   \n",
       "4  0.529387   0.568026  -1.666559 -0.811393            0.522709  ...   \n",
       "\n",
       "   position_lcb  position_cb  position_rcb  position_rb  position_gk  \\\n",
       "0             0            0             0            0            0   \n",
       "1             0            0             0            0            0   \n",
       "2             0            0             0            0            0   \n",
       "3             0            0             0            0            1   \n",
       "4             0            0             0            0            0   \n",
       "\n",
       "   position_sub  position_res  position_none  cluster  team_position  \n",
       "0           0.0           0.0            0.0        4             RW  \n",
       "1           0.0           0.0            0.0        4             LW  \n",
       "2           0.0           0.0            0.0        4            CAM  \n",
       "3           0.0           0.0            0.0        2             GK  \n",
       "4           0.0           0.0            0.0        4             LW  \n",
       "\n",
       "[5 rows x 141 columns]"
      ]
     },
     "execution_count": 47,
     "metadata": {},
     "output_type": "execute_result"
    }
   ],
   "source": [
    "fifa_new_feats['team_position'] = fifa['team_position'].values\n",
    "fifa_new_feats.head()"
   ]
  },
  {
   "cell_type": "markdown",
   "metadata": {},
   "source": [
    "### Refine Model by Feature Selecting/Eliminating to Reduce High-Dimensional Data\n",
    "\n",
    "Clustering has its limitations, especially when faced with the curse of high dimensions (138 features altogether).\n",
    "\n",
    "Hence, use **Principal Component Analysis** to feature select, before performing clustering again and transforming to RecSys model (euclidean distance transformation)."
   ]
  },
  {
   "cell_type": "code",
   "execution_count": 48,
   "metadata": {
    "scrolled": true
   },
   "outputs": [
    {
     "data": {
      "text/html": [
       "<div>\n",
       "<style scoped>\n",
       "    .dataframe tbody tr th:only-of-type {\n",
       "        vertical-align: middle;\n",
       "    }\n",
       "\n",
       "    .dataframe tbody tr th {\n",
       "        vertical-align: top;\n",
       "    }\n",
       "\n",
       "    .dataframe thead th {\n",
       "        text-align: right;\n",
       "    }\n",
       "</style>\n",
       "<table border=\"1\" class=\"dataframe\">\n",
       "  <thead>\n",
       "    <tr style=\"text-align: right;\">\n",
       "      <th></th>\n",
       "      <th>name_club</th>\n",
       "      <th>overall</th>\n",
       "      <th>potential</th>\n",
       "      <th>pace</th>\n",
       "      <th>shooting</th>\n",
       "      <th>passing</th>\n",
       "      <th>dribbling</th>\n",
       "      <th>defending</th>\n",
       "      <th>physic</th>\n",
       "      <th>attacking_crossing</th>\n",
       "      <th>...</th>\n",
       "      <th>position_lcb</th>\n",
       "      <th>position_cb</th>\n",
       "      <th>position_rcb</th>\n",
       "      <th>position_rb</th>\n",
       "      <th>position_gk</th>\n",
       "      <th>position_sub</th>\n",
       "      <th>position_res</th>\n",
       "      <th>position_none</th>\n",
       "      <th>cluster</th>\n",
       "      <th>team_position</th>\n",
       "    </tr>\n",
       "  </thead>\n",
       "  <tbody>\n",
       "    <tr>\n",
       "      <th>0</th>\n",
       "      <td>L. Messi, FC Barcelona</td>\n",
       "      <td>2.682445</td>\n",
       "      <td>2.345939</td>\n",
       "      <td>-0.184119</td>\n",
       "      <td>0.845483</td>\n",
       "      <td>0.695115</td>\n",
       "      <td>0.532343</td>\n",
       "      <td>-1.615013</td>\n",
       "      <td>-0.938264</td>\n",
       "      <td>0.777831</td>\n",
       "      <td>...</td>\n",
       "      <td>0</td>\n",
       "      <td>0</td>\n",
       "      <td>0</td>\n",
       "      <td>0</td>\n",
       "      <td>0</td>\n",
       "      <td>0.0</td>\n",
       "      <td>0.0</td>\n",
       "      <td>0.0</td>\n",
       "      <td>4</td>\n",
       "      <td>RW</td>\n",
       "    </tr>\n",
       "    <tr>\n",
       "      <th>1</th>\n",
       "      <td>Cristiano Ronaldo, Juventus</td>\n",
       "      <td>2.584294</td>\n",
       "      <td>2.228798</td>\n",
       "      <td>-0.012403</td>\n",
       "      <td>0.938593</td>\n",
       "      <td>0.253188</td>\n",
       "      <td>0.258920</td>\n",
       "      <td>-1.747692</td>\n",
       "      <td>-0.356545</td>\n",
       "      <td>0.605287</td>\n",
       "      <td>...</td>\n",
       "      <td>0</td>\n",
       "      <td>0</td>\n",
       "      <td>0</td>\n",
       "      <td>0</td>\n",
       "      <td>0</td>\n",
       "      <td>0.0</td>\n",
       "      <td>0.0</td>\n",
       "      <td>0.0</td>\n",
       "      <td>4</td>\n",
       "      <td>LW</td>\n",
       "    </tr>\n",
       "    <tr>\n",
       "      <th>2</th>\n",
       "      <td>Neymar Jr, Paris Saint-Germain</td>\n",
       "      <td>2.503520</td>\n",
       "      <td>2.129034</td>\n",
       "      <td>0.092706</td>\n",
       "      <td>0.622736</td>\n",
       "      <td>0.560137</td>\n",
       "      <td>0.595603</td>\n",
       "      <td>-1.818389</td>\n",
       "      <td>-1.186731</td>\n",
       "      <td>0.832115</td>\n",
       "      <td>...</td>\n",
       "      <td>0</td>\n",
       "      <td>0</td>\n",
       "      <td>0</td>\n",
       "      <td>0</td>\n",
       "      <td>0</td>\n",
       "      <td>0.0</td>\n",
       "      <td>0.0</td>\n",
       "      <td>0.0</td>\n",
       "      <td>4</td>\n",
       "      <td>CAM</td>\n",
       "    </tr>\n",
       "    <tr>\n",
       "      <th>3</th>\n",
       "      <td>J. Oblak, Atlético Madrid</td>\n",
       "      <td>4.626806</td>\n",
       "      <td>4.559090</td>\n",
       "      <td>-1.461450</td>\n",
       "      <td>-1.136677</td>\n",
       "      <td>-1.415380</td>\n",
       "      <td>-1.468695</td>\n",
       "      <td>-0.978550</td>\n",
       "      <td>-1.510127</td>\n",
       "      <td>-0.938930</td>\n",
       "      <td>...</td>\n",
       "      <td>0</td>\n",
       "      <td>0</td>\n",
       "      <td>0</td>\n",
       "      <td>0</td>\n",
       "      <td>1</td>\n",
       "      <td>0.0</td>\n",
       "      <td>0.0</td>\n",
       "      <td>0.0</td>\n",
       "      <td>2</td>\n",
       "      <td>GK</td>\n",
       "    </tr>\n",
       "    <tr>\n",
       "      <th>4</th>\n",
       "      <td>E. Hazard, Real Madrid</td>\n",
       "      <td>2.377648</td>\n",
       "      <td>1.984172</td>\n",
       "      <td>0.110723</td>\n",
       "      <td>0.546010</td>\n",
       "      <td>0.529387</td>\n",
       "      <td>0.568026</td>\n",
       "      <td>-1.666559</td>\n",
       "      <td>-0.811393</td>\n",
       "      <td>0.522709</td>\n",
       "      <td>...</td>\n",
       "      <td>0</td>\n",
       "      <td>0</td>\n",
       "      <td>0</td>\n",
       "      <td>0</td>\n",
       "      <td>0</td>\n",
       "      <td>0.0</td>\n",
       "      <td>0.0</td>\n",
       "      <td>0.0</td>\n",
       "      <td>4</td>\n",
       "      <td>LW</td>\n",
       "    </tr>\n",
       "    <tr>\n",
       "      <th>...</th>\n",
       "      <td>...</td>\n",
       "      <td>...</td>\n",
       "      <td>...</td>\n",
       "      <td>...</td>\n",
       "      <td>...</td>\n",
       "      <td>...</td>\n",
       "      <td>...</td>\n",
       "      <td>...</td>\n",
       "      <td>...</td>\n",
       "      <td>...</td>\n",
       "      <td>...</td>\n",
       "      <td>...</td>\n",
       "      <td>...</td>\n",
       "      <td>...</td>\n",
       "      <td>...</td>\n",
       "      <td>...</td>\n",
       "      <td>...</td>\n",
       "      <td>...</td>\n",
       "      <td>...</td>\n",
       "      <td>...</td>\n",
       "      <td>...</td>\n",
       "    </tr>\n",
       "    <tr>\n",
       "      <th>18273</th>\n",
       "      <td>Shao Shuai, Beijing Renhe FC</td>\n",
       "      <td>-1.851750</td>\n",
       "      <td>-1.758754</td>\n",
       "      <td>0.640836</td>\n",
       "      <td>-0.338425</td>\n",
       "      <td>-0.341211</td>\n",
       "      <td>-0.255373</td>\n",
       "      <td>0.826556</td>\n",
       "      <td>0.476495</td>\n",
       "      <td>-0.793661</td>\n",
       "      <td>...</td>\n",
       "      <td>0</td>\n",
       "      <td>1</td>\n",
       "      <td>0</td>\n",
       "      <td>0</td>\n",
       "      <td>0</td>\n",
       "      <td>0.0</td>\n",
       "      <td>1.0</td>\n",
       "      <td>0.0</td>\n",
       "      <td>3</td>\n",
       "      <td>RES</td>\n",
       "    </tr>\n",
       "    <tr>\n",
       "      <th>18274</th>\n",
       "      <td>Xiao Mingjie, Shanghai SIPG FC</td>\n",
       "      <td>-1.855537</td>\n",
       "      <td>-1.762540</td>\n",
       "      <td>0.679042</td>\n",
       "      <td>-0.294839</td>\n",
       "      <td>-0.101165</td>\n",
       "      <td>-0.167971</td>\n",
       "      <td>0.867374</td>\n",
       "      <td>0.338713</td>\n",
       "      <td>-0.633736</td>\n",
       "      <td>...</td>\n",
       "      <td>0</td>\n",
       "      <td>1</td>\n",
       "      <td>0</td>\n",
       "      <td>0</td>\n",
       "      <td>0</td>\n",
       "      <td>1.0</td>\n",
       "      <td>0.0</td>\n",
       "      <td>0.0</td>\n",
       "      <td>3</td>\n",
       "      <td>SUB</td>\n",
       "    </tr>\n",
       "    <tr>\n",
       "      <th>18275</th>\n",
       "      <td>Zhang Wei, Hebei China Fortune FC</td>\n",
       "      <td>-2.096464</td>\n",
       "      <td>-2.003468</td>\n",
       "      <td>0.270144</td>\n",
       "      <td>-0.014679</td>\n",
       "      <td>0.194340</td>\n",
       "      <td>0.047047</td>\n",
       "      <td>0.626447</td>\n",
       "      <td>0.231781</td>\n",
       "      <td>-0.438099</td>\n",
       "      <td>...</td>\n",
       "      <td>0</td>\n",
       "      <td>0</td>\n",
       "      <td>0</td>\n",
       "      <td>0</td>\n",
       "      <td>0</td>\n",
       "      <td>1.0</td>\n",
       "      <td>0.0</td>\n",
       "      <td>0.0</td>\n",
       "      <td>6</td>\n",
       "      <td>SUB</td>\n",
       "    </tr>\n",
       "    <tr>\n",
       "      <th>18276</th>\n",
       "      <td>Wang Haijian, Shanghai Greenland Shenhua FC</td>\n",
       "      <td>-2.110610</td>\n",
       "      <td>-2.343373</td>\n",
       "      <td>0.465961</td>\n",
       "      <td>-0.028825</td>\n",
       "      <td>0.326494</td>\n",
       "      <td>0.124089</td>\n",
       "      <td>0.478488</td>\n",
       "      <td>0.262300</td>\n",
       "      <td>-0.070251</td>\n",
       "      <td>...</td>\n",
       "      <td>0</td>\n",
       "      <td>0</td>\n",
       "      <td>0</td>\n",
       "      <td>0</td>\n",
       "      <td>0</td>\n",
       "      <td>1.0</td>\n",
       "      <td>0.0</td>\n",
       "      <td>0.0</td>\n",
       "      <td>6</td>\n",
       "      <td>SUB</td>\n",
       "    </tr>\n",
       "    <tr>\n",
       "      <th>18277</th>\n",
       "      <td>Pan Ximing, Hebei China Fortune FC</td>\n",
       "      <td>-2.191023</td>\n",
       "      <td>-2.912425</td>\n",
       "      <td>0.427542</td>\n",
       "      <td>-0.251352</td>\n",
       "      <td>0.441148</td>\n",
       "      <td>-0.047512</td>\n",
       "      <td>0.487284</td>\n",
       "      <td>0.315882</td>\n",
       "      <td>0.122189</td>\n",
       "      <td>...</td>\n",
       "      <td>0</td>\n",
       "      <td>0</td>\n",
       "      <td>0</td>\n",
       "      <td>0</td>\n",
       "      <td>0</td>\n",
       "      <td>1.0</td>\n",
       "      <td>0.0</td>\n",
       "      <td>0.0</td>\n",
       "      <td>6</td>\n",
       "      <td>SUB</td>\n",
       "    </tr>\n",
       "  </tbody>\n",
       "</table>\n",
       "<p>18278 rows × 141 columns</p>\n",
       "</div>"
      ],
      "text/plain": [
       "                                         name_club   overall  potential  \\\n",
       "0                           L. Messi, FC Barcelona  2.682445   2.345939   \n",
       "1                      Cristiano Ronaldo, Juventus  2.584294   2.228798   \n",
       "2                   Neymar Jr, Paris Saint-Germain  2.503520   2.129034   \n",
       "3                        J. Oblak, Atlético Madrid  4.626806   4.559090   \n",
       "4                           E. Hazard, Real Madrid  2.377648   1.984172   \n",
       "...                                            ...       ...        ...   \n",
       "18273                 Shao Shuai, Beijing Renhe FC -1.851750  -1.758754   \n",
       "18274               Xiao Mingjie, Shanghai SIPG FC -1.855537  -1.762540   \n",
       "18275            Zhang Wei, Hebei China Fortune FC -2.096464  -2.003468   \n",
       "18276  Wang Haijian, Shanghai Greenland Shenhua FC -2.110610  -2.343373   \n",
       "18277           Pan Ximing, Hebei China Fortune FC -2.191023  -2.912425   \n",
       "\n",
       "           pace  shooting   passing  dribbling  defending    physic  \\\n",
       "0     -0.184119  0.845483  0.695115   0.532343  -1.615013 -0.938264   \n",
       "1     -0.012403  0.938593  0.253188   0.258920  -1.747692 -0.356545   \n",
       "2      0.092706  0.622736  0.560137   0.595603  -1.818389 -1.186731   \n",
       "3     -1.461450 -1.136677 -1.415380  -1.468695  -0.978550 -1.510127   \n",
       "4      0.110723  0.546010  0.529387   0.568026  -1.666559 -0.811393   \n",
       "...         ...       ...       ...        ...        ...       ...   \n",
       "18273  0.640836 -0.338425 -0.341211  -0.255373   0.826556  0.476495   \n",
       "18274  0.679042 -0.294839 -0.101165  -0.167971   0.867374  0.338713   \n",
       "18275  0.270144 -0.014679  0.194340   0.047047   0.626447  0.231781   \n",
       "18276  0.465961 -0.028825  0.326494   0.124089   0.478488  0.262300   \n",
       "18277  0.427542 -0.251352  0.441148  -0.047512   0.487284  0.315882   \n",
       "\n",
       "       attacking_crossing  ...  position_lcb  position_cb  position_rcb  \\\n",
       "0                0.777831  ...             0            0             0   \n",
       "1                0.605287  ...             0            0             0   \n",
       "2                0.832115  ...             0            0             0   \n",
       "3               -0.938930  ...             0            0             0   \n",
       "4                0.522709  ...             0            0             0   \n",
       "...                   ...  ...           ...          ...           ...   \n",
       "18273           -0.793661  ...             0            1             0   \n",
       "18274           -0.633736  ...             0            1             0   \n",
       "18275           -0.438099  ...             0            0             0   \n",
       "18276           -0.070251  ...             0            0             0   \n",
       "18277            0.122189  ...             0            0             0   \n",
       "\n",
       "       position_rb  position_gk  position_sub  position_res  position_none  \\\n",
       "0                0            0           0.0           0.0            0.0   \n",
       "1                0            0           0.0           0.0            0.0   \n",
       "2                0            0           0.0           0.0            0.0   \n",
       "3                0            1           0.0           0.0            0.0   \n",
       "4                0            0           0.0           0.0            0.0   \n",
       "...            ...          ...           ...           ...            ...   \n",
       "18273            0            0           0.0           1.0            0.0   \n",
       "18274            0            0           1.0           0.0            0.0   \n",
       "18275            0            0           1.0           0.0            0.0   \n",
       "18276            0            0           1.0           0.0            0.0   \n",
       "18277            0            0           1.0           0.0            0.0   \n",
       "\n",
       "       cluster  team_position  \n",
       "0            4             RW  \n",
       "1            4             LW  \n",
       "2            4            CAM  \n",
       "3            2             GK  \n",
       "4            4             LW  \n",
       "...        ...            ...  \n",
       "18273        3            RES  \n",
       "18274        3            SUB  \n",
       "18275        6            SUB  \n",
       "18276        6            SUB  \n",
       "18277        6            SUB  \n",
       "\n",
       "[18278 rows x 141 columns]"
      ]
     },
     "execution_count": 48,
     "metadata": {},
     "output_type": "execute_result"
    }
   ],
   "source": [
    "fifa_new_feats"
   ]
  },
  {
   "cell_type": "code",
   "execution_count": 49,
   "metadata": {},
   "outputs": [
    {
     "data": {
      "text/plain": [
       "Index(['overall', 'potential', 'pace', 'shooting', 'passing', 'dribbling',\n",
       "       'defending', 'physic', 'attacking_crossing', 'attacking_finishing',\n",
       "       ...\n",
       "       'position_rwb', 'position_lb', 'position_lcb', 'position_cb',\n",
       "       'position_rcb', 'position_rb', 'position_gk', 'position_sub',\n",
       "       'position_res', 'position_none'],\n",
       "      dtype='object', length=138)"
      ]
     },
     "execution_count": 49,
     "metadata": {},
     "output_type": "execute_result"
    }
   ],
   "source": [
    "X = fifa_new_feats.drop(columns=['name_club', 'team_position', 'cluster'])\n",
    "X.columns"
   ]
  },
  {
   "cell_type": "code",
   "execution_count": 50,
   "metadata": {},
   "outputs": [],
   "source": [
    "from sklearn.decomposition import PCA"
   ]
  },
  {
   "cell_type": "code",
   "execution_count": 51,
   "metadata": {},
   "outputs": [],
   "source": [
    "pca = PCA()"
   ]
  },
  {
   "cell_type": "code",
   "execution_count": 52,
   "metadata": {},
   "outputs": [
    {
     "data": {
      "text/plain": [
       "PCA(copy=True, iterated_power='auto', n_components=None, random_state=None,\n",
       "    svd_solver='auto', tol=0.0, whiten=False)"
      ]
     },
     "execution_count": 52,
     "metadata": {},
     "output_type": "execute_result"
    }
   ],
   "source": [
    "pca.fit(X)"
   ]
  },
  {
   "cell_type": "code",
   "execution_count": 53,
   "metadata": {},
   "outputs": [
    {
     "name": "stdout",
     "output_type": "stream",
     "text": [
      "Explained variance (first 30 components): [0.46  0.19  0.059 0.042 0.03  0.019 0.018 0.017 0.017 0.013 0.009 0.009\n",
      " 0.008 0.007 0.006 0.006 0.005 0.005 0.005 0.005 0.004 0.004 0.004 0.004\n",
      " 0.003 0.003 0.003 0.003 0.003 0.002]\n",
      "\n",
      "Cumulative explained variance (first 30 components): [0.46  0.65  0.708 0.751 0.78  0.799 0.817 0.834 0.851 0.864 0.874 0.882\n",
      " 0.89  0.897 0.903 0.909 0.914 0.92  0.924 0.929 0.933 0.937 0.941 0.945\n",
      " 0.948 0.951 0.954 0.957 0.959 0.962]\n"
     ]
    }
   ],
   "source": [
    "# Pull the explained variance attribute.\n",
    "var_exp = pca.explained_variance_ratio_\n",
    "print(f'Explained variance (first 30 components): {np.round(var_exp[:30],3)}')\n",
    "\n",
    "print('')\n",
    "\n",
    "# Generate the cumulative explained variance.\n",
    "cum_var_exp = np.cumsum(var_exp)\n",
    "print(f'Cumulative explained variance (first 30 components): {np.round(cum_var_exp[:30],3)}')"
   ]
  },
  {
   "cell_type": "code",
   "execution_count": 54,
   "metadata": {},
   "outputs": [
    {
     "data": {
      "image/png": "[encoded data removed]",
      "text/plain": [
       "<Figure size 864x576 with 1 Axes>"
      ]
     },
     "metadata": {
      "needs_background": "light"
     },
     "output_type": "display_data"
    }
   ],
   "source": [
    "# Plot the variance explained (and cumulative variance explained).\n",
    "\n",
    "# Set figure size.\n",
    "plt.figure(figsize=(12,8))\n",
    "\n",
    "# Plot the explained variance.\n",
    "plt.plot(range(len(var_exp)), var_exp, lw=3, label = 'Variance Explained')\n",
    "\n",
    "# Plot the cumulative explained variance.\n",
    "plt.plot(range(len(var_exp)), cum_var_exp, lw=3, color = 'orange', label = 'Cumulative Variance Explained')\n",
    "\n",
    "# Add horizontal lines at y=0 and y=1.\n",
    "plt.axhline(y=0, linewidth=1, color='grey', ls='dashed')\n",
    "plt.axhline(y=1, linewidth=1, color='grey', ls='dashed')\n",
    "\n",
    "# Set the limits of the axes.\n",
    "plt.xlim([-1,21])\n",
    "plt.ylim([-0.01,1.01])\n",
    "\n",
    "# Label the axes.\n",
    "plt.ylabel('Variance Explained', fontsize=20)\n",
    "plt.xlabel('Principal Component', fontsize=20)\n",
    "\n",
    "# Make the tick labels bigger\n",
    "plt.xticks(range(0, 21, 5), range(1, 22, 5), fontsize=12)\n",
    "plt.yticks(fontsize=12)\n",
    "    \n",
    "# Add title and legend.\n",
    "plt.title('Component vs. Variance Explained', fontsize=24)\n",
    "plt.legend(fontsize=11);"
   ]
  },
  {
   "cell_type": "markdown",
   "metadata": {},
   "source": [
    "I aim to have features that explain 80% of variance, so I will choose PCA with 6 components."
   ]
  },
  {
   "cell_type": "code",
   "execution_count": 55,
   "metadata": {},
   "outputs": [],
   "source": [
    "# Instantiate PCA with 6 components.\n",
    "pca = PCA(n_components = 6)\n",
    "\n",
    "PCA_components = pca.fit_transform(X)"
   ]
  },
  {
   "cell_type": "code",
   "execution_count": 56,
   "metadata": {},
   "outputs": [
    {
     "data": {
      "image/png": "[encoded data removed]",
      "text/plain": [
       "<Figure size 432x288 with 1 Axes>"
      ]
     },
     "metadata": {
      "needs_background": "light"
     },
     "output_type": "display_data"
    }
   ],
   "source": [
    "features = range(pca.n_components_)\n",
    "plt.bar(features, pca.explained_variance_ratio_)#, color='black')\n",
    "plt.xlabel('PCA features')\n",
    "plt.ylabel('variance %')\n",
    "plt.xticks(features)\n",
    "\n",
    "PCA_df = pd.DataFrame(PCA_components)"
   ]
  },
  {
   "cell_type": "code",
   "execution_count": 57,
   "metadata": {},
   "outputs": [
    {
     "data": {
      "text/html": [
       "<div>\n",
       "<style scoped>\n",
       "    .dataframe tbody tr th:only-of-type {\n",
       "        vertical-align: middle;\n",
       "    }\n",
       "\n",
       "    .dataframe tbody tr th {\n",
       "        vertical-align: top;\n",
       "    }\n",
       "\n",
       "    .dataframe thead th {\n",
       "        text-align: right;\n",
       "    }\n",
       "</style>\n",
       "<table border=\"1\" class=\"dataframe\">\n",
       "  <thead>\n",
       "    <tr style=\"text-align: right;\">\n",
       "      <th></th>\n",
       "      <th>0</th>\n",
       "      <th>1</th>\n",
       "      <th>2</th>\n",
       "      <th>3</th>\n",
       "      <th>4</th>\n",
       "      <th>5</th>\n",
       "    </tr>\n",
       "  </thead>\n",
       "  <tbody>\n",
       "    <tr>\n",
       "      <th>0</th>\n",
       "      <td>-4.282541</td>\n",
       "      <td>-7.000847</td>\n",
       "      <td>4.181654</td>\n",
       "      <td>-2.690114</td>\n",
       "      <td>3.424331</td>\n",
       "      <td>1.010362</td>\n",
       "    </tr>\n",
       "    <tr>\n",
       "      <th>1</th>\n",
       "      <td>-3.478443</td>\n",
       "      <td>-6.530892</td>\n",
       "      <td>4.712754</td>\n",
       "      <td>0.662317</td>\n",
       "      <td>4.401533</td>\n",
       "      <td>0.367594</td>\n",
       "    </tr>\n",
       "    <tr>\n",
       "      <th>2</th>\n",
       "      <td>-3.599457</td>\n",
       "      <td>-7.437620</td>\n",
       "      <td>2.731434</td>\n",
       "      <td>-2.909759</td>\n",
       "      <td>3.022736</td>\n",
       "      <td>2.329786</td>\n",
       "    </tr>\n",
       "    <tr>\n",
       "      <th>3</th>\n",
       "      <td>16.187793</td>\n",
       "      <td>-1.246609</td>\n",
       "      <td>2.864576</td>\n",
       "      <td>-1.875956</td>\n",
       "      <td>5.027065</td>\n",
       "      <td>0.708081</td>\n",
       "    </tr>\n",
       "    <tr>\n",
       "      <th>4</th>\n",
       "      <td>-3.627067</td>\n",
       "      <td>-6.650310</td>\n",
       "      <td>2.626116</td>\n",
       "      <td>-2.402977</td>\n",
       "      <td>3.052540</td>\n",
       "      <td>0.927986</td>\n",
       "    </tr>\n",
       "  </tbody>\n",
       "</table>\n",
       "</div>"
      ],
      "text/plain": [
       "           0         1         2         3         4         5\n",
       "0  -4.282541 -7.000847  4.181654 -2.690114  3.424331  1.010362\n",
       "1  -3.478443 -6.530892  4.712754  0.662317  4.401533  0.367594\n",
       "2  -3.599457 -7.437620  2.731434 -2.909759  3.022736  2.329786\n",
       "3  16.187793 -1.246609  2.864576 -1.875956  5.027065  0.708081\n",
       "4  -3.627067 -6.650310  2.626116 -2.402977  3.052540  0.927986"
      ]
     },
     "execution_count": 57,
     "metadata": {},
     "output_type": "execute_result"
    }
   ],
   "source": [
    "PCA_df.head()"
   ]
  },
  {
   "cell_type": "code",
   "execution_count": 58,
   "metadata": {},
   "outputs": [],
   "source": [
    "# rename dataset\n",
    "fifa_PCA = PCA_df"
   ]
  },
  {
   "cell_type": "code",
   "execution_count": 59,
   "metadata": {},
   "outputs": [],
   "source": [
    "pca_kmeans = kmeans_scores(2, 13, 1, fifa_PCA)"
   ]
  },
  {
   "cell_type": "code",
   "execution_count": 60,
   "metadata": {},
   "outputs": [
    {
     "data": {
      "text/html": [
       "<div>\n",
       "<style scoped>\n",
       "    .dataframe tbody tr th:only-of-type {\n",
       "        vertical-align: middle;\n",
       "    }\n",
       "\n",
       "    .dataframe tbody tr th {\n",
       "        vertical-align: top;\n",
       "    }\n",
       "\n",
       "    .dataframe thead th {\n",
       "        text-align: right;\n",
       "    }\n",
       "</style>\n",
       "<table border=\"1\" class=\"dataframe\">\n",
       "  <thead>\n",
       "    <tr style=\"text-align: right;\">\n",
       "      <th></th>\n",
       "      <th>k</th>\n",
       "      <th>inertia</th>\n",
       "      <th>silhouette</th>\n",
       "    </tr>\n",
       "  </thead>\n",
       "  <tbody>\n",
       "    <tr>\n",
       "      <th>0</th>\n",
       "      <td>2</td>\n",
       "      <td>289823.845387</td>\n",
       "      <td>0.651150</td>\n",
       "    </tr>\n",
       "    <tr>\n",
       "      <th>1</th>\n",
       "      <td>3</td>\n",
       "      <td>172777.641522</td>\n",
       "      <td>0.407470</td>\n",
       "    </tr>\n",
       "    <tr>\n",
       "      <th>2</th>\n",
       "      <td>4</td>\n",
       "      <td>141289.394476</td>\n",
       "      <td>0.332327</td>\n",
       "    </tr>\n",
       "    <tr>\n",
       "      <th>3</th>\n",
       "      <td>5</td>\n",
       "      <td>125172.665997</td>\n",
       "      <td>0.306524</td>\n",
       "    </tr>\n",
       "    <tr>\n",
       "      <th>4</th>\n",
       "      <td>6</td>\n",
       "      <td>111023.524528</td>\n",
       "      <td>0.296915</td>\n",
       "    </tr>\n",
       "    <tr>\n",
       "      <th>5</th>\n",
       "      <td>7</td>\n",
       "      <td>103412.042479</td>\n",
       "      <td>0.288600</td>\n",
       "    </tr>\n",
       "    <tr>\n",
       "      <th>6</th>\n",
       "      <td>8</td>\n",
       "      <td>97258.641811</td>\n",
       "      <td>0.272744</td>\n",
       "    </tr>\n",
       "    <tr>\n",
       "      <th>7</th>\n",
       "      <td>9</td>\n",
       "      <td>92352.492978</td>\n",
       "      <td>0.223009</td>\n",
       "    </tr>\n",
       "    <tr>\n",
       "      <th>8</th>\n",
       "      <td>10</td>\n",
       "      <td>87529.675312</td>\n",
       "      <td>0.213129</td>\n",
       "    </tr>\n",
       "    <tr>\n",
       "      <th>9</th>\n",
       "      <td>11</td>\n",
       "      <td>83466.335530</td>\n",
       "      <td>0.206178</td>\n",
       "    </tr>\n",
       "    <tr>\n",
       "      <th>10</th>\n",
       "      <td>12</td>\n",
       "      <td>79855.325921</td>\n",
       "      <td>0.200730</td>\n",
       "    </tr>\n",
       "  </tbody>\n",
       "</table>\n",
       "</div>"
      ],
      "text/plain": [
       "     k        inertia  silhouette\n",
       "0    2  289823.845387    0.651150\n",
       "1    3  172777.641522    0.407470\n",
       "2    4  141289.394476    0.332327\n",
       "3    5  125172.665997    0.306524\n",
       "4    6  111023.524528    0.296915\n",
       "5    7  103412.042479    0.288600\n",
       "6    8   97258.641811    0.272744\n",
       "7    9   92352.492978    0.223009\n",
       "8   10   87529.675312    0.213129\n",
       "9   11   83466.335530    0.206178\n",
       "10  12   79855.325921    0.200730"
      ]
     },
     "execution_count": 60,
     "metadata": {},
     "output_type": "execute_result"
    }
   ],
   "source": [
    "pca_kmeans"
   ]
  },
  {
   "cell_type": "code",
   "execution_count": 61,
   "metadata": {},
   "outputs": [
    {
     "data": {
      "text/html": [
       "<div>\n",
       "<style scoped>\n",
       "    .dataframe tbody tr th:only-of-type {\n",
       "        vertical-align: middle;\n",
       "    }\n",
       "\n",
       "    .dataframe tbody tr th {\n",
       "        vertical-align: top;\n",
       "    }\n",
       "\n",
       "    .dataframe thead th {\n",
       "        text-align: right;\n",
       "    }\n",
       "</style>\n",
       "<table border=\"1\" class=\"dataframe\">\n",
       "  <thead>\n",
       "    <tr style=\"text-align: right;\">\n",
       "      <th></th>\n",
       "      <th>k</th>\n",
       "      <th>inertia</th>\n",
       "      <th>silhouette</th>\n",
       "    </tr>\n",
       "  </thead>\n",
       "  <tbody>\n",
       "    <tr>\n",
       "      <th>0</th>\n",
       "      <td>2</td>\n",
       "      <td>453499.792567</td>\n",
       "      <td>0.558260</td>\n",
       "    </tr>\n",
       "    <tr>\n",
       "      <th>1</th>\n",
       "      <td>3</td>\n",
       "      <td>336166.563673</td>\n",
       "      <td>0.285823</td>\n",
       "    </tr>\n",
       "    <tr>\n",
       "      <th>2</th>\n",
       "      <td>4</td>\n",
       "      <td>303008.552034</td>\n",
       "      <td>0.218443</td>\n",
       "    </tr>\n",
       "    <tr>\n",
       "      <th>3</th>\n",
       "      <td>5</td>\n",
       "      <td>285805.308969</td>\n",
       "      <td>0.196103</td>\n",
       "    </tr>\n",
       "    <tr>\n",
       "      <th>4</th>\n",
       "      <td>6</td>\n",
       "      <td>271033.242169</td>\n",
       "      <td>0.183472</td>\n",
       "    </tr>\n",
       "    <tr>\n",
       "      <th>5</th>\n",
       "      <td>7</td>\n",
       "      <td>263153.509104</td>\n",
       "      <td>0.176701</td>\n",
       "    </tr>\n",
       "    <tr>\n",
       "      <th>6</th>\n",
       "      <td>8</td>\n",
       "      <td>256753.550102</td>\n",
       "      <td>0.162675</td>\n",
       "    </tr>\n",
       "    <tr>\n",
       "      <th>7</th>\n",
       "      <td>9</td>\n",
       "      <td>251217.389345</td>\n",
       "      <td>0.109095</td>\n",
       "    </tr>\n",
       "    <tr>\n",
       "      <th>8</th>\n",
       "      <td>10</td>\n",
       "      <td>245912.764572</td>\n",
       "      <td>0.102289</td>\n",
       "    </tr>\n",
       "    <tr>\n",
       "      <th>9</th>\n",
       "      <td>11</td>\n",
       "      <td>241165.260207</td>\n",
       "      <td>0.097857</td>\n",
       "    </tr>\n",
       "    <tr>\n",
       "      <th>10</th>\n",
       "      <td>12</td>\n",
       "      <td>236912.646352</td>\n",
       "      <td>0.091713</td>\n",
       "    </tr>\n",
       "  </tbody>\n",
       "</table>\n",
       "</div>"
      ],
      "text/plain": [
       "     k        inertia  silhouette\n",
       "0    2  453499.792567    0.558260\n",
       "1    3  336166.563673    0.285823\n",
       "2    4  303008.552034    0.218443\n",
       "3    5  285805.308969    0.196103\n",
       "4    6  271033.242169    0.183472\n",
       "5    7  263153.509104    0.176701\n",
       "6    8  256753.550102    0.162675\n",
       "7    9  251217.389345    0.109095\n",
       "8   10  245912.764572    0.102289\n",
       "9   11  241165.260207    0.097857\n",
       "10  12  236912.646352    0.091713"
      ]
     },
     "execution_count": 61,
     "metadata": {},
     "output_type": "execute_result"
    }
   ],
   "source": [
    "# rename initial non-PCA-ed KMeans dataframe:\n",
    "noPCA_kmeans = df1\n",
    "noPCA_kmeans"
   ]
  },
  {
   "cell_type": "code",
   "execution_count": 62,
   "metadata": {},
   "outputs": [
    {
     "data": {
      "image/png": "[encoded data removed]",
      "text/plain": [
       "<Figure size 1008x504 with 2 Axes>"
      ]
     },
     "metadata": {
      "needs_background": "light"
     },
     "output_type": "display_data"
    }
   ],
   "source": [
    "kmeans_plot(pca_kmeans)"
   ]
  },
  {
   "cell_type": "code",
   "execution_count": 63,
   "metadata": {},
   "outputs": [
    {
     "data": {
      "image/png": "[encoded data removed]",
      "text/plain": [
       "<Figure size 1008x504 with 2 Axes>"
      ]
     },
     "metadata": {
      "needs_background": "light"
     },
     "output_type": "display_data"
    }
   ],
   "source": [
    "kmeans_plot(noPCA_kmeans)"
   ]
  },
  {
   "cell_type": "markdown",
   "metadata": {},
   "source": [
    "It can be seen from the above plots that for every k, the inertia and silhouette scores are better (lower inertia scores, higher silhouette scores) for post-PCA than for no-PCA.\n",
    "\n",
    "As such, I will use, and work on, the post-PCA fifa dataset."
   ]
  },
  {
   "cell_type": "code",
   "execution_count": 64,
   "metadata": {},
   "outputs": [
    {
     "data": {
      "text/html": [
       "<div>\n",
       "<style scoped>\n",
       "    .dataframe tbody tr th:only-of-type {\n",
       "        vertical-align: middle;\n",
       "    }\n",
       "\n",
       "    .dataframe tbody tr th {\n",
       "        vertical-align: top;\n",
       "    }\n",
       "\n",
       "    .dataframe thead th {\n",
       "        text-align: right;\n",
       "    }\n",
       "</style>\n",
       "<table border=\"1\" class=\"dataframe\">\n",
       "  <thead>\n",
       "    <tr style=\"text-align: right;\">\n",
       "      <th></th>\n",
       "      <th>0</th>\n",
       "      <th>1</th>\n",
       "      <th>2</th>\n",
       "      <th>3</th>\n",
       "      <th>4</th>\n",
       "      <th>5</th>\n",
       "    </tr>\n",
       "    <tr>\n",
       "      <th>name_club</th>\n",
       "      <th></th>\n",
       "      <th></th>\n",
       "      <th></th>\n",
       "      <th></th>\n",
       "      <th></th>\n",
       "      <th></th>\n",
       "    </tr>\n",
       "  </thead>\n",
       "  <tbody>\n",
       "    <tr>\n",
       "      <th>L. Messi, FC Barcelona</th>\n",
       "      <td>-4.282541</td>\n",
       "      <td>-7.000847</td>\n",
       "      <td>4.181654</td>\n",
       "      <td>-2.690114</td>\n",
       "      <td>3.424331</td>\n",
       "      <td>1.010362</td>\n",
       "    </tr>\n",
       "    <tr>\n",
       "      <th>Cristiano Ronaldo, Juventus</th>\n",
       "      <td>-3.478443</td>\n",
       "      <td>-6.530892</td>\n",
       "      <td>4.712754</td>\n",
       "      <td>0.662317</td>\n",
       "      <td>4.401533</td>\n",
       "      <td>0.367594</td>\n",
       "    </tr>\n",
       "    <tr>\n",
       "      <th>Neymar Jr, Paris Saint-Germain</th>\n",
       "      <td>-3.599457</td>\n",
       "      <td>-7.437620</td>\n",
       "      <td>2.731434</td>\n",
       "      <td>-2.909759</td>\n",
       "      <td>3.022736</td>\n",
       "      <td>2.329786</td>\n",
       "    </tr>\n",
       "    <tr>\n",
       "      <th>J. Oblak, Atlético Madrid</th>\n",
       "      <td>16.187793</td>\n",
       "      <td>-1.246609</td>\n",
       "      <td>2.864576</td>\n",
       "      <td>-1.875956</td>\n",
       "      <td>5.027065</td>\n",
       "      <td>0.708081</td>\n",
       "    </tr>\n",
       "    <tr>\n",
       "      <th>E. Hazard, Real Madrid</th>\n",
       "      <td>-3.627067</td>\n",
       "      <td>-6.650310</td>\n",
       "      <td>2.626116</td>\n",
       "      <td>-2.402977</td>\n",
       "      <td>3.052540</td>\n",
       "      <td>0.927986</td>\n",
       "    </tr>\n",
       "  </tbody>\n",
       "</table>\n",
       "</div>"
      ],
      "text/plain": [
       "                                        0         1         2         3  \\\n",
       "name_club                                                                 \n",
       "L. Messi, FC Barcelona          -4.282541 -7.000847  4.181654 -2.690114   \n",
       "Cristiano Ronaldo, Juventus     -3.478443 -6.530892  4.712754  0.662317   \n",
       "Neymar Jr, Paris Saint-Germain  -3.599457 -7.437620  2.731434 -2.909759   \n",
       "J. Oblak, Atlético Madrid       16.187793 -1.246609  2.864576 -1.875956   \n",
       "E. Hazard, Real Madrid          -3.627067 -6.650310  2.626116 -2.402977   \n",
       "\n",
       "                                       4         5  \n",
       "name_club                                           \n",
       "L. Messi, FC Barcelona          3.424331  1.010362  \n",
       "Cristiano Ronaldo, Juventus     4.401533  0.367594  \n",
       "Neymar Jr, Paris Saint-Germain  3.022736  2.329786  \n",
       "J. Oblak, Atlético Madrid       5.027065  0.708081  \n",
       "E. Hazard, Real Madrid          3.052540  0.927986  "
      ]
     },
     "execution_count": 64,
     "metadata": {},
     "output_type": "execute_result"
    }
   ],
   "source": [
    "fifa_PCA = fifa_PCA.set_index(RS_basic.index)\n",
    "fifa_PCA.head()"
   ]
  },
  {
   "cell_type": "code",
   "execution_count": 65,
   "metadata": {},
   "outputs": [
    {
     "data": {
      "image/png": "[encoded data removed]",
      "text/plain": [
       "<Figure size 1008x504 with 2 Axes>"
      ]
     },
     "metadata": {
      "needs_background": "light"
     },
     "output_type": "display_data"
    }
   ],
   "source": [
    "pca_kmeans2 = kmeans_scores(4, 9, 2, fifa_PCA)\n",
    "kmeans_plot(pca_kmeans2)"
   ]
  },
  {
   "cell_type": "markdown",
   "metadata": {},
   "source": [
    "Choose between values of n_clusters = 4, 6, 8. As seen from plots, as k increases, error (inertia) does drop, but so does silhouette score (how well-defined or well-seperated the clusters are).\n",
    "\n",
    "- start off with 4 first, clustering very simply by positions of Goalkeeper, Defenders, Midfielders, and Strikers/Forwards.\n",
    "\n",
    "- as clusters increase, I will evaluate and see whether the clusters make sense or are explainable."
   ]
  },
  {
   "cell_type": "code",
   "execution_count": 66,
   "metadata": {},
   "outputs": [
    {
     "data": {
      "text/html": [
       "<div>\n",
       "<style scoped>\n",
       "    .dataframe tbody tr th:only-of-type {\n",
       "        vertical-align: middle;\n",
       "    }\n",
       "\n",
       "    .dataframe tbody tr th {\n",
       "        vertical-align: top;\n",
       "    }\n",
       "\n",
       "    .dataframe thead th {\n",
       "        text-align: right;\n",
       "    }\n",
       "</style>\n",
       "<table border=\"1\" class=\"dataframe\">\n",
       "  <thead>\n",
       "    <tr style=\"text-align: right;\">\n",
       "      <th></th>\n",
       "      <th>k</th>\n",
       "      <th>inertia</th>\n",
       "      <th>silhouette</th>\n",
       "    </tr>\n",
       "  </thead>\n",
       "  <tbody>\n",
       "    <tr>\n",
       "      <th>0</th>\n",
       "      <td>4</td>\n",
       "      <td>141289.394476</td>\n",
       "      <td>0.332327</td>\n",
       "    </tr>\n",
       "    <tr>\n",
       "      <th>1</th>\n",
       "      <td>6</td>\n",
       "      <td>111023.681585</td>\n",
       "      <td>0.296938</td>\n",
       "    </tr>\n",
       "    <tr>\n",
       "      <th>2</th>\n",
       "      <td>8</td>\n",
       "      <td>97259.113910</td>\n",
       "      <td>0.272920</td>\n",
       "    </tr>\n",
       "  </tbody>\n",
       "</table>\n",
       "</div>"
      ],
      "text/plain": [
       "   k        inertia  silhouette\n",
       "0  4  141289.394476    0.332327\n",
       "1  6  111023.681585    0.296938\n",
       "2  8   97259.113910    0.272920"
      ]
     },
     "execution_count": 66,
     "metadata": {},
     "output_type": "execute_result"
    }
   ],
   "source": [
    "pca_kmeans2"
   ]
  },
  {
   "cell_type": "code",
   "execution_count": 67,
   "metadata": {
    "scrolled": true
   },
   "outputs": [
    {
     "data": {
      "text/html": [
       "<div>\n",
       "<style scoped>\n",
       "    .dataframe tbody tr th:only-of-type {\n",
       "        vertical-align: middle;\n",
       "    }\n",
       "\n",
       "    .dataframe tbody tr th {\n",
       "        vertical-align: top;\n",
       "    }\n",
       "\n",
       "    .dataframe thead th {\n",
       "        text-align: right;\n",
       "    }\n",
       "</style>\n",
       "<table border=\"1\" class=\"dataframe\">\n",
       "  <thead>\n",
       "    <tr style=\"text-align: right;\">\n",
       "      <th></th>\n",
       "      <th>name_club</th>\n",
       "      <th>short_name</th>\n",
       "      <th>long_name</th>\n",
       "      <th>age</th>\n",
       "      <th>nationality</th>\n",
       "      <th>club</th>\n",
       "      <th>overall</th>\n",
       "      <th>potential</th>\n",
       "      <th>value_eur</th>\n",
       "      <th>wage_eur</th>\n",
       "      <th>...</th>\n",
       "      <th>cdm</th>\n",
       "      <th>rdm</th>\n",
       "      <th>rwb</th>\n",
       "      <th>lb</th>\n",
       "      <th>lcb</th>\n",
       "      <th>cb</th>\n",
       "      <th>rcb</th>\n",
       "      <th>rb</th>\n",
       "      <th>attack_work_rate</th>\n",
       "      <th>defense_work_rate</th>\n",
       "    </tr>\n",
       "  </thead>\n",
       "  <tbody>\n",
       "    <tr>\n",
       "      <th>0</th>\n",
       "      <td>L. Messi, FC Barcelona</td>\n",
       "      <td>L. Messi</td>\n",
       "      <td>Lionel Andres Messi Cuccittini</td>\n",
       "      <td>32</td>\n",
       "      <td>Argentina</td>\n",
       "      <td>FC Barcelona</td>\n",
       "      <td>94</td>\n",
       "      <td>94</td>\n",
       "      <td>95500000</td>\n",
       "      <td>565000</td>\n",
       "      <td>...</td>\n",
       "      <td>66</td>\n",
       "      <td>66</td>\n",
       "      <td>68</td>\n",
       "      <td>63</td>\n",
       "      <td>52</td>\n",
       "      <td>52</td>\n",
       "      <td>52</td>\n",
       "      <td>63</td>\n",
       "      <td>2</td>\n",
       "      <td>1</td>\n",
       "    </tr>\n",
       "    <tr>\n",
       "      <th>1</th>\n",
       "      <td>Cristiano Ronaldo, Juventus</td>\n",
       "      <td>Cristiano Ronaldo</td>\n",
       "      <td>Cristiano Ronaldo dos Santos Aveiro</td>\n",
       "      <td>34</td>\n",
       "      <td>Portugal</td>\n",
       "      <td>Juventus</td>\n",
       "      <td>93</td>\n",
       "      <td>93</td>\n",
       "      <td>58500000</td>\n",
       "      <td>405000</td>\n",
       "      <td>...</td>\n",
       "      <td>61</td>\n",
       "      <td>61</td>\n",
       "      <td>65</td>\n",
       "      <td>61</td>\n",
       "      <td>53</td>\n",
       "      <td>53</td>\n",
       "      <td>53</td>\n",
       "      <td>61</td>\n",
       "      <td>3</td>\n",
       "      <td>1</td>\n",
       "    </tr>\n",
       "    <tr>\n",
       "      <th>2</th>\n",
       "      <td>Neymar Jr, Paris Saint-Germain</td>\n",
       "      <td>Neymar Jr</td>\n",
       "      <td>Neymar da Silva Santos Junior</td>\n",
       "      <td>27</td>\n",
       "      <td>Brazil</td>\n",
       "      <td>Paris Saint-Germain</td>\n",
       "      <td>92</td>\n",
       "      <td>92</td>\n",
       "      <td>105500000</td>\n",
       "      <td>290000</td>\n",
       "      <td>...</td>\n",
       "      <td>61</td>\n",
       "      <td>61</td>\n",
       "      <td>66</td>\n",
       "      <td>61</td>\n",
       "      <td>46</td>\n",
       "      <td>46</td>\n",
       "      <td>46</td>\n",
       "      <td>61</td>\n",
       "      <td>3</td>\n",
       "      <td>2</td>\n",
       "    </tr>\n",
       "    <tr>\n",
       "      <th>3</th>\n",
       "      <td>J. Oblak, Atlético Madrid</td>\n",
       "      <td>J. Oblak</td>\n",
       "      <td>Jan Oblak</td>\n",
       "      <td>26</td>\n",
       "      <td>Slovenia</td>\n",
       "      <td>Atlético Madrid</td>\n",
       "      <td>91</td>\n",
       "      <td>93</td>\n",
       "      <td>77500000</td>\n",
       "      <td>125000</td>\n",
       "      <td>...</td>\n",
       "      <td>0</td>\n",
       "      <td>0</td>\n",
       "      <td>0</td>\n",
       "      <td>0</td>\n",
       "      <td>0</td>\n",
       "      <td>0</td>\n",
       "      <td>0</td>\n",
       "      <td>0</td>\n",
       "      <td>2</td>\n",
       "      <td>2</td>\n",
       "    </tr>\n",
       "    <tr>\n",
       "      <th>4</th>\n",
       "      <td>E. Hazard, Real Madrid</td>\n",
       "      <td>E. Hazard</td>\n",
       "      <td>Eden Hazard</td>\n",
       "      <td>28</td>\n",
       "      <td>Belgium</td>\n",
       "      <td>Real Madrid</td>\n",
       "      <td>91</td>\n",
       "      <td>91</td>\n",
       "      <td>90000000</td>\n",
       "      <td>470000</td>\n",
       "      <td>...</td>\n",
       "      <td>63</td>\n",
       "      <td>63</td>\n",
       "      <td>66</td>\n",
       "      <td>61</td>\n",
       "      <td>49</td>\n",
       "      <td>49</td>\n",
       "      <td>49</td>\n",
       "      <td>61</td>\n",
       "      <td>3</td>\n",
       "      <td>2</td>\n",
       "    </tr>\n",
       "  </tbody>\n",
       "</table>\n",
       "<p>5 rows × 88 columns</p>\n",
       "</div>"
      ],
      "text/plain": [
       "                        name_club         short_name  \\\n",
       "0          L. Messi, FC Barcelona           L. Messi   \n",
       "1     Cristiano Ronaldo, Juventus  Cristiano Ronaldo   \n",
       "2  Neymar Jr, Paris Saint-Germain          Neymar Jr   \n",
       "3       J. Oblak, Atlético Madrid           J. Oblak   \n",
       "4          E. Hazard, Real Madrid          E. Hazard   \n",
       "\n",
       "                             long_name  age nationality                 club  \\\n",
       "0       Lionel Andres Messi Cuccittini   32   Argentina         FC Barcelona   \n",
       "1  Cristiano Ronaldo dos Santos Aveiro   34    Portugal             Juventus   \n",
       "2        Neymar da Silva Santos Junior   27      Brazil  Paris Saint-Germain   \n",
       "3                            Jan Oblak   26    Slovenia      Atlético Madrid   \n",
       "4                          Eden Hazard   28     Belgium          Real Madrid   \n",
       "\n",
       "   overall  potential  value_eur  wage_eur  ... cdm rdm  rwb  lb  lcb  cb rcb  \\\n",
       "0       94         94   95500000    565000  ...  66  66   68  63   52  52  52   \n",
       "1       93         93   58500000    405000  ...  61  61   65  61   53  53  53   \n",
       "2       92         92  105500000    290000  ...  61  61   66  61   46  46  46   \n",
       "3       91         93   77500000    125000  ...   0   0    0   0    0   0   0   \n",
       "4       91         91   90000000    470000  ...  63  63   66  61   49  49  49   \n",
       "\n",
       "   rb  attack_work_rate  defense_work_rate  \n",
       "0  63                 2                  1  \n",
       "1  61                 3                  1  \n",
       "2  61                 3                  2  \n",
       "3   0                 2                  2  \n",
       "4  61                 3                  2  \n",
       "\n",
       "[5 rows x 88 columns]"
      ]
     },
     "execution_count": 67,
     "metadata": {},
     "output_type": "execute_result"
    }
   ],
   "source": [
    "fifa.head()"
   ]
  },
  {
   "cell_type": "markdown",
   "metadata": {},
   "source": [
    "First, modify original FIFA DataFrame to show only features of interest, and subsequently modify get_sim_players function as well:"
   ]
  },
  {
   "cell_type": "code",
   "execution_count": 68,
   "metadata": {},
   "outputs": [
    {
     "data": {
      "text/plain": [
       "['long_name',\n",
       " 'age',\n",
       " 'nationality',\n",
       " 'club',\n",
       " 'overall',\n",
       " 'potential',\n",
       " 'value_eur',\n",
       " 'wage_eur',\n",
       " 'player_positions',\n",
       " 'preferred_foot',\n",
       " 'weak_foot',\n",
       " 'work_rate',\n",
       " 'release_clause_eur',\n",
       " 'player_tags',\n",
       " 'contract_valid_until',\n",
       " 'pace',\n",
       " 'shooting',\n",
       " 'passing',\n",
       " 'dribbling',\n",
       " 'defending',\n",
       " 'physic',\n",
       " 'gk_diving',\n",
       " 'gk_handling',\n",
       " 'gk_kicking',\n",
       " 'gk_reflexes',\n",
       " 'gk_speed',\n",
       " 'gk_positioning',\n",
       " 'player_traits',\n",
       " 'attacking_crossing',\n",
       " 'attacking_finishing',\n",
       " 'attacking_heading_accuracy',\n",
       " 'attacking_short_passing',\n",
       " 'attacking_volleys',\n",
       " 'skill_dribbling',\n",
       " 'skill_curve',\n",
       " 'skill_fk_accuracy',\n",
       " 'skill_long_passing',\n",
       " 'skill_ball_control',\n",
       " 'movement_acceleration',\n",
       " 'movement_sprint_speed',\n",
       " 'movement_agility',\n",
       " 'movement_reactions',\n",
       " 'movement_balance',\n",
       " 'power_shot_power',\n",
       " 'power_jumping',\n",
       " 'power_stamina',\n",
       " 'power_strength',\n",
       " 'power_long_shots',\n",
       " 'mentality_aggression',\n",
       " 'mentality_interceptions',\n",
       " 'mentality_positioning',\n",
       " 'mentality_vision',\n",
       " 'mentality_penalties',\n",
       " 'mentality_composure',\n",
       " 'defending_marking',\n",
       " 'defending_standing_tackle',\n",
       " 'defending_sliding_tackle',\n",
       " 'ls',\n",
       " 'st',\n",
       " 'rs',\n",
       " 'lw',\n",
       " 'lf',\n",
       " 'cf',\n",
       " 'rf',\n",
       " 'rw',\n",
       " 'lam',\n",
       " 'cam',\n",
       " 'ram',\n",
       " 'lm',\n",
       " 'lcm',\n",
       " 'cm',\n",
       " 'rcm',\n",
       " 'rm',\n",
       " 'lwb',\n",
       " 'ldm',\n",
       " 'cdm',\n",
       " 'rdm',\n",
       " 'rwb',\n",
       " 'lb',\n",
       " 'lcb',\n",
       " 'cb',\n",
       " 'rcb',\n",
       " 'rb',\n",
       " 'attack_work_rate',\n",
       " 'defense_work_rate']"
      ]
     },
     "execution_count": 68,
     "metadata": {},
     "output_type": "execute_result"
    }
   ],
   "source": [
    "feats_interest = ['team_position', 'name_club', 'short_name']\n",
    "feats_to_drop = [col for col in fifa.columns if col not in feats_interest]\n",
    "feats_to_drop"
   ]
  },
  {
   "cell_type": "code",
   "execution_count": 69,
   "metadata": {},
   "outputs": [
    {
     "data": {
      "text/html": [
       "<div>\n",
       "<style scoped>\n",
       "    .dataframe tbody tr th:only-of-type {\n",
       "        vertical-align: middle;\n",
       "    }\n",
       "\n",
       "    .dataframe tbody tr th {\n",
       "        vertical-align: top;\n",
       "    }\n",
       "\n",
       "    .dataframe thead th {\n",
       "        text-align: right;\n",
       "    }\n",
       "</style>\n",
       "<table border=\"1\" class=\"dataframe\">\n",
       "  <thead>\n",
       "    <tr style=\"text-align: right;\">\n",
       "      <th></th>\n",
       "      <th>name_club</th>\n",
       "      <th>short_name</th>\n",
       "      <th>team_position</th>\n",
       "    </tr>\n",
       "  </thead>\n",
       "  <tbody>\n",
       "    <tr>\n",
       "      <th>0</th>\n",
       "      <td>L. Messi, FC Barcelona</td>\n",
       "      <td>L. Messi</td>\n",
       "      <td>RW</td>\n",
       "    </tr>\n",
       "    <tr>\n",
       "      <th>1</th>\n",
       "      <td>Cristiano Ronaldo, Juventus</td>\n",
       "      <td>Cristiano Ronaldo</td>\n",
       "      <td>LW</td>\n",
       "    </tr>\n",
       "    <tr>\n",
       "      <th>2</th>\n",
       "      <td>Neymar Jr, Paris Saint-Germain</td>\n",
       "      <td>Neymar Jr</td>\n",
       "      <td>CAM</td>\n",
       "    </tr>\n",
       "    <tr>\n",
       "      <th>3</th>\n",
       "      <td>J. Oblak, Atlético Madrid</td>\n",
       "      <td>J. Oblak</td>\n",
       "      <td>GK</td>\n",
       "    </tr>\n",
       "    <tr>\n",
       "      <th>4</th>\n",
       "      <td>E. Hazard, Real Madrid</td>\n",
       "      <td>E. Hazard</td>\n",
       "      <td>LW</td>\n",
       "    </tr>\n",
       "  </tbody>\n",
       "</table>\n",
       "</div>"
      ],
      "text/plain": [
       "                        name_club         short_name team_position\n",
       "0          L. Messi, FC Barcelona           L. Messi            RW\n",
       "1     Cristiano Ronaldo, Juventus  Cristiano Ronaldo            LW\n",
       "2  Neymar Jr, Paris Saint-Germain          Neymar Jr           CAM\n",
       "3       J. Oblak, Atlético Madrid           J. Oblak            GK\n",
       "4          E. Hazard, Real Madrid          E. Hazard            LW"
      ]
     },
     "execution_count": 69,
     "metadata": {},
     "output_type": "execute_result"
    }
   ],
   "source": [
    "fifa_feats_interest = fifa.copy()\n",
    "fifa_feats_interest.drop(columns = feats_to_drop, inplace = True)\n",
    "fifa_feats_interest.head()"
   ]
  },
  {
   "cell_type": "code",
   "execution_count": 70,
   "metadata": {},
   "outputs": [
    {
     "data": {
      "text/plain": [
       "RangeIndex(start=0, stop=6, step=1)"
      ]
     },
     "execution_count": 70,
     "metadata": {},
     "output_type": "execute_result"
    }
   ],
   "source": [
    "fifa_PCA.columns"
   ]
  },
  {
   "cell_type": "code",
   "execution_count": 71,
   "metadata": {},
   "outputs": [
    {
     "name": "stdout",
     "output_type": "stream",
     "text": [
      "<class 'int'>\n",
      "<class 'int'>\n",
      "<class 'int'>\n",
      "<class 'int'>\n",
      "<class 'int'>\n",
      "<class 'int'>\n"
     ]
    }
   ],
   "source": [
    "for col in fifa_PCA.columns:\n",
    "    print(type(col))"
   ]
  },
  {
   "cell_type": "code",
   "execution_count": 72,
   "metadata": {},
   "outputs": [],
   "source": [
    "fifa_PCA.columns = [\"PCA_feature\" + str(col) for col in fifa_PCA.columns]"
   ]
  },
  {
   "cell_type": "code",
   "execution_count": 73,
   "metadata": {},
   "outputs": [],
   "source": [
    "fifa_PCA = fifa_PCA.set_index(fifa.name_club)"
   ]
  },
  {
   "cell_type": "code",
   "execution_count": 74,
   "metadata": {},
   "outputs": [
    {
     "data": {
      "text/html": [
       "<div>\n",
       "<style scoped>\n",
       "    .dataframe tbody tr th:only-of-type {\n",
       "        vertical-align: middle;\n",
       "    }\n",
       "\n",
       "    .dataframe tbody tr th {\n",
       "        vertical-align: top;\n",
       "    }\n",
       "\n",
       "    .dataframe thead th {\n",
       "        text-align: right;\n",
       "    }\n",
       "</style>\n",
       "<table border=\"1\" class=\"dataframe\">\n",
       "  <thead>\n",
       "    <tr style=\"text-align: right;\">\n",
       "      <th></th>\n",
       "      <th>PCA_feature0</th>\n",
       "      <th>PCA_feature1</th>\n",
       "      <th>PCA_feature2</th>\n",
       "      <th>PCA_feature3</th>\n",
       "      <th>PCA_feature4</th>\n",
       "      <th>PCA_feature5</th>\n",
       "    </tr>\n",
       "    <tr>\n",
       "      <th>name_club</th>\n",
       "      <th></th>\n",
       "      <th></th>\n",
       "      <th></th>\n",
       "      <th></th>\n",
       "      <th></th>\n",
       "      <th></th>\n",
       "    </tr>\n",
       "  </thead>\n",
       "  <tbody>\n",
       "    <tr>\n",
       "      <th>L. Messi, FC Barcelona</th>\n",
       "      <td>-4.282541</td>\n",
       "      <td>-7.000847</td>\n",
       "      <td>4.181654</td>\n",
       "      <td>-2.690114</td>\n",
       "      <td>3.424331</td>\n",
       "      <td>1.010362</td>\n",
       "    </tr>\n",
       "    <tr>\n",
       "      <th>Cristiano Ronaldo, Juventus</th>\n",
       "      <td>-3.478443</td>\n",
       "      <td>-6.530892</td>\n",
       "      <td>4.712754</td>\n",
       "      <td>0.662317</td>\n",
       "      <td>4.401533</td>\n",
       "      <td>0.367594</td>\n",
       "    </tr>\n",
       "    <tr>\n",
       "      <th>Neymar Jr, Paris Saint-Germain</th>\n",
       "      <td>-3.599457</td>\n",
       "      <td>-7.437620</td>\n",
       "      <td>2.731434</td>\n",
       "      <td>-2.909759</td>\n",
       "      <td>3.022736</td>\n",
       "      <td>2.329786</td>\n",
       "    </tr>\n",
       "    <tr>\n",
       "      <th>J. Oblak, Atlético Madrid</th>\n",
       "      <td>16.187793</td>\n",
       "      <td>-1.246609</td>\n",
       "      <td>2.864576</td>\n",
       "      <td>-1.875956</td>\n",
       "      <td>5.027065</td>\n",
       "      <td>0.708081</td>\n",
       "    </tr>\n",
       "    <tr>\n",
       "      <th>E. Hazard, Real Madrid</th>\n",
       "      <td>-3.627067</td>\n",
       "      <td>-6.650310</td>\n",
       "      <td>2.626116</td>\n",
       "      <td>-2.402977</td>\n",
       "      <td>3.052540</td>\n",
       "      <td>0.927986</td>\n",
       "    </tr>\n",
       "  </tbody>\n",
       "</table>\n",
       "</div>"
      ],
      "text/plain": [
       "                                PCA_feature0  PCA_feature1  PCA_feature2  \\\n",
       "name_club                                                                  \n",
       "L. Messi, FC Barcelona             -4.282541     -7.000847      4.181654   \n",
       "Cristiano Ronaldo, Juventus        -3.478443     -6.530892      4.712754   \n",
       "Neymar Jr, Paris Saint-Germain     -3.599457     -7.437620      2.731434   \n",
       "J. Oblak, Atlético Madrid          16.187793     -1.246609      2.864576   \n",
       "E. Hazard, Real Madrid             -3.627067     -6.650310      2.626116   \n",
       "\n",
       "                                PCA_feature3  PCA_feature4  PCA_feature5  \n",
       "name_club                                                                 \n",
       "L. Messi, FC Barcelona             -2.690114      3.424331      1.010362  \n",
       "Cristiano Ronaldo, Juventus         0.662317      4.401533      0.367594  \n",
       "Neymar Jr, Paris Saint-Germain     -2.909759      3.022736      2.329786  \n",
       "J. Oblak, Atlético Madrid          -1.875956      5.027065      0.708081  \n",
       "E. Hazard, Real Madrid             -2.402977      3.052540      0.927986  "
      ]
     },
     "execution_count": 74,
     "metadata": {},
     "output_type": "execute_result"
    }
   ],
   "source": [
    "fifa_PCA.head()"
   ]
  },
  {
   "cell_type": "code",
   "execution_count": 75,
   "metadata": {},
   "outputs": [],
   "source": [
    "fifa_PCA.to_csv('Datasets/fifa_PCA.csv')"
   ]
  },
  {
   "cell_type": "code",
   "execution_count": 76,
   "metadata": {},
   "outputs": [],
   "source": [
    "km = KMeans(n_clusters = 4, random_state = 42, n_jobs = -1)\n",
    "km.fit(fifa_PCA)\n",
    "km.predict(fifa_PCA)\n",
    "fifa1 = fifa_feats_interest.copy()    \n",
    "fifa1['cluster'] = km.labels_\n",
    "        \n",
    "fifa_kmeans4 = fifa1"
   ]
  },
  {
   "cell_type": "code",
   "execution_count": 77,
   "metadata": {},
   "outputs": [
    {
     "data": {
      "text/html": [
       "<div>\n",
       "<style scoped>\n",
       "    .dataframe tbody tr th:only-of-type {\n",
       "        vertical-align: middle;\n",
       "    }\n",
       "\n",
       "    .dataframe tbody tr th {\n",
       "        vertical-align: top;\n",
       "    }\n",
       "\n",
       "    .dataframe thead th {\n",
       "        text-align: right;\n",
       "    }\n",
       "</style>\n",
       "<table border=\"1\" class=\"dataframe\">\n",
       "  <thead>\n",
       "    <tr style=\"text-align: right;\">\n",
       "      <th></th>\n",
       "      <th>name_club</th>\n",
       "      <th>short_name</th>\n",
       "      <th>team_position</th>\n",
       "      <th>cluster</th>\n",
       "    </tr>\n",
       "  </thead>\n",
       "  <tbody>\n",
       "    <tr>\n",
       "      <th>0</th>\n",
       "      <td>L. Messi, FC Barcelona</td>\n",
       "      <td>L. Messi</td>\n",
       "      <td>RW</td>\n",
       "      <td>2</td>\n",
       "    </tr>\n",
       "    <tr>\n",
       "      <th>1</th>\n",
       "      <td>Cristiano Ronaldo, Juventus</td>\n",
       "      <td>Cristiano Ronaldo</td>\n",
       "      <td>LW</td>\n",
       "      <td>2</td>\n",
       "    </tr>\n",
       "    <tr>\n",
       "      <th>2</th>\n",
       "      <td>Neymar Jr, Paris Saint-Germain</td>\n",
       "      <td>Neymar Jr</td>\n",
       "      <td>CAM</td>\n",
       "      <td>2</td>\n",
       "    </tr>\n",
       "    <tr>\n",
       "      <th>3</th>\n",
       "      <td>J. Oblak, Atlético Madrid</td>\n",
       "      <td>J. Oblak</td>\n",
       "      <td>GK</td>\n",
       "      <td>1</td>\n",
       "    </tr>\n",
       "    <tr>\n",
       "      <th>4</th>\n",
       "      <td>E. Hazard, Real Madrid</td>\n",
       "      <td>E. Hazard</td>\n",
       "      <td>LW</td>\n",
       "      <td>2</td>\n",
       "    </tr>\n",
       "  </tbody>\n",
       "</table>\n",
       "</div>"
      ],
      "text/plain": [
       "                        name_club         short_name team_position  cluster\n",
       "0          L. Messi, FC Barcelona           L. Messi            RW        2\n",
       "1     Cristiano Ronaldo, Juventus  Cristiano Ronaldo            LW        2\n",
       "2  Neymar Jr, Paris Saint-Germain          Neymar Jr           CAM        2\n",
       "3       J. Oblak, Atlético Madrid           J. Oblak            GK        1\n",
       "4          E. Hazard, Real Madrid          E. Hazard            LW        2"
      ]
     },
     "execution_count": 77,
     "metadata": {},
     "output_type": "execute_result"
    }
   ],
   "source": [
    "fifa_kmeans4.head()"
   ]
  },
  {
   "cell_type": "code",
   "execution_count": 78,
   "metadata": {},
   "outputs": [],
   "source": [
    "km = KMeans(n_clusters = 6, random_state = 42, n_jobs = -1)\n",
    "km.fit(fifa_PCA)\n",
    "km.predict(fifa_PCA)\n",
    "fifa2 = fifa_feats_interest.copy()    \n",
    "fifa2['cluster'] = km.labels_\n",
    "        \n",
    "fifa_kmeans6 = fifa2"
   ]
  },
  {
   "cell_type": "code",
   "execution_count": 79,
   "metadata": {},
   "outputs": [
    {
     "data": {
      "text/html": [
       "<div>\n",
       "<style scoped>\n",
       "    .dataframe tbody tr th:only-of-type {\n",
       "        vertical-align: middle;\n",
       "    }\n",
       "\n",
       "    .dataframe tbody tr th {\n",
       "        vertical-align: top;\n",
       "    }\n",
       "\n",
       "    .dataframe thead th {\n",
       "        text-align: right;\n",
       "    }\n",
       "</style>\n",
       "<table border=\"1\" class=\"dataframe\">\n",
       "  <thead>\n",
       "    <tr style=\"text-align: right;\">\n",
       "      <th></th>\n",
       "      <th>name_club</th>\n",
       "      <th>short_name</th>\n",
       "      <th>team_position</th>\n",
       "      <th>cluster</th>\n",
       "    </tr>\n",
       "  </thead>\n",
       "  <tbody>\n",
       "    <tr>\n",
       "      <th>0</th>\n",
       "      <td>L. Messi, FC Barcelona</td>\n",
       "      <td>L. Messi</td>\n",
       "      <td>RW</td>\n",
       "      <td>5</td>\n",
       "    </tr>\n",
       "    <tr>\n",
       "      <th>1</th>\n",
       "      <td>Cristiano Ronaldo, Juventus</td>\n",
       "      <td>Cristiano Ronaldo</td>\n",
       "      <td>LW</td>\n",
       "      <td>3</td>\n",
       "    </tr>\n",
       "    <tr>\n",
       "      <th>2</th>\n",
       "      <td>Neymar Jr, Paris Saint-Germain</td>\n",
       "      <td>Neymar Jr</td>\n",
       "      <td>CAM</td>\n",
       "      <td>5</td>\n",
       "    </tr>\n",
       "    <tr>\n",
       "      <th>3</th>\n",
       "      <td>J. Oblak, Atlético Madrid</td>\n",
       "      <td>J. Oblak</td>\n",
       "      <td>GK</td>\n",
       "      <td>0</td>\n",
       "    </tr>\n",
       "    <tr>\n",
       "      <th>4</th>\n",
       "      <td>E. Hazard, Real Madrid</td>\n",
       "      <td>E. Hazard</td>\n",
       "      <td>LW</td>\n",
       "      <td>5</td>\n",
       "    </tr>\n",
       "  </tbody>\n",
       "</table>\n",
       "</div>"
      ],
      "text/plain": [
       "                        name_club         short_name team_position  cluster\n",
       "0          L. Messi, FC Barcelona           L. Messi            RW        5\n",
       "1     Cristiano Ronaldo, Juventus  Cristiano Ronaldo            LW        3\n",
       "2  Neymar Jr, Paris Saint-Germain          Neymar Jr           CAM        5\n",
       "3       J. Oblak, Atlético Madrid           J. Oblak            GK        0\n",
       "4          E. Hazard, Real Madrid          E. Hazard            LW        5"
      ]
     },
     "execution_count": 79,
     "metadata": {},
     "output_type": "execute_result"
    }
   ],
   "source": [
    "fifa_kmeans6.head()"
   ]
  },
  {
   "cell_type": "code",
   "execution_count": 80,
   "metadata": {},
   "outputs": [],
   "source": [
    "km = KMeans(n_clusters = 8, random_state = 42, n_jobs = -1)\n",
    "km.fit(fifa_PCA)\n",
    "km.predict(fifa_PCA)\n",
    "fifa3 = fifa_feats_interest.copy()    \n",
    "fifa3['cluster'] = km.labels_\n",
    "        \n",
    "fifa_kmeans8 = fifa3"
   ]
  },
  {
   "cell_type": "code",
   "execution_count": 81,
   "metadata": {},
   "outputs": [
    {
     "data": {
      "text/html": [
       "<div>\n",
       "<style scoped>\n",
       "    .dataframe tbody tr th:only-of-type {\n",
       "        vertical-align: middle;\n",
       "    }\n",
       "\n",
       "    .dataframe tbody tr th {\n",
       "        vertical-align: top;\n",
       "    }\n",
       "\n",
       "    .dataframe thead th {\n",
       "        text-align: right;\n",
       "    }\n",
       "</style>\n",
       "<table border=\"1\" class=\"dataframe\">\n",
       "  <thead>\n",
       "    <tr style=\"text-align: right;\">\n",
       "      <th></th>\n",
       "      <th>name_club</th>\n",
       "      <th>short_name</th>\n",
       "      <th>team_position</th>\n",
       "      <th>cluster</th>\n",
       "    </tr>\n",
       "  </thead>\n",
       "  <tbody>\n",
       "    <tr>\n",
       "      <th>0</th>\n",
       "      <td>L. Messi, FC Barcelona</td>\n",
       "      <td>L. Messi</td>\n",
       "      <td>RW</td>\n",
       "      <td>7</td>\n",
       "    </tr>\n",
       "    <tr>\n",
       "      <th>1</th>\n",
       "      <td>Cristiano Ronaldo, Juventus</td>\n",
       "      <td>Cristiano Ronaldo</td>\n",
       "      <td>LW</td>\n",
       "      <td>7</td>\n",
       "    </tr>\n",
       "    <tr>\n",
       "      <th>2</th>\n",
       "      <td>Neymar Jr, Paris Saint-Germain</td>\n",
       "      <td>Neymar Jr</td>\n",
       "      <td>CAM</td>\n",
       "      <td>7</td>\n",
       "    </tr>\n",
       "    <tr>\n",
       "      <th>3</th>\n",
       "      <td>J. Oblak, Atlético Madrid</td>\n",
       "      <td>J. Oblak</td>\n",
       "      <td>GK</td>\n",
       "      <td>1</td>\n",
       "    </tr>\n",
       "    <tr>\n",
       "      <th>4</th>\n",
       "      <td>E. Hazard, Real Madrid</td>\n",
       "      <td>E. Hazard</td>\n",
       "      <td>LW</td>\n",
       "      <td>7</td>\n",
       "    </tr>\n",
       "  </tbody>\n",
       "</table>\n",
       "</div>"
      ],
      "text/plain": [
       "                        name_club         short_name team_position  cluster\n",
       "0          L. Messi, FC Barcelona           L. Messi            RW        7\n",
       "1     Cristiano Ronaldo, Juventus  Cristiano Ronaldo            LW        7\n",
       "2  Neymar Jr, Paris Saint-Germain          Neymar Jr           CAM        7\n",
       "3       J. Oblak, Atlético Madrid           J. Oblak            GK        1\n",
       "4          E. Hazard, Real Madrid          E. Hazard            LW        7"
      ]
     },
     "execution_count": 81,
     "metadata": {},
     "output_type": "execute_result"
    }
   ],
   "source": [
    "fifa_kmeans8.head()"
   ]
  },
  {
   "cell_type": "code",
   "execution_count": 82,
   "metadata": {},
   "outputs": [],
   "source": [
    "from sklearn.metrics.pairwise import euclidean_distances"
   ]
  },
  {
   "cell_type": "code",
   "execution_count": 83,
   "metadata": {},
   "outputs": [],
   "source": [
    "# create RS model from new PCA DataFrame:\n",
    "def sim_df(df):\n",
    "    sim_matrix = euclidean_distances(df)\n",
    "    df_RecSys = pd.DataFrame(sim_matrix, columns=df.index, index=df.index)\n",
    "    df_RecSys = df_RecSys.where(np.tril(np.ones(df_RecSys.shape)).astype(np.bool))\n",
    "    return df_RecSys"
   ]
  },
  {
   "cell_type": "code",
   "execution_count": 84,
   "metadata": {},
   "outputs": [
    {
     "data": {
      "text/html": [
       "<div>\n",
       "<style scoped>\n",
       "    .dataframe tbody tr th:only-of-type {\n",
       "        vertical-align: middle;\n",
       "    }\n",
       "\n",
       "    .dataframe tbody tr th {\n",
       "        vertical-align: top;\n",
       "    }\n",
       "\n",
       "    .dataframe thead th {\n",
       "        text-align: right;\n",
       "    }\n",
       "</style>\n",
       "<table border=\"1\" class=\"dataframe\">\n",
       "  <thead>\n",
       "    <tr style=\"text-align: right;\">\n",
       "      <th>name_club</th>\n",
       "      <th>L. Messi, FC Barcelona</th>\n",
       "      <th>Cristiano Ronaldo, Juventus</th>\n",
       "      <th>Neymar Jr, Paris Saint-Germain</th>\n",
       "      <th>J. Oblak, Atlético Madrid</th>\n",
       "      <th>E. Hazard, Real Madrid</th>\n",
       "      <th>K. De Bruyne, Manchester City</th>\n",
       "      <th>M. ter Stegen, FC Barcelona</th>\n",
       "      <th>V. van Dijk, Liverpool</th>\n",
       "      <th>L. Modric, Real Madrid</th>\n",
       "      <th>M. Salah, Liverpool</th>\n",
       "      <th>...</th>\n",
       "      <th>M. Gallagher, Finn Harps</th>\n",
       "      <th>Huang Jiahui, Dalian YiFang FC</th>\n",
       "      <th>M. Sagaf, Carlisle United</th>\n",
       "      <th>E. Tweed, Derry City</th>\n",
       "      <th>P. Martin, Waterford FC</th>\n",
       "      <th>Shao Shuai, Beijing Renhe FC</th>\n",
       "      <th>Xiao Mingjie, Shanghai SIPG FC</th>\n",
       "      <th>Zhang Wei, Hebei China Fortune FC</th>\n",
       "      <th>Wang Haijian, Shanghai Greenland Shenhua FC</th>\n",
       "      <th>Pan Ximing, Hebei China Fortune FC</th>\n",
       "    </tr>\n",
       "    <tr>\n",
       "      <th>name_club</th>\n",
       "      <th></th>\n",
       "      <th></th>\n",
       "      <th></th>\n",
       "      <th></th>\n",
       "      <th></th>\n",
       "      <th></th>\n",
       "      <th></th>\n",
       "      <th></th>\n",
       "      <th></th>\n",
       "      <th></th>\n",
       "      <th></th>\n",
       "      <th></th>\n",
       "      <th></th>\n",
       "      <th></th>\n",
       "      <th></th>\n",
       "      <th></th>\n",
       "      <th></th>\n",
       "      <th></th>\n",
       "      <th></th>\n",
       "      <th></th>\n",
       "      <th></th>\n",
       "    </tr>\n",
       "  </thead>\n",
       "  <tbody>\n",
       "    <tr>\n",
       "      <th>L. Messi, FC Barcelona</th>\n",
       "      <td>0.000000</td>\n",
       "      <td>NaN</td>\n",
       "      <td>NaN</td>\n",
       "      <td>NaN</td>\n",
       "      <td>NaN</td>\n",
       "      <td>NaN</td>\n",
       "      <td>NaN</td>\n",
       "      <td>NaN</td>\n",
       "      <td>NaN</td>\n",
       "      <td>NaN</td>\n",
       "      <td>...</td>\n",
       "      <td>NaN</td>\n",
       "      <td>NaN</td>\n",
       "      <td>NaN</td>\n",
       "      <td>NaN</td>\n",
       "      <td>NaN</td>\n",
       "      <td>NaN</td>\n",
       "      <td>NaN</td>\n",
       "      <td>NaN</td>\n",
       "      <td>NaN</td>\n",
       "      <td>NaN</td>\n",
       "    </tr>\n",
       "    <tr>\n",
       "      <th>Cristiano Ronaldo, Juventus</th>\n",
       "      <td>3.708957</td>\n",
       "      <td>0.000000</td>\n",
       "      <td>NaN</td>\n",
       "      <td>NaN</td>\n",
       "      <td>NaN</td>\n",
       "      <td>NaN</td>\n",
       "      <td>NaN</td>\n",
       "      <td>NaN</td>\n",
       "      <td>NaN</td>\n",
       "      <td>NaN</td>\n",
       "      <td>...</td>\n",
       "      <td>NaN</td>\n",
       "      <td>NaN</td>\n",
       "      <td>NaN</td>\n",
       "      <td>NaN</td>\n",
       "      <td>NaN</td>\n",
       "      <td>NaN</td>\n",
       "      <td>NaN</td>\n",
       "      <td>NaN</td>\n",
       "      <td>NaN</td>\n",
       "      <td>NaN</td>\n",
       "    </tr>\n",
       "    <tr>\n",
       "      <th>Neymar Jr, Paris Saint-Germain</th>\n",
       "      <td>2.170464</td>\n",
       "      <td>4.824255</td>\n",
       "      <td>0.000000</td>\n",
       "      <td>NaN</td>\n",
       "      <td>NaN</td>\n",
       "      <td>NaN</td>\n",
       "      <td>NaN</td>\n",
       "      <td>NaN</td>\n",
       "      <td>NaN</td>\n",
       "      <td>NaN</td>\n",
       "      <td>...</td>\n",
       "      <td>NaN</td>\n",
       "      <td>NaN</td>\n",
       "      <td>NaN</td>\n",
       "      <td>NaN</td>\n",
       "      <td>NaN</td>\n",
       "      <td>NaN</td>\n",
       "      <td>NaN</td>\n",
       "      <td>NaN</td>\n",
       "      <td>NaN</td>\n",
       "      <td>NaN</td>\n",
       "    </tr>\n",
       "    <tr>\n",
       "      <th>J. Oblak, Atlético Madrid</th>\n",
       "      <td>21.382317</td>\n",
       "      <td>20.616748</td>\n",
       "      <td>20.918834</td>\n",
       "      <td>0.000000</td>\n",
       "      <td>NaN</td>\n",
       "      <td>NaN</td>\n",
       "      <td>NaN</td>\n",
       "      <td>NaN</td>\n",
       "      <td>NaN</td>\n",
       "      <td>NaN</td>\n",
       "      <td>...</td>\n",
       "      <td>NaN</td>\n",
       "      <td>NaN</td>\n",
       "      <td>NaN</td>\n",
       "      <td>NaN</td>\n",
       "      <td>NaN</td>\n",
       "      <td>NaN</td>\n",
       "      <td>NaN</td>\n",
       "      <td>NaN</td>\n",
       "      <td>NaN</td>\n",
       "      <td>NaN</td>\n",
       "    </tr>\n",
       "    <tr>\n",
       "      <th>E. Hazard, Real Madrid</th>\n",
       "      <td>1.788766</td>\n",
       "      <td>3.990019</td>\n",
       "      <td>1.689518</td>\n",
       "      <td>20.642441</td>\n",
       "      <td>0.0</td>\n",
       "      <td>NaN</td>\n",
       "      <td>NaN</td>\n",
       "      <td>NaN</td>\n",
       "      <td>NaN</td>\n",
       "      <td>NaN</td>\n",
       "      <td>...</td>\n",
       "      <td>NaN</td>\n",
       "      <td>NaN</td>\n",
       "      <td>NaN</td>\n",
       "      <td>NaN</td>\n",
       "      <td>NaN</td>\n",
       "      <td>NaN</td>\n",
       "      <td>NaN</td>\n",
       "      <td>NaN</td>\n",
       "      <td>NaN</td>\n",
       "      <td>NaN</td>\n",
       "    </tr>\n",
       "  </tbody>\n",
       "</table>\n",
       "<p>5 rows × 18278 columns</p>\n",
       "</div>"
      ],
      "text/plain": [
       "name_club                       L. Messi, FC Barcelona  \\\n",
       "name_club                                                \n",
       "L. Messi, FC Barcelona                        0.000000   \n",
       "Cristiano Ronaldo, Juventus                   3.708957   \n",
       "Neymar Jr, Paris Saint-Germain                2.170464   \n",
       "J. Oblak, Atlético Madrid                    21.382317   \n",
       "E. Hazard, Real Madrid                        1.788766   \n",
       "\n",
       "name_club                       Cristiano Ronaldo, Juventus  \\\n",
       "name_club                                                     \n",
       "L. Messi, FC Barcelona                                  NaN   \n",
       "Cristiano Ronaldo, Juventus                        0.000000   \n",
       "Neymar Jr, Paris Saint-Germain                     4.824255   \n",
       "J. Oblak, Atlético Madrid                         20.616748   \n",
       "E. Hazard, Real Madrid                             3.990019   \n",
       "\n",
       "name_club                       Neymar Jr, Paris Saint-Germain  \\\n",
       "name_club                                                        \n",
       "L. Messi, FC Barcelona                                     NaN   \n",
       "Cristiano Ronaldo, Juventus                                NaN   \n",
       "Neymar Jr, Paris Saint-Germain                        0.000000   \n",
       "J. Oblak, Atlético Madrid                            20.918834   \n",
       "E. Hazard, Real Madrid                                1.689518   \n",
       "\n",
       "name_club                       J. Oblak, Atlético Madrid  \\\n",
       "name_club                                                   \n",
       "L. Messi, FC Barcelona                                NaN   \n",
       "Cristiano Ronaldo, Juventus                           NaN   \n",
       "Neymar Jr, Paris Saint-Germain                        NaN   \n",
       "J. Oblak, Atlético Madrid                        0.000000   \n",
       "E. Hazard, Real Madrid                          20.642441   \n",
       "\n",
       "name_club                       E. Hazard, Real Madrid  \\\n",
       "name_club                                                \n",
       "L. Messi, FC Barcelona                             NaN   \n",
       "Cristiano Ronaldo, Juventus                        NaN   \n",
       "Neymar Jr, Paris Saint-Germain                     NaN   \n",
       "J. Oblak, Atlético Madrid                          NaN   \n",
       "E. Hazard, Real Madrid                             0.0   \n",
       "\n",
       "name_club                       K. De Bruyne, Manchester City  \\\n",
       "name_club                                                       \n",
       "L. Messi, FC Barcelona                                    NaN   \n",
       "Cristiano Ronaldo, Juventus                               NaN   \n",
       "Neymar Jr, Paris Saint-Germain                            NaN   \n",
       "J. Oblak, Atlético Madrid                                 NaN   \n",
       "E. Hazard, Real Madrid                                    NaN   \n",
       "\n",
       "name_club                       M. ter Stegen, FC Barcelona  \\\n",
       "name_club                                                     \n",
       "L. Messi, FC Barcelona                                  NaN   \n",
       "Cristiano Ronaldo, Juventus                             NaN   \n",
       "Neymar Jr, Paris Saint-Germain                          NaN   \n",
       "J. Oblak, Atlético Madrid                               NaN   \n",
       "E. Hazard, Real Madrid                                  NaN   \n",
       "\n",
       "name_club                       V. van Dijk, Liverpool  \\\n",
       "name_club                                                \n",
       "L. Messi, FC Barcelona                             NaN   \n",
       "Cristiano Ronaldo, Juventus                        NaN   \n",
       "Neymar Jr, Paris Saint-Germain                     NaN   \n",
       "J. Oblak, Atlético Madrid                          NaN   \n",
       "E. Hazard, Real Madrid                             NaN   \n",
       "\n",
       "name_club                       L. Modric, Real Madrid  M. Salah, Liverpool  \\\n",
       "name_club                                                                     \n",
       "L. Messi, FC Barcelona                             NaN                  NaN   \n",
       "Cristiano Ronaldo, Juventus                        NaN                  NaN   \n",
       "Neymar Jr, Paris Saint-Germain                     NaN                  NaN   \n",
       "J. Oblak, Atlético Madrid                          NaN                  NaN   \n",
       "E. Hazard, Real Madrid                             NaN                  NaN   \n",
       "\n",
       "name_club                       ...  M. Gallagher, Finn Harps  \\\n",
       "name_club                       ...                             \n",
       "L. Messi, FC Barcelona          ...                       NaN   \n",
       "Cristiano Ronaldo, Juventus     ...                       NaN   \n",
       "Neymar Jr, Paris Saint-Germain  ...                       NaN   \n",
       "J. Oblak, Atlético Madrid       ...                       NaN   \n",
       "E. Hazard, Real Madrid          ...                       NaN   \n",
       "\n",
       "name_club                       Huang Jiahui, Dalian YiFang FC  \\\n",
       "name_club                                                        \n",
       "L. Messi, FC Barcelona                                     NaN   \n",
       "Cristiano Ronaldo, Juventus                                NaN   \n",
       "Neymar Jr, Paris Saint-Germain                             NaN   \n",
       "J. Oblak, Atlético Madrid                                  NaN   \n",
       "E. Hazard, Real Madrid                                     NaN   \n",
       "\n",
       "name_club                       M. Sagaf, Carlisle United  \\\n",
       "name_club                                                   \n",
       "L. Messi, FC Barcelona                                NaN   \n",
       "Cristiano Ronaldo, Juventus                           NaN   \n",
       "Neymar Jr, Paris Saint-Germain                        NaN   \n",
       "J. Oblak, Atlético Madrid                             NaN   \n",
       "E. Hazard, Real Madrid                                NaN   \n",
       "\n",
       "name_club                       E. Tweed, Derry City  P. Martin, Waterford FC  \\\n",
       "name_club                                                                       \n",
       "L. Messi, FC Barcelona                           NaN                      NaN   \n",
       "Cristiano Ronaldo, Juventus                      NaN                      NaN   \n",
       "Neymar Jr, Paris Saint-Germain                   NaN                      NaN   \n",
       "J. Oblak, Atlético Madrid                        NaN                      NaN   \n",
       "E. Hazard, Real Madrid                           NaN                      NaN   \n",
       "\n",
       "name_club                       Shao Shuai, Beijing Renhe FC  \\\n",
       "name_club                                                      \n",
       "L. Messi, FC Barcelona                                   NaN   \n",
       "Cristiano Ronaldo, Juventus                              NaN   \n",
       "Neymar Jr, Paris Saint-Germain                           NaN   \n",
       "J. Oblak, Atlético Madrid                                NaN   \n",
       "E. Hazard, Real Madrid                                   NaN   \n",
       "\n",
       "name_club                       Xiao Mingjie, Shanghai SIPG FC  \\\n",
       "name_club                                                        \n",
       "L. Messi, FC Barcelona                                     NaN   \n",
       "Cristiano Ronaldo, Juventus                                NaN   \n",
       "Neymar Jr, Paris Saint-Germain                             NaN   \n",
       "J. Oblak, Atlético Madrid                                  NaN   \n",
       "E. Hazard, Real Madrid                                     NaN   \n",
       "\n",
       "name_club                       Zhang Wei, Hebei China Fortune FC  \\\n",
       "name_club                                                           \n",
       "L. Messi, FC Barcelona                                        NaN   \n",
       "Cristiano Ronaldo, Juventus                                   NaN   \n",
       "Neymar Jr, Paris Saint-Germain                                NaN   \n",
       "J. Oblak, Atlético Madrid                                     NaN   \n",
       "E. Hazard, Real Madrid                                        NaN   \n",
       "\n",
       "name_club                       Wang Haijian, Shanghai Greenland Shenhua FC  \\\n",
       "name_club                                                                     \n",
       "L. Messi, FC Barcelona                                                  NaN   \n",
       "Cristiano Ronaldo, Juventus                                             NaN   \n",
       "Neymar Jr, Paris Saint-Germain                                          NaN   \n",
       "J. Oblak, Atlético Madrid                                               NaN   \n",
       "E. Hazard, Real Madrid                                                  NaN   \n",
       "\n",
       "name_club                       Pan Ximing, Hebei China Fortune FC  \n",
       "name_club                                                           \n",
       "L. Messi, FC Barcelona                                         NaN  \n",
       "Cristiano Ronaldo, Juventus                                    NaN  \n",
       "Neymar Jr, Paris Saint-Germain                                 NaN  \n",
       "J. Oblak, Atlético Madrid                                      NaN  \n",
       "E. Hazard, Real Madrid                                         NaN  \n",
       "\n",
       "[5 rows x 18278 columns]"
      ]
     },
     "execution_count": 84,
     "metadata": {},
     "output_type": "execute_result"
    }
   ],
   "source": [
    "RS_PCA = sim_df(fifa_PCA)\n",
    "RS_PCA.head()"
   ]
  },
  {
   "cell_type": "code",
   "execution_count": 85,
   "metadata": {},
   "outputs": [
    {
     "name": "stdout",
     "output_type": "stream",
     "text": [
      "Here are the top 5 players that are similar to L. Messi, FC Barcelona.\n",
      "The distances below represent the similarity.\n",
      "The lower it is, the more similar the player is to L. Messi.\n"
     ]
    },
    {
     "data": {
      "text/html": [
       "<div>\n",
       "<style scoped>\n",
       "    .dataframe tbody tr th:only-of-type {\n",
       "        vertical-align: middle;\n",
       "    }\n",
       "\n",
       "    .dataframe tbody tr th {\n",
       "        vertical-align: top;\n",
       "    }\n",
       "\n",
       "    .dataframe thead th {\n",
       "        text-align: right;\n",
       "    }\n",
       "</style>\n",
       "<table border=\"1\" class=\"dataframe\">\n",
       "  <thead>\n",
       "    <tr style=\"text-align: right;\">\n",
       "      <th></th>\n",
       "      <th>L. Messi, FC Barcelona</th>\n",
       "    </tr>\n",
       "    <tr>\n",
       "      <th>name_club</th>\n",
       "      <th></th>\n",
       "    </tr>\n",
       "  </thead>\n",
       "  <tbody>\n",
       "    <tr>\n",
       "      <th>E. Hazard, Real Madrid</th>\n",
       "      <td>1.788766</td>\n",
       "    </tr>\n",
       "    <tr>\n",
       "      <th>Neymar Jr, Paris Saint-Germain</th>\n",
       "      <td>2.170464</td>\n",
       "    </tr>\n",
       "    <tr>\n",
       "      <th>M. Reus, Borussia Dortmund</th>\n",
       "      <td>2.630188</td>\n",
       "    </tr>\n",
       "    <tr>\n",
       "      <th>P. Dybala, Juventus</th>\n",
       "      <td>2.695672</td>\n",
       "    </tr>\n",
       "    <tr>\n",
       "      <th>D. Mertens, Napoli</th>\n",
       "      <td>2.895661</td>\n",
       "    </tr>\n",
       "  </tbody>\n",
       "</table>\n",
       "</div>"
      ],
      "text/plain": [
       "                                L. Messi, FC Barcelona\n",
       "name_club                                             \n",
       "E. Hazard, Real Madrid                        1.788766\n",
       "Neymar Jr, Paris Saint-Germain                2.170464\n",
       "M. Reus, Borussia Dortmund                    2.630188\n",
       "P. Dybala, Juventus                           2.695672\n",
       "D. Mertens, Napoli                            2.895661"
      ]
     },
     "execution_count": 85,
     "metadata": {},
     "output_type": "execute_result"
    }
   ],
   "source": [
    "get_sim_players('L. Messi', RS_PCA)"
   ]
  },
  {
   "cell_type": "code",
   "execution_count": 153,
   "metadata": {},
   "outputs": [],
   "source": [
    "RS_PCA.to_pickle(\"../../../Desktop/Capstone/Datasets/RS_PCA.pkl\")"
   ]
  },
  {
   "cell_type": "code",
   "execution_count": 86,
   "metadata": {},
   "outputs": [],
   "source": [
    "from numpy import savez_compressed"
   ]
  },
  {
   "cell_type": "code",
   "execution_count": 87,
   "metadata": {},
   "outputs": [],
   "source": [
    "np_RS_PCA = RS_PCA.to_numpy()\n",
    "savez_compressed('Datasets/RS_PCA.npz', np_RS_PCA)\n",
    "\n",
    "# note: np_RS_PCA has been zipped and splitted into multiple files of size < 100mb to circumvent the git push file size limit"
   ]
  },
  {
   "cell_type": "markdown",
   "metadata": {},
   "source": [
    "### EDA of Different Clusterings\n",
    "\n",
    "While there are a lot of features and attributes that can be used to identify the clusterings, I will focus mainly on the players' positional scores in each clustering."
   ]
  },
  {
   "cell_type": "code",
   "execution_count": 88,
   "metadata": {},
   "outputs": [],
   "source": [
    "# transfer 'team_position' into KMeans DataFrame first:\n",
    "\n",
    "fifa_kmeans4['team_position'] = fifa_new_feats['team_position'].values\n",
    "fifa_kmeans6['team_position'] = fifa_new_feats['team_position'].values\n",
    "fifa_kmeans8['team_position'] = fifa_new_feats['team_position'].values"
   ]
  },
  {
   "cell_type": "code",
   "execution_count": 89,
   "metadata": {
    "scrolled": true
   },
   "outputs": [
    {
     "data": {
      "text/plain": [
       "11018"
      ]
     },
     "execution_count": 89,
     "metadata": {},
     "output_type": "execute_result"
    }
   ],
   "source": [
    "fifa_new_feats.loc[(fifa_new_feats['team_position'] == 'SUB') | (fifa_new_feats['team_position'] == 'RES' ) | (fifa_new_feats.team_position.isnull())].shape[0]"
   ]
  },
  {
   "cell_type": "markdown",
   "metadata": {},
   "source": [
    "As there are a lot of substitutes, reserves and free agents (totalling close to 11k entries), whose team positions are not stated, and I wish to understand whether the clustering of 4/6/8 are well-defined in terms of positions, I will replace these 'SUB'/'RES'/null entries with the position that the players have the highest score in, as this would presumably be the position he plays anyway when he is on the pitch."
   ]
  },
  {
   "cell_type": "code",
   "execution_count": 90,
   "metadata": {},
   "outputs": [],
   "source": [
    "# there is no 'gk' in the positional scores features, so have to engineer one first (by simply taking the mean of goalkeeping attributes):\n",
    "\n",
    "fifa_new_feats['gk'] = fifa_new_feats[gk_attr].mean(axis = 1)"
   ]
  },
  {
   "cell_type": "code",
   "execution_count": 91,
   "metadata": {},
   "outputs": [
    {
     "data": {
      "text/plain": [
       "Int64Index([   48,    53,    55,    59,    62,    70,    73,    79,    91,\n",
       "               93,\n",
       "            ...\n",
       "            18268, 18269, 18270, 18271, 18272, 18273, 18274, 18275, 18276,\n",
       "            18277],\n",
       "           dtype='int64', length=11018)"
      ]
     },
     "execution_count": 91,
     "metadata": {},
     "output_type": "execute_result"
    }
   ],
   "source": [
    "# identify the SUB/RES/Null indices\n",
    "\n",
    "sub_res_null_index = fifa_new_feats[(fifa_new_feats['team_position'] == 'SUB') | (fifa_new_feats['team_position'] == 'RES' ) | (fifa_new_feats.team_position.isnull())].team_position.index\n",
    "sub_res_null_index"
   ]
  },
  {
   "cell_type": "code",
   "execution_count": 92,
   "metadata": {},
   "outputs": [
    {
     "data": {
      "text/plain": [
       "['ls',\n",
       " 'st',\n",
       " 'rs',\n",
       " 'lw',\n",
       " 'lf',\n",
       " 'cf',\n",
       " 'rf',\n",
       " 'rw',\n",
       " 'lam',\n",
       " 'cam',\n",
       " 'ram',\n",
       " 'lm',\n",
       " 'lcm',\n",
       " 'cm',\n",
       " 'rcm',\n",
       " 'rm',\n",
       " 'lwb',\n",
       " 'ldm',\n",
       " 'cdm',\n",
       " 'rdm',\n",
       " 'rwb',\n",
       " 'lb',\n",
       " 'lcb',\n",
       " 'cb',\n",
       " 'rcb',\n",
       " 'rb',\n",
       " 'gk']"
      ]
     },
     "execution_count": 92,
     "metadata": {},
     "output_type": "execute_result"
    }
   ],
   "source": [
    "pos_scores.append('gk')\n",
    "pos_scores"
   ]
  },
  {
   "cell_type": "code",
   "execution_count": 93,
   "metadata": {
    "scrolled": true
   },
   "outputs": [
    {
     "data": {
      "text/plain": [
       "0"
      ]
     },
     "execution_count": 93,
     "metadata": {},
     "output_type": "execute_result"
    }
   ],
   "source": [
    "# fill null team positions with 'None'\n",
    "\n",
    "fifa_new_feats.team_position = fifa_new_feats.team_position.fillna('None')\n",
    "fifa_new_feats.team_position.isnull().sum()"
   ]
  },
  {
   "cell_type": "code",
   "execution_count": 94,
   "metadata": {},
   "outputs": [],
   "source": [
    "# create a list that identifies each SUB/RES/Null entries' best position by virtue of their highest positional score:\n",
    "\n",
    "new_pos = []\n",
    "\n",
    "for index in sub_res_null_index:\n",
    "    player_pos_scores_dict = fifa_new_feats.iloc[index][pos_scores].to_dict()\n",
    "    # save to dictionary for where key = position, value = positional score\n",
    "    player_best_pos = max(player_pos_scores_dict, key = lambda key: player_pos_scores_dict[key]).upper()\n",
    "    # identify position with max score and uppercase it, just like all other positions\n",
    "    new_pos.append(player_best_pos)"
   ]
  },
  {
   "cell_type": "code",
   "execution_count": 95,
   "metadata": {},
   "outputs": [
    {
     "data": {
      "text/plain": [
       "['LW',\n",
       " 'GK',\n",
       " 'LF',\n",
       " 'LCB',\n",
       " 'LAM',\n",
       " 'LS',\n",
       " 'LCB',\n",
       " 'LDM',\n",
       " 'GK',\n",
       " 'LS',\n",
       " 'LS',\n",
       " 'LB',\n",
       " 'LS',\n",
       " 'LAM',\n",
       " 'LW',\n",
       " 'LWB',\n",
       " 'LCM',\n",
       " 'LCM',\n",
       " 'LAM',\n",
       " 'LCB']"
      ]
     },
     "execution_count": 95,
     "metadata": {},
     "output_type": "execute_result"
    }
   ],
   "source": [
    "new_pos[:20]"
   ]
  },
  {
   "cell_type": "code",
   "execution_count": 96,
   "metadata": {},
   "outputs": [],
   "source": [
    "# zip indices of SUB/RES/Null together with these players' best positions:\n",
    "new_pos_dict = dict(zip(sub_res_null_index, new_pos))"
   ]
  },
  {
   "cell_type": "code",
   "execution_count": 97,
   "metadata": {},
   "outputs": [],
   "source": [
    "# change the team positions of these SUB/RES/Null players:\n",
    "for index, pos in new_pos_dict.items():\n",
    "    fifa_new_feats.at[index, 'team_position'] = pos"
   ]
  },
  {
   "cell_type": "code",
   "execution_count": 98,
   "metadata": {},
   "outputs": [
    {
     "name": "stdout",
     "output_type": "stream",
     "text": [
      "['LW' 'GK' 'LF' 'LCB' 'LAM' 'LS' 'LDM' 'LB' 'LWB' 'LCM' 'LM']\n",
      "0\n"
     ]
    }
   ],
   "source": [
    "# check whether changes are applied successfully:\n",
    "print(fifa_new_feats.iloc[sub_res_null_index].team_position.unique())\n",
    "print(fifa_new_feats.team_position.isnull().sum())"
   ]
  },
  {
   "cell_type": "code",
   "execution_count": 99,
   "metadata": {},
   "outputs": [
    {
     "name": "stderr",
     "output_type": "stream",
     "text": [
      "/Users/user/opt/anaconda3/lib/python3.7/site-packages/ipykernel_launcher.py:3: FutureWarning:\n",
      "\n",
      "Sorting because non-concatenation axis is not aligned. A future version\n",
      "of pandas will change to not sort by default.\n",
      "\n",
      "To accept the future behavior, pass 'sort=False'.\n",
      "\n",
      "To retain the current behavior and silence the warning, pass 'sort=True'.\n",
      "\n",
      "\n",
      "/Users/user/opt/anaconda3/lib/python3.7/site-packages/ipykernel_launcher.py:5: FutureWarning:\n",
      "\n",
      "Sorting because non-concatenation axis is not aligned. A future version\n",
      "of pandas will change to not sort by default.\n",
      "\n",
      "To accept the future behavior, pass 'sort=False'.\n",
      "\n",
      "To retain the current behavior and silence the warning, pass 'sort=True'.\n",
      "\n",
      "\n",
      "/Users/user/opt/anaconda3/lib/python3.7/site-packages/ipykernel_launcher.py:7: FutureWarning:\n",
      "\n",
      "Sorting because non-concatenation axis is not aligned. A future version\n",
      "of pandas will change to not sort by default.\n",
      "\n",
      "To accept the future behavior, pass 'sort=False'.\n",
      "\n",
      "To retain the current behavior and silence the warning, pass 'sort=True'.\n",
      "\n",
      "\n"
     ]
    }
   ],
   "source": [
    "# update positional scores into KMeans DataFrames:\n",
    "\n",
    "fifa_kmeans4 = pd.concat([fifa_kmeans4,pd.DataFrame(columns=pos_scores)])\n",
    "fifa_kmeans4[pos_scores] = fifa_new_feats[pos_scores].values\n",
    "fifa_kmeans6 = pd.concat([fifa_kmeans6,pd.DataFrame(columns=pos_scores)])\n",
    "fifa_kmeans6[pos_scores] = fifa_new_feats[pos_scores].values\n",
    "fifa_kmeans8 = pd.concat([fifa_kmeans8,pd.DataFrame(columns=pos_scores)])\n",
    "fifa_kmeans8[pos_scores] = fifa_new_feats[pos_scores].values"
   ]
  },
  {
   "cell_type": "code",
   "execution_count": 100,
   "metadata": {},
   "outputs": [],
   "source": [
    "# update 'team_position' values again, now that the SUB/RES/Null entries have been changed:\n",
    "\n",
    "fifa_kmeans4['team_position'] = fifa_new_feats['team_position'].values\n",
    "fifa_kmeans6['team_position'] = fifa_new_feats['team_position'].values\n",
    "fifa_kmeans8['team_position'] = fifa_new_feats['team_position'].values"
   ]
  },
  {
   "cell_type": "code",
   "execution_count": 101,
   "metadata": {},
   "outputs": [],
   "source": [
    "# create a function to do quick and efficient cluster EDA\n",
    "# displays top 20 players, followed by a distribution barplot of the positions in the cluster\n",
    "\n",
    "def cluster_EDA(cluster_num, kmeans_df):\n",
    "    kmeans_df = kmeans_df.drop(columns = pos_scores)\n",
    "    kmeans_df = kmeans_df.drop(columns = ['name_club'])\n",
    "    barplot = kmeans_df.loc[kmeans_df.cluster == cluster_num].team_position.value_counts(normalize=True).head(10).plot(kind='bar')\n",
    "    kmeans_df = kmeans_df.loc[kmeans_df.cluster == cluster_num].head(20)\n",
    "    return kmeans_df, barplot"
   ]
  },
  {
   "cell_type": "code",
   "execution_count": 102,
   "metadata": {},
   "outputs": [],
   "source": [
    "# create groupby DataFrames, of each KMeans df, of the mean of every positional score:\n",
    "\n",
    "fifa_km4_cluster_mean = fifa_kmeans4.groupby('cluster')[pos_scores].mean()\n",
    "fifa_km6_cluster_mean = fifa_kmeans6.groupby('cluster')[pos_scores].mean()\n",
    "fifa_km8_cluster_mean = fifa_kmeans8.groupby('cluster')[pos_scores].mean()"
   ]
  },
  {
   "cell_type": "code",
   "execution_count": 103,
   "metadata": {
    "scrolled": true
   },
   "outputs": [
    {
     "data": {
      "text/html": [
       "<div>\n",
       "<style scoped>\n",
       "    .dataframe tbody tr th:only-of-type {\n",
       "        vertical-align: middle;\n",
       "    }\n",
       "\n",
       "    .dataframe tbody tr th {\n",
       "        vertical-align: top;\n",
       "    }\n",
       "\n",
       "    .dataframe thead th {\n",
       "        text-align: right;\n",
       "    }\n",
       "</style>\n",
       "<table border=\"1\" class=\"dataframe\">\n",
       "  <thead>\n",
       "    <tr style=\"text-align: right;\">\n",
       "      <th>cluster</th>\n",
       "      <th>0.0</th>\n",
       "      <th>1.0</th>\n",
       "      <th>2.0</th>\n",
       "      <th>3.0</th>\n",
       "    </tr>\n",
       "  </thead>\n",
       "  <tbody>\n",
       "    <tr>\n",
       "      <th>ls</th>\n",
       "      <td>0.013256</td>\n",
       "      <td>-1.007764</td>\n",
       "      <td>0.418939</td>\n",
       "      <td>-0.129703</td>\n",
       "    </tr>\n",
       "    <tr>\n",
       "      <th>st</th>\n",
       "      <td>0.013256</td>\n",
       "      <td>-1.007764</td>\n",
       "      <td>0.418939</td>\n",
       "      <td>-0.129703</td>\n",
       "    </tr>\n",
       "    <tr>\n",
       "      <th>rs</th>\n",
       "      <td>0.013256</td>\n",
       "      <td>-1.007764</td>\n",
       "      <td>0.418939</td>\n",
       "      <td>-0.129703</td>\n",
       "    </tr>\n",
       "    <tr>\n",
       "      <th>lw</th>\n",
       "      <td>0.091768</td>\n",
       "      <td>-0.982999</td>\n",
       "      <td>0.386865</td>\n",
       "      <td>-0.220766</td>\n",
       "    </tr>\n",
       "    <tr>\n",
       "      <th>lf</th>\n",
       "      <td>0.068018</td>\n",
       "      <td>-0.981483</td>\n",
       "      <td>0.403653</td>\n",
       "      <td>-0.208459</td>\n",
       "    </tr>\n",
       "    <tr>\n",
       "      <th>cf</th>\n",
       "      <td>0.068018</td>\n",
       "      <td>-0.981483</td>\n",
       "      <td>0.403653</td>\n",
       "      <td>-0.208459</td>\n",
       "    </tr>\n",
       "    <tr>\n",
       "      <th>rf</th>\n",
       "      <td>0.068018</td>\n",
       "      <td>-0.981483</td>\n",
       "      <td>0.403653</td>\n",
       "      <td>-0.208459</td>\n",
       "    </tr>\n",
       "    <tr>\n",
       "      <th>rw</th>\n",
       "      <td>0.091768</td>\n",
       "      <td>-0.982999</td>\n",
       "      <td>0.386865</td>\n",
       "      <td>-0.220766</td>\n",
       "    </tr>\n",
       "    <tr>\n",
       "      <th>lam</th>\n",
       "      <td>0.102873</td>\n",
       "      <td>-0.988782</td>\n",
       "      <td>0.351042</td>\n",
       "      <td>-0.182039</td>\n",
       "    </tr>\n",
       "    <tr>\n",
       "      <th>cam</th>\n",
       "      <td>0.102873</td>\n",
       "      <td>-0.988782</td>\n",
       "      <td>0.351042</td>\n",
       "      <td>-0.182039</td>\n",
       "    </tr>\n",
       "    <tr>\n",
       "      <th>ram</th>\n",
       "      <td>0.102873</td>\n",
       "      <td>-0.988782</td>\n",
       "      <td>0.351042</td>\n",
       "      <td>-0.182039</td>\n",
       "    </tr>\n",
       "    <tr>\n",
       "      <th>lm</th>\n",
       "      <td>0.117670</td>\n",
       "      <td>-1.020042</td>\n",
       "      <td>0.318036</td>\n",
       "      <td>-0.140358</td>\n",
       "    </tr>\n",
       "    <tr>\n",
       "      <th>lcm</th>\n",
       "      <td>0.180252</td>\n",
       "      <td>-1.029516</td>\n",
       "      <td>0.130820</td>\n",
       "      <td>0.044036</td>\n",
       "    </tr>\n",
       "    <tr>\n",
       "      <th>cm</th>\n",
       "      <td>0.180252</td>\n",
       "      <td>-1.029516</td>\n",
       "      <td>0.130820</td>\n",
       "      <td>0.044036</td>\n",
       "    </tr>\n",
       "    <tr>\n",
       "      <th>rcm</th>\n",
       "      <td>0.180252</td>\n",
       "      <td>-1.029516</td>\n",
       "      <td>0.130820</td>\n",
       "      <td>0.044036</td>\n",
       "    </tr>\n",
       "    <tr>\n",
       "      <th>rm</th>\n",
       "      <td>0.117670</td>\n",
       "      <td>-1.020042</td>\n",
       "      <td>0.318036</td>\n",
       "      <td>-0.140358</td>\n",
       "    </tr>\n",
       "    <tr>\n",
       "      <th>lwb</th>\n",
       "      <td>0.269000</td>\n",
       "      <td>-1.011182</td>\n",
       "      <td>-0.213757</td>\n",
       "      <td>0.407543</td>\n",
       "    </tr>\n",
       "    <tr>\n",
       "      <th>ldm</th>\n",
       "      <td>0.262391</td>\n",
       "      <td>-0.945397</td>\n",
       "      <td>-0.310921</td>\n",
       "      <td>0.529746</td>\n",
       "    </tr>\n",
       "    <tr>\n",
       "      <th>cdm</th>\n",
       "      <td>0.262391</td>\n",
       "      <td>-0.945397</td>\n",
       "      <td>-0.310921</td>\n",
       "      <td>0.529746</td>\n",
       "    </tr>\n",
       "    <tr>\n",
       "      <th>rdm</th>\n",
       "      <td>0.262391</td>\n",
       "      <td>-0.945397</td>\n",
       "      <td>-0.310921</td>\n",
       "      <td>0.529746</td>\n",
       "    </tr>\n",
       "    <tr>\n",
       "      <th>rwb</th>\n",
       "      <td>0.269000</td>\n",
       "      <td>-1.011182</td>\n",
       "      <td>-0.213757</td>\n",
       "      <td>0.407543</td>\n",
       "    </tr>\n",
       "    <tr>\n",
       "      <th>lb</th>\n",
       "      <td>0.271556</td>\n",
       "      <td>-0.975490</td>\n",
       "      <td>-0.303440</td>\n",
       "      <td>0.519291</td>\n",
       "    </tr>\n",
       "    <tr>\n",
       "      <th>lcb</th>\n",
       "      <td>0.226339</td>\n",
       "      <td>-0.839620</td>\n",
       "      <td>-0.471813</td>\n",
       "      <td>0.774121</td>\n",
       "    </tr>\n",
       "    <tr>\n",
       "      <th>cb</th>\n",
       "      <td>0.226339</td>\n",
       "      <td>-0.839620</td>\n",
       "      <td>-0.471813</td>\n",
       "      <td>0.774121</td>\n",
       "    </tr>\n",
       "    <tr>\n",
       "      <th>rcb</th>\n",
       "      <td>0.226339</td>\n",
       "      <td>-0.839620</td>\n",
       "      <td>-0.471813</td>\n",
       "      <td>0.774121</td>\n",
       "    </tr>\n",
       "    <tr>\n",
       "      <th>rb</th>\n",
       "      <td>0.271556</td>\n",
       "      <td>-0.975490</td>\n",
       "      <td>-0.303440</td>\n",
       "      <td>0.519291</td>\n",
       "    </tr>\n",
       "    <tr>\n",
       "      <th>gk</th>\n",
       "      <td>-0.676268</td>\n",
       "      <td>4.328827</td>\n",
       "      <td>-0.535174</td>\n",
       "      <td>-0.338798</td>\n",
       "    </tr>\n",
       "  </tbody>\n",
       "</table>\n",
       "</div>"
      ],
      "text/plain": [
       "cluster       0.0       1.0       2.0       3.0\n",
       "ls       0.013256 -1.007764  0.418939 -0.129703\n",
       "st       0.013256 -1.007764  0.418939 -0.129703\n",
       "rs       0.013256 -1.007764  0.418939 -0.129703\n",
       "lw       0.091768 -0.982999  0.386865 -0.220766\n",
       "lf       0.068018 -0.981483  0.403653 -0.208459\n",
       "cf       0.068018 -0.981483  0.403653 -0.208459\n",
       "rf       0.068018 -0.981483  0.403653 -0.208459\n",
       "rw       0.091768 -0.982999  0.386865 -0.220766\n",
       "lam      0.102873 -0.988782  0.351042 -0.182039\n",
       "cam      0.102873 -0.988782  0.351042 -0.182039\n",
       "ram      0.102873 -0.988782  0.351042 -0.182039\n",
       "lm       0.117670 -1.020042  0.318036 -0.140358\n",
       "lcm      0.180252 -1.029516  0.130820  0.044036\n",
       "cm       0.180252 -1.029516  0.130820  0.044036\n",
       "rcm      0.180252 -1.029516  0.130820  0.044036\n",
       "rm       0.117670 -1.020042  0.318036 -0.140358\n",
       "lwb      0.269000 -1.011182 -0.213757  0.407543\n",
       "ldm      0.262391 -0.945397 -0.310921  0.529746\n",
       "cdm      0.262391 -0.945397 -0.310921  0.529746\n",
       "rdm      0.262391 -0.945397 -0.310921  0.529746\n",
       "rwb      0.269000 -1.011182 -0.213757  0.407543\n",
       "lb       0.271556 -0.975490 -0.303440  0.519291\n",
       "lcb      0.226339 -0.839620 -0.471813  0.774121\n",
       "cb       0.226339 -0.839620 -0.471813  0.774121\n",
       "rcb      0.226339 -0.839620 -0.471813  0.774121\n",
       "rb       0.271556 -0.975490 -0.303440  0.519291\n",
       "gk      -0.676268  4.328827 -0.535174 -0.338798"
      ]
     },
     "execution_count": 103,
     "metadata": {},
     "output_type": "execute_result"
    }
   ],
   "source": [
    "fifa_km4_cluster_mean.T"
   ]
  },
  {
   "cell_type": "markdown",
   "metadata": {},
   "source": [
    "Transform groupby DataFrames for easier subsequent lineplots:"
   ]
  },
  {
   "cell_type": "code",
   "execution_count": 104,
   "metadata": {},
   "outputs": [],
   "source": [
    "df_km4 = pd.DataFrame({'x': pos_scores, \n",
    "                'cluster0': fifa_km4_cluster_mean.iloc[0, :].values, \n",
    "                'cluster1': fifa_km4_cluster_mean.iloc[1, :].values, \n",
    "                'cluster2': fifa_km4_cluster_mean.iloc[2, :].values,\n",
    "                'cluster3': fifa_km4_cluster_mean.iloc[3, :].values})"
   ]
  },
  {
   "cell_type": "code",
   "execution_count": 105,
   "metadata": {},
   "outputs": [],
   "source": [
    "df_km6 = pd.DataFrame({'x': pos_scores, \n",
    "                'cluster0': fifa_km6_cluster_mean.iloc[0, :].values, \n",
    "                'cluster1': fifa_km6_cluster_mean.iloc[1, :].values, \n",
    "                'cluster2': fifa_km6_cluster_mean.iloc[2, :].values,\n",
    "                'cluster3': fifa_km6_cluster_mean.iloc[3, :].values,\n",
    "                'cluster4': fifa_km6_cluster_mean.iloc[4, :].values,\n",
    "                'cluster5': fifa_km6_cluster_mean.iloc[5, :].values\n",
    "                      })"
   ]
  },
  {
   "cell_type": "code",
   "execution_count": 106,
   "metadata": {},
   "outputs": [],
   "source": [
    "df_km8 = pd.DataFrame({'x': pos_scores, \n",
    "                'cluster0': fifa_km8_cluster_mean.iloc[0, :].values, \n",
    "                'cluster1': fifa_km8_cluster_mean.iloc[1, :].values, \n",
    "                'cluster2': fifa_km8_cluster_mean.iloc[2, :].values,\n",
    "                'cluster3': fifa_km8_cluster_mean.iloc[3, :].values,\n",
    "                'cluster4': fifa_km8_cluster_mean.iloc[4, :].values,\n",
    "                'cluster5': fifa_km8_cluster_mean.iloc[5, :].values,\n",
    "                'cluster6': fifa_km8_cluster_mean.iloc[6, :].values,\n",
    "                'cluster7': fifa_km8_cluster_mean.iloc[7, :].values\n",
    "                      })"
   ]
  },
  {
   "cell_type": "code",
   "execution_count": 107,
   "metadata": {},
   "outputs": [
    {
     "data": {
      "text/plain": [
       "<matplotlib.legend.Legend at 0x1ca034fe90>"
      ]
     },
     "execution_count": 107,
     "metadata": {},
     "output_type": "execute_result"
    },
    {
     "data": {
      "image/png": "[encoded data removed]",
      "text/plain": [
       "<Figure size 1080x576 with 1 Axes>"
      ]
     },
     "metadata": {
      "needs_background": "light"
     },
     "output_type": "display_data"
    }
   ],
   "source": [
    "plt.figure(figsize=(15, 8))\n",
    "plt.ylim(top=2, bottom=-1.25)\n",
    "\n",
    "plt.plot('x', 'cluster0', data=df_km4, marker='o', color='blue', linewidth=4)\n",
    "plt.plot('x', 'cluster1', data=df_km4, marker='', color='olive', linewidth=2)\n",
    "plt.plot('x', 'cluster2', data=df_km4, marker='', color='gold', linewidth=2, linestyle='dashed')\n",
    "plt.plot('x', 'cluster3', data=df_km4, marker='x', color='black', linewidth=2, linestyle='-')\n",
    "plt.legend()"
   ]
  },
  {
   "cell_type": "code",
   "execution_count": 108,
   "metadata": {},
   "outputs": [
    {
     "data": {
      "text/plain": [
       "(    cluster           short_name team_position\n",
       " 8       0.0            L. Modric           RCM\n",
       " 15      0.0             N. Kante           RCM\n",
       " 21      0.0      Sergio Busquets           CDM\n",
       " 36      0.0             T. Kroos           LCM\n",
       " 44      0.0          Fernandinho           CDM\n",
       " 51      0.0           Jordi Alba            LB\n",
       " 52      0.0               Thiago           CDM\n",
       " 58      0.0          M. Verratti           RCM\n",
       " 61      0.0           J. Kimmich            RB\n",
       " 64      0.0           I. Rakitic           RCM\n",
       " 65      0.0            M. Pjanic           CDM\n",
       " 69      0.0               Parejo           RCM\n",
       " 75      0.0           F. de Jong           LCM\n",
       " 78      0.0  S. Milinkovic-Savic           RDM\n",
       " 79      0.0                Rodri           LDM\n",
       " 80      0.0                 Saul           LCM\n",
       " 81      0.0              Fabinho           CDM\n",
       " 82      0.0         A. Robertson            LB\n",
       " 92      0.0             D. Alaba            LB\n",
       " 94      0.0             Carvajal            RB,\n",
       " <matplotlib.axes._subplots.AxesSubplot at 0x1ca0974750>)"
      ]
     },
     "execution_count": 108,
     "metadata": {},
     "output_type": "execute_result"
    },
    {
     "data": {
      "image/png": "[encoded data removed]",
      "text/plain": [
       "<Figure size 432x288 with 1 Axes>"
      ]
     },
     "metadata": {
      "needs_background": "light"
     },
     "output_type": "display_data"
    }
   ],
   "source": [
    "cluster_EDA(0, fifa_kmeans4)"
   ]
  },
  {
   "cell_type": "code",
   "execution_count": 109,
   "metadata": {},
   "outputs": [
    {
     "data": {
      "text/plain": [
       "(     cluster     short_name team_position\n",
       " 3        1.0       J. Oblak            GK\n",
       " 6        1.0  M. ter Stegen            GK\n",
       " 13       1.0        Alisson            GK\n",
       " 14       1.0         De Gea            GK\n",
       " 25       1.0        Ederson            GK\n",
       " 28       1.0    T. Courtois            GK\n",
       " 30       1.0  S. Handanovic            GK\n",
       " 31       1.0       M. Neuer            GK\n",
       " 32       1.0      H. Lloris            GK\n",
       " 53       1.0       K. Navas            GK\n",
       " 60       1.0    W. Szczesny            GK\n",
       " 74       1.0  G. Donnarumma            GK\n",
       " 86       1.0       A. Lopes            GK\n",
       " 87       1.0     P. Gulacsi            GK\n",
       " 88       1.0       R. Burki            GK\n",
       " 91       1.0           Neto            GK\n",
       " 111      1.0           Kepa            GK\n",
       " 122      1.0        B. Leno            GK\n",
       " 125      1.0    J. Pavlenka            GK\n",
       " 130      1.0     S. Ruffier            GK,\n",
       " <matplotlib.axes._subplots.AxesSubplot at 0x1ca09679d0>)"
      ]
     },
     "execution_count": 109,
     "metadata": {},
     "output_type": "execute_result"
    },
    {
     "data": {
      "image/png": "[encoded data removed]",
      "text/plain": [
       "<Figure size 432x288 with 1 Axes>"
      ]
     },
     "metadata": {
      "needs_background": "light"
     },
     "output_type": "display_data"
    }
   ],
   "source": [
    "cluster_EDA(1, fifa_kmeans4)"
   ]
  },
  {
   "cell_type": "code",
   "execution_count": 110,
   "metadata": {},
   "outputs": [
    {
     "data": {
      "text/plain": [
       "(    cluster         short_name team_position\n",
       " 0       2.0           L. Messi            RW\n",
       " 1       2.0  Cristiano Ronaldo            LW\n",
       " 2       2.0          Neymar Jr           CAM\n",
       " 4       2.0          E. Hazard            LW\n",
       " 5       2.0       K. De Bruyne           RCM\n",
       " 9       2.0           M. Salah            RW\n",
       " 10      2.0          K. Mbappe            RW\n",
       " 12      2.0            H. Kane            ST\n",
       " 17      2.0          S. Aguero            ST\n",
       " 19      2.0          L. Suarez            ST\n",
       " 20      2.0     R. Lewandowski            ST\n",
       " 22      2.0       A. Griezmann            LW\n",
       " 23      2.0          P. Dybala            RW\n",
       " 24      2.0           P. Pogba           LDM\n",
       " 26      2.0        R. Sterling            LW\n",
       " 27      2.0         C. Eriksen            RM\n",
       " 33      2.0        David Silva           LCM\n",
       " 34      2.0          E. Cavani            ST\n",
       " 37      2.0            M. Reus           CAM\n",
       " 38      2.0      P. Aubameyang            LM,\n",
       " <matplotlib.axes._subplots.AxesSubplot at 0x1b5c736690>)"
      ]
     },
     "execution_count": 110,
     "metadata": {},
     "output_type": "execute_result"
    },
    {
     "data": {
      "image/png": "[encoded data removed]",
      "text/plain": [
       "<Figure size 432x288 with 1 Axes>"
      ]
     },
     "metadata": {
      "needs_background": "light"
     },
     "output_type": "display_data"
    }
   ],
   "source": [
    "cluster_EDA(2, fifa_kmeans4)"
   ]
  },
  {
   "cell_type": "code",
   "execution_count": 111,
   "metadata": {},
   "outputs": [
    {
     "data": {
      "text/plain": [
       "(    cluster       short_name team_position\n",
       " 7       3.0      V. van Dijk           LCB\n",
       " 11      3.0     K. Koulibaly           LCB\n",
       " 16      3.0     G. Chiellini           LCB\n",
       " 18      3.0     Sergio Ramos           LCB\n",
       " 29      3.0            Pique           RCB\n",
       " 35      3.0         D. Godin           RCB\n",
       " 40      3.0       A. Laporte           LCB\n",
       " 42      3.0         Casemiro           CDM\n",
       " 45      3.0     Thiago Silva           LCB\n",
       " 47      3.0    J. Vertonghen           LCB\n",
       " 49      3.0       M. Hummels           LCB\n",
       " 50      3.0  T. Alderweireld           RCB\n",
       " 56      3.0       Marquinhos           RCB\n",
       " 57      3.0      M. Skriniar           LCB\n",
       " 59      3.0        S. Umtiti           LCB\n",
       " 67      3.0       L. Bonucci           RCB\n",
       " 73      3.0       M. de Ligt           LCB\n",
       " 76      3.0        R. Varane           RCB\n",
       " 77      3.0          N. Sule           RCB\n",
       " 83      3.0       J. Gimenez           RCB,\n",
       " <matplotlib.axes._subplots.AxesSubplot at 0x1ca0967e10>)"
      ]
     },
     "execution_count": 111,
     "metadata": {},
     "output_type": "execute_result"
    },
    {
     "data": {
      "image/png": "[encoded data removed]",
      "text/plain": [
       "<Figure size 432x288 with 1 Axes>"
      ]
     },
     "metadata": {
      "needs_background": "light"
     },
     "output_type": "display_data"
    }
   ],
   "source": [
    "cluster_EDA(3, fifa_kmeans4)"
   ]
  },
  {
   "cell_type": "markdown",
   "metadata": {},
   "source": [
    "A lineplot of 4 clusters seperates the 4 basic positions - Goalkeeper, Defender, Midfielder, Striker/Forward - fairly easily.\n",
    "\n",
    "- Goalkeepers are in cluster 1, indicated by the huge jump in `gk` score\n",
    "- Defenders are in cluster 3, indicated by the negative scores in the offensive positions (from `ls` to `rm`) and the subsequent jump to positive range from the defensive positions onwards (from `lwb` onwards)\n",
    "- Midfielders, as well as some defenders, are in cluster 0, as their scores are mostly slightly above 0 (starting from the striker/forward positions) and slowly inching upwards as the positions become more defensive.\n",
    "- Lastly, most strikers/forwards and attacking midfielders, are in cluster 2, as their scores are all well above 0 until the defensive positions start from `lwb` onwards. There are also some central midfielders and right midfielders mixed in as well.\n",
    "\n",
    "Clustering by 4 is indeed simple, but as seen from the plot, there is quite a big overlap in the area of midfield and forwards/strikers. Indeed, in reality, the forward and midfield positions are quite dynamic and can switch around interchangably as part of the team's tactics and strategy. Hence, it'll be better if I can further cluster and seperate the positions better."
   ]
  },
  {
   "cell_type": "code",
   "execution_count": 112,
   "metadata": {},
   "outputs": [
    {
     "data": {
      "text/plain": [
       "<matplotlib.legend.Legend at 0x1b5d679950>"
      ]
     },
     "execution_count": 112,
     "metadata": {},
     "output_type": "execute_result"
    },
    {
     "data": {
      "image/png": "[encoded data removed]",
      "text/plain": [
       "<Figure size 1080x576 with 1 Axes>"
      ]
     },
     "metadata": {
      "needs_background": "light"
     },
     "output_type": "display_data"
    }
   ],
   "source": [
    "plt.figure(figsize=(15, 8))\n",
    "plt.ylim(top=1, bottom=-1)\n",
    "\n",
    "#plt.plot('x', 'cluster0', data=df_km6, marker='o', markerfacecolor='blue', markersize=12, color='skyblue', linewidth=4)\n",
    "# leaving out cluster 0 as the goalkeeper cluster is fairly obvious, and also because I want to zoom in on the figure\n",
    "plt.plot('x', 'cluster1', data=df_km6, marker='', color='black', linewidth=4)\n",
    "plt.plot('x', 'cluster2', data=df_km6, marker='v', markersize=8, linewidth=2, linestyle='dashed')\n",
    "plt.plot('x', 'cluster3', data=df_km6, marker='o', linewidth=2, linestyle='-')\n",
    "plt.plot('x', 'cluster4', data=df_km6, marker='v', markersize=8, linewidth=2, linestyle='dashed')\n",
    "plt.plot('x', 'cluster5', data=df_km6, marker='o', linewidth=2, linestyle='-')\n",
    "plt.legend()"
   ]
  },
  {
   "cell_type": "code",
   "execution_count": 113,
   "metadata": {},
   "outputs": [
    {
     "data": {
      "text/plain": [
       "(     cluster     short_name team_position\n",
       " 3        0.0       J. Oblak            GK\n",
       " 6        0.0  M. ter Stegen            GK\n",
       " 13       0.0        Alisson            GK\n",
       " 14       0.0         De Gea            GK\n",
       " 25       0.0        Ederson            GK\n",
       " 28       0.0    T. Courtois            GK\n",
       " 30       0.0  S. Handanovic            GK\n",
       " 31       0.0       M. Neuer            GK\n",
       " 32       0.0      H. Lloris            GK\n",
       " 53       0.0       K. Navas            GK\n",
       " 60       0.0    W. Szczesny            GK\n",
       " 74       0.0  G. Donnarumma            GK\n",
       " 86       0.0       A. Lopes            GK\n",
       " 87       0.0     P. Gulacsi            GK\n",
       " 88       0.0       R. Burki            GK\n",
       " 91       0.0           Neto            GK\n",
       " 111      0.0           Kepa            GK\n",
       " 122      0.0        B. Leno            GK\n",
       " 125      0.0    J. Pavlenka            GK\n",
       " 130      0.0     S. Ruffier            GK,\n",
       " <matplotlib.axes._subplots.AxesSubplot at 0x1b5d7a8710>)"
      ]
     },
     "execution_count": 113,
     "metadata": {},
     "output_type": "execute_result"
    },
    {
     "data": {
      "image/png": "[encoded data removed]",
      "text/plain": [
       "<Figure size 432x288 with 1 Axes>"
      ]
     },
     "metadata": {
      "needs_background": "light"
     },
     "output_type": "display_data"
    }
   ],
   "source": [
    "cluster_EDA(0, fifa_kmeans6)"
   ]
  },
  {
   "cell_type": "code",
   "execution_count": 114,
   "metadata": {},
   "outputs": [
    {
     "data": {
      "text/plain": [
       "(    cluster           short_name team_position\n",
       " 8       1.0            L. Modric           RCM\n",
       " 15      1.0             N. Kante           RCM\n",
       " 18      1.0         Sergio Ramos           LCB\n",
       " 21      1.0      Sergio Busquets           CDM\n",
       " 24      1.0             P. Pogba           LDM\n",
       " 36      1.0             T. Kroos           LCM\n",
       " 42      1.0             Casemiro           CDM\n",
       " 44      1.0          Fernandinho           CDM\n",
       " 47      1.0        J. Vertonghen           LCB\n",
       " 49      1.0           M. Hummels           LCB\n",
       " 51      1.0           Jordi Alba            LB\n",
       " 52      1.0               Thiago           CDM\n",
       " 58      1.0          M. Verratti           RCM\n",
       " 61      1.0           J. Kimmich            RB\n",
       " 64      1.0           I. Rakitic           RCM\n",
       " 65      1.0            M. Pjanic           CDM\n",
       " 69      1.0               Parejo           RCM\n",
       " 75      1.0           F. de Jong           LCM\n",
       " 78      1.0  S. Milinkovic-Savic           RDM\n",
       " 79      1.0                Rodri           LDM,\n",
       " <matplotlib.axes._subplots.AxesSubplot at 0x119994050>)"
      ]
     },
     "execution_count": 114,
     "metadata": {},
     "output_type": "execute_result"
    },
    {
     "data": {
      "image/png": "[encoded data removed]",
      "text/plain": [
       "<Figure size 432x288 with 1 Axes>"
      ]
     },
     "metadata": {
      "needs_background": "light"
     },
     "output_type": "display_data"
    }
   ],
   "source": [
    "cluster_EDA(1, fifa_kmeans6)"
   ]
  },
  {
   "cell_type": "code",
   "execution_count": 115,
   "metadata": {},
   "outputs": [
    {
     "data": {
      "text/plain": [
       "(      cluster       short_name team_position\n",
       " 249       2.0    Nelson Semedo            RB\n",
       " 428       2.0  Hector Bellerin            LB\n",
       " 437       2.0        Odriozola            LB\n",
       " 571       2.0   A. Wan-Bissaka            RB\n",
       " 637       2.0       R. Aguilar            RB\n",
       " 658       2.0         S. Arias           LWB\n",
       " 822       2.0       R. Saravia           LWB\n",
       " 972       2.0         F. Fabra            LB\n",
       " 978       2.0   Marcelo Goiano            RB\n",
       " 1023      2.0        J. Maehle            RB\n",
       " 1031      2.0         K. Mbabu            LB\n",
       " 1235      2.0            Nacho            LB\n",
       " 1261      2.0       K. Tierney            LB\n",
       " 1264      2.0         T. Adams           LDM\n",
       " 1286      2.0         M. Celik            RB\n",
       " 1318      2.0      F. Guilbert            LB\n",
       " 1324      2.0     T. Hernandez            LB\n",
       " 1370      2.0        D. Yedlin           RWB\n",
       " 1411      2.0   Alberto Moreno            LB\n",
       " 1567      2.0         J. Boril            LB,\n",
       " <matplotlib.axes._subplots.AxesSubplot at 0x1b5e785a50>)"
      ]
     },
     "execution_count": 115,
     "metadata": {},
     "output_type": "execute_result"
    },
    {
     "data": {
      "image/png": "[encoded data removed]",
      "text/plain": [
       "<Figure size 432x288 with 1 Axes>"
      ]
     },
     "metadata": {
      "needs_background": "light"
     },
     "output_type": "display_data"
    }
   ],
   "source": [
    "cluster_EDA(2, fifa_kmeans6)"
   ]
  },
  {
   "cell_type": "code",
   "execution_count": 116,
   "metadata": {},
   "outputs": [
    {
     "data": {
      "text/plain": [
       "(     cluster         short_name team_position\n",
       " 1        3.0  Cristiano Ronaldo            LW\n",
       " 10       3.0          K. Mbappe            RW\n",
       " 12       3.0            H. Kane            ST\n",
       " 17       3.0          S. Aguero            ST\n",
       " 19       3.0          L. Suarez            ST\n",
       " 20       3.0     R. Lewandowski            ST\n",
       " 34       3.0          E. Cavani            ST\n",
       " 38       3.0      P. Aubameyang            LM\n",
       " 46       3.0         K. Benzema            CF\n",
       " 63       3.0    Roberto Firmino            CF\n",
       " 71       3.0        C. Immobile            ST\n",
       " 72       3.0       A. Lacazette            ST\n",
       " 89       3.0          R. Lukaku            LS\n",
       " 93       3.0          M. Icardi            LS\n",
       " 96       3.0     Z. Ibrahimovic            ST\n",
       " 98       3.0         G. Higuain            LS\n",
       " 100      3.0            G. Bale            LS\n",
       " 104      3.0         Iago Aspas            RS\n",
       " 116      3.0           M. Depay            LW\n",
       " 138      3.0           E. Dzeko            ST,\n",
       " <matplotlib.axes._subplots.AxesSubplot at 0x1b5e8fbed0>)"
      ]
     },
     "execution_count": 116,
     "metadata": {},
     "output_type": "execute_result"
    },
    {
     "data": {
      "image/png": "[encoded data removed]",
      "text/plain": [
       "<Figure size 432x288 with 1 Axes>"
      ]
     },
     "metadata": {
      "needs_background": "light"
     },
     "output_type": "display_data"
    }
   ],
   "source": [
    "cluster_EDA(3, fifa_kmeans6)"
   ]
  },
  {
   "cell_type": "code",
   "execution_count": 117,
   "metadata": {},
   "outputs": [
    {
     "data": {
      "text/plain": [
       "(     cluster       short_name team_position\n",
       " 7        4.0      V. van Dijk           LCB\n",
       " 11       4.0     K. Koulibaly           LCB\n",
       " 16       4.0     G. Chiellini           LCB\n",
       " 29       4.0            Pique           RCB\n",
       " 35       4.0         D. Godin           RCB\n",
       " 40       4.0       A. Laporte           LCB\n",
       " 45       4.0     Thiago Silva           LCB\n",
       " 50       4.0  T. Alderweireld           RCB\n",
       " 56       4.0       Marquinhos           RCB\n",
       " 57       4.0      M. Skriniar           LCB\n",
       " 59       4.0        S. Umtiti           LCB\n",
       " 67       4.0       L. Bonucci           RCB\n",
       " 73       4.0       M. de Ligt           LCB\n",
       " 76       4.0        R. Varane           RCB\n",
       " 77       4.0          N. Sule           RCB\n",
       " 83       4.0       J. Gimenez           RCB\n",
       " 84       4.0       C. Lenglet           LCB\n",
       " 90       4.0       K. Manolas           RCB\n",
       " 114      4.0     L. Hernandez           LCB\n",
       " 126      4.0       S. de Vrij            CB,\n",
       " <matplotlib.axes._subplots.AxesSubplot at 0x1b5ea28d10>)"
      ]
     },
     "execution_count": 117,
     "metadata": {},
     "output_type": "execute_result"
    },
    {
     "data": {
      "image/png": "[encoded data removed]",
      "text/plain": [
       "<Figure size 432x288 with 1 Axes>"
      ]
     },
     "metadata": {
      "needs_background": "light"
     },
     "output_type": "display_data"
    }
   ],
   "source": [
    "cluster_EDA(4, fifa_kmeans6)"
   ]
  },
  {
   "cell_type": "code",
   "execution_count": 118,
   "metadata": {},
   "outputs": [
    {
     "data": {
      "text/plain": [
       "(    cluster      short_name team_position\n",
       " 0       5.0        L. Messi            RW\n",
       " 2       5.0       Neymar Jr           CAM\n",
       " 4       5.0       E. Hazard            LW\n",
       " 5       5.0    K. De Bruyne           RCM\n",
       " 9       5.0        M. Salah            RW\n",
       " 22      5.0    A. Griezmann            LW\n",
       " 23      5.0       P. Dybala            RW\n",
       " 26      5.0     R. Sterling            LW\n",
       " 27      5.0      C. Eriksen            RM\n",
       " 33      5.0     David Silva           LCM\n",
       " 37      5.0         M. Reus           CAM\n",
       " 39      5.0         S. Mane            LW\n",
       " 41      5.0  Bernardo Silva            RW\n",
       " 43      5.0          H. Son            LM\n",
       " 48      5.0      D. Mertens            LW\n",
       " 54      5.0      L. Insigne            LS\n",
       " 55      5.0         L. Sane            LF\n",
       " 62      5.0            Isco           LAM\n",
       " 66      5.0     A. Di Maria            LW\n",
       " 68      5.0        Coutinho           LCM,\n",
       " <matplotlib.axes._subplots.AxesSubplot at 0x11607db90>)"
      ]
     },
     "execution_count": 118,
     "metadata": {},
     "output_type": "execute_result"
    },
    {
     "data": {
      "image/png": "[encoded data removed]",
      "text/plain": [
       "<Figure size 432x288 with 1 Axes>"
      ]
     },
     "metadata": {
      "needs_background": "light"
     },
     "output_type": "display_data"
    }
   ],
   "source": [
    "cluster_EDA(5, fifa_kmeans6)"
   ]
  },
  {
   "cell_type": "markdown",
   "metadata": {},
   "source": [
    "At a clustering of 6, I can start to observe the splitting in quality of the players.\n",
    "\n",
    "- Now, I can tell the 'purer' strikers/forwards from the offensive midfielders: clusters 3 and 5 reflect this (identified by the blocked lines with circle markers).\n",
    "    - Cluster 3 consists of 'purer' strikers and forwards (also evidenced by the boxplot EDA); it has higher scores for both the LS/ST/RS positions as well as LF/CF/RF positions, as compared to cluster 5.\n",
    "    - Cluster 5 consists of a mixture of both attacking midfielders as well as a smaller subset of strikers/forwards.\n",
    "- Likewise, there is also a splitting in quality of defenders illustrated by clusters 2 and 4 (identified by dashed lines with triangle markers)\n",
    "    - Cluster 4 contains more high quality (central) defenders as evidenced by the much higher scores (than cluster 2) in all the defensive positions.\n",
    "    - Cluster 2 contains lower quality defenders in general, but it also has a much higher proportion of wingbacks (LB/RB/LWB)\n",
    "- Cluster 1 is generally a mixture of central-to-defensive positional players, as evidenced from the barplots and the generally-increasing scores from `lcm` onwards.\n",
    "\n",
    "6 clusters does a better job than 4 clusters in distinguishing between the positions (and quality of players) for the offensive areas and defensive areas. However, cluster 1 still seems to be quite 'noisy', as there is still a sizeable portion of defenders (LCB and LB) in them.\n",
    "\n",
    "I will next evaluate whether 8 clusters can improve on the player segregation."
   ]
  },
  {
   "cell_type": "code",
   "execution_count": 143,
   "metadata": {},
   "outputs": [
    {
     "data": {
      "text/plain": [
       "<matplotlib.legend.Legend at 0x1cb3da9b10>"
      ]
     },
     "execution_count": 143,
     "metadata": {},
     "output_type": "execute_result"
    },
    {
     "data": {
      "image/png": "[encoded data removed]",
      "text/plain": [
       "<Figure size 1080x576 with 1 Axes>"
      ]
     },
     "metadata": {
      "needs_background": "light"
     },
     "output_type": "display_data"
    }
   ],
   "source": [
    "plt.figure(figsize=(15, 8))\n",
    "plt.ylim(top=1, bottom=-1)\n",
    "\n",
    "plt.plot('x', 'cluster0', data=df_km8, marker='', color = 'black', linewidth=6)\n",
    "#plt.plot('x', 'cluster1', data=df_km8, marker='', color='olive', linewidth=2)\n",
    "# leaving out goalkeeper cluster once again\n",
    "plt.plot('x', 'cluster2', data=df_km8, marker='o', markersize=8, color = 'blue', linewidth=2, linestyle='-')\n",
    "plt.plot('x', 'cluster3', data=df_km8, marker='v', color = 'red', linewidth=2, linestyle='dashed')\n",
    "plt.plot('x', 'cluster4', data=df_km8, marker='v', color = 'orange', linewidth=2, linestyle='dashed')\n",
    "plt.plot('x', 'cluster5', data=df_km8, marker='v', color = 'yellow', linewidth=2, linestyle='dashed')\n",
    "plt.plot('x', 'cluster6', data=df_km8, marker='o', markersize=8, color = 'purple', linewidth=2, linestyle='-')\n",
    "plt.plot('x', 'cluster7', data=df_km8, marker='o', markersize=8, color = 'magenta', linewidth=2, linestyle='-')\n",
    "plt.legend()"
   ]
  },
  {
   "cell_type": "code",
   "execution_count": 120,
   "metadata": {},
   "outputs": [
    {
     "data": {
      "text/plain": [
       "(     cluster           short_name team_position\n",
       " 8        0.0            L. Modric           RCM\n",
       " 15       0.0             N. Kante           RCM\n",
       " 24       0.0             P. Pogba           LDM\n",
       " 36       0.0             T. Kroos           LCM\n",
       " 44       0.0          Fernandinho           CDM\n",
       " 51       0.0           Jordi Alba            LB\n",
       " 52       0.0               Thiago           CDM\n",
       " 58       0.0          M. Verratti           RCM\n",
       " 61       0.0           J. Kimmich            RB\n",
       " 64       0.0           I. Rakitic           RCM\n",
       " 65       0.0            M. Pjanic           CDM\n",
       " 69       0.0               Parejo           RCM\n",
       " 75       0.0           F. de Jong           LCM\n",
       " 78       0.0  S. Milinkovic-Savic           RDM\n",
       " 79       0.0                Rodri           LDM\n",
       " 80       0.0                 Saul           LCM\n",
       " 82       0.0         A. Robertson            LB\n",
       " 92       0.0             D. Alaba            LB\n",
       " 99       0.0           B. Matuidi            LB\n",
       " 101      0.0              Marcelo            LB,\n",
       " <matplotlib.axes._subplots.AxesSubplot at 0x11587acd0>)"
      ]
     },
     "execution_count": 120,
     "metadata": {},
     "output_type": "execute_result"
    },
    {
     "data": {
      "image/png": "[encoded data removed]",
      "text/plain": [
       "<Figure size 432x288 with 1 Axes>"
      ]
     },
     "metadata": {
      "needs_background": "light"
     },
     "output_type": "display_data"
    }
   ],
   "source": [
    "cluster_EDA(0, fifa_kmeans8)"
   ]
  },
  {
   "cell_type": "code",
   "execution_count": 121,
   "metadata": {},
   "outputs": [
    {
     "data": {
      "text/plain": [
       "(     cluster     short_name team_position\n",
       " 3        1.0       J. Oblak            GK\n",
       " 6        1.0  M. ter Stegen            GK\n",
       " 13       1.0        Alisson            GK\n",
       " 14       1.0         De Gea            GK\n",
       " 25       1.0        Ederson            GK\n",
       " 28       1.0    T. Courtois            GK\n",
       " 30       1.0  S. Handanovic            GK\n",
       " 31       1.0       M. Neuer            GK\n",
       " 32       1.0      H. Lloris            GK\n",
       " 53       1.0       K. Navas            GK\n",
       " 60       1.0    W. Szczesny            GK\n",
       " 74       1.0  G. Donnarumma            GK\n",
       " 86       1.0       A. Lopes            GK\n",
       " 87       1.0     P. Gulacsi            GK\n",
       " 88       1.0       R. Burki            GK\n",
       " 91       1.0           Neto            GK\n",
       " 111      1.0           Kepa            GK\n",
       " 122      1.0        B. Leno            GK\n",
       " 125      1.0    J. Pavlenka            GK\n",
       " 130      1.0     S. Ruffier            GK,\n",
       " <matplotlib.axes._subplots.AxesSubplot at 0x1b5ed9e550>)"
      ]
     },
     "execution_count": 121,
     "metadata": {},
     "output_type": "execute_result"
    },
    {
     "data": {
      "image/png": "[encoded data removed]",
      "text/plain": [
       "<Figure size 432x288 with 1 Axes>"
      ]
     },
     "metadata": {
      "needs_background": "light"
     },
     "output_type": "display_data"
    }
   ],
   "source": [
    "cluster_EDA(1, fifa_kmeans8)"
   ]
  },
  {
   "cell_type": "code",
   "execution_count": 122,
   "metadata": {},
   "outputs": [
    {
     "data": {
      "text/plain": [
       "(      cluster         short_name team_position\n",
       " 1570      2.0          R. Ibarra            RM\n",
       " 1879      2.0        L. Masopust            RM\n",
       " 2030      2.0      J. Fuenzalida            RW\n",
       " 2312      2.0          A. Bouzat            RW\n",
       " 2817      2.0         P. Arriola            RM\n",
       " 2835      2.0        A. Limbombe            LW\n",
       " 2886      2.0  B. Decordova-Reid            LW\n",
       " 3097      2.0    Daniel Candeias            RM\n",
       " 3159      2.0          J. Cuevas            RW\n",
       " 3184      2.0    Nildo Petrolina            LM\n",
       " 3237      2.0       G. Haraguchi            LW\n",
       " 3289      2.0          A. Davies            LW\n",
       " 3392      2.0       D. Lamkel Ze            LM\n",
       " 3443      2.0           J. Jones            LW\n",
       " 3559      2.0         A. Tashaev            LM\n",
       " 3575      2.0        L. Blessing           RCM\n",
       " 3613      2.0           K. Narey           LWB\n",
       " 3749      2.0       Suso Santana            RW\n",
       " 3892      2.0          B. Kadrii            LS\n",
       " 4096      2.0            L. Vera           LCM,\n",
       " <matplotlib.axes._subplots.AxesSubplot at 0x1b5f1debd0>)"
      ]
     },
     "execution_count": 122,
     "metadata": {},
     "output_type": "execute_result"
    },
    {
     "data": {
      "image/png": "[encoded data removed]",
      "text/plain": [
       "<Figure size 432x288 with 1 Axes>"
      ]
     },
     "metadata": {
      "needs_background": "light"
     },
     "output_type": "display_data"
    }
   ],
   "source": [
    "cluster_EDA(2, fifa_kmeans8)"
   ]
  },
  {
   "cell_type": "code",
   "execution_count": 123,
   "metadata": {},
   "outputs": [
    {
     "data": {
      "text/plain": [
       "(      cluster       short_name team_position\n",
       " 249       3.0    Nelson Semedo            RB\n",
       " 266       3.0    N. Tagliafico            LB\n",
       " 428       3.0  Hector Bellerin            LB\n",
       " 437       3.0        Odriozola            LB\n",
       " 571       3.0   A. Wan-Bissaka            RB\n",
       " 599       3.0      B. Chilwell            LB\n",
       " 618       3.0            Jonny           LWB\n",
       " 637       3.0       R. Aguilar            RB\n",
       " 641       3.0      D. da Costa            RM\n",
       " 658       3.0         S. Arias           LWB\n",
       " 729       3.0        Mario Rui           LWB\n",
       " 744       3.0  Maikel Catarino            RB\n",
       " 822       3.0       R. Saravia           LWB\n",
       " 970       3.0         H. Sakai            RB\n",
       " 972       3.0         F. Fabra            LB\n",
       " 978       3.0   Marcelo Goiano            RB\n",
       " 994       3.0      D. Calabria            RB\n",
       " 1023      3.0        J. Maehle            RB\n",
       " 1031      3.0         K. Mbabu            LB\n",
       " 1103      3.0        S. Lainer            RB,\n",
       " <matplotlib.axes._subplots.AxesSubplot at 0x1b5f124b90>)"
      ]
     },
     "execution_count": 123,
     "metadata": {},
     "output_type": "execute_result"
    },
    {
     "data": {
      "image/png": "[encoded data removed]",
      "text/plain": [
       "<Figure size 432x288 with 1 Axes>"
      ]
     },
     "metadata": {
      "needs_background": "light"
     },
     "output_type": "display_data"
    }
   ],
   "source": [
    "cluster_EDA(3, fifa_kmeans8)"
   ]
  },
  {
   "cell_type": "code",
   "execution_count": 124,
   "metadata": {},
   "outputs": [
    {
     "data": {
      "text/plain": [
       "(    cluster       short_name team_position\n",
       " 7       4.0      V. van Dijk           LCB\n",
       " 11      4.0     K. Koulibaly           LCB\n",
       " 16      4.0     G. Chiellini           LCB\n",
       " 18      4.0     Sergio Ramos           LCB\n",
       " 21      4.0  Sergio Busquets           CDM\n",
       " 29      4.0            Pique           RCB\n",
       " 35      4.0         D. Godin           RCB\n",
       " 40      4.0       A. Laporte           LCB\n",
       " 42      4.0         Casemiro           CDM\n",
       " 45      4.0     Thiago Silva           LCB\n",
       " 47      4.0    J. Vertonghen           LCB\n",
       " 49      4.0       M. Hummels           LCB\n",
       " 50      4.0  T. Alderweireld           RCB\n",
       " 56      4.0       Marquinhos           RCB\n",
       " 57      4.0      M. Skriniar           LCB\n",
       " 59      4.0        S. Umtiti           LCB\n",
       " 67      4.0       L. Bonucci           RCB\n",
       " 73      4.0       M. de Ligt           LCB\n",
       " 76      4.0        R. Varane           RCB\n",
       " 77      4.0          N. Sule           RCB,\n",
       " <matplotlib.axes._subplots.AxesSubplot at 0x1ca0094c10>)"
      ]
     },
     "execution_count": 124,
     "metadata": {},
     "output_type": "execute_result"
    },
    {
     "data": {
      "image/png": "[encoded data removed]",
      "text/plain": [
       "<Figure size 432x288 with 1 Axes>"
      ]
     },
     "metadata": {
      "needs_background": "light"
     },
     "output_type": "display_data"
    }
   ],
   "source": [
    "cluster_EDA(4, fifa_kmeans8)"
   ]
  },
  {
   "cell_type": "code",
   "execution_count": 125,
   "metadata": {},
   "outputs": [
    {
     "data": {
      "text/plain": [
       "(      cluster      short_name team_position\n",
       " 90        5.0      K. Manolas           RCB\n",
       " 419       5.0      M. Caldara           LCB\n",
       " 573       5.0       I. Konate            CB\n",
       " 594       5.0  L. Klostermann           RWB\n",
       " 738       5.0       L. Sigali           LCB\n",
       " 800       5.0    J. Lascelles            CB\n",
       " 857       5.0   N. Maksimovic           LCB\n",
       " 859       5.0          Bastos           LCB\n",
       " 961       5.0          Alvaro           LCB\n",
       " 992       5.0    D. Upamecano           LCB\n",
       " 1033      5.0     J. Bednarek           RCB\n",
       " 1067      5.0      C. Salcedo           LCB\n",
       " 1080      5.0      B. Mechele           RCB\n",
       " 1092      5.0         S. Aziz           LCB\n",
       " 1220      5.0      L. Tonelli           LCB\n",
       " 1269      5.0       J. Kounde           LCB\n",
       " 1313      5.0      Unai Nunez           LCB\n",
       " 1383      5.0    Pablo Santos           LCB\n",
       " 1550      5.0       D. Boyata           LCB\n",
       " 1560      5.0      Juan Jesus           LCB,\n",
       " <matplotlib.axes._subplots.AxesSubplot at 0x1ca00e9650>)"
      ]
     },
     "execution_count": 125,
     "metadata": {},
     "output_type": "execute_result"
    },
    {
     "data": {
      "image/png": "[encoded data removed]",
      "text/plain": [
       "<Figure size 432x288 with 1 Axes>"
      ]
     },
     "metadata": {
      "needs_background": "light"
     },
     "output_type": "display_data"
    }
   ],
   "source": [
    "cluster_EDA(5, fifa_kmeans8)"
   ]
  },
  {
   "cell_type": "code",
   "execution_count": 126,
   "metadata": {},
   "outputs": [
    {
     "data": {
      "text/plain": [
       "(     cluster      short_name team_position\n",
       " 12       6.0         H. Kane            ST\n",
       " 20       6.0  R. Lewandowski            ST\n",
       " 34       6.0       E. Cavani            ST\n",
       " 71       6.0     C. Immobile            ST\n",
       " 89       6.0       R. Lukaku            LS\n",
       " 93       6.0       M. Icardi            LS\n",
       " 96       6.0  Z. Ibrahimovic            ST\n",
       " 98       6.0      G. Higuain            LS\n",
       " 138      6.0        E. Dzeko            ST\n",
       " 141      6.0    M. Mandzukic            ST\n",
       " 161      6.0        L. Jovic            LS\n",
       " 162      6.0        A. Milik            RS\n",
       " 183      6.0  Borja Iglesias            ST\n",
       " 187      6.0          Morata            LS\n",
       " 188      6.0       S. Haller            ST\n",
       " 207      6.0          Falcao            LS\n",
       " 214      6.0     Diego Costa            LS\n",
       " 234      6.0   Louri Beretta            ST\n",
       " 241      6.0      A. Belotti            ST\n",
       " 254      6.0  Inaki Williams            RW,\n",
       " <matplotlib.axes._subplots.AxesSubplot at 0x1ca03dc7d0>)"
      ]
     },
     "execution_count": 126,
     "metadata": {},
     "output_type": "execute_result"
    },
    {
     "data": {
      "image/png": "[encoded data removed]",
      "text/plain": [
       "<Figure size 432x288 with 1 Axes>"
      ]
     },
     "metadata": {
      "needs_background": "light"
     },
     "output_type": "display_data"
    }
   ],
   "source": [
    "cluster_EDA(6, fifa_kmeans8)"
   ]
  },
  {
   "cell_type": "code",
   "execution_count": 127,
   "metadata": {},
   "outputs": [
    {
     "data": {
      "text/plain": [
       "(    cluster         short_name team_position\n",
       " 0       7.0           L. Messi            RW\n",
       " 1       7.0  Cristiano Ronaldo            LW\n",
       " 2       7.0          Neymar Jr           CAM\n",
       " 4       7.0          E. Hazard            LW\n",
       " 5       7.0       K. De Bruyne           RCM\n",
       " 9       7.0           M. Salah            RW\n",
       " 10      7.0          K. Mbappe            RW\n",
       " 17      7.0          S. Aguero            ST\n",
       " 19      7.0          L. Suarez            ST\n",
       " 22      7.0       A. Griezmann            LW\n",
       " 23      7.0          P. Dybala            RW\n",
       " 26      7.0        R. Sterling            LW\n",
       " 27      7.0         C. Eriksen            RM\n",
       " 33      7.0        David Silva           LCM\n",
       " 37      7.0            M. Reus           CAM\n",
       " 38      7.0      P. Aubameyang            LM\n",
       " 39      7.0            S. Mane            LW\n",
       " 41      7.0     Bernardo Silva            RW\n",
       " 43      7.0             H. Son            LM\n",
       " 46      7.0         K. Benzema            CF,\n",
       " <matplotlib.axes._subplots.AxesSubplot at 0x1ca0258d90>)"
      ]
     },
     "execution_count": 127,
     "metadata": {},
     "output_type": "execute_result"
    },
    {
     "data": {
      "image/png": "[encoded data removed]",
      "text/plain": [
       "<Figure size 432x288 with 1 Axes>"
      ]
     },
     "metadata": {
      "needs_background": "light"
     },
     "output_type": "display_data"
    }
   ],
   "source": [
    "cluster_EDA(7, fifa_kmeans8)"
   ]
  },
  {
   "cell_type": "markdown",
   "metadata": {},
   "source": [
    "A clustering of 8 is mostly fine - cluster 6 still represents the 'pure' strikers, and now the midfield position has also been segregated into high quality attacking midfielders/forwards and low quality ones, represented by cluster 7 for the former and cluster 2 for the latter.\n",
    "\n",
    "Cluster 0 is generally composed of central midfielders that perform well in central/defensive midfielder positions, as well as decently in central defense. It is still largely similar to Cluster 1 in fifa_kmeans6 (6 clusters), with a marginal drop in defenders (LCB and LB) - from an initial combined 20% in terms of positional distribution in fifa_kmeans6 to around 15% in fifa_kmeans8. Perhaps, what can be said about the prevalence of defenders in a cluster largely filled with central midfielders is that, these defenders are more accomplished in their technique and positioning such that they can step up into midfield when necessary. Indeed, this is the case for some of the player names returned in the boxplot-EDA function: players such as Jordi Alba, A. Robertson (LBs) [play so high up the field](https://www.liverpool.com/liverpool-fc-news/magic-behind-liverpool-defensive-duo-16536467) for their team that they almost function as wingers already. Other technically-sound players such as [B. Matuidi (LB)](https://www.independent.co.uk/sport/football/world-cup/world-cup-2018-france-vs-argentina-blaise-matuidi-kylian-mbappe-lionel-messi-a8426281.html) and [J. Kimmich (RB)](https://statsbomb.com/2019/09/joshua-kimmich-is-the-key-to-bayerns-revitalized-midfield/) have also been known to play in midfield.\n",
    "\n",
    "Likewise, the same logic applies to the midfielders in cluster 0. The modern day central/defensive midfielder is required to drop back into defense regularly as part of the team's formation and strategy; sometimes, during injury crisis, that central/defensive midfielder may even be asked to play as an emergency defender. These players also have to contribute to attack at times, which explains why their scores in the offensive positions are also decent (above 0). One can consider these players to be the engine of the team.\n",
    "\n",
    "Lastly, in terms of the clustering of the defenders, cluster 3 is mostly wingbacks with decent all-round defensive scores. Whereas for clusters 4 and 5, they are a further splitting of the quality of the defensive players, the former consisting of lower quality ones and the latter comprising higher quality ones, as we can see from the lineplot above (cluster 4's line is mostly above cluster 5)."
   ]
  },
  {
   "cell_type": "markdown",
   "metadata": {},
   "source": [
    "Having done all the above visual explorations on each clustering choice of 4, 6, and 8, I have decided to go with **n_cluster = 8**, with **inertia = 97259** and **silhouette score = 0.27**, as I am able to make sense of the 8 clusters and I find the clustering and player segregation logical and rational."
   ]
  }
 ],
 "metadata": {
  "kernelspec": {
   "display_name": "Python 3",
   "language": "python",
   "name": "python3"
  },
  "language_info": {
   "codemirror_mode": {
    "name": "ipython",
    "version": 3
   },
   "file_extension": ".py",
   "mimetype": "text/x-python",
   "name": "python",
   "nbconvert_exporter": "python",
   "pygments_lexer": "ipython3",
   "version": "3.7.4"
  }
 },
 "nbformat": 4,
 "nbformat_minor": 2
}
