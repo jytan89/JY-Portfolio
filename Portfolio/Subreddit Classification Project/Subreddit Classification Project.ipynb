{
 "cells": [
  {
   "cell_type": "markdown",
   "metadata": {},
   "source": [
    "# Project 3"
   ]
  },
  {
   "cell_type": "markdown",
   "metadata": {},
   "source": [
    "## Data Collection and Data Cleaning\n",
    "\n",
    "- Chosen subreddits: **r/Relationship_Advice** and **r/Dating_Advice**"
   ]
  },
  {
   "cell_type": "markdown",
   "metadata": {},
   "source": [
    "#### 1) Work on r/Relationship_Advice"
   ]
  },
  {
   "cell_type": "code",
   "execution_count": 4,
   "metadata": {},
   "outputs": [],
   "source": [
    "import requests\n",
    "import numpy as np\n",
    "import pandas as pd\n",
    "import time\n",
    "import random"
   ]
  },
  {
   "cell_type": "code",
   "execution_count": 2,
   "metadata": {},
   "outputs": [],
   "source": [
    "url1 = \"https://www.reddit.com/r/relationship_advice.json\""
   ]
  },
  {
   "cell_type": "code",
   "execution_count": 3,
   "metadata": {},
   "outputs": [
    {
     "data": {
      "text/plain": [
       "200"
      ]
     },
     "execution_count": 3,
     "metadata": {},
     "output_type": "execute_result"
    }
   ],
   "source": [
    "res1 = requests.get(url1, headers={'User-agent': 'Jophren7'})\n",
    "res1.status_code"
   ]
  },
  {
   "cell_type": "code",
   "execution_count": 4,
   "metadata": {},
   "outputs": [],
   "source": [
    "RA_dict = res1.json()"
   ]
  },
  {
   "cell_type": "code",
   "execution_count": 5,
   "metadata": {},
   "outputs": [
    {
     "data": {
      "text/html": [
       "<div>\n",
       "<style scoped>\n",
       "    .dataframe tbody tr th:only-of-type {\n",
       "        vertical-align: middle;\n",
       "    }\n",
       "\n",
       "    .dataframe tbody tr th {\n",
       "        vertical-align: top;\n",
       "    }\n",
       "\n",
       "    .dataframe thead th {\n",
       "        text-align: right;\n",
       "    }\n",
       "</style>\n",
       "<table border=\"1\" class=\"dataframe\">\n",
       "  <thead>\n",
       "    <tr style=\"text-align: right;\">\n",
       "      <th></th>\n",
       "      <th>approved_at_utc</th>\n",
       "      <th>subreddit</th>\n",
       "      <th>selftext</th>\n",
       "      <th>author_fullname</th>\n",
       "      <th>saved</th>\n",
       "      <th>mod_reason_title</th>\n",
       "      <th>gilded</th>\n",
       "      <th>clicked</th>\n",
       "      <th>title</th>\n",
       "      <th>link_flair_richtext</th>\n",
       "      <th>...</th>\n",
       "      <th>author_flair_text_color</th>\n",
       "      <th>permalink</th>\n",
       "      <th>parent_whitelist_status</th>\n",
       "      <th>stickied</th>\n",
       "      <th>url</th>\n",
       "      <th>subreddit_subscribers</th>\n",
       "      <th>created_utc</th>\n",
       "      <th>num_crossposts</th>\n",
       "      <th>media</th>\n",
       "      <th>is_video</th>\n",
       "    </tr>\n",
       "  </thead>\n",
       "  <tbody>\n",
       "    <tr>\n",
       "      <td>0</td>\n",
       "      <td>None</td>\n",
       "      <td>relationship_advice</td>\n",
       "      <td>**TL;DR on Throwaways:** If you wish to reques...</td>\n",
       "      <td>t2_4det0</td>\n",
       "      <td>False</td>\n",
       "      <td>None</td>\n",
       "      <td>0</td>\n",
       "      <td>False</td>\n",
       "      <td>[meta] It's not required, but if you make a ne...</td>\n",
       "      <td>[]</td>\n",
       "      <td>...</td>\n",
       "      <td>dark</td>\n",
       "      <td>/r/relationship_advice/comments/d3okss/meta_it...</td>\n",
       "      <td>all_ads</td>\n",
       "      <td>True</td>\n",
       "      <td>https://www.reddit.com/r/relationship_advice/c...</td>\n",
       "      <td>2299817</td>\n",
       "      <td>1.568378e+09</td>\n",
       "      <td>0</td>\n",
       "      <td>None</td>\n",
       "      <td>False</td>\n",
       "    </tr>\n",
       "    <tr>\n",
       "      <td>1</td>\n",
       "      <td>None</td>\n",
       "      <td>relationship_advice</td>\n",
       "      <td>Since two or three times a week we end up remo...</td>\n",
       "      <td>t2_4det0</td>\n",
       "      <td>False</td>\n",
       "      <td>None</td>\n",
       "      <td>1</td>\n",
       "      <td>False</td>\n",
       "      <td>[meta] Think of the comments as an inverted Ub...</td>\n",
       "      <td>[]</td>\n",
       "      <td>...</td>\n",
       "      <td>dark</td>\n",
       "      <td>/r/relationship_advice/comments/b2nc2f/meta_th...</td>\n",
       "      <td>all_ads</td>\n",
       "      <td>True</td>\n",
       "      <td>https://www.reddit.com/r/relationship_advice/c...</td>\n",
       "      <td>2299817</td>\n",
       "      <td>1.552939e+09</td>\n",
       "      <td>0</td>\n",
       "      <td>None</td>\n",
       "      <td>False</td>\n",
       "    </tr>\n",
       "    <tr>\n",
       "      <td>2</td>\n",
       "      <td>None</td>\n",
       "      <td>relationship_advice</td>\n",
       "      <td>I had a daughter a little over a year ago. I w...</td>\n",
       "      <td>t2_56mnmozr</td>\n",
       "      <td>False</td>\n",
       "      <td>None</td>\n",
       "      <td>0</td>\n",
       "      <td>False</td>\n",
       "      <td>My daughter [1f] got injured in my [32f] care....</td>\n",
       "      <td>[]</td>\n",
       "      <td>...</td>\n",
       "      <td>None</td>\n",
       "      <td>/r/relationship_advice/comments/e7x2md/my_daug...</td>\n",
       "      <td>all_ads</td>\n",
       "      <td>False</td>\n",
       "      <td>https://www.reddit.com/r/relationship_advice/c...</td>\n",
       "      <td>2299817</td>\n",
       "      <td>1.575829e+09</td>\n",
       "      <td>1</td>\n",
       "      <td>None</td>\n",
       "      <td>False</td>\n",
       "    </tr>\n",
       "    <tr>\n",
       "      <td>3</td>\n",
       "      <td>None</td>\n",
       "      <td>relationship_advice</td>\n",
       "      <td>Title is purposefully a little vague so I can ...</td>\n",
       "      <td>t2_56r19f3n</td>\n",
       "      <td>False</td>\n",
       "      <td>None</td>\n",
       "      <td>0</td>\n",
       "      <td>False</td>\n",
       "      <td>My (25f) mom (45f) is part of a church group t...</td>\n",
       "      <td>[]</td>\n",
       "      <td>...</td>\n",
       "      <td>None</td>\n",
       "      <td>/r/relationship_advice/comments/e8523l/my_25f_...</td>\n",
       "      <td>all_ads</td>\n",
       "      <td>False</td>\n",
       "      <td>https://www.reddit.com/r/relationship_advice/c...</td>\n",
       "      <td>2299817</td>\n",
       "      <td>1.575866e+09</td>\n",
       "      <td>0</td>\n",
       "      <td>None</td>\n",
       "      <td>False</td>\n",
       "    </tr>\n",
       "    <tr>\n",
       "      <td>4</td>\n",
       "      <td>None</td>\n",
       "      <td>relationship_advice</td>\n",
       "      <td>[Previous Post](https://www.reddit.com/r/relat...</td>\n",
       "      <td>t2_55gnslu1</td>\n",
       "      <td>False</td>\n",
       "      <td>None</td>\n",
       "      <td>0</td>\n",
       "      <td>False</td>\n",
       "      <td>(Update) My (24M) roommate (24F) won't stop we...</td>\n",
       "      <td>[]</td>\n",
       "      <td>...</td>\n",
       "      <td>None</td>\n",
       "      <td>/r/relationship_advice/comments/e816o1/update_...</td>\n",
       "      <td>all_ads</td>\n",
       "      <td>False</td>\n",
       "      <td>https://www.reddit.com/r/relationship_advice/c...</td>\n",
       "      <td>2299817</td>\n",
       "      <td>1.575847e+09</td>\n",
       "      <td>0</td>\n",
       "      <td>None</td>\n",
       "      <td>False</td>\n",
       "    </tr>\n",
       "  </tbody>\n",
       "</table>\n",
       "<p>5 rows × 100 columns</p>\n",
       "</div>"
      ],
      "text/plain": [
       "  approved_at_utc            subreddit  \\\n",
       "0            None  relationship_advice   \n",
       "1            None  relationship_advice   \n",
       "2            None  relationship_advice   \n",
       "3            None  relationship_advice   \n",
       "4            None  relationship_advice   \n",
       "\n",
       "                                            selftext author_fullname  saved  \\\n",
       "0  **TL;DR on Throwaways:** If you wish to reques...        t2_4det0  False   \n",
       "1  Since two or three times a week we end up remo...        t2_4det0  False   \n",
       "2  I had a daughter a little over a year ago. I w...     t2_56mnmozr  False   \n",
       "3  Title is purposefully a little vague so I can ...     t2_56r19f3n  False   \n",
       "4  [Previous Post](https://www.reddit.com/r/relat...     t2_55gnslu1  False   \n",
       "\n",
       "  mod_reason_title  gilded  clicked  \\\n",
       "0             None       0    False   \n",
       "1             None       1    False   \n",
       "2             None       0    False   \n",
       "3             None       0    False   \n",
       "4             None       0    False   \n",
       "\n",
       "                                               title link_flair_richtext  ...  \\\n",
       "0  [meta] It's not required, but if you make a ne...                  []  ...   \n",
       "1  [meta] Think of the comments as an inverted Ub...                  []  ...   \n",
       "2  My daughter [1f] got injured in my [32f] care....                  []  ...   \n",
       "3  My (25f) mom (45f) is part of a church group t...                  []  ...   \n",
       "4  (Update) My (24M) roommate (24F) won't stop we...                  []  ...   \n",
       "\n",
       "  author_flair_text_color                                          permalink  \\\n",
       "0                    dark  /r/relationship_advice/comments/d3okss/meta_it...   \n",
       "1                    dark  /r/relationship_advice/comments/b2nc2f/meta_th...   \n",
       "2                    None  /r/relationship_advice/comments/e7x2md/my_daug...   \n",
       "3                    None  /r/relationship_advice/comments/e8523l/my_25f_...   \n",
       "4                    None  /r/relationship_advice/comments/e816o1/update_...   \n",
       "\n",
       "   parent_whitelist_status stickied  \\\n",
       "0                  all_ads     True   \n",
       "1                  all_ads     True   \n",
       "2                  all_ads    False   \n",
       "3                  all_ads    False   \n",
       "4                  all_ads    False   \n",
       "\n",
       "                                                 url  subreddit_subscribers  \\\n",
       "0  https://www.reddit.com/r/relationship_advice/c...                2299817   \n",
       "1  https://www.reddit.com/r/relationship_advice/c...                2299817   \n",
       "2  https://www.reddit.com/r/relationship_advice/c...                2299817   \n",
       "3  https://www.reddit.com/r/relationship_advice/c...                2299817   \n",
       "4  https://www.reddit.com/r/relationship_advice/c...                2299817   \n",
       "\n",
       "    created_utc  num_crossposts media is_video  \n",
       "0  1.568378e+09               0  None    False  \n",
       "1  1.552939e+09               0  None    False  \n",
       "2  1.575829e+09               1  None    False  \n",
       "3  1.575866e+09               0  None    False  \n",
       "4  1.575847e+09               0  None    False  \n",
       "\n",
       "[5 rows x 100 columns]"
      ]
     },
     "execution_count": 5,
     "metadata": {},
     "output_type": "execute_result"
    }
   ],
   "source": [
    "RA_posts = [p['data'] for p in RA_dict['data']['children']]\n",
    "RA_df = pd.DataFrame(RA_posts)\n",
    "RA_df.head()"
   ]
  },
  {
   "cell_type": "code",
   "execution_count": 6,
   "metadata": {
    "scrolled": true
   },
   "outputs": [
    {
     "data": {
      "text/plain": [
       "dict_keys(['modhash', 'dist', 'children', 'after', 'before'])"
      ]
     },
     "execution_count": 6,
     "metadata": {},
     "output_type": "execute_result"
    }
   ],
   "source": [
    "RA_dict['data'].keys()"
   ]
  },
  {
   "cell_type": "code",
   "execution_count": 7,
   "metadata": {},
   "outputs": [
    {
     "data": {
      "text/plain": [
       "{'kind': 't3',\n",
       " 'data': {'approved_at_utc': None,\n",
       "  'subreddit': 'relationship_advice',\n",
       "  'selftext': '**TL;DR on Throwaways:** If you wish to request relationship advice, please start your new username with `ThrowRA` -- it relaxes the content checks a bit on your post.\\n\\n**TL;DR on Updates:** If you post updates: try to limit it to just one _unless_ you\\'re asking for follow-up advice, and don\\'t ever feel obligated to update everyone here.\\n\\n---\\n\\n**For regulars:** We took a LOT of good feedback on the two new rules (the Updates rule and the Throwaways rule). We\\'re hoping this is a pretty good compromise between the concerns everyone raised versus the need to defuse some of the more prolific trolling:\\n\\n 1. **Throwaways:** We relaxed the rule such that we\\'re _not automatically removing every post from a new account._ In other words, every account can post to /r/relationship_advice.\\n* One bit of feedback we got is that a ton of people who post here are posting from new accounts because they\\'ve been led here from other platforms, e.g. facebook, twitter, tumblr, etc., for help. Knowing this, we changed how we\\'re handling the rule. \\n* That said, while we\\'re applying content checks to posts more rigorously when they don\\'t begin with `ThrowRA`, it\\'s never an automatic removal.\\n* _yes, we stopped checking for the hyphen (It used to be `ThrowRA-`; now it\\'s just `ThrowRA` and not case-sensitive). Apparently it\\'s almost impossible to copy the text on mobile and include the hyphen, and tons of people were just forgetting it, so we dropped the hyphen._\\n\\n 2. **Updates:** Updates asking for specific follow-up advice are totally fine. Updates that don\\'t actually ask for advice are limited to only one.\\n* We recognize the gaping loophole this appears to leave, but honestly, it keeps the comments on-track with advice-focused conversation rather than derailed threads on unrelated topics like politics. \\n* Apparently a lot of you _really_ like updates. So we\\'re trying to strike a balance between updates and new posts.\\n* Any update that asks for specific follow-up advice (\"Hey Reddit; I did this thing from my last thread, and this happened. How do I fix this?\") are totally fine.\\n* But back to back updates (\"Hey Reddit! I did this thing today!\" day 2: \"Hey Reddit! Life\\'s pretty good now!\" day 3: \"Hey Reddit! Thanks for all your help, we\\'ll be together after all!\") -- Those can be condensed all into one post; the play-by-play isn\\'t needed.\\n* In all honesty, I personally communicated this rule _very_ poorly. I\\'m genuinely sorry about that.\\n\\nWe\\'ll revisit this during the next seven days to see how it\\'s going with an open discussion thread at that point.\\n\\n---\\n\\nThanks to [Ebbie45](https://www.reddit.com/r/relationship_advice/comments/d1w1cx/meta_cool_were_at_2mil_now_what_you_must_read_this/ezql6gf/), [UnfairAdvantage](https://www.reddit.com/r/relationship_advice/comments/d1w1cx/meta_cool_were_at_2mil_now_what_you_must_read_this/ezvbum9/), and [maddiecat5](https://www.reddit.com/r/relationship_advice/comments/d1w1cx/meta_cool_were_at_2mil_now_what_you_must_read_this/ezrl0bp/) among others for the ideas they put forward during the open comment period.',\n",
       "  'author_fullname': 't2_4det0',\n",
       "  'saved': False,\n",
       "  'mod_reason_title': None,\n",
       "  'gilded': 0,\n",
       "  'clicked': False,\n",
       "  'title': \"[meta] It's not required, but if you make a new account _just_ to post to Relationship Advice, please start the account with `ThrowRA` in the name of your account. [yes this relaxes the rule a bit. An update on the Updates Rule is in here as well]\",\n",
       "  'link_flair_richtext': [],\n",
       "  'subreddit_name_prefixed': 'r/relationship_advice',\n",
       "  'hidden': False,\n",
       "  'pwls': 6,\n",
       "  'link_flair_css_class': None,\n",
       "  'downs': 0,\n",
       "  'hide_score': False,\n",
       "  'name': 't3_d3okss',\n",
       "  'quarantine': False,\n",
       "  'link_flair_text_color': 'dark',\n",
       "  'author_flair_background_color': None,\n",
       "  'subreddit_type': 'public',\n",
       "  'ups': 1399,\n",
       "  'total_awards_received': 0,\n",
       "  'media_embed': {},\n",
       "  'author_flair_template_id': '95023d06-57d9-11e8-af87-0e4322199064',\n",
       "  'is_original_content': False,\n",
       "  'user_reports': [],\n",
       "  'secure_media': None,\n",
       "  'is_reddit_media_domain': False,\n",
       "  'is_meta': False,\n",
       "  'category': None,\n",
       "  'secure_media_embed': {},\n",
       "  'link_flair_text': None,\n",
       "  'can_mod_post': False,\n",
       "  'score': 1399,\n",
       "  'approved_by': None,\n",
       "  'author_premium': True,\n",
       "  'thumbnail': '',\n",
       "  'edited': 1568378263.0,\n",
       "  'author_flair_css_class': None,\n",
       "  'steward_reports': [],\n",
       "  'author_flair_richtext': [],\n",
       "  'gildings': {},\n",
       "  'content_categories': None,\n",
       "  'is_self': True,\n",
       "  'mod_note': None,\n",
       "  'created': 1568406777.0,\n",
       "  'link_flair_type': 'text',\n",
       "  'wls': 6,\n",
       "  'removed_by_category': None,\n",
       "  'banned_by': None,\n",
       "  'author_flair_type': 'text',\n",
       "  'domain': 'self.relationship_advice',\n",
       "  'allow_live_comments': True,\n",
       "  'selftext_html': '&lt;!-- SC_OFF --&gt;&lt;div class=\"md\"&gt;&lt;p&gt;&lt;strong&gt;TL;DR on Throwaways:&lt;/strong&gt; If you wish to request relationship advice, please start your new username with &lt;code&gt;ThrowRA&lt;/code&gt; -- it relaxes the content checks a bit on your post.&lt;/p&gt;\\n\\n&lt;p&gt;&lt;strong&gt;TL;DR on Updates:&lt;/strong&gt; If you post updates: try to limit it to just one &lt;em&gt;unless&lt;/em&gt; you&amp;#39;re asking for follow-up advice, and don&amp;#39;t ever feel obligated to update everyone here.&lt;/p&gt;\\n\\n&lt;hr/&gt;\\n\\n&lt;p&gt;&lt;strong&gt;For regulars:&lt;/strong&gt; We took a LOT of good feedback on the two new rules (the Updates rule and the Throwaways rule). We&amp;#39;re hoping this is a pretty good compromise between the concerns everyone raised versus the need to defuse some of the more prolific trolling:&lt;/p&gt;\\n\\n&lt;ol&gt;\\n&lt;li&gt;&lt;p&gt;&lt;strong&gt;Throwaways:&lt;/strong&gt; We relaxed the rule such that we&amp;#39;re &lt;em&gt;not automatically removing every post from a new account.&lt;/em&gt; In other words, every account can post to &lt;a href=\"/r/relationship_advice\"&gt;/r/relationship_advice&lt;/a&gt;.&lt;/p&gt;\\n\\n&lt;ul&gt;\\n&lt;li&gt;One bit of feedback we got is that a ton of people who post here are posting from new accounts because they&amp;#39;ve been led here from other platforms, e.g. facebook, twitter, tumblr, etc., for help. Knowing this, we changed how we&amp;#39;re handling the rule. &lt;/li&gt;\\n&lt;li&gt;That said, while we&amp;#39;re applying content checks to posts more rigorously when they don&amp;#39;t begin with &lt;code&gt;ThrowRA&lt;/code&gt;, it&amp;#39;s never an automatic removal.&lt;/li&gt;\\n&lt;li&gt;&lt;em&gt;yes, we stopped checking for the hyphen (It used to be &lt;code&gt;ThrowRA-&lt;/code&gt;; now it&amp;#39;s just &lt;code&gt;ThrowRA&lt;/code&gt; and not case-sensitive). Apparently it&amp;#39;s almost impossible to copy the text on mobile and include the hyphen, and tons of people were just forgetting it, so we dropped the hyphen.&lt;/em&gt;&lt;/li&gt;\\n&lt;/ul&gt;&lt;/li&gt;\\n&lt;li&gt;&lt;p&gt;&lt;strong&gt;Updates:&lt;/strong&gt; Updates asking for specific follow-up advice are totally fine. Updates that don&amp;#39;t actually ask for advice are limited to only one.&lt;/p&gt;\\n\\n&lt;ul&gt;\\n&lt;li&gt;We recognize the gaping loophole this appears to leave, but honestly, it keeps the comments on-track with advice-focused conversation rather than derailed threads on unrelated topics like politics. &lt;/li&gt;\\n&lt;li&gt;Apparently a lot of you &lt;em&gt;really&lt;/em&gt; like updates. So we&amp;#39;re trying to strike a balance between updates and new posts.&lt;/li&gt;\\n&lt;li&gt;Any update that asks for specific follow-up advice (&amp;quot;Hey Reddit; I did this thing from my last thread, and this happened. How do I fix this?&amp;quot;) are totally fine.&lt;/li&gt;\\n&lt;li&gt;But back to back updates (&amp;quot;Hey Reddit! I did this thing today!&amp;quot; day 2: &amp;quot;Hey Reddit! Life&amp;#39;s pretty good now!&amp;quot; day 3: &amp;quot;Hey Reddit! Thanks for all your help, we&amp;#39;ll be together after all!&amp;quot;) -- Those can be condensed all into one post; the play-by-play isn&amp;#39;t needed.&lt;/li&gt;\\n&lt;li&gt;In all honesty, I personally communicated this rule &lt;em&gt;very&lt;/em&gt; poorly. I&amp;#39;m genuinely sorry about that.&lt;/li&gt;\\n&lt;/ul&gt;&lt;/li&gt;\\n&lt;/ol&gt;\\n\\n&lt;p&gt;We&amp;#39;ll revisit this during the next seven days to see how it&amp;#39;s going with an open discussion thread at that point.&lt;/p&gt;\\n\\n&lt;hr/&gt;\\n\\n&lt;p&gt;Thanks to &lt;a href=\"https://www.reddit.com/r/relationship_advice/comments/d1w1cx/meta_cool_were_at_2mil_now_what_you_must_read_this/ezql6gf/\"&gt;Ebbie45&lt;/a&gt;, &lt;a href=\"https://www.reddit.com/r/relationship_advice/comments/d1w1cx/meta_cool_were_at_2mil_now_what_you_must_read_this/ezvbum9/\"&gt;UnfairAdvantage&lt;/a&gt;, and &lt;a href=\"https://www.reddit.com/r/relationship_advice/comments/d1w1cx/meta_cool_were_at_2mil_now_what_you_must_read_this/ezrl0bp/\"&gt;maddiecat5&lt;/a&gt; among others for the ideas they put forward during the open comment period.&lt;/p&gt;\\n&lt;/div&gt;&lt;!-- SC_ON --&gt;',\n",
       "  'likes': None,\n",
       "  'suggested_sort': None,\n",
       "  'banned_at_utc': None,\n",
       "  'view_count': None,\n",
       "  'archived': False,\n",
       "  'no_follow': False,\n",
       "  'is_crosspostable': False,\n",
       "  'pinned': False,\n",
       "  'over_18': False,\n",
       "  'all_awardings': [],\n",
       "  'awarders': [],\n",
       "  'media_only': False,\n",
       "  'can_gild': False,\n",
       "  'spoiler': False,\n",
       "  'locked': True,\n",
       "  'author_flair_text': 'Press Inquiries',\n",
       "  'visited': False,\n",
       "  'removed_by': None,\n",
       "  'num_reports': None,\n",
       "  'distinguished': 'moderator',\n",
       "  'subreddit_id': 't5_2r0cn',\n",
       "  'mod_reason_by': None,\n",
       "  'removal_reason': None,\n",
       "  'link_flair_background_color': '',\n",
       "  'id': 'd3okss',\n",
       "  'is_robot_indexable': True,\n",
       "  'report_reasons': None,\n",
       "  'author': 'eganist',\n",
       "  'discussion_type': None,\n",
       "  'num_comments': 0,\n",
       "  'send_replies': True,\n",
       "  'whitelist_status': 'all_ads',\n",
       "  'contest_mode': False,\n",
       "  'mod_reports': [],\n",
       "  'author_patreon_flair': False,\n",
       "  'author_flair_text_color': 'dark',\n",
       "  'permalink': '/r/relationship_advice/comments/d3okss/meta_its_not_required_but_if_you_make_a_new/',\n",
       "  'parent_whitelist_status': 'all_ads',\n",
       "  'stickied': True,\n",
       "  'url': 'https://www.reddit.com/r/relationship_advice/comments/d3okss/meta_its_not_required_but_if_you_make_a_new/',\n",
       "  'subreddit_subscribers': 2299817,\n",
       "  'created_utc': 1568377977.0,\n",
       "  'num_crossposts': 0,\n",
       "  'media': None,\n",
       "  'is_video': False}}"
      ]
     },
     "execution_count": 7,
     "metadata": {},
     "output_type": "execute_result"
    }
   ],
   "source": [
    "RA_dict['data']['children'][0]"
   ]
  },
  {
   "cell_type": "code",
   "execution_count": 8,
   "metadata": {},
   "outputs": [
    {
     "data": {
      "text/plain": [
       "'t3_e7z7zv'"
      ]
     },
     "execution_count": 8,
     "metadata": {},
     "output_type": "execute_result"
    }
   ],
   "source": [
    "RA_dict['data']['after']"
   ]
  },
  {
   "cell_type": "code",
   "execution_count": 9,
   "metadata": {},
   "outputs": [
    {
     "data": {
      "text/plain": [
       "'https://www.reddit.com/r/relationship_advice.json?after=t3_e7z7zv'"
      ]
     },
     "execution_count": 9,
     "metadata": {},
     "output_type": "execute_result"
    }
   ],
   "source": [
    "url1 + '?after=' + RA_dict['data']['after']"
   ]
  },
  {
   "cell_type": "code",
   "execution_count": 10,
   "metadata": {},
   "outputs": [
    {
     "name": "stdout",
     "output_type": "stream",
     "text": [
      "https://www.reddit.com/r/relationship_advice.json\n",
      "15\n",
      "https://www.reddit.com/r/relationship_advice.json?after=t3_e7z7zv\n",
      "17\n",
      "https://www.reddit.com/r/relationship_advice.json?after=t3_e8b6uw\n",
      "8\n",
      "https://www.reddit.com/r/relationship_advice.json?after=t3_e86n9r\n",
      "21\n",
      "https://www.reddit.com/r/relationship_advice.json?after=t3_e8b98w\n",
      "30\n",
      "https://www.reddit.com/r/relationship_advice.json?after=t3_e8ay15\n",
      "4\n",
      "https://www.reddit.com/r/relationship_advice.json?after=t3_e8ajbe\n",
      "9\n",
      "https://www.reddit.com/r/relationship_advice.json?after=t3_e8820g\n",
      "26\n",
      "https://www.reddit.com/r/relationship_advice.json?after=t3_e89tw4\n",
      "25\n",
      "https://www.reddit.com/r/relationship_advice.json?after=t3_e89kld\n",
      "21\n",
      "https://www.reddit.com/r/relationship_advice.json?after=t3_e894e2\n",
      "19\n",
      "https://www.reddit.com/r/relationship_advice.json?after=t3_e88sko\n",
      "6\n",
      "https://www.reddit.com/r/relationship_advice.json?after=t3_e88ih2\n",
      "14\n",
      "https://www.reddit.com/r/relationship_advice.json?after=t3_e83rl1\n",
      "19\n",
      "https://www.reddit.com/r/relationship_advice.json?after=t3_e85xfh\n",
      "24\n",
      "https://www.reddit.com/r/relationship_advice.json?after=t3_e87lvj\n",
      "12\n",
      "https://www.reddit.com/r/relationship_advice.json?after=t3_e87eav\n",
      "27\n",
      "https://www.reddit.com/r/relationship_advice.json?after=t3_e7zxrp\n",
      "25\n",
      "https://www.reddit.com/r/relationship_advice.json?after=t3_e833bc\n",
      "5\n",
      "https://www.reddit.com/r/relationship_advice.json?after=t3_e86ozp\n",
      "9\n",
      "https://www.reddit.com/r/relationship_advice.json?after=t3_e86d4k\n",
      "28\n",
      "https://www.reddit.com/r/relationship_advice.json?after=t3_e862cl\n",
      "13\n",
      "https://www.reddit.com/r/relationship_advice.json?after=t3_e85tpb\n",
      "3\n",
      "https://www.reddit.com/r/relationship_advice.json?after=t3_e85jp8\n",
      "17\n",
      "https://www.reddit.com/r/relationship_advice.json?after=t3_e8591a\n",
      "2\n",
      "https://www.reddit.com/r/relationship_advice.json?after=t3_e84zyb\n",
      "17\n",
      "https://www.reddit.com/r/relationship_advice.json?after=t3_e84kwh\n",
      "18\n",
      "https://www.reddit.com/r/relationship_advice.json?after=t3_e81hcv\n",
      "20\n",
      "https://www.reddit.com/r/relationship_advice.json?after=t3_e7xxhc\n",
      "5\n",
      "https://www.reddit.com/r/relationship_advice.json?after=t3_e80lmy\n",
      "16\n",
      "https://www.reddit.com/r/relationship_advice.json?after=t3_e8340i\n",
      "7\n",
      "https://www.reddit.com/r/relationship_advice.json?after=t3_e82pgu\n",
      "10\n",
      "https://www.reddit.com/r/relationship_advice.json?after=t3_e82dsf\n",
      "29\n",
      "https://www.reddit.com/r/relationship_advice.json?after=t3_e81zft\n",
      "2\n",
      "https://www.reddit.com/r/relationship_advice.json?after=t3_e7vm7z\n",
      "12\n",
      "https://www.reddit.com/r/relationship_advice.json?after=t3_e81bjm\n",
      "17\n",
      "https://www.reddit.com/r/relationship_advice.json?after=t3_e7sbos\n",
      "30\n",
      "https://www.reddit.com/r/relationship_advice.json?after=t3_e80wfj\n",
      "7\n",
      "https://www.reddit.com/r/relationship_advice.json\n",
      "14\n",
      "https://www.reddit.com/r/relationship_advice.json?after=t3_e83jzg\n",
      "7\n"
     ]
    }
   ],
   "source": [
    "RA_posts = []\n",
    "after = None\n",
    "\n",
    "for a in range(40):\n",
    "    if after == None:\n",
    "        current_url = url1\n",
    "    else:\n",
    "        current_url = url1 + '?after=' + after\n",
    "    print(current_url)\n",
    "    res1 = requests.get(current_url, headers={'User-agent': 'Jophren7'})\n",
    "    \n",
    "    if res1.status_code != 200:\n",
    "        print('Status error', res1.status_code)\n",
    "        break\n",
    "    \n",
    "    current_RA_dict = res1.json()\n",
    "    current_RA_posts = [p['data'] for p in RA_dict['data']['children']]\n",
    "    RA_posts.extend(current_RA_posts)\n",
    "    after = current_RA_dict['data']['after']\n",
    "    \n",
    "    # generate a random sleep duration to look more 'natural'\n",
    "    sleep_duration = random.randint(2,30)\n",
    "    print(sleep_duration)\n",
    "    time.sleep(sleep_duration)"
   ]
  },
  {
   "cell_type": "code",
   "execution_count": 11,
   "metadata": {},
   "outputs": [
    {
     "data": {
      "text/plain": [
       "1080"
      ]
     },
     "execution_count": 11,
     "metadata": {},
     "output_type": "execute_result"
    }
   ],
   "source": [
    "len(RA_posts)"
   ]
  },
  {
   "cell_type": "code",
   "execution_count": 12,
   "metadata": {},
   "outputs": [
    {
     "data": {
      "text/html": [
       "<div>\n",
       "<style scoped>\n",
       "    .dataframe tbody tr th:only-of-type {\n",
       "        vertical-align: middle;\n",
       "    }\n",
       "\n",
       "    .dataframe tbody tr th {\n",
       "        vertical-align: top;\n",
       "    }\n",
       "\n",
       "    .dataframe thead th {\n",
       "        text-align: right;\n",
       "    }\n",
       "</style>\n",
       "<table border=\"1\" class=\"dataframe\">\n",
       "  <thead>\n",
       "    <tr style=\"text-align: right;\">\n",
       "      <th></th>\n",
       "      <th>approved_at_utc</th>\n",
       "      <th>subreddit</th>\n",
       "      <th>selftext</th>\n",
       "      <th>author_fullname</th>\n",
       "      <th>saved</th>\n",
       "      <th>mod_reason_title</th>\n",
       "      <th>gilded</th>\n",
       "      <th>clicked</th>\n",
       "      <th>title</th>\n",
       "      <th>link_flair_richtext</th>\n",
       "      <th>...</th>\n",
       "      <th>author_flair_text_color</th>\n",
       "      <th>permalink</th>\n",
       "      <th>parent_whitelist_status</th>\n",
       "      <th>stickied</th>\n",
       "      <th>url</th>\n",
       "      <th>subreddit_subscribers</th>\n",
       "      <th>created_utc</th>\n",
       "      <th>num_crossposts</th>\n",
       "      <th>media</th>\n",
       "      <th>is_video</th>\n",
       "    </tr>\n",
       "  </thead>\n",
       "  <tbody>\n",
       "    <tr>\n",
       "      <td>0</td>\n",
       "      <td>None</td>\n",
       "      <td>relationship_advice</td>\n",
       "      <td>**TL;DR on Throwaways:** If you wish to reques...</td>\n",
       "      <td>t2_4det0</td>\n",
       "      <td>False</td>\n",
       "      <td>None</td>\n",
       "      <td>0</td>\n",
       "      <td>False</td>\n",
       "      <td>[meta] It's not required, but if you make a ne...</td>\n",
       "      <td>[]</td>\n",
       "      <td>...</td>\n",
       "      <td>dark</td>\n",
       "      <td>/r/relationship_advice/comments/d3okss/meta_it...</td>\n",
       "      <td>all_ads</td>\n",
       "      <td>True</td>\n",
       "      <td>https://www.reddit.com/r/relationship_advice/c...</td>\n",
       "      <td>2299817</td>\n",
       "      <td>1.568378e+09</td>\n",
       "      <td>0</td>\n",
       "      <td>None</td>\n",
       "      <td>False</td>\n",
       "    </tr>\n",
       "    <tr>\n",
       "      <td>1</td>\n",
       "      <td>None</td>\n",
       "      <td>relationship_advice</td>\n",
       "      <td>Since two or three times a week we end up remo...</td>\n",
       "      <td>t2_4det0</td>\n",
       "      <td>False</td>\n",
       "      <td>None</td>\n",
       "      <td>1</td>\n",
       "      <td>False</td>\n",
       "      <td>[meta] Think of the comments as an inverted Ub...</td>\n",
       "      <td>[]</td>\n",
       "      <td>...</td>\n",
       "      <td>dark</td>\n",
       "      <td>/r/relationship_advice/comments/b2nc2f/meta_th...</td>\n",
       "      <td>all_ads</td>\n",
       "      <td>True</td>\n",
       "      <td>https://www.reddit.com/r/relationship_advice/c...</td>\n",
       "      <td>2299817</td>\n",
       "      <td>1.552939e+09</td>\n",
       "      <td>0</td>\n",
       "      <td>None</td>\n",
       "      <td>False</td>\n",
       "    </tr>\n",
       "    <tr>\n",
       "      <td>2</td>\n",
       "      <td>None</td>\n",
       "      <td>relationship_advice</td>\n",
       "      <td>I had a daughter a little over a year ago. I w...</td>\n",
       "      <td>t2_56mnmozr</td>\n",
       "      <td>False</td>\n",
       "      <td>None</td>\n",
       "      <td>0</td>\n",
       "      <td>False</td>\n",
       "      <td>My daughter [1f] got injured in my [32f] care....</td>\n",
       "      <td>[]</td>\n",
       "      <td>...</td>\n",
       "      <td>None</td>\n",
       "      <td>/r/relationship_advice/comments/e7x2md/my_daug...</td>\n",
       "      <td>all_ads</td>\n",
       "      <td>False</td>\n",
       "      <td>https://www.reddit.com/r/relationship_advice/c...</td>\n",
       "      <td>2299817</td>\n",
       "      <td>1.575829e+09</td>\n",
       "      <td>1</td>\n",
       "      <td>None</td>\n",
       "      <td>False</td>\n",
       "    </tr>\n",
       "    <tr>\n",
       "      <td>3</td>\n",
       "      <td>None</td>\n",
       "      <td>relationship_advice</td>\n",
       "      <td>Title is purposefully a little vague so I can ...</td>\n",
       "      <td>t2_56r19f3n</td>\n",
       "      <td>False</td>\n",
       "      <td>None</td>\n",
       "      <td>0</td>\n",
       "      <td>False</td>\n",
       "      <td>My (25f) mom (45f) is part of a church group t...</td>\n",
       "      <td>[]</td>\n",
       "      <td>...</td>\n",
       "      <td>None</td>\n",
       "      <td>/r/relationship_advice/comments/e8523l/my_25f_...</td>\n",
       "      <td>all_ads</td>\n",
       "      <td>False</td>\n",
       "      <td>https://www.reddit.com/r/relationship_advice/c...</td>\n",
       "      <td>2299817</td>\n",
       "      <td>1.575866e+09</td>\n",
       "      <td>0</td>\n",
       "      <td>None</td>\n",
       "      <td>False</td>\n",
       "    </tr>\n",
       "    <tr>\n",
       "      <td>4</td>\n",
       "      <td>None</td>\n",
       "      <td>relationship_advice</td>\n",
       "      <td>[Previous Post](https://www.reddit.com/r/relat...</td>\n",
       "      <td>t2_55gnslu1</td>\n",
       "      <td>False</td>\n",
       "      <td>None</td>\n",
       "      <td>0</td>\n",
       "      <td>False</td>\n",
       "      <td>(Update) My (24M) roommate (24F) won't stop we...</td>\n",
       "      <td>[]</td>\n",
       "      <td>...</td>\n",
       "      <td>None</td>\n",
       "      <td>/r/relationship_advice/comments/e816o1/update_...</td>\n",
       "      <td>all_ads</td>\n",
       "      <td>False</td>\n",
       "      <td>https://www.reddit.com/r/relationship_advice/c...</td>\n",
       "      <td>2299817</td>\n",
       "      <td>1.575847e+09</td>\n",
       "      <td>0</td>\n",
       "      <td>None</td>\n",
       "      <td>False</td>\n",
       "    </tr>\n",
       "  </tbody>\n",
       "</table>\n",
       "<p>5 rows × 100 columns</p>\n",
       "</div>"
      ],
      "text/plain": [
       "  approved_at_utc            subreddit  \\\n",
       "0            None  relationship_advice   \n",
       "1            None  relationship_advice   \n",
       "2            None  relationship_advice   \n",
       "3            None  relationship_advice   \n",
       "4            None  relationship_advice   \n",
       "\n",
       "                                            selftext author_fullname  saved  \\\n",
       "0  **TL;DR on Throwaways:** If you wish to reques...        t2_4det0  False   \n",
       "1  Since two or three times a week we end up remo...        t2_4det0  False   \n",
       "2  I had a daughter a little over a year ago. I w...     t2_56mnmozr  False   \n",
       "3  Title is purposefully a little vague so I can ...     t2_56r19f3n  False   \n",
       "4  [Previous Post](https://www.reddit.com/r/relat...     t2_55gnslu1  False   \n",
       "\n",
       "  mod_reason_title  gilded  clicked  \\\n",
       "0             None       0    False   \n",
       "1             None       1    False   \n",
       "2             None       0    False   \n",
       "3             None       0    False   \n",
       "4             None       0    False   \n",
       "\n",
       "                                               title link_flair_richtext  ...  \\\n",
       "0  [meta] It's not required, but if you make a ne...                  []  ...   \n",
       "1  [meta] Think of the comments as an inverted Ub...                  []  ...   \n",
       "2  My daughter [1f] got injured in my [32f] care....                  []  ...   \n",
       "3  My (25f) mom (45f) is part of a church group t...                  []  ...   \n",
       "4  (Update) My (24M) roommate (24F) won't stop we...                  []  ...   \n",
       "\n",
       "  author_flair_text_color                                          permalink  \\\n",
       "0                    dark  /r/relationship_advice/comments/d3okss/meta_it...   \n",
       "1                    dark  /r/relationship_advice/comments/b2nc2f/meta_th...   \n",
       "2                    None  /r/relationship_advice/comments/e7x2md/my_daug...   \n",
       "3                    None  /r/relationship_advice/comments/e8523l/my_25f_...   \n",
       "4                    None  /r/relationship_advice/comments/e816o1/update_...   \n",
       "\n",
       "   parent_whitelist_status stickied  \\\n",
       "0                  all_ads     True   \n",
       "1                  all_ads     True   \n",
       "2                  all_ads    False   \n",
       "3                  all_ads    False   \n",
       "4                  all_ads    False   \n",
       "\n",
       "                                                 url  subreddit_subscribers  \\\n",
       "0  https://www.reddit.com/r/relationship_advice/c...                2299817   \n",
       "1  https://www.reddit.com/r/relationship_advice/c...                2299817   \n",
       "2  https://www.reddit.com/r/relationship_advice/c...                2299817   \n",
       "3  https://www.reddit.com/r/relationship_advice/c...                2299817   \n",
       "4  https://www.reddit.com/r/relationship_advice/c...                2299817   \n",
       "\n",
       "    created_utc  num_crossposts media is_video  \n",
       "0  1.568378e+09               0  None    False  \n",
       "1  1.552939e+09               0  None    False  \n",
       "2  1.575829e+09               1  None    False  \n",
       "3  1.575866e+09               0  None    False  \n",
       "4  1.575847e+09               0  None    False  \n",
       "\n",
       "[5 rows x 100 columns]"
      ]
     },
     "execution_count": 12,
     "metadata": {},
     "output_type": "execute_result"
    }
   ],
   "source": [
    "df_RA = pd.DataFrame(RA_posts)\n",
    "df_RA.head()"
   ]
  },
  {
   "cell_type": "code",
   "execution_count": 13,
   "metadata": {},
   "outputs": [
    {
     "data": {
      "text/plain": [
       "'Title is purposefully a little vague so I can give a warning, this post deals quite a bit with hate symbols and may make some people uncomfortable. Throwaway because I don\\'t want any part of this to be associated with me. \\n\\n\\n\\nMy mom has been part of a church group for years. Recently they started a campaign called \"take back the swastika\". Which is basically what it sounds like. Their goal is to basically associate the swastika with their church group charity so people stop associating it with something bad. I think this is ridiculously naive. \\n\\nThey have had necklaces and tshirts made and are organizing a bake sale. I own a small bakery (small like 2 employees) and mainly do wedding cakes. My business it still new (like less than 6 months old) and the church offered to pay me to make 400 cupcakes with the swastika on it and I denied because I don\\'t want my business associated with that. My mom got me a necklace for my birthday a week ago and when I threw it away she said I was \"letting hate win\". \\n\\nI have talked to her about how uncomfortable this all makes me and she dismisses it saying I shouldn\\'t care what people think. My mom has never been a bad person and I do love her, but this whole campaign makes me uncomfortable. I feel like it is disrespectful, rude and frankly just a really fucking bad idea. So far the movement is really small but I wanna be clear of it before it becomes bigger. The church doesn\\'t even use the swastika as a religious symbol or anything. \\n\\nAny advice is welcome advice because I am lost. I really do love my mother but I think she is making a really bad choice in pursuing this. Is there anyway to distance myself from this without losing my entire relationship with my mother?'"
      ]
     },
     "execution_count": 13,
     "metadata": {},
     "output_type": "execute_result"
    }
   ],
   "source": [
    "df_RA.loc[3,'selftext']\n",
    "\n",
    "# 'selftext' refers to the content of each post."
   ]
  },
  {
   "cell_type": "code",
   "execution_count": 14,
   "metadata": {},
   "outputs": [
    {
     "data": {
      "text/plain": [
       "(1080, 3)"
      ]
     },
     "execution_count": 14,
     "metadata": {},
     "output_type": "execute_result"
    }
   ],
   "source": [
    "df_RA = df_RA[['subreddit', 'selftext', 'title']]\n",
    "df_RA.shape"
   ]
  },
  {
   "cell_type": "code",
   "execution_count": 15,
   "metadata": {},
   "outputs": [],
   "source": [
    "pd.DataFrame(RA_posts).to_csv('Datasets/RA.csv', index = False)"
   ]
  },
  {
   "cell_type": "markdown",
   "metadata": {},
   "source": [
    "#### 2) Work on r/DatingAdvice"
   ]
  },
  {
   "cell_type": "code",
   "execution_count": 16,
   "metadata": {},
   "outputs": [],
   "source": [
    "url2 = \"https://www.reddit.com/r/dating_advice.json\""
   ]
  },
  {
   "cell_type": "code",
   "execution_count": 17,
   "metadata": {},
   "outputs": [
    {
     "data": {
      "text/plain": [
       "200"
      ]
     },
     "execution_count": 17,
     "metadata": {},
     "output_type": "execute_result"
    }
   ],
   "source": [
    "res2 = requests.get(url2, headers={'User-agent': 'Jophren-JY 1989'})\n",
    "res2.status_code"
   ]
  },
  {
   "cell_type": "code",
   "execution_count": 18,
   "metadata": {},
   "outputs": [],
   "source": [
    "DA_dict = res2.json()"
   ]
  },
  {
   "cell_type": "code",
   "execution_count": 19,
   "metadata": {},
   "outputs": [
    {
     "data": {
      "text/html": [
       "<div>\n",
       "<style scoped>\n",
       "    .dataframe tbody tr th:only-of-type {\n",
       "        vertical-align: middle;\n",
       "    }\n",
       "\n",
       "    .dataframe tbody tr th {\n",
       "        vertical-align: top;\n",
       "    }\n",
       "\n",
       "    .dataframe thead th {\n",
       "        text-align: right;\n",
       "    }\n",
       "</style>\n",
       "<table border=\"1\" class=\"dataframe\">\n",
       "  <thead>\n",
       "    <tr style=\"text-align: right;\">\n",
       "      <th></th>\n",
       "      <th>approved_at_utc</th>\n",
       "      <th>subreddit</th>\n",
       "      <th>selftext</th>\n",
       "      <th>author_fullname</th>\n",
       "      <th>saved</th>\n",
       "      <th>mod_reason_title</th>\n",
       "      <th>gilded</th>\n",
       "      <th>clicked</th>\n",
       "      <th>title</th>\n",
       "      <th>link_flair_richtext</th>\n",
       "      <th>...</th>\n",
       "      <th>author_flair_text_color</th>\n",
       "      <th>permalink</th>\n",
       "      <th>parent_whitelist_status</th>\n",
       "      <th>stickied</th>\n",
       "      <th>url</th>\n",
       "      <th>subreddit_subscribers</th>\n",
       "      <th>created_utc</th>\n",
       "      <th>num_crossposts</th>\n",
       "      <th>media</th>\n",
       "      <th>is_video</th>\n",
       "    </tr>\n",
       "  </thead>\n",
       "  <tbody>\n",
       "    <tr>\n",
       "      <td>0</td>\n",
       "      <td>None</td>\n",
       "      <td>dating_advice</td>\n",
       "      <td>Obviously this will depend on the type of peop...</td>\n",
       "      <td>t2_6odeb</td>\n",
       "      <td>False</td>\n",
       "      <td>None</td>\n",
       "      <td>0</td>\n",
       "      <td>False</td>\n",
       "      <td>FAQ: Best first date ideas?</td>\n",
       "      <td>[]</td>\n",
       "      <td>...</td>\n",
       "      <td>None</td>\n",
       "      <td>/r/dating_advice/comments/ds1p6v/faq_best_firs...</td>\n",
       "      <td>all_ads</td>\n",
       "      <td>True</td>\n",
       "      <td>https://www.reddit.com/r/dating_advice/comment...</td>\n",
       "      <td>1165429</td>\n",
       "      <td>1.572972e+09</td>\n",
       "      <td>0</td>\n",
       "      <td>None</td>\n",
       "      <td>False</td>\n",
       "    </tr>\n",
       "    <tr>\n",
       "      <td>1</td>\n",
       "      <td>None</td>\n",
       "      <td>dating_advice</td>\n",
       "      <td>Welcome to /r/dating_advice. Please use this d...</td>\n",
       "      <td>t2_6odeb</td>\n",
       "      <td>False</td>\n",
       "      <td>None</td>\n",
       "      <td>0</td>\n",
       "      <td>False</td>\n",
       "      <td>Daily Vents and Successes Thread</td>\n",
       "      <td>[]</td>\n",
       "      <td>...</td>\n",
       "      <td>None</td>\n",
       "      <td>/r/dating_advice/comments/e1j9g0/daily_vents_a...</td>\n",
       "      <td>all_ads</td>\n",
       "      <td>True</td>\n",
       "      <td>https://www.reddit.com/r/dating_advice/comment...</td>\n",
       "      <td>1165429</td>\n",
       "      <td>1.574703e+09</td>\n",
       "      <td>0</td>\n",
       "      <td>None</td>\n",
       "      <td>False</td>\n",
       "    </tr>\n",
       "    <tr>\n",
       "      <td>2</td>\n",
       "      <td>None</td>\n",
       "      <td>dating_advice</td>\n",
       "      <td>So, I've never been in this situation before a...</td>\n",
       "      <td>t2_3tk6oojx</td>\n",
       "      <td>False</td>\n",
       "      <td>None</td>\n",
       "      <td>0</td>\n",
       "      <td>False</td>\n",
       "      <td>Dating while being in a FWB-relationship with ...</td>\n",
       "      <td>[]</td>\n",
       "      <td>...</td>\n",
       "      <td>None</td>\n",
       "      <td>/r/dating_advice/comments/e89vz1/dating_while_...</td>\n",
       "      <td>all_ads</td>\n",
       "      <td>False</td>\n",
       "      <td>https://www.reddit.com/r/dating_advice/comment...</td>\n",
       "      <td>1165429</td>\n",
       "      <td>1.575898e+09</td>\n",
       "      <td>0</td>\n",
       "      <td>None</td>\n",
       "      <td>False</td>\n",
       "    </tr>\n",
       "    <tr>\n",
       "      <td>3</td>\n",
       "      <td>None</td>\n",
       "      <td>dating_advice</td>\n",
       "      <td>I understand that this is sub for dating advic...</td>\n",
       "      <td>t2_snnh65m</td>\n",
       "      <td>False</td>\n",
       "      <td>None</td>\n",
       "      <td>0</td>\n",
       "      <td>False</td>\n",
       "      <td>Is it okay to be single for life?</td>\n",
       "      <td>[]</td>\n",
       "      <td>...</td>\n",
       "      <td>None</td>\n",
       "      <td>/r/dating_advice/comments/e8798n/is_it_okay_to...</td>\n",
       "      <td>all_ads</td>\n",
       "      <td>False</td>\n",
       "      <td>https://www.reddit.com/r/dating_advice/comment...</td>\n",
       "      <td>1165429</td>\n",
       "      <td>1.575880e+09</td>\n",
       "      <td>0</td>\n",
       "      <td>None</td>\n",
       "      <td>False</td>\n",
       "    </tr>\n",
       "    <tr>\n",
       "      <td>4</td>\n",
       "      <td>None</td>\n",
       "      <td>dating_advice</td>\n",
       "      <td>TL;DR : Met at work and became best friends. F...</td>\n",
       "      <td>t2_4um7vbg7</td>\n",
       "      <td>False</td>\n",
       "      <td>None</td>\n",
       "      <td>0</td>\n",
       "      <td>False</td>\n",
       "      <td>Ever been hopelessly in love with a best frien...</td>\n",
       "      <td>[]</td>\n",
       "      <td>...</td>\n",
       "      <td>None</td>\n",
       "      <td>/r/dating_advice/comments/e883k3/ever_been_hop...</td>\n",
       "      <td>all_ads</td>\n",
       "      <td>False</td>\n",
       "      <td>https://www.reddit.com/r/dating_advice/comment...</td>\n",
       "      <td>1165429</td>\n",
       "      <td>1.575886e+09</td>\n",
       "      <td>0</td>\n",
       "      <td>None</td>\n",
       "      <td>False</td>\n",
       "    </tr>\n",
       "  </tbody>\n",
       "</table>\n",
       "<p>5 rows × 100 columns</p>\n",
       "</div>"
      ],
      "text/plain": [
       "  approved_at_utc      subreddit  \\\n",
       "0            None  dating_advice   \n",
       "1            None  dating_advice   \n",
       "2            None  dating_advice   \n",
       "3            None  dating_advice   \n",
       "4            None  dating_advice   \n",
       "\n",
       "                                            selftext author_fullname  saved  \\\n",
       "0  Obviously this will depend on the type of peop...        t2_6odeb  False   \n",
       "1  Welcome to /r/dating_advice. Please use this d...        t2_6odeb  False   \n",
       "2  So, I've never been in this situation before a...     t2_3tk6oojx  False   \n",
       "3  I understand that this is sub for dating advic...      t2_snnh65m  False   \n",
       "4  TL;DR : Met at work and became best friends. F...     t2_4um7vbg7  False   \n",
       "\n",
       "  mod_reason_title  gilded  clicked  \\\n",
       "0             None       0    False   \n",
       "1             None       0    False   \n",
       "2             None       0    False   \n",
       "3             None       0    False   \n",
       "4             None       0    False   \n",
       "\n",
       "                                               title link_flair_richtext  ...  \\\n",
       "0                        FAQ: Best first date ideas?                  []  ...   \n",
       "1                   Daily Vents and Successes Thread                  []  ...   \n",
       "2  Dating while being in a FWB-relationship with ...                  []  ...   \n",
       "3                  Is it okay to be single for life?                  []  ...   \n",
       "4  Ever been hopelessly in love with a best frien...                  []  ...   \n",
       "\n",
       "  author_flair_text_color                                          permalink  \\\n",
       "0                    None  /r/dating_advice/comments/ds1p6v/faq_best_firs...   \n",
       "1                    None  /r/dating_advice/comments/e1j9g0/daily_vents_a...   \n",
       "2                    None  /r/dating_advice/comments/e89vz1/dating_while_...   \n",
       "3                    None  /r/dating_advice/comments/e8798n/is_it_okay_to...   \n",
       "4                    None  /r/dating_advice/comments/e883k3/ever_been_hop...   \n",
       "\n",
       "   parent_whitelist_status stickied  \\\n",
       "0                  all_ads     True   \n",
       "1                  all_ads     True   \n",
       "2                  all_ads    False   \n",
       "3                  all_ads    False   \n",
       "4                  all_ads    False   \n",
       "\n",
       "                                                 url  subreddit_subscribers  \\\n",
       "0  https://www.reddit.com/r/dating_advice/comment...                1165429   \n",
       "1  https://www.reddit.com/r/dating_advice/comment...                1165429   \n",
       "2  https://www.reddit.com/r/dating_advice/comment...                1165429   \n",
       "3  https://www.reddit.com/r/dating_advice/comment...                1165429   \n",
       "4  https://www.reddit.com/r/dating_advice/comment...                1165429   \n",
       "\n",
       "    created_utc  num_crossposts media is_video  \n",
       "0  1.572972e+09               0  None    False  \n",
       "1  1.574703e+09               0  None    False  \n",
       "2  1.575898e+09               0  None    False  \n",
       "3  1.575880e+09               0  None    False  \n",
       "4  1.575886e+09               0  None    False  \n",
       "\n",
       "[5 rows x 100 columns]"
      ]
     },
     "execution_count": 19,
     "metadata": {},
     "output_type": "execute_result"
    }
   ],
   "source": [
    "DA_posts = [p['data'] for p in DA_dict['data']['children']]\n",
    "DA_df = pd.DataFrame(DA_posts)\n",
    "DA_df.head()"
   ]
  },
  {
   "cell_type": "code",
   "execution_count": 20,
   "metadata": {},
   "outputs": [
    {
     "data": {
      "text/plain": [
       "'https://www.reddit.com/r/dating_advice.json?after=t3_e8a9d1'"
      ]
     },
     "execution_count": 20,
     "metadata": {},
     "output_type": "execute_result"
    }
   ],
   "source": [
    "url2 + '?after=' + DA_dict['data']['after']"
   ]
  },
  {
   "cell_type": "code",
   "execution_count": 21,
   "metadata": {},
   "outputs": [
    {
     "name": "stdout",
     "output_type": "stream",
     "text": [
      "https://www.reddit.com/r/dating_advice.json\n",
      "6\n",
      "https://www.reddit.com/r/dating_advice.json?after=t3_e8a9d1\n",
      "15\n",
      "https://www.reddit.com/r/dating_advice.json?after=t3_e8ap3j\n",
      "6\n",
      "https://www.reddit.com/r/dating_advice.json?after=t3_e85vft\n",
      "27\n",
      "https://www.reddit.com/r/dating_advice.json?after=t3_e87oud\n",
      "2\n",
      "https://www.reddit.com/r/dating_advice.json?after=t3_e86txp\n",
      "15\n",
      "https://www.reddit.com/r/dating_advice.json?after=t3_e862gh\n",
      "9\n",
      "https://www.reddit.com/r/dating_advice.json?after=t3_e85hf9\n",
      "13\n",
      "https://www.reddit.com/r/dating_advice.json?after=t3_e84hg4\n",
      "23\n",
      "https://www.reddit.com/r/dating_advice.json?after=t3_e833xq\n",
      "4\n",
      "https://www.reddit.com/r/dating_advice.json?after=t3_e81q0t\n",
      "14\n",
      "https://www.reddit.com/r/dating_advice.json?after=t3_e80bpl\n",
      "28\n",
      "https://www.reddit.com/r/dating_advice.json?after=t3_e7yp25\n",
      "27\n",
      "https://www.reddit.com/r/dating_advice.json?after=t3_e7xm2w\n",
      "11\n",
      "https://www.reddit.com/r/dating_advice.json?after=t3_e7wrfr\n",
      "3\n",
      "https://www.reddit.com/r/dating_advice.json?after=t3_e7u9jb\n",
      "25\n",
      "https://www.reddit.com/r/dating_advice.json?after=t3_e7she2\n",
      "23\n",
      "https://www.reddit.com/r/dating_advice.json?after=t3_e7r6dp\n",
      "7\n",
      "https://www.reddit.com/r/dating_advice.json?after=t3_e7mcz1\n",
      "6\n",
      "https://www.reddit.com/r/dating_advice.json?after=t3_e7p6g3\n",
      "20\n",
      "https://www.reddit.com/r/dating_advice.json?after=t3_e7oa2y\n",
      "26\n",
      "https://www.reddit.com/r/dating_advice.json?after=t3_e7is6y\n",
      "30\n",
      "https://www.reddit.com/r/dating_advice.json?after=t3_e7fe2b\n",
      "20\n",
      "https://www.reddit.com/r/dating_advice.json?after=t3_e7gysv\n",
      "11\n",
      "https://www.reddit.com/r/dating_advice.json?after=t3_e7i9w5\n",
      "13\n",
      "https://www.reddit.com/r/dating_advice.json?after=t3_e7g2n0\n",
      "6\n",
      "https://www.reddit.com/r/dating_advice.json?after=t3_e7c341\n",
      "3\n",
      "https://www.reddit.com/r/dating_advice.json?after=t3_e72n56\n",
      "22\n",
      "https://www.reddit.com/r/dating_advice.json?after=t3_e7bbq1\n",
      "21\n",
      "https://www.reddit.com/r/dating_advice.json?after=t3_e7a6qw\n",
      "25\n",
      "https://www.reddit.com/r/dating_advice.json?after=t3_e78xmg\n",
      "29\n",
      "https://www.reddit.com/r/dating_advice.json?after=t3_e72t0e\n",
      "9\n",
      "https://www.reddit.com/r/dating_advice.json?after=t3_e70yw8\n",
      "10\n",
      "https://www.reddit.com/r/dating_advice.json?after=t3_e73q46\n",
      "20\n",
      "https://www.reddit.com/r/dating_advice.json?after=t3_e6u9ia\n",
      "8\n",
      "https://www.reddit.com/r/dating_advice.json?after=t3_e6wioq\n",
      "30\n",
      "https://www.reddit.com/r/dating_advice.json?after=t3_e6tf1k\n",
      "12\n",
      "https://www.reddit.com/r/dating_advice.json?after=t3_e6snhg\n",
      "3\n",
      "https://www.reddit.com/r/dating_advice.json\n",
      "24\n",
      "https://www.reddit.com/r/dating_advice.json?after=t3_e88xb7\n",
      "2\n"
     ]
    }
   ],
   "source": [
    "DA_posts = []\n",
    "after = None\n",
    "\n",
    "for a in range(40):\n",
    "    if after == None:\n",
    "        current_url = url2\n",
    "    else:\n",
    "        current_url = url2 + '?after=' + after\n",
    "    print(current_url)\n",
    "    res2 = requests.get(current_url, headers={'User-agent': 'Jophren999'})\n",
    "    \n",
    "    if res2.status_code != 200:\n",
    "        print('Status error', res.status_code)\n",
    "        break\n",
    "    \n",
    "    DA_dict = res2.json()\n",
    "    current_DA_posts = [p['data'] for p in DA_dict['data']['children']]\n",
    "    DA_posts.extend(current_DA_posts)\n",
    "    after = DA_dict['data']['after']\n",
    "    \n",
    "    # generate a random sleep duration to look more 'natural'\n",
    "    sleep_duration = random.randint(2,30)\n",
    "    print(sleep_duration)\n",
    "    time.sleep(sleep_duration)"
   ]
  },
  {
   "cell_type": "code",
   "execution_count": 22,
   "metadata": {},
   "outputs": [
    {
     "data": {
      "text/plain": [
       "984"
      ]
     },
     "execution_count": 22,
     "metadata": {},
     "output_type": "execute_result"
    }
   ],
   "source": [
    "len(DA_posts)"
   ]
  },
  {
   "cell_type": "code",
   "execution_count": 23,
   "metadata": {
    "scrolled": true
   },
   "outputs": [
    {
     "data": {
      "text/html": [
       "<div>\n",
       "<style scoped>\n",
       "    .dataframe tbody tr th:only-of-type {\n",
       "        vertical-align: middle;\n",
       "    }\n",
       "\n",
       "    .dataframe tbody tr th {\n",
       "        vertical-align: top;\n",
       "    }\n",
       "\n",
       "    .dataframe thead th {\n",
       "        text-align: right;\n",
       "    }\n",
       "</style>\n",
       "<table border=\"1\" class=\"dataframe\">\n",
       "  <thead>\n",
       "    <tr style=\"text-align: right;\">\n",
       "      <th></th>\n",
       "      <th>approved_at_utc</th>\n",
       "      <th>subreddit</th>\n",
       "      <th>selftext</th>\n",
       "      <th>author_fullname</th>\n",
       "      <th>saved</th>\n",
       "      <th>mod_reason_title</th>\n",
       "      <th>gilded</th>\n",
       "      <th>clicked</th>\n",
       "      <th>title</th>\n",
       "      <th>link_flair_richtext</th>\n",
       "      <th>...</th>\n",
       "      <th>permalink</th>\n",
       "      <th>parent_whitelist_status</th>\n",
       "      <th>stickied</th>\n",
       "      <th>url</th>\n",
       "      <th>subreddit_subscribers</th>\n",
       "      <th>created_utc</th>\n",
       "      <th>num_crossposts</th>\n",
       "      <th>media</th>\n",
       "      <th>is_video</th>\n",
       "      <th>author_cakeday</th>\n",
       "    </tr>\n",
       "  </thead>\n",
       "  <tbody>\n",
       "    <tr>\n",
       "      <td>0</td>\n",
       "      <td>None</td>\n",
       "      <td>dating_advice</td>\n",
       "      <td>Obviously this will depend on the type of peop...</td>\n",
       "      <td>t2_6odeb</td>\n",
       "      <td>False</td>\n",
       "      <td>None</td>\n",
       "      <td>0</td>\n",
       "      <td>False</td>\n",
       "      <td>FAQ: Best first date ideas?</td>\n",
       "      <td>[]</td>\n",
       "      <td>...</td>\n",
       "      <td>/r/dating_advice/comments/ds1p6v/faq_best_firs...</td>\n",
       "      <td>all_ads</td>\n",
       "      <td>True</td>\n",
       "      <td>https://www.reddit.com/r/dating_advice/comment...</td>\n",
       "      <td>1165429</td>\n",
       "      <td>1.572972e+09</td>\n",
       "      <td>0</td>\n",
       "      <td>None</td>\n",
       "      <td>False</td>\n",
       "      <td>NaN</td>\n",
       "    </tr>\n",
       "    <tr>\n",
       "      <td>1</td>\n",
       "      <td>None</td>\n",
       "      <td>dating_advice</td>\n",
       "      <td>Welcome to /r/dating_advice. Please use this d...</td>\n",
       "      <td>t2_6odeb</td>\n",
       "      <td>False</td>\n",
       "      <td>None</td>\n",
       "      <td>0</td>\n",
       "      <td>False</td>\n",
       "      <td>Daily Vents and Successes Thread</td>\n",
       "      <td>[]</td>\n",
       "      <td>...</td>\n",
       "      <td>/r/dating_advice/comments/e1j9g0/daily_vents_a...</td>\n",
       "      <td>all_ads</td>\n",
       "      <td>True</td>\n",
       "      <td>https://www.reddit.com/r/dating_advice/comment...</td>\n",
       "      <td>1165429</td>\n",
       "      <td>1.574703e+09</td>\n",
       "      <td>0</td>\n",
       "      <td>None</td>\n",
       "      <td>False</td>\n",
       "      <td>NaN</td>\n",
       "    </tr>\n",
       "    <tr>\n",
       "      <td>2</td>\n",
       "      <td>None</td>\n",
       "      <td>dating_advice</td>\n",
       "      <td>So, I've never been in this situation before a...</td>\n",
       "      <td>t2_3tk6oojx</td>\n",
       "      <td>False</td>\n",
       "      <td>None</td>\n",
       "      <td>0</td>\n",
       "      <td>False</td>\n",
       "      <td>Dating while being in a FWB-relationship with ...</td>\n",
       "      <td>[]</td>\n",
       "      <td>...</td>\n",
       "      <td>/r/dating_advice/comments/e89vz1/dating_while_...</td>\n",
       "      <td>all_ads</td>\n",
       "      <td>False</td>\n",
       "      <td>https://www.reddit.com/r/dating_advice/comment...</td>\n",
       "      <td>1165429</td>\n",
       "      <td>1.575898e+09</td>\n",
       "      <td>0</td>\n",
       "      <td>None</td>\n",
       "      <td>False</td>\n",
       "      <td>NaN</td>\n",
       "    </tr>\n",
       "    <tr>\n",
       "      <td>3</td>\n",
       "      <td>None</td>\n",
       "      <td>dating_advice</td>\n",
       "      <td>I understand that this is sub for dating advic...</td>\n",
       "      <td>t2_snnh65m</td>\n",
       "      <td>False</td>\n",
       "      <td>None</td>\n",
       "      <td>0</td>\n",
       "      <td>False</td>\n",
       "      <td>Is it okay to be single for life?</td>\n",
       "      <td>[]</td>\n",
       "      <td>...</td>\n",
       "      <td>/r/dating_advice/comments/e8798n/is_it_okay_to...</td>\n",
       "      <td>all_ads</td>\n",
       "      <td>False</td>\n",
       "      <td>https://www.reddit.com/r/dating_advice/comment...</td>\n",
       "      <td>1165429</td>\n",
       "      <td>1.575880e+09</td>\n",
       "      <td>0</td>\n",
       "      <td>None</td>\n",
       "      <td>False</td>\n",
       "      <td>NaN</td>\n",
       "    </tr>\n",
       "    <tr>\n",
       "      <td>4</td>\n",
       "      <td>None</td>\n",
       "      <td>dating_advice</td>\n",
       "      <td>TL;DR : Met at work and became best friends. F...</td>\n",
       "      <td>t2_4um7vbg7</td>\n",
       "      <td>False</td>\n",
       "      <td>None</td>\n",
       "      <td>0</td>\n",
       "      <td>False</td>\n",
       "      <td>Ever been hopelessly in love with a best frien...</td>\n",
       "      <td>[]</td>\n",
       "      <td>...</td>\n",
       "      <td>/r/dating_advice/comments/e883k3/ever_been_hop...</td>\n",
       "      <td>all_ads</td>\n",
       "      <td>False</td>\n",
       "      <td>https://www.reddit.com/r/dating_advice/comment...</td>\n",
       "      <td>1165429</td>\n",
       "      <td>1.575886e+09</td>\n",
       "      <td>0</td>\n",
       "      <td>None</td>\n",
       "      <td>False</td>\n",
       "      <td>NaN</td>\n",
       "    </tr>\n",
       "  </tbody>\n",
       "</table>\n",
       "<p>5 rows × 101 columns</p>\n",
       "</div>"
      ],
      "text/plain": [
       "  approved_at_utc      subreddit  \\\n",
       "0            None  dating_advice   \n",
       "1            None  dating_advice   \n",
       "2            None  dating_advice   \n",
       "3            None  dating_advice   \n",
       "4            None  dating_advice   \n",
       "\n",
       "                                            selftext author_fullname  saved  \\\n",
       "0  Obviously this will depend on the type of peop...        t2_6odeb  False   \n",
       "1  Welcome to /r/dating_advice. Please use this d...        t2_6odeb  False   \n",
       "2  So, I've never been in this situation before a...     t2_3tk6oojx  False   \n",
       "3  I understand that this is sub for dating advic...      t2_snnh65m  False   \n",
       "4  TL;DR : Met at work and became best friends. F...     t2_4um7vbg7  False   \n",
       "\n",
       "  mod_reason_title  gilded  clicked  \\\n",
       "0             None       0    False   \n",
       "1             None       0    False   \n",
       "2             None       0    False   \n",
       "3             None       0    False   \n",
       "4             None       0    False   \n",
       "\n",
       "                                               title link_flair_richtext  ...  \\\n",
       "0                        FAQ: Best first date ideas?                  []  ...   \n",
       "1                   Daily Vents and Successes Thread                  []  ...   \n",
       "2  Dating while being in a FWB-relationship with ...                  []  ...   \n",
       "3                  Is it okay to be single for life?                  []  ...   \n",
       "4  Ever been hopelessly in love with a best frien...                  []  ...   \n",
       "\n",
       "                                           permalink  parent_whitelist_status  \\\n",
       "0  /r/dating_advice/comments/ds1p6v/faq_best_firs...                  all_ads   \n",
       "1  /r/dating_advice/comments/e1j9g0/daily_vents_a...                  all_ads   \n",
       "2  /r/dating_advice/comments/e89vz1/dating_while_...                  all_ads   \n",
       "3  /r/dating_advice/comments/e8798n/is_it_okay_to...                  all_ads   \n",
       "4  /r/dating_advice/comments/e883k3/ever_been_hop...                  all_ads   \n",
       "\n",
       "   stickied                                                url  \\\n",
       "0      True  https://www.reddit.com/r/dating_advice/comment...   \n",
       "1      True  https://www.reddit.com/r/dating_advice/comment...   \n",
       "2     False  https://www.reddit.com/r/dating_advice/comment...   \n",
       "3     False  https://www.reddit.com/r/dating_advice/comment...   \n",
       "4     False  https://www.reddit.com/r/dating_advice/comment...   \n",
       "\n",
       "   subreddit_subscribers   created_utc num_crossposts  media is_video  \\\n",
       "0                1165429  1.572972e+09              0   None    False   \n",
       "1                1165429  1.574703e+09              0   None    False   \n",
       "2                1165429  1.575898e+09              0   None    False   \n",
       "3                1165429  1.575880e+09              0   None    False   \n",
       "4                1165429  1.575886e+09              0   None    False   \n",
       "\n",
       "  author_cakeday  \n",
       "0            NaN  \n",
       "1            NaN  \n",
       "2            NaN  \n",
       "3            NaN  \n",
       "4            NaN  \n",
       "\n",
       "[5 rows x 101 columns]"
      ]
     },
     "execution_count": 23,
     "metadata": {},
     "output_type": "execute_result"
    }
   ],
   "source": [
    "df_DA = pd.DataFrame(DA_posts)\n",
    "df_DA.head()"
   ]
  },
  {
   "cell_type": "code",
   "execution_count": 24,
   "metadata": {},
   "outputs": [
    {
     "data": {
      "text/plain": [
       "(984, 3)"
      ]
     },
     "execution_count": 24,
     "metadata": {},
     "output_type": "execute_result"
    }
   ],
   "source": [
    "df_DA = df_DA[['subreddit', 'selftext', 'title']]\n",
    "df_DA.shape"
   ]
  },
  {
   "cell_type": "code",
   "execution_count": 25,
   "metadata": {},
   "outputs": [],
   "source": [
    "pd.DataFrame(DA_posts).to_csv('Datasets/DA.csv', index = False)"
   ]
  },
  {
   "cell_type": "code",
   "execution_count": 48,
   "metadata": {},
   "outputs": [
    {
     "data": {
      "text/plain": [
       "(2064, 3)"
      ]
     },
     "execution_count": 48,
     "metadata": {},
     "output_type": "execute_result"
    }
   ],
   "source": [
    "# merge both DataFrames together\n",
    "\n",
    "df_main = pd.concat([df_RA, df_DA], axis=0)\n",
    "df_main.shape"
   ]
  },
  {
   "cell_type": "markdown",
   "metadata": {},
   "source": [
    "As some of the subreddit topics are simply just a title with no body of content (i.e. no `selftext`), I decide to create a column called `content` which is a concatenation of `selftext` and `title`."
   ]
  },
  {
   "cell_type": "code",
   "execution_count": 49,
   "metadata": {},
   "outputs": [],
   "source": [
    "df_main['content'] = df_main['selftext'] + ' ' + df_main['title']"
   ]
  },
  {
   "cell_type": "code",
   "execution_count": 50,
   "metadata": {
    "scrolled": true
   },
   "outputs": [
    {
     "data": {
      "text/html": [
       "<div>\n",
       "<style scoped>\n",
       "    .dataframe tbody tr th:only-of-type {\n",
       "        vertical-align: middle;\n",
       "    }\n",
       "\n",
       "    .dataframe tbody tr th {\n",
       "        vertical-align: top;\n",
       "    }\n",
       "\n",
       "    .dataframe thead th {\n",
       "        text-align: right;\n",
       "    }\n",
       "</style>\n",
       "<table border=\"1\" class=\"dataframe\">\n",
       "  <thead>\n",
       "    <tr style=\"text-align: right;\">\n",
       "      <th></th>\n",
       "      <th>subreddit</th>\n",
       "      <th>content</th>\n",
       "    </tr>\n",
       "  </thead>\n",
       "  <tbody>\n",
       "    <tr>\n",
       "      <td>0</td>\n",
       "      <td>relationship_advice</td>\n",
       "      <td>**TL;DR on Throwaways:** If you wish to reques...</td>\n",
       "    </tr>\n",
       "    <tr>\n",
       "      <td>1</td>\n",
       "      <td>relationship_advice</td>\n",
       "      <td>Since two or three times a week we end up remo...</td>\n",
       "    </tr>\n",
       "    <tr>\n",
       "      <td>2</td>\n",
       "      <td>relationship_advice</td>\n",
       "      <td>I had a daughter a little over a year ago. I w...</td>\n",
       "    </tr>\n",
       "    <tr>\n",
       "      <td>3</td>\n",
       "      <td>relationship_advice</td>\n",
       "      <td>Title is purposefully a little vague so I can ...</td>\n",
       "    </tr>\n",
       "    <tr>\n",
       "      <td>4</td>\n",
       "      <td>relationship_advice</td>\n",
       "      <td>[Previous Post](https://www.reddit.com/r/relat...</td>\n",
       "    </tr>\n",
       "  </tbody>\n",
       "</table>\n",
       "</div>"
      ],
      "text/plain": [
       "             subreddit                                            content\n",
       "0  relationship_advice  **TL;DR on Throwaways:** If you wish to reques...\n",
       "1  relationship_advice  Since two or three times a week we end up remo...\n",
       "2  relationship_advice  I had a daughter a little over a year ago. I w...\n",
       "3  relationship_advice  Title is purposefully a little vague so I can ...\n",
       "4  relationship_advice  [Previous Post](https://www.reddit.com/r/relat..."
      ]
     },
     "execution_count": 50,
     "metadata": {},
     "output_type": "execute_result"
    }
   ],
   "source": [
    "# drop the other 2 columns\n",
    "df_main.drop(['selftext', 'title'], axis=1, inplace=True)\n",
    "df_main.head()"
   ]
  },
  {
   "cell_type": "code",
   "execution_count": 51,
   "metadata": {},
   "outputs": [
    {
     "data": {
      "text/plain": [
       "relationship_advice    1080\n",
       "dating_advice           984\n",
       "Name: subreddit, dtype: int64"
      ]
     },
     "execution_count": 51,
     "metadata": {},
     "output_type": "execute_result"
    }
   ],
   "source": [
    "# to show that the sample is balanced:\n",
    "\n",
    "df_main.subreddit.value_counts()"
   ]
  },
  {
   "cell_type": "code",
   "execution_count": 52,
   "metadata": {},
   "outputs": [
    {
     "data": {
      "text/html": [
       "<div>\n",
       "<style scoped>\n",
       "    .dataframe tbody tr th:only-of-type {\n",
       "        vertical-align: middle;\n",
       "    }\n",
       "\n",
       "    .dataframe tbody tr th {\n",
       "        vertical-align: top;\n",
       "    }\n",
       "\n",
       "    .dataframe thead th {\n",
       "        text-align: right;\n",
       "    }\n",
       "</style>\n",
       "<table border=\"1\" class=\"dataframe\">\n",
       "  <thead>\n",
       "    <tr style=\"text-align: right;\">\n",
       "      <th></th>\n",
       "      <th>subreddit</th>\n",
       "      <th>content</th>\n",
       "    </tr>\n",
       "  </thead>\n",
       "  <tbody>\n",
       "    <tr>\n",
       "      <td>2059</td>\n",
       "      <td>dating_advice</td>\n",
       "      <td>ive (18f) been sorta seeing this guy (18m) lat...</td>\n",
       "    </tr>\n",
       "    <tr>\n",
       "      <td>2060</td>\n",
       "      <td>dating_advice</td>\n",
       "      <td>The big saying being spread online in regards ...</td>\n",
       "    </tr>\n",
       "    <tr>\n",
       "      <td>2061</td>\n",
       "      <td>dating_advice</td>\n",
       "      <td>I have some mental issues, specifically regard...</td>\n",
       "    </tr>\n",
       "    <tr>\n",
       "      <td>2062</td>\n",
       "      <td>dating_advice</td>\n",
       "      <td>I've been having terrible luck with dating, an...</td>\n",
       "    </tr>\n",
       "    <tr>\n",
       "      <td>2063</td>\n",
       "      <td>dating_advice</td>\n",
       "      <td>I’ve been dating a guy over the past 5 months,...</td>\n",
       "    </tr>\n",
       "  </tbody>\n",
       "</table>\n",
       "</div>"
      ],
      "text/plain": [
       "          subreddit                                            content\n",
       "2059  dating_advice  ive (18f) been sorta seeing this guy (18m) lat...\n",
       "2060  dating_advice  The big saying being spread online in regards ...\n",
       "2061  dating_advice  I have some mental issues, specifically regard...\n",
       "2062  dating_advice  I've been having terrible luck with dating, an...\n",
       "2063  dating_advice  I’ve been dating a guy over the past 5 months,..."
      ]
     },
     "execution_count": 52,
     "metadata": {},
     "output_type": "execute_result"
    }
   ],
   "source": [
    "df_main.reset_index(drop=True, inplace=True)\n",
    "df_main.tail()"
   ]
  },
  {
   "cell_type": "code",
   "execution_count": 53,
   "metadata": {},
   "outputs": [],
   "source": [
    "# finally, save merged DataFrame\n",
    "pd.DataFrame(df_main).to_csv('Datasets/df_main.csv', index = False)"
   ]
  },
  {
   "cell_type": "markdown",
   "metadata": {},
   "source": [
    "## Preprocessing of Data"
   ]
  },
  {
   "cell_type": "code",
   "execution_count": 7,
   "metadata": {},
   "outputs": [],
   "source": [
    "# Create preprocessing function:\n",
    "\n",
    "import re\n",
    "from bs4 import BeautifulSoup\n",
    "from nltk.corpus import stopwords\n",
    "from nltk.stem import WordNetLemmatizer\n",
    "lemm = WordNetLemmatizer()\n",
    "\n",
    "def raw_to_words(raw_text):\n",
    "    # Function to convert a body of raw text to a string of words\n",
    "    \n",
    "    # 1. Remove HTML.\n",
    "    get_text = BeautifulSoup(raw_text).get_text()\n",
    "    \n",
    "    # 2. Remove non-letters.\n",
    "    letters_only = re.sub(\"[^a-zA-Z]\", \" \", get_text)\n",
    "    \n",
    "    # 3. Convert to lower case, split into individual words.\n",
    "    words = letters_only.lower().split()\n",
    "    \n",
    "    # 4. Lemmatize words.\n",
    "    lemmed_words = [lemm.lemmatize(i) for i in words]\n",
    "    \n",
    "    # 5. In Python, searching a set is much faster than searching\n",
    "    # a list, so convert the stop words to a set.\n",
    "    stops = set(stopwords.words('english'))\n",
    "    \n",
    "    # 6. Remove stop words.\n",
    "    meaningful_words = [w for w in lemmed_words if not w in stops]\n",
    "    \n",
    "    # 7. Join the words back into one string separated by space, \n",
    "    # and return the result.\n",
    "    return(\" \".join(meaningful_words))"
   ]
  },
  {
   "cell_type": "code",
   "execution_count": 8,
   "metadata": {},
   "outputs": [
    {
     "name": "stdout",
     "output_type": "stream",
     "text": [
      "There are 2064 bodies of raw, unprocessed Reddit texts.\n"
     ]
    }
   ],
   "source": [
    "total_raw = df_main.shape[0]\n",
    "print(f'There are {total_raw} bodies of raw, unprocessed Reddit texts.')\n",
    "\n",
    "cleaned_content = []"
   ]
  },
  {
   "cell_type": "markdown",
   "metadata": {},
   "source": [
    "#### Apply function on `content`"
   ]
  },
  {
   "cell_type": "code",
   "execution_count": 9,
   "metadata": {},
   "outputs": [
    {
     "name": "stdout",
     "output_type": "stream",
     "text": [
      "Cleaning and parsing 'content'...\n",
      "Selftext 200 of 2064.\n",
      "Selftext 400 of 2064.\n",
      "Selftext 600 of 2064.\n",
      "Selftext 800 of 2064.\n",
      "Selftext 1000 of 2064.\n",
      "Selftext 1200 of 2064.\n",
      "Selftext 1400 of 2064.\n",
      "Selftext 1600 of 2064.\n",
      "Selftext 1800 of 2064.\n",
      "Selftext 2000 of 2064.\n"
     ]
    }
   ],
   "source": [
    "print(\"Cleaning and parsing 'content'...\")\n",
    "\n",
    "j = 0\n",
    "for content in df_main['content']:\n",
    "    # Convert content to words, then append to cleaned_content.\n",
    "    cleaned_content.append(raw_to_words(content))\n",
    "    \n",
    "    # If the index is divisible by 200, print a message\n",
    "    if (j + 1) % 200 == 0:\n",
    "        print(f'Selftext {j + 1} of {total_raw}.')\n",
    "    \n",
    "    j += 1"
   ]
  },
  {
   "cell_type": "code",
   "execution_count": 10,
   "metadata": {
    "scrolled": false
   },
   "outputs": [
    {
     "data": {
      "text/html": [
       "<div>\n",
       "<style scoped>\n",
       "    .dataframe tbody tr th:only-of-type {\n",
       "        vertical-align: middle;\n",
       "    }\n",
       "\n",
       "    .dataframe tbody tr th {\n",
       "        vertical-align: top;\n",
       "    }\n",
       "\n",
       "    .dataframe thead th {\n",
       "        text-align: right;\n",
       "    }\n",
       "</style>\n",
       "<table border=\"1\" class=\"dataframe\">\n",
       "  <thead>\n",
       "    <tr style=\"text-align: right;\">\n",
       "      <th></th>\n",
       "      <th>subreddit</th>\n",
       "      <th>cleaned_content</th>\n",
       "    </tr>\n",
       "  </thead>\n",
       "  <tbody>\n",
       "    <tr>\n",
       "      <td>0</td>\n",
       "      <td>relationship_advice</td>\n",
       "      <td>tl dr throwaway wish request relationship advi...</td>\n",
       "    </tr>\n",
       "    <tr>\n",
       "      <td>1</td>\n",
       "      <td>relationship_advice</td>\n",
       "      <td>since two three time week end removing thread ...</td>\n",
       "    </tr>\n",
       "    <tr>\n",
       "      <td>2</td>\n",
       "      <td>relationship_advice</td>\n",
       "      <td>daughter little year ago wa maternity leave mo...</td>\n",
       "    </tr>\n",
       "    <tr>\n",
       "      <td>3</td>\n",
       "      <td>relationship_advice</td>\n",
       "      <td>title purposefully little vague give warning p...</td>\n",
       "    </tr>\n",
       "    <tr>\n",
       "      <td>4</td>\n",
       "      <td>relationship_advice</td>\n",
       "      <td>previous post http www reddit com r relationsh...</td>\n",
       "    </tr>\n",
       "  </tbody>\n",
       "</table>\n",
       "</div>"
      ],
      "text/plain": [
       "             subreddit                                    cleaned_content\n",
       "0  relationship_advice  tl dr throwaway wish request relationship advi...\n",
       "1  relationship_advice  since two three time week end removing thread ...\n",
       "2  relationship_advice  daughter little year ago wa maternity leave mo...\n",
       "3  relationship_advice  title purposefully little vague give warning p...\n",
       "4  relationship_advice  previous post http www reddit com r relationsh..."
      ]
     },
     "execution_count": 10,
     "metadata": {},
     "output_type": "execute_result"
    }
   ],
   "source": [
    "df_main['cleaned_content'] = pd.DataFrame(cleaned_content, columns = ['content'])\n",
    "df_main.drop(columns = ['content'], inplace=True)\n",
    "df_main.head()"
   ]
  },
  {
   "cell_type": "code",
   "execution_count": 11,
   "metadata": {},
   "outputs": [],
   "source": [
    "# lastly, dummy the target variable 'subreddit'\n",
    "\n",
    "df_main['subreddit'] = df_main.subreddit.map({'relationship_advice': 1, 'dating_advice': 0})"
   ]
  },
  {
   "cell_type": "code",
   "execution_count": 12,
   "metadata": {},
   "outputs": [
    {
     "data": {
      "text/html": [
       "<div>\n",
       "<style scoped>\n",
       "    .dataframe tbody tr th:only-of-type {\n",
       "        vertical-align: middle;\n",
       "    }\n",
       "\n",
       "    .dataframe tbody tr th {\n",
       "        vertical-align: top;\n",
       "    }\n",
       "\n",
       "    .dataframe thead th {\n",
       "        text-align: right;\n",
       "    }\n",
       "</style>\n",
       "<table border=\"1\" class=\"dataframe\">\n",
       "  <thead>\n",
       "    <tr style=\"text-align: right;\">\n",
       "      <th></th>\n",
       "      <th>subreddit</th>\n",
       "      <th>cleaned_content</th>\n",
       "    </tr>\n",
       "  </thead>\n",
       "  <tbody>\n",
       "    <tr>\n",
       "      <td>0</td>\n",
       "      <td>1</td>\n",
       "      <td>tl dr throwaway wish request relationship advi...</td>\n",
       "    </tr>\n",
       "    <tr>\n",
       "      <td>1</td>\n",
       "      <td>1</td>\n",
       "      <td>since two three time week end removing thread ...</td>\n",
       "    </tr>\n",
       "    <tr>\n",
       "      <td>2</td>\n",
       "      <td>1</td>\n",
       "      <td>daughter little year ago wa maternity leave mo...</td>\n",
       "    </tr>\n",
       "    <tr>\n",
       "      <td>3</td>\n",
       "      <td>1</td>\n",
       "      <td>title purposefully little vague give warning p...</td>\n",
       "    </tr>\n",
       "    <tr>\n",
       "      <td>4</td>\n",
       "      <td>1</td>\n",
       "      <td>previous post http www reddit com r relationsh...</td>\n",
       "    </tr>\n",
       "  </tbody>\n",
       "</table>\n",
       "</div>"
      ],
      "text/plain": [
       "   subreddit                                    cleaned_content\n",
       "0          1  tl dr throwaway wish request relationship advi...\n",
       "1          1  since two three time week end removing thread ...\n",
       "2          1  daughter little year ago wa maternity leave mo...\n",
       "3          1  title purposefully little vague give warning p...\n",
       "4          1  previous post http www reddit com r relationsh..."
      ]
     },
     "execution_count": 12,
     "metadata": {},
     "output_type": "execute_result"
    }
   ],
   "source": [
    "df_main.head()"
   ]
  },
  {
   "cell_type": "code",
   "execution_count": 13,
   "metadata": {
    "scrolled": true
   },
   "outputs": [
    {
     "data": {
      "text/plain": [
       "(2064, 2)"
      ]
     },
     "execution_count": 13,
     "metadata": {},
     "output_type": "execute_result"
    }
   ],
   "source": [
    "df_main.shape"
   ]
  },
  {
   "cell_type": "markdown",
   "metadata": {},
   "source": [
    "## EDA and Feature Selection\n",
    "\n",
    "- create a word cloud to explore potentially unwanted words"
   ]
  },
  {
   "cell_type": "code",
   "execution_count": 14,
   "metadata": {},
   "outputs": [],
   "source": [
    "from os import path\n",
    "from PIL import Image\n",
    "from wordcloud import WordCloud, STOPWORDS, ImageColorGenerator\n",
    "\n",
    "import matplotlib.pyplot as plt\n",
    "%matplotlib inline"
   ]
  },
  {
   "cell_type": "code",
   "execution_count": 15,
   "metadata": {
    "scrolled": true
   },
   "outputs": [
    {
     "data": {
      "text/plain": [
       "array([[1, 1, 1, ..., 1, 1, 1],\n",
       "       [1, 1, 1, ..., 1, 1, 1],\n",
       "       [1, 1, 1, ..., 1, 1, 1],\n",
       "       ...,\n",
       "       [1, 1, 1, ..., 1, 1, 1],\n",
       "       [1, 1, 1, ..., 1, 1, 1],\n",
       "       [1, 1, 1, ..., 1, 1, 1]], dtype=uint8)"
      ]
     },
     "execution_count": 15,
     "metadata": {},
     "output_type": "execute_result"
    }
   ],
   "source": [
    "# creating a heart-shaped word cloud ;)\n",
    "\n",
    "heart_mask = np.array(Image.open(\"Images/heart_mask.png\"))\n",
    "heart_mask"
   ]
  },
  {
   "cell_type": "code",
   "execution_count": 16,
   "metadata": {},
   "outputs": [],
   "source": [
    "# The way the masking functions works is that it requires all white part of the mask to be 255, not 1 (integer type).\n",
    "# Hence, need to create a function to transform the mask first.\n",
    "\n",
    "def transform_format(val):\n",
    "    if val == 1:\n",
    "        return 255\n",
    "    else:\n",
    "        return val"
   ]
  },
  {
   "cell_type": "code",
   "execution_count": 17,
   "metadata": {},
   "outputs": [],
   "source": [
    "# Transform my mask into a new one that will work with the function:\n",
    "transformed_heart_mask = np.ndarray((heart_mask.shape[0],heart_mask.shape[1]), np.int32)\n",
    "\n",
    "for i in range(len(heart_mask)):\n",
    "    transformed_heart_mask[i] = list(map(transform_format, heart_mask[i]))"
   ]
  },
  {
   "cell_type": "code",
   "execution_count": 18,
   "metadata": {},
   "outputs": [
    {
     "data": {
      "text/plain": [
       "array([[255, 255, 255, ..., 255, 255, 255],\n",
       "       [255, 255, 255, ..., 255, 255, 255],\n",
       "       [255, 255, 255, ..., 255, 255, 255],\n",
       "       ...,\n",
       "       [255, 255, 255, ..., 255, 255, 255],\n",
       "       [255, 255, 255, ..., 255, 255, 255],\n",
       "       [255, 255, 255, ..., 255, 255, 255]], dtype=int32)"
      ]
     },
     "execution_count": 18,
     "metadata": {},
     "output_type": "execute_result"
    }
   ],
   "source": [
    "transformed_heart_mask"
   ]
  },
  {
   "cell_type": "code",
   "execution_count": 19,
   "metadata": {},
   "outputs": [],
   "source": [
    "content = df_main.cleaned_content\n",
    "\n",
    "content_str = str([word for word in content])"
   ]
  },
  {
   "cell_type": "code",
   "execution_count": 20,
   "metadata": {},
   "outputs": [
    {
     "data": {
      "image/png": "[encoded data removed]",
      "text/plain": [
       "<Figure size 720x576 with 1 Axes>"
      ]
     },
     "metadata": {
      "needs_background": "light"
     },
     "output_type": "display_data"
    }
   ],
   "source": [
    "# Create and generate a word cloud image:\n",
    "wordcloud = WordCloud(max_font_size=80, max_words=600,\n",
    "                      mask=transformed_heart_mask, background_color=\"white\",\n",
    "                     contour_width=5, contour_color='firebrick').generate(content_str)\n",
    "plt.figure(figsize=(10,8))\n",
    "plt.imshow(wordcloud, interpolation=\"bilinear\")\n",
    "plt.axis(\"off\")\n",
    "plt.show()"
   ]
  },
  {
   "cell_type": "code",
   "execution_count": 31,
   "metadata": {
    "scrolled": true
   },
   "outputs": [
    {
     "name": "stdout",
     "output_type": "stream",
     "text": [
      "girl 1.0\n",
      "last night 0.9647577092511013\n",
      "date 0.8149779735682819\n",
      "relationship advice 0.7136563876651982\n",
      "friend 0.6916299559471366\n",
      "said wa 0.6277533039647577\n",
      "sex life 0.6233480176211453\n",
      "tl dr 0.5814977973568282\n",
      "guy 0.5704845814977973\n",
      "together year 0.5374449339207048\n",
      "think wa 0.4669603524229075\n",
      "hey reddit 0.44933920704845814\n",
      "advice comment 0.44052863436123346\n",
      "dating 0.43171806167400884\n",
      "pretty much 0.43171806167400884\n",
      "couple time 0.4052863436123348\n",
      "many people 0.3920704845814978\n",
      "want lose 0.381057268722467\n",
      "call back 0.3568281938325991\n",
      "reddit relationship 0.3524229074889868\n",
      "make feel 0.3436123348017621\n",
      "even though 0.3392070484581498\n",
      "year ago 0.33480176211453744\n",
      "time wa 0.33480176211453744\n",
      "two week 0.32819383259911894\n",
      "long time 0.32819383259911894\n",
      "interested 0.32158590308370044\n",
      "class 0.31497797356828194\n",
      "night wa 0.31277533039647576\n",
      "little bit 0.30837004405286345\n",
      "thought wa 0.3039647577092511\n",
      "pretty good 0.30176211453744495\n",
      "high school 0.29955947136563876\n",
      "wa thinking 0.29515418502202645\n",
      "go back 0.29515418502202645\n",
      "time week 0.2907488986784141\n",
      "year old 0.2907488986784141\n",
      "wa wrong 0.28634361233480177\n",
      "wa kind 0.2841409691629956\n",
      "week ago 0.28193832599118945\n",
      "month ago 0.28193832599118945\n",
      "past couple 0.27973568281938327\n",
      "family friend 0.2775330396475771\n",
      "wa going 0.2775330396475771\n",
      "ha really 0.2753303964757709\n",
      "really love 0.2753303964757709\n",
      "got little 0.27312775330396477\n",
      "happened wa 0.2709251101321586\n",
      "sex last 0.2709251101321586\n",
      "new account 0.2687224669603524\n",
      "wa lying 0.2687224669603524\n",
      "difficult time 0.2687224669603524\n",
      "fall asleep 0.2687224669603524\n",
      "night got 0.2687224669603524\n",
      "follow advice 0.2665198237885463\n",
      "leave room 0.2665198237885463\n",
      "ha right 0.2665198237885463\n",
      "something happened 0.2665198237885463\n",
      "little upset 0.2665198237885463\n",
      "work schedule 0.2665198237885463\n",
      "next room 0.2665198237885463\n",
      "comment cx 0.2643171806167401\n",
      "cx meta 0.2643171806167401\n",
      "meta cool 0.2643171806167401\n",
      "cool mil 0.2643171806167401\n",
      "mil must 0.2643171806167401\n",
      "must read 0.2643171806167401\n",
      "comment probably 0.2643171806167401\n",
      "gp call 0.2643171806167401\n",
      "church group 0.2643171806167401\n",
      "mother brother 0.2643171806167401\n",
      "mother want 0.2643171806167401\n",
      "really want 0.2555066079295154\n",
      "every day 0.2422907488986784\n",
      "even know 0.23788546255506607\n",
      "woman 0.2356828193832599\n",
      "kinda 0.2356828193832599\n",
      "every time 0.2356828193832599\n",
      "couple week 0.23348017621145375\n",
      "wa one 0.23127753303964757\n",
      "one thing 0.2290748898678414\n",
      "want see 0.2290748898678414\n",
      "want make 0.2290748898678414\n",
      "reply 0.22246696035242292\n",
      "one time 0.22246696035242292\n",
      "first time 0.21585903083700442\n",
      "every single 0.21365638766519823\n",
      "wa still 0.21365638766519823\n",
      "came back 0.21145374449339208\n",
      "two month 0.21145374449339208\n",
      "feel really 0.21145374449339208\n",
      "crush 0.2092511013215859\n",
      "went home 0.2092511013215859\n",
      "first date 0.2092511013215859\n",
      "wanted see 0.20704845814977973\n",
      "keep mind 0.20484581497797358\n",
      "whole thing 0.20484581497797358\n",
      "going back 0.20484581497797358\n",
      "really know 0.2026431718061674\n",
      "real life 0.2026431718061674\n",
      "ha never 0.19823788546255505\n",
      "meet 0.1960352422907489\n",
      "ex 0.1960352422907489\n",
      "thanks advance 0.1960352422907489\n",
      "full time 0.19383259911894274\n",
      "never even 0.19383259911894274\n",
      "quite bit 0.19383259911894274\n",
      "people think 0.19383259911894274\n",
      "big deal 0.19383259911894274\n",
      "relationship ha 0.19383259911894274\n",
      "awkward 0.19162995594713655\n",
      "phone number 0.19162995594713655\n",
      "time life 0.19162995594713655\n",
      "looking forward 0.19162995594713655\n",
      "thing feel 0.19162995594713655\n",
      "ha already 0.19162995594713655\n",
      "started talking 0.19162995594713655\n",
      "advice please 0.1894273127753304\n",
      "way back 0.1894273127753304\n",
      "leave alone 0.1894273127753304\n",
      "know ha 0.1894273127753304\n",
      "girlfriend year 0.1894273127753304\n",
      "talk much 0.1894273127753304\n",
      "couple year 0.1894273127753304\n",
      "another country 0.18722466960352424\n",
      "ha changed 0.18722466960352424\n",
      "first wa 0.18722466960352424\n",
      "wanted say 0.18722466960352424\n",
      "really appreciate 0.18722466960352424\n",
      "much want 0.18722466960352424\n",
      "wa much 0.18722466960352424\n",
      "little thing 0.18722466960352424\n",
      "feel bit 0.18722466960352424\n",
      "ha come 0.18502202643171806\n",
      "work hour 0.18502202643171806\n",
      "fell asleep 0.18502202643171806\n",
      "totally fine 0.1828193832599119\n",
      "lot question 0.1828193832599119\n",
      "basically went 0.1828193832599119\n",
      "back normal 0.1828193832599119\n",
      "make uncomfortable 0.1828193832599119\n",
      "wa sorry 0.1828193832599119\n",
      "say ha 0.1828193832599119\n",
      "know one 0.1828193832599119\n",
      "said know 0.1828193832599119\n",
      "know still 0.1828193832599119\n",
      "always great 0.1828193832599119\n",
      "head wa 0.1828193832599119\n",
      "wanted sex 0.1828193832599119\n",
      "one bit 0.18061674008810572\n",
      "one sided 0.18061674008810572\n",
      "might even 0.18061674008810572\n",
      "stay work 0.18061674008810572\n",
      "people might 0.18061674008810572\n",
      "back work 0.18061674008810572\n",
      "said going 0.18061674008810572\n",
      "mom ha 0.18061674008810572\n",
      "offered pay 0.18061674008810572\n",
      "anything stop 0.18061674008810572\n",
      "turn wa 0.18061674008810572\n",
      "saying ha 0.18061674008810572\n",
      "rest night 0.18061674008810572\n",
      "idea feel 0.18061674008810572\n",
      "back day 0.18061674008810572\n",
      "maybe month 0.18061674008810572\n",
      "going regret 0.18061674008810572\n",
      "told time 0.18061674008810572\n",
      "moved together 0.18061674008810572\n",
      "made realize 0.18061674008810572\n",
      "told think 0.18061674008810572\n",
      "great relationship 0.18061674008810572\n",
      "weight loss 0.18061674008810572\n",
      "lose weight 0.18061674008810572\n",
      "upset said 0.18061674008810572\n",
      "stuff know 0.18061674008810572\n",
      "getting married 0.18061674008810572\n",
      "busy 0.17841409691629956\n",
      "every post 0.17841409691629956\n",
      "post relationship 0.17841409691629956\n",
      "ton people 0.17841409691629956\n",
      "day hey 0.17841409691629956\n",
      "two thing 0.17841409691629956\n",
      "people tell 0.17841409691629956\n",
      "day spent 0.17841409691629956\n",
      "cat litter 0.17841409691629956\n",
      "basically said 0.17841409691629956\n",
      "six year 0.17841409691629956\n",
      "wa unsure 0.17841409691629956\n",
      "etc always 0.17841409691629956\n",
      "said leave 0.17841409691629956\n",
      "fun stuff 0.17841409691629956\n",
      "life right 0.17841409691629956\n",
      "thing bother 0.17841409691629956\n",
      "male life 0.17841409691629956\n",
      "rough patch 0.17841409691629956\n",
      "dream job 0.17841409691629956\n",
      "boyfriend together 0.17841409691629956\n",
      "feel selfish 0.17841409691629956\n",
      "relationship boyfriend 0.17841409691629956\n",
      "supposed text 0.17841409691629956\n",
      "lost weight 0.17841409691629956\n",
      "worth mentioning 0.17841409691629956\n",
      "bathroom wa 0.17841409691629956\n",
      "got kind 0.17841409691629956\n",
      "texting 0.1762114537444934\n",
      "please start 0.1762114537444934\n",
      "content check 0.1762114537444934\n",
      "post update 0.1762114537444934\n",
      "update rule 0.1762114537444934\n",
      "account post 0.1762114537444934\n",
      "update update 0.1762114537444934\n",
      "specific follow 0.1762114537444934\n",
      "reddit thing 0.1762114537444934\n",
      "life pretty 0.1762114537444934\n",
      "uber rating 0.1762114537444934\n",
      "unless something 0.1762114537444934\n",
      "vast majority 0.1762114537444934\n",
      "comment telling 0.1762114537444934\n",
      "probably tell 0.1762114537444934\n",
      "tell run 0.1762114537444934\n",
      "tell consider 0.1762114537444934\n",
      "love language 0.1762114537444934\n",
      "nbsp nbsp 0.1762114537444934\n",
      "nbsp uncommon 0.1762114537444934\n",
      "change cat 0.1762114537444934\n",
      "made way 0.1762114537444934\n",
      "send ambulance 0.1762114537444934\n",
      "think fine 0.1762114537444934\n",
      "question tell 0.1762114537444934\n",
      "bump head 0.1762114537444934\n",
      "husband ha 0.1762114537444934\n",
      "mother fucking 0.1762114537444934\n",
      "mother ha 0.1762114537444934\n",
      "associated mom 0.1762114537444934\n",
      "part church 0.1762114537444934\n",
      "threw away 0.1762114537444934\n",
      "person love 0.1762114537444934\n",
      "entire relationship 0.1762114537444934\n",
      "stop wearing 0.1762114537444934\n",
      "wearing dirty 0.1762114537444934\n",
      "two pile 0.1762114537444934\n",
      "rent decent 0.1762114537444934\n",
      "towards father 0.1762114537444934\n",
      "brother funeral 0.1762114537444934\n",
      "father new 0.1762114537444934\n",
      "financial issue 0.1762114537444934\n",
      "passed away 0.1762114537444934\n",
      "said even 0.1762114537444934\n",
      "mother say 0.1762114537444934\n",
      "family talk 0.1762114537444934\n",
      "want funeral 0.1762114537444934\n",
      "want turn 0.1762114537444934\n",
      "point know 0.1762114537444934\n",
      "closed door 0.1762114537444934\n",
      "pop music 0.1762114537444934\n",
      "became distant 0.1762114537444934\n",
      "distant angry 0.1762114537444934\n",
      "angry rest 0.1762114537444934\n",
      "eye want 0.1762114537444934\n",
      "work ha 0.1762114537444934\n",
      "angry talk 0.1762114537444934\n",
      "murder father 0.1762114537444934\n",
      "tried telling 0.1762114537444934\n",
      "father wa 0.1762114537444934\n",
      "worried girlfriend 0.1762114537444934\n",
      "fine drink 0.1762114537444934\n",
      "drink every 0.1762114537444934\n",
      "deal think 0.1762114537444934\n",
      "honestly even 0.1762114537444934\n",
      "phone usage 0.1762114537444934\n",
      "single male 0.1762114537444934\n",
      "emotional affair 0.1762114537444934\n",
      "exit strategy 0.1762114537444934\n",
      "wife computer 0.1762114537444934\n",
      "written wa 0.1762114537444934\n",
      "taking job 0.1762114537444934\n",
      "job far 0.1762114537444934\n",
      "come career 0.1762114537444934\n",
      "going wake 0.1762114537444934\n",
      "might work 0.1762114537444934\n",
      "smart caring 0.1762114537444934\n",
      "stress induced 0.1762114537444934\n",
      "induced tinnitus 0.1762114537444934\n",
      "try stop 0.1762114537444934\n",
      "find better 0.1762114537444934\n",
      "watching tv 0.1762114537444934\n",
      "met know 0.1762114537444934\n",
      "people reddit 0.1762114537444934\n",
      "lack intimacy 0.1762114537444934\n",
      "boyfriend college 0.1762114537444934\n",
      "plastic surgery 0.1762114537444934\n",
      "weight even 0.1762114537444934\n",
      "boyfriend lost 0.1762114537444934\n",
      "weight became 0.1762114537444934\n",
      "extremely insecure 0.1762114537444934\n",
      "porn addiction 0.1762114537444934\n",
      "daughter turned 0.1762114537444934\n",
      "turned yesterday 0.1762114537444934\n",
      "announced getting 0.1762114537444934\n",
      "boyfriend told 0.1762114537444934\n",
      "want recital 0.1762114537444934\n",
      "cello teacher 0.1762114537444934\n",
      "girlfriend gave 0.1762114537444934\n",
      "got bed 0.1762114537444934\n",
      "went bathroom 0.1762114537444934\n",
      "wa shower 0.1762114537444934\n",
      "kind upset 0.1762114537444934\n",
      "dating app 0.17400881057268722\n",
      "told wa 0.1696035242290749\n",
      "ended 0.16740088105726872\n",
      "one day 0.16519823788546256\n",
      "know want 0.16299559471365638\n",
      "want know 0.15859030837004406\n",
      "mutual friend 0.15859030837004406\n",
      "need help 0.15638766519823788\n",
      "want go 0.15638766519823788\n",
      "cause 0.14977973568281938\n",
      "really well 0.14977973568281938\n",
      "last week 0.14977973568281938\n",
      "day later 0.14537444933920704\n",
      "really good 0.14537444933920704\n",
      "girl wa 0.14537444933920704\n",
      "wa pretty 0.14537444933920704\n",
      "couple day 0.14317180616740088\n",
      "long term 0.14317180616740088\n",
      "wa first 0.14317180616740088\n",
      "time together 0.14096916299559473\n",
      "idk 0.13876651982378854\n",
      "guy think 0.13876651982378854\n",
      "self esteem 0.13876651982378854\n",
      "good looking 0.13876651982378854\n",
      "wanted go 0.13656387665198239\n",
      "end 0.1343612334801762\n",
      "liked 0.1343612334801762\n",
      "next week 0.1343612334801762\n",
      "best way 0.13215859030837004\n",
      "really bad 0.13215859030837004\n",
      "wa talking 0.13215859030837004\n",
      "usually 0.1299559471365639\n",
      "went back 0.1299559471365639\n",
      "wa always 0.1299559471365639\n",
      "back place 0.1299559471365639\n",
      "know feel 0.1299559471365639\n",
      "wa good 0.1299559471365639\n",
      "make sure 0.1277533039647577\n",
      "feel bad 0.1277533039647577\n",
      "last month 0.1277533039647577\n",
      "month later 0.12555066079295155\n",
      "feel way 0.12555066079295155\n",
      "bar 0.12334801762114538\n",
      "tinder 0.12334801762114538\n",
      "mental health 0.12334801762114538\n",
      "great time 0.12334801762114538\n",
      "stop thinking 0.12334801762114538\n",
      "snapchat 0.1211453744493392\n",
      "made feel 0.1211453744493392\n",
      "say anything 0.1211453744493392\n",
      "let know 0.1211453744493392\n",
      "hang 0.11894273127753303\n",
      "red flag 0.11894273127753303\n",
      "want talk 0.11894273127753303\n",
      "spend time 0.11894273127753303\n",
      "time feel 0.11894273127753303\n",
      "many time 0.11894273127753303\n",
      "entire time 0.11894273127753303\n",
      "past week 0.11894273127753303\n",
      "hold hand 0.11894273127753303\n",
      "next day 0.11894273127753303\n",
      "wa looking 0.11674008810572688\n",
      "feel uncomfortable 0.11674008810572688\n",
      "ha anyone 0.11674008810572688\n",
      "cute 0.1145374449339207\n",
      "two day 0.1145374449339207\n",
      "saying wa 0.1145374449339207\n",
      "one another 0.1145374449339207\n",
      "time think 0.1145374449339207\n",
      "past month 0.1145374449339207\n",
      "know going 0.1145374449339207\n",
      "respond 0.11233480176211454\n",
      "recently started 0.11233480176211454\n",
      "told want 0.11233480176211454\n",
      "hour away 0.11233480176211454\n",
      "want sex 0.11233480176211454\n",
      "getting back 0.11233480176211454\n",
      "girl never 0.11233480176211454\n",
      "want something 0.11233480176211454\n",
      "honest 0.11013215859030837\n",
      "ago wa 0.11013215859030837\n",
      "day week 0.11013215859030837\n",
      "together month 0.11013215859030837\n",
      "doe anyone 0.11013215859030837\n",
      "never met 0.11013215859030837\n",
      "snap 0.10792951541850221\n",
      "wa gonna 0.10792951541850221\n",
      "told wanted 0.10792951541850221\n",
      "hey guy 0.10792951541850221\n",
      "see one 0.10792951541850221\n",
      "make thing 0.10792951541850221\n",
      "time told 0.10792951541850221\n",
      "asked said 0.10792951541850221\n",
      "time asked 0.10792951541850221\n",
      "got home 0.10792951541850221\n",
      "met girl 0.10792951541850221\n",
      "texted 0.10572687224669604\n",
      "friendship 0.10572687224669604\n",
      "good way 0.10572687224669604\n",
      "sure wa 0.10572687224669604\n",
      "needle say 0.10572687224669604\n",
      "ha lot 0.10572687224669604\n",
      "know approach 0.10572687224669604\n",
      "make happy 0.10572687224669604\n",
      "good enough 0.10572687224669604\n",
      "point wa 0.10572687224669604\n",
      "really interested 0.10572687224669604\n",
      "asking advice 0.10572687224669604\n",
      "relationship one 0.10572687224669604\n",
      "sometimes feel 0.10572687224669604\n",
      "know never 0.10572687224669604\n",
      "felt bad 0.10572687224669604\n",
      "three year 0.10572687224669604\n",
      "girl used 0.10572687224669604\n",
      "next morning 0.10572687224669604\n",
      "wa already 0.10572687224669604\n",
      "nervous 0.10352422907488987\n",
      "met person 0.10352422907488987\n",
      "today wa 0.10352422907488987\n",
      "next couple 0.10352422907488987\n",
      "want ruin 0.10352422907488987\n",
      "something want 0.10352422907488987\n",
      "want say 0.10352422907488987\n",
      "say want 0.10352422907488987\n",
      "time talk 0.10352422907488987\n",
      "going go 0.10352422907488987\n",
      "want someone 0.10352422907488987\n",
      "past two 0.10352422907488987\n",
      "talking friend 0.10352422907488987\n",
      "even really 0.10352422907488987\n",
      "kind person 0.10352422907488987\n",
      "almost always 0.10352422907488987\n",
      "ha girlfriend 0.10352422907488987\n",
      "along line 0.10352422907488987\n",
      "thing even 0.10352422907488987\n",
      "thing got 0.10352422907488987\n",
      "wa scared 0.10352422907488987\n",
      "seeing 0.1013215859030837\n",
      "hanging 0.1013215859030837\n",
      "make new 0.1013215859030837\n",
      "give advice 0.1013215859030837\n",
      "telling wa 0.1013215859030837\n",
      "couple hour 0.1013215859030837\n",
      "bad idea 0.1013215859030837\n",
      "relationship long 0.1013215859030837\n",
      "relationship time 0.1013215859030837\n",
      "year know 0.1013215859030837\n",
      "first place 0.1013215859030837\n",
      "ha always 0.1013215859030837\n",
      "wa getting 0.1013215859030837\n",
      "told never 0.1013215859030837\n",
      "wa starting 0.1013215859030837\n",
      "thing happened 0.1013215859030837\n",
      "one point 0.1013215859030837\n",
      "agreed go 0.1013215859030837\n",
      "love life 0.1013215859030837\n",
      "time first 0.1013215859030837\n",
      "thing never 0.1013215859030837\n",
      "nothing really 0.1013215859030837\n",
      "way make 0.1013215859030837\n",
      "ha made 0.1013215859030837\n",
      "still see 0.1013215859030837\n",
      "weekend wa 0.1013215859030837\n",
      "wa point 0.1013215859030837\n",
      "time ago 0.1013215859030837\n",
      "kind thing 0.1013215859030837\n",
      "several time 0.1013215859030837\n",
      "love hear 0.1013215859030837\n",
      "go bed 0.1013215859030837\n",
      "heart 0.09911894273127753\n",
      "three time 0.09911894273127753\n",
      "way tell 0.09911894273127753\n",
      "one two 0.09911894273127753\n",
      "ha happened 0.09911894273127753\n",
      "thing ha 0.09911894273127753\n",
      "time never 0.09911894273127753\n",
      "bad person 0.09911894273127753\n",
      "week back 0.09911894273127753\n",
      "go one 0.09911894273127753\n",
      "sure yet 0.09911894273127753\n",
      "wa able 0.09911894273127753\n",
      "let alone 0.09911894273127753\n",
      "talking wa 0.09911894273127753\n",
      "never wanted 0.09911894273127753\n",
      "talked much 0.09911894273127753\n",
      "start getting 0.09911894273127753\n",
      "got point 0.09911894273127753\n",
      "able see 0.09911894273127753\n",
      "one even 0.09911894273127753\n",
      "anything wrong 0.09911894273127753\n",
      "think good 0.09911894273127753\n",
      "rest life 0.09911894273127753\n",
      "year last 0.09911894273127753\n",
      "help make 0.09911894273127753\n",
      "ex girlfriend 0.09911894273127753\n",
      "boyfriend wa 0.09911894273127753\n",
      "want find 0.09911894273127753\n",
      "message wa 0.09911894273127753\n",
      "realized wa 0.09911894273127753\n",
      "told family 0.09911894273127753\n",
      "feel little 0.09911894273127753\n",
      "message said 0.09911894273127753\n",
      "wait see 0.09911894273127753\n",
      "one hand 0.09911894273127753\n",
      "keep saying 0.09911894273127753\n",
      "saying know 0.09911894273127753\n",
      "good day 0.09691629955947137\n",
      "let say 0.09691629955947137\n",
      "someone come 0.09691629955947137\n",
      "back really 0.09691629955947137\n",
      "really made 0.09691629955947137\n",
      "feel better 0.09691629955947137\n",
      "said liked 0.09691629955947137\n",
      "feel free 0.09691629955947137\n",
      "place go 0.09691629955947137\n",
      "even sure 0.09691629955947137\n",
      "please help' 0.09691629955947137\n",
      "wa waiting 0.09691629955947137\n",
      "always wanted 0.09691629955947137\n",
      "much still 0.09691629955947137\n",
      "something said 0.09691629955947137\n",
      "know something 0.09691629955947137\n",
      "made think 0.09691629955947137\n",
      "yet feel 0.09691629955947137\n",
      "wa single 0.09691629955947137\n",
      "life hour 0.09691629955947137\n",
      "decided stay 0.09691629955947137\n",
      "think anything 0.09691629955947137\n",
      "found wa 0.09691629955947137\n",
      "work going 0.09691629955947137\n",
      "think people 0.09691629955947137\n",
      "work really 0.09691629955947137\n",
      "think great 0.09691629955947137\n",
      "great person 0.09691629955947137\n",
      "around time 0.09691629955947137\n",
      "month two 0.09691629955947137\n",
      "new job 0.09691629955947137\n",
      "know anymore 0.09691629955947137\n",
      "time right 0.09691629955947137\n",
      "life still 0.09691629955947137\n",
      "week feel 0.09691629955947137\n",
      "home thanksgiving 0.09691629955947137\n",
      "going gym 0.09691629955947137\n",
      "find really 0.09691629955947137\n",
      "looking girl 0.09691629955947137\n",
      "today asked 0.09691629955947137\n",
      "sit next 0.09691629955947137\n",
      "wa long 0.09691629955947137\n",
      "life ha 0.09691629955947137\n",
      "ha gone 0.09691629955947137\n",
      "month ha 0.09691629955947137\n",
      "feeling pretty 0.09691629955947137\n",
      "advice getting 0.09691629955947137\n",
      "honestly really 0.09691629955947137\n",
      "drove home 0.09691629955947137\n",
      "asked come 0.09691629955947137\n",
      "feel great 0.09691629955947137\n",
      "said never 0.09691629955947137\n",
      "enjoy company 0.09691629955947137\n",
      "right wa 0.09691629955947137\n",
      "think may 0.09691629955947137\n",
      "something going 0.09691629955947137\n",
      "best friend 0.09691629955947137\n",
      "dated 0.0947136563876652\n",
      "people post 0.0947136563876652\n",
      "ask advice 0.0947136563876652\n",
      "thanks help 0.0947136563876652\n",
      "see going 0.0947136563876652\n",
      "think relationship 0.0947136563876652\n",
      "thing always 0.0947136563876652\n",
      "got drunk 0.0947136563876652\n",
      "good relationship 0.0947136563876652\n",
      "three four 0.0947136563876652\n",
      "back within 0.0947136563876652\n",
      "asked whether 0.0947136563876652\n",
      "showing interest 0.0947136563876652\n",
      "thing happen 0.0947136563876652\n",
      "know bad 0.0947136563876652\n",
      "want change 0.0947136563876652\n",
      "left feeling 0.0947136563876652\n",
      "amazing thing 0.0947136563876652\n",
      "better said 0.0947136563876652\n",
      "year going 0.0947136563876652\n",
      "year recently 0.0947136563876652\n",
      "really fucking 0.0947136563876652\n",
      "something make 0.0947136563876652\n",
      "throughout day 0.0947136563876652\n",
      "another one 0.0947136563876652\n",
      "might come 0.0947136563876652\n",
      "still sure 0.0947136563876652\n",
      "issue wa 0.0947136563876652\n",
      "wa absolutely 0.0947136563876652\n",
      "everything wanted 0.0947136563876652\n"
     ]
    }
   ],
   "source": [
    "for i, j in wordcloud.words_.items():\n",
    "    print(i, j)"
   ]
  },
  {
   "cell_type": "code",
   "execution_count": 39,
   "metadata": {},
   "outputs": [
    {
     "data": {
      "text/plain": [
       "600"
      ]
     },
     "execution_count": 39,
     "metadata": {},
     "output_type": "execute_result"
    }
   ],
   "source": [
    "len([(i, j) for (i, j) in wordcloud.words_.items()])"
   ]
  },
  {
   "cell_type": "code",
   "execution_count": 41,
   "metadata": {},
   "outputs": [
    {
     "data": {
      "text/plain": [
       "Text(0.5, 1.0, 'Top 30 Test Data Word Frequency')"
      ]
     },
     "execution_count": 41,
     "metadata": {},
     "output_type": "execute_result"
    },
    {
     "data": {
      "image/png": "[encoded data removed]",
      "text/plain": [
       "<Figure size 720x720 with 1 Axes>"
      ]
     },
     "metadata": {
      "needs_background": "light"
     },
     "output_type": "display_data"
    }
   ],
   "source": [
    "import seaborn as sns\n",
    "\n",
    "keys = [i[0] for i in wordcloud.words_.items()]\n",
    "vals = [i[1] for i in wordcloud.words_.items()]\n",
    "#d= {'k':keys,'v':vals}\n",
    "df_wc = pd.DataFrame()\n",
    "df_wc['keys'] = keys\n",
    "df_wc['vals'] = vals\n",
    "plt.figure(figsize=[10,10])\n",
    "sns.barplot(df_wc['vals'][:30], df_wc['keys'][:30])\n",
    "plt.title('Top 30 Test Data Word Frequency')"
   ]
  },
  {
   "cell_type": "markdown",
   "metadata": {},
   "source": [
    "There are certain highly-frequent words that do not seem to give much context:\n",
    "\n",
    "- 'tl dr'\n",
    "- 'reddit'\n",
    "\n",
    "Hence, I will be doing including these words in the stopwords during the latter modelling phase."
   ]
  },
  {
   "cell_type": "markdown",
   "metadata": {},
   "source": [
    "## Modelling"
   ]
  },
  {
   "cell_type": "code",
   "execution_count": 68,
   "metadata": {},
   "outputs": [],
   "source": [
    "# Train-test split data:\n",
    "X = df_main.cleaned_content\n",
    "y = df_main.subreddit\n",
    "\n",
    "from sklearn.model_selection import train_test_split\n",
    "\n",
    "X_train, X_test, y_train, y_test = train_test_split(X, y,\n",
    "                                                    test_size = 0.25,\n",
    "                                                    random_state = 42)"
   ]
  },
  {
   "cell_type": "markdown",
   "metadata": {},
   "source": [
    "#### Set baseline:"
   ]
  },
  {
   "cell_type": "code",
   "execution_count": 69,
   "metadata": {},
   "outputs": [
    {
     "data": {
      "text/plain": [
       "1    0.523256\n",
       "0    0.476744\n",
       "Name: subreddit, dtype: float64"
      ]
     },
     "execution_count": 69,
     "metadata": {},
     "output_type": "execute_result"
    }
   ],
   "source": [
    "y.value_counts(normalize=True)"
   ]
  },
  {
   "cell_type": "markdown",
   "metadata": {},
   "source": [
    "I will be using both **CountVectorizer (cvec)** and **TF-IDF Vectorizer (tvec)** to model the dataset.\n",
    "\n",
    "For cvec, I will be running a logistic regression after tuning its hyperparameters using GridSearchCV.\n",
    "\n",
    "For tvec, I will be creating a Naive Bayes classifier after tuning its hyperparameters as well.\n",
    "\n",
    "For comparison's sake, I will also create a Naive Bayes classifier for the tuned cvec model."
   ]
  },
  {
   "cell_type": "markdown",
   "metadata": {},
   "source": [
    "### CVEC\n",
    "\n",
    "- Reexplore the train dataset first to ascertain what range of values to input for the GridSearchCV hyperparameters"
   ]
  },
  {
   "cell_type": "code",
   "execution_count": 70,
   "metadata": {},
   "outputs": [],
   "source": [
    "# first create a naive CVEC without any specified params, except for the abovementioned stopwords:\n",
    "from sklearn.feature_extraction.text import CountVectorizer\n",
    "cvec = CountVectorizer(stop_words = ['tldr', 'tl', 'dr', 'reddit', 'tl dr'])"
   ]
  },
  {
   "cell_type": "code",
   "execution_count": 71,
   "metadata": {},
   "outputs": [],
   "source": [
    "X_train_cvec_naive = cvec.fit_transform(X_train).todense()\n",
    "X_test_cvec_naive = cvec.transform(X_test).todense()"
   ]
  },
  {
   "cell_type": "code",
   "execution_count": 72,
   "metadata": {},
   "outputs": [],
   "source": [
    "X_train_cvec_naive_df = pd.DataFrame(X_train_cvec_naive, columns = cvec.get_feature_names())\n",
    "X_test_cvec_naive_df = pd.DataFrame(X_test_cvec_naive, columns = cvec.get_feature_names())"
   ]
  },
  {
   "cell_type": "code",
   "execution_count": 73,
   "metadata": {
    "scrolled": true
   },
   "outputs": [
    {
     "data": {
      "text/html": [
       "<div>\n",
       "<style scoped>\n",
       "    .dataframe tbody tr th:only-of-type {\n",
       "        vertical-align: middle;\n",
       "    }\n",
       "\n",
       "    .dataframe tbody tr th {\n",
       "        vertical-align: top;\n",
       "    }\n",
       "\n",
       "    .dataframe thead th {\n",
       "        text-align: right;\n",
       "    }\n",
       "</style>\n",
       "<table border=\"1\" class=\"dataframe\">\n",
       "  <thead>\n",
       "    <tr style=\"text-align: right;\">\n",
       "      <th></th>\n",
       "      <th>aaa</th>\n",
       "      <th>aaaaand</th>\n",
       "      <th>aasking</th>\n",
       "      <th>aback</th>\n",
       "      <th>abandoned</th>\n",
       "      <th>abbie</th>\n",
       "      <th>ability</th>\n",
       "      <th>able</th>\n",
       "      <th>aborting</th>\n",
       "      <th>abortion</th>\n",
       "      <th>...</th>\n",
       "      <th>yr</th>\n",
       "      <th>zbmwmgy</th>\n",
       "      <th>zealand</th>\n",
       "      <th>zero</th>\n",
       "      <th>zip</th>\n",
       "      <th>zodiac</th>\n",
       "      <th>zone</th>\n",
       "      <th>zoned</th>\n",
       "      <th>zoning</th>\n",
       "      <th>zy</th>\n",
       "    </tr>\n",
       "  </thead>\n",
       "  <tbody>\n",
       "    <tr>\n",
       "      <td>0</td>\n",
       "      <td>0</td>\n",
       "      <td>0</td>\n",
       "      <td>0</td>\n",
       "      <td>0</td>\n",
       "      <td>0</td>\n",
       "      <td>0</td>\n",
       "      <td>0</td>\n",
       "      <td>0</td>\n",
       "      <td>0</td>\n",
       "      <td>0</td>\n",
       "      <td>...</td>\n",
       "      <td>0</td>\n",
       "      <td>0</td>\n",
       "      <td>0</td>\n",
       "      <td>0</td>\n",
       "      <td>0</td>\n",
       "      <td>0</td>\n",
       "      <td>0</td>\n",
       "      <td>0</td>\n",
       "      <td>0</td>\n",
       "      <td>0</td>\n",
       "    </tr>\n",
       "    <tr>\n",
       "      <td>1</td>\n",
       "      <td>0</td>\n",
       "      <td>0</td>\n",
       "      <td>0</td>\n",
       "      <td>0</td>\n",
       "      <td>0</td>\n",
       "      <td>0</td>\n",
       "      <td>0</td>\n",
       "      <td>1</td>\n",
       "      <td>0</td>\n",
       "      <td>0</td>\n",
       "      <td>...</td>\n",
       "      <td>0</td>\n",
       "      <td>0</td>\n",
       "      <td>0</td>\n",
       "      <td>0</td>\n",
       "      <td>0</td>\n",
       "      <td>0</td>\n",
       "      <td>0</td>\n",
       "      <td>0</td>\n",
       "      <td>0</td>\n",
       "      <td>0</td>\n",
       "    </tr>\n",
       "    <tr>\n",
       "      <td>2</td>\n",
       "      <td>0</td>\n",
       "      <td>0</td>\n",
       "      <td>0</td>\n",
       "      <td>0</td>\n",
       "      <td>0</td>\n",
       "      <td>0</td>\n",
       "      <td>0</td>\n",
       "      <td>1</td>\n",
       "      <td>0</td>\n",
       "      <td>0</td>\n",
       "      <td>...</td>\n",
       "      <td>0</td>\n",
       "      <td>0</td>\n",
       "      <td>0</td>\n",
       "      <td>1</td>\n",
       "      <td>0</td>\n",
       "      <td>0</td>\n",
       "      <td>0</td>\n",
       "      <td>0</td>\n",
       "      <td>0</td>\n",
       "      <td>0</td>\n",
       "    </tr>\n",
       "    <tr>\n",
       "      <td>3</td>\n",
       "      <td>0</td>\n",
       "      <td>0</td>\n",
       "      <td>0</td>\n",
       "      <td>0</td>\n",
       "      <td>0</td>\n",
       "      <td>0</td>\n",
       "      <td>0</td>\n",
       "      <td>1</td>\n",
       "      <td>0</td>\n",
       "      <td>0</td>\n",
       "      <td>...</td>\n",
       "      <td>0</td>\n",
       "      <td>0</td>\n",
       "      <td>0</td>\n",
       "      <td>1</td>\n",
       "      <td>0</td>\n",
       "      <td>0</td>\n",
       "      <td>0</td>\n",
       "      <td>0</td>\n",
       "      <td>0</td>\n",
       "      <td>0</td>\n",
       "    </tr>\n",
       "    <tr>\n",
       "      <td>4</td>\n",
       "      <td>0</td>\n",
       "      <td>0</td>\n",
       "      <td>0</td>\n",
       "      <td>0</td>\n",
       "      <td>0</td>\n",
       "      <td>0</td>\n",
       "      <td>0</td>\n",
       "      <td>0</td>\n",
       "      <td>0</td>\n",
       "      <td>0</td>\n",
       "      <td>...</td>\n",
       "      <td>0</td>\n",
       "      <td>0</td>\n",
       "      <td>0</td>\n",
       "      <td>0</td>\n",
       "      <td>0</td>\n",
       "      <td>0</td>\n",
       "      <td>0</td>\n",
       "      <td>0</td>\n",
       "      <td>0</td>\n",
       "      <td>0</td>\n",
       "    </tr>\n",
       "    <tr>\n",
       "      <td>...</td>\n",
       "      <td>...</td>\n",
       "      <td>...</td>\n",
       "      <td>...</td>\n",
       "      <td>...</td>\n",
       "      <td>...</td>\n",
       "      <td>...</td>\n",
       "      <td>...</td>\n",
       "      <td>...</td>\n",
       "      <td>...</td>\n",
       "      <td>...</td>\n",
       "      <td>...</td>\n",
       "      <td>...</td>\n",
       "      <td>...</td>\n",
       "      <td>...</td>\n",
       "      <td>...</td>\n",
       "      <td>...</td>\n",
       "      <td>...</td>\n",
       "      <td>...</td>\n",
       "      <td>...</td>\n",
       "      <td>...</td>\n",
       "      <td>...</td>\n",
       "    </tr>\n",
       "    <tr>\n",
       "      <td>1543</td>\n",
       "      <td>0</td>\n",
       "      <td>0</td>\n",
       "      <td>0</td>\n",
       "      <td>0</td>\n",
       "      <td>0</td>\n",
       "      <td>0</td>\n",
       "      <td>0</td>\n",
       "      <td>0</td>\n",
       "      <td>0</td>\n",
       "      <td>0</td>\n",
       "      <td>...</td>\n",
       "      <td>0</td>\n",
       "      <td>0</td>\n",
       "      <td>0</td>\n",
       "      <td>0</td>\n",
       "      <td>0</td>\n",
       "      <td>0</td>\n",
       "      <td>0</td>\n",
       "      <td>0</td>\n",
       "      <td>0</td>\n",
       "      <td>0</td>\n",
       "    </tr>\n",
       "    <tr>\n",
       "      <td>1544</td>\n",
       "      <td>0</td>\n",
       "      <td>0</td>\n",
       "      <td>0</td>\n",
       "      <td>0</td>\n",
       "      <td>0</td>\n",
       "      <td>0</td>\n",
       "      <td>0</td>\n",
       "      <td>1</td>\n",
       "      <td>0</td>\n",
       "      <td>0</td>\n",
       "      <td>...</td>\n",
       "      <td>0</td>\n",
       "      <td>0</td>\n",
       "      <td>0</td>\n",
       "      <td>0</td>\n",
       "      <td>0</td>\n",
       "      <td>0</td>\n",
       "      <td>0</td>\n",
       "      <td>0</td>\n",
       "      <td>0</td>\n",
       "      <td>0</td>\n",
       "    </tr>\n",
       "    <tr>\n",
       "      <td>1545</td>\n",
       "      <td>0</td>\n",
       "      <td>0</td>\n",
       "      <td>0</td>\n",
       "      <td>0</td>\n",
       "      <td>0</td>\n",
       "      <td>0</td>\n",
       "      <td>0</td>\n",
       "      <td>0</td>\n",
       "      <td>0</td>\n",
       "      <td>0</td>\n",
       "      <td>...</td>\n",
       "      <td>0</td>\n",
       "      <td>0</td>\n",
       "      <td>0</td>\n",
       "      <td>0</td>\n",
       "      <td>0</td>\n",
       "      <td>0</td>\n",
       "      <td>0</td>\n",
       "      <td>0</td>\n",
       "      <td>0</td>\n",
       "      <td>0</td>\n",
       "    </tr>\n",
       "    <tr>\n",
       "      <td>1546</td>\n",
       "      <td>0</td>\n",
       "      <td>0</td>\n",
       "      <td>0</td>\n",
       "      <td>0</td>\n",
       "      <td>0</td>\n",
       "      <td>0</td>\n",
       "      <td>0</td>\n",
       "      <td>0</td>\n",
       "      <td>0</td>\n",
       "      <td>0</td>\n",
       "      <td>...</td>\n",
       "      <td>0</td>\n",
       "      <td>0</td>\n",
       "      <td>0</td>\n",
       "      <td>0</td>\n",
       "      <td>0</td>\n",
       "      <td>0</td>\n",
       "      <td>0</td>\n",
       "      <td>0</td>\n",
       "      <td>0</td>\n",
       "      <td>0</td>\n",
       "    </tr>\n",
       "    <tr>\n",
       "      <td>1547</td>\n",
       "      <td>0</td>\n",
       "      <td>0</td>\n",
       "      <td>0</td>\n",
       "      <td>0</td>\n",
       "      <td>0</td>\n",
       "      <td>0</td>\n",
       "      <td>0</td>\n",
       "      <td>0</td>\n",
       "      <td>0</td>\n",
       "      <td>0</td>\n",
       "      <td>...</td>\n",
       "      <td>0</td>\n",
       "      <td>0</td>\n",
       "      <td>0</td>\n",
       "      <td>0</td>\n",
       "      <td>0</td>\n",
       "      <td>0</td>\n",
       "      <td>0</td>\n",
       "      <td>0</td>\n",
       "      <td>0</td>\n",
       "      <td>0</td>\n",
       "    </tr>\n",
       "  </tbody>\n",
       "</table>\n",
       "<p>1548 rows × 5990 columns</p>\n",
       "</div>"
      ],
      "text/plain": [
       "      aaa  aaaaand  aasking  aback  abandoned  abbie  ability  able  aborting  \\\n",
       "0       0        0        0      0          0      0        0     0         0   \n",
       "1       0        0        0      0          0      0        0     1         0   \n",
       "2       0        0        0      0          0      0        0     1         0   \n",
       "3       0        0        0      0          0      0        0     1         0   \n",
       "4       0        0        0      0          0      0        0     0         0   \n",
       "...   ...      ...      ...    ...        ...    ...      ...   ...       ...   \n",
       "1543    0        0        0      0          0      0        0     0         0   \n",
       "1544    0        0        0      0          0      0        0     1         0   \n",
       "1545    0        0        0      0          0      0        0     0         0   \n",
       "1546    0        0        0      0          0      0        0     0         0   \n",
       "1547    0        0        0      0          0      0        0     0         0   \n",
       "\n",
       "      abortion  ...  yr  zbmwmgy  zealand  zero  zip  zodiac  zone  zoned  \\\n",
       "0            0  ...   0        0        0     0    0       0     0      0   \n",
       "1            0  ...   0        0        0     0    0       0     0      0   \n",
       "2            0  ...   0        0        0     1    0       0     0      0   \n",
       "3            0  ...   0        0        0     1    0       0     0      0   \n",
       "4            0  ...   0        0        0     0    0       0     0      0   \n",
       "...        ...  ...  ..      ...      ...   ...  ...     ...   ...    ...   \n",
       "1543         0  ...   0        0        0     0    0       0     0      0   \n",
       "1544         0  ...   0        0        0     0    0       0     0      0   \n",
       "1545         0  ...   0        0        0     0    0       0     0      0   \n",
       "1546         0  ...   0        0        0     0    0       0     0      0   \n",
       "1547         0  ...   0        0        0     0    0       0     0      0   \n",
       "\n",
       "      zoning  zy  \n",
       "0          0   0  \n",
       "1          0   0  \n",
       "2          0   0  \n",
       "3          0   0  \n",
       "4          0   0  \n",
       "...      ...  ..  \n",
       "1543       0   0  \n",
       "1544       0   0  \n",
       "1545       0   0  \n",
       "1546       0   0  \n",
       "1547       0   0  \n",
       "\n",
       "[1548 rows x 5990 columns]"
      ]
     },
     "execution_count": 73,
     "metadata": {},
     "output_type": "execute_result"
    }
   ],
   "source": [
    "X_train_cvec_naive_df"
   ]
  },
  {
   "cell_type": "code",
   "execution_count": 74,
   "metadata": {},
   "outputs": [],
   "source": [
    "# create a 'Total' row at the end that sums up each word's count:\n",
    "\n",
    "X_train_cvec_naive_df.loc['Total',:]= X_train_cvec_naive_df.sum(axis=0)"
   ]
  },
  {
   "cell_type": "code",
   "execution_count": 75,
   "metadata": {},
   "outputs": [
    {
     "data": {
      "text/plain": [
       "wa           5210.0\n",
       "like         2995.0\n",
       "want         2506.0\n",
       "time         2257.0\n",
       "know         2101.0\n",
       "              ...  \n",
       "rub             1.0\n",
       "rubbed          1.0\n",
       "fingering       1.0\n",
       "rumor           1.0\n",
       "aaa             1.0\n",
       "Name: Total, Length: 5990, dtype: float64"
      ]
     },
     "execution_count": 75,
     "metadata": {},
     "output_type": "execute_result"
    }
   ],
   "source": [
    "X_train_cvec_naive_df.loc['Total',:].sort_values(ascending=False)"
   ]
  },
  {
   "cell_type": "markdown",
   "metadata": {},
   "source": [
    "I will create a DataFrame for the above Total Word Count, and then check, for each specified frequency (2, 10, 50, etc), what is the associated number of features (words) that appear in the corpus (subreddit content)."
   ]
  },
  {
   "cell_type": "code",
   "execution_count": 76,
   "metadata": {},
   "outputs": [
    {
     "data": {
      "text/html": [
       "<div>\n",
       "<style scoped>\n",
       "    .dataframe tbody tr th:only-of-type {\n",
       "        vertical-align: middle;\n",
       "    }\n",
       "\n",
       "    .dataframe tbody tr th {\n",
       "        vertical-align: top;\n",
       "    }\n",
       "\n",
       "    .dataframe thead th {\n",
       "        text-align: right;\n",
       "    }\n",
       "</style>\n",
       "<table border=\"1\" class=\"dataframe\">\n",
       "  <thead>\n",
       "    <tr style=\"text-align: right;\">\n",
       "      <th></th>\n",
       "      <th>Total</th>\n",
       "    </tr>\n",
       "  </thead>\n",
       "  <tbody>\n",
       "    <tr>\n",
       "      <td>wa</td>\n",
       "      <td>5210.0</td>\n",
       "    </tr>\n",
       "    <tr>\n",
       "      <td>like</td>\n",
       "      <td>2995.0</td>\n",
       "    </tr>\n",
       "    <tr>\n",
       "      <td>want</td>\n",
       "      <td>2506.0</td>\n",
       "    </tr>\n",
       "    <tr>\n",
       "      <td>time</td>\n",
       "      <td>2257.0</td>\n",
       "    </tr>\n",
       "    <tr>\n",
       "      <td>know</td>\n",
       "      <td>2101.0</td>\n",
       "    </tr>\n",
       "  </tbody>\n",
       "</table>\n",
       "</div>"
      ],
      "text/plain": [
       "       Total\n",
       "wa    5210.0\n",
       "like  2995.0\n",
       "want  2506.0\n",
       "time  2257.0\n",
       "know  2101.0"
      ]
     },
     "execution_count": 76,
     "metadata": {},
     "output_type": "execute_result"
    }
   ],
   "source": [
    "Xtrain_total_CVEC_naive = pd.DataFrame(X_train_cvec_naive_df.loc['Total',:].sort_values(ascending=False))\n",
    "Xtrain_total_CVEC_naive.head()"
   ]
  },
  {
   "cell_type": "code",
   "execution_count": 77,
   "metadata": {},
   "outputs": [
    {
     "name": "stdout",
     "output_type": "stream",
     "text": [
      "2871\n",
      "3878\n",
      "5028\n",
      "5493\n",
      "5745\n",
      "5901\n",
      "5961\n",
      "5976\n"
     ]
    }
   ],
   "source": [
    "print(len(Xtrain_total_CVEC_naive.loc[Xtrain_total_CVEC_naive['Total'] <= 2]))\n",
    "print(len(Xtrain_total_CVEC_naive.loc[Xtrain_total_CVEC_naive['Total'] <= 10]))\n",
    "print(len(Xtrain_total_CVEC_naive.loc[Xtrain_total_CVEC_naive['Total'] <= 50]))\n",
    "print(len(Xtrain_total_CVEC_naive.loc[Xtrain_total_CVEC_naive['Total'] <= 100]))\n",
    "print(len(Xtrain_total_CVEC_naive.loc[Xtrain_total_CVEC_naive['Total'] <= 200]))\n",
    "print(len(Xtrain_total_CVEC_naive.loc[Xtrain_total_CVEC_naive['Total'] <= 500]))\n",
    "print(len(Xtrain_total_CVEC_naive.loc[Xtrain_total_CVEC_naive['Total'] <= 1000]))\n",
    "print(len(Xtrain_total_CVEC_naive.loc[Xtrain_total_CVEC_naive['Total'] <= 1500]))"
   ]
  },
  {
   "cell_type": "code",
   "execution_count": 78,
   "metadata": {},
   "outputs": [
    {
     "data": {
      "text/plain": [
       "<matplotlib.axes._subplots.AxesSubplot at 0x1a2fcfe610>"
      ]
     },
     "execution_count": 78,
     "metadata": {},
     "output_type": "execute_result"
    },
    {
     "data": {
      "image/png": "[encoded data removed]",
      "text/plain": [
       "<Figure size 432x288 with 1 Axes>"
      ]
     },
     "metadata": {
      "needs_background": "light"
     },
     "output_type": "display_data"
    }
   ],
   "source": [
    "# plot histogram to observe the distribution\n",
    "\n",
    "Xtrain_total_CVEC_naive[Xtrain_total_CVEC_naive.Total > 1000].plot(kind='bar')"
   ]
  },
  {
   "cell_type": "code",
   "execution_count": 79,
   "metadata": {},
   "outputs": [
    {
     "name": "stdout",
     "output_type": "stream",
     "text": [
      "29\n"
     ]
    }
   ],
   "source": [
    "print(len(Xtrain_total_CVEC_naive[Xtrain_total_CVEC_naive.Total > 1000]))"
   ]
  },
  {
   "cell_type": "markdown",
   "metadata": {},
   "source": [
    "I will thus, use the above exploratory analysis to input appropriate range of values for the cvec hyperparameter tuning."
   ]
  },
  {
   "cell_type": "code",
   "execution_count": 80,
   "metadata": {},
   "outputs": [],
   "source": [
    "# Create pipeline\n",
    "from sklearn.pipeline import Pipeline\n",
    "from sklearn.linear_model import LogisticRegression\n",
    "\n",
    "pipe = Pipeline([\n",
    "    (\"cvec\", CountVectorizer(stop_words = ['tldr', 'tl', 'dr', 'reddit', 'tl dr'])),\n",
    "    (\"lr\", LogisticRegression())\n",
    "    ])"
   ]
  },
  {
   "cell_type": "code",
   "execution_count": 81,
   "metadata": {
    "scrolled": true
   },
   "outputs": [
    {
     "name": "stderr",
     "output_type": "stream",
     "text": [
      "/Users/user/opt/anaconda3/lib/python3.7/site-packages/sklearn/linear_model/logistic.py:432: FutureWarning: Default solver will be changed to 'lbfgs' in 0.22. Specify a solver to silence this warning.\n",
      "  FutureWarning)\n"
     ]
    },
    {
     "data": {
      "text/plain": [
       "GridSearchCV(cv=5, error_score='raise-deprecating',\n",
       "             estimator=Pipeline(memory=None,\n",
       "                                steps=[('cvec',\n",
       "                                        CountVectorizer(analyzer='word',\n",
       "                                                        binary=False,\n",
       "                                                        decode_error='strict',\n",
       "                                                        dtype=<class 'numpy.int64'>,\n",
       "                                                        encoding='utf-8',\n",
       "                                                        input='content',\n",
       "                                                        lowercase=True,\n",
       "                                                        max_df=1.0,\n",
       "                                                        max_features=None,\n",
       "                                                        min_df=1,\n",
       "                                                        ngram_range=(1, 1),\n",
       "                                                        preprocessor=None,\n",
       "                                                        stop_words=['https',\n",
       "                                                                    'tldr',\n",
       "                                                                    'tl', 'dr',\n",
       "                                                                    '...\n",
       "                                                           multi_class='warn',\n",
       "                                                           n_jobs=None,\n",
       "                                                           penalty='l2',\n",
       "                                                           random_state=None,\n",
       "                                                           solver='warn',\n",
       "                                                           tol=0.0001,\n",
       "                                                           verbose=0,\n",
       "                                                           warm_start=False))],\n",
       "                                verbose=False),\n",
       "             iid='warn', n_jobs=-1,\n",
       "             param_grid={'cvec__max_df': [0.2, 0.25, 0.3],\n",
       "                         'cvec__max_features': [20, 25, 30],\n",
       "                         'cvec__min_df': [2, 3],\n",
       "                         'cvec__ngram_range': [(1, 1), (1, 2)]},\n",
       "             pre_dispatch='2*n_jobs', refit=True, return_train_score=False,\n",
       "             scoring=None, verbose=0)"
      ]
     },
     "execution_count": 81,
     "metadata": {},
     "output_type": "execute_result"
    }
   ],
   "source": [
    "from sklearn.model_selection import GridSearchCV\n",
    "\n",
    "pipe_params = {\n",
    "    'cvec__max_features': [20, 25, 30],\n",
    "    'cvec__min_df': [2, 3],\n",
    "    'cvec__max_df': [.2, .25, .3],\n",
    "    'cvec__ngram_range': [(1,1), (1,2)]\n",
    "}\n",
    "gs = GridSearchCV(pipe, param_grid=pipe_params, cv=5, n_jobs = -1)\n",
    "gs.fit(X_train, y_train)"
   ]
  },
  {
   "cell_type": "code",
   "execution_count": 82,
   "metadata": {},
   "outputs": [
    {
     "name": "stdout",
     "output_type": "stream",
     "text": [
      "0.9728682170542635\n"
     ]
    },
    {
     "data": {
      "text/plain": [
       "{'cvec__max_df': 0.3,\n",
       " 'cvec__max_features': 30,\n",
       " 'cvec__min_df': 2,\n",
       " 'cvec__ngram_range': (1, 2)}"
      ]
     },
     "execution_count": 82,
     "metadata": {},
     "output_type": "execute_result"
    }
   ],
   "source": [
    "print(gs.best_score_)\n",
    "gs.best_params_"
   ]
  },
  {
   "cell_type": "code",
   "execution_count": 83,
   "metadata": {},
   "outputs": [
    {
     "data": {
      "text/plain": [
       "0.977390180878553"
      ]
     },
     "execution_count": 83,
     "metadata": {},
     "output_type": "execute_result"
    }
   ],
   "source": [
    "gs.score(X_train, y_train)"
   ]
  },
  {
   "cell_type": "code",
   "execution_count": 84,
   "metadata": {},
   "outputs": [
    {
     "data": {
      "text/plain": [
       "0.9728682170542635"
      ]
     },
     "execution_count": 84,
     "metadata": {},
     "output_type": "execute_result"
    }
   ],
   "source": [
    "gs.score(X_test, y_test)"
   ]
  },
  {
   "cell_type": "markdown",
   "metadata": {},
   "source": [
    "Model's high score indicates extreme overfitting, so I will choose a much lower range of max_features.\n",
    "\n",
    "However, the score on test set vs train set do not differ a lot (in fact, test score > train score), showing that the model is stable and able to pick up the patterns in test set well enough!"
   ]
  },
  {
   "cell_type": "code",
   "execution_count": 93,
   "metadata": {},
   "outputs": [
    {
     "name": "stderr",
     "output_type": "stream",
     "text": [
      "/Users/user/opt/anaconda3/lib/python3.7/site-packages/sklearn/linear_model/logistic.py:432: FutureWarning: Default solver will be changed to 'lbfgs' in 0.22. Specify a solver to silence this warning.\n",
      "  FutureWarning)\n"
     ]
    },
    {
     "data": {
      "text/plain": [
       "GridSearchCV(cv=5, error_score='raise-deprecating',\n",
       "             estimator=Pipeline(memory=None,\n",
       "                                steps=[('cvec',\n",
       "                                        CountVectorizer(analyzer='word',\n",
       "                                                        binary=False,\n",
       "                                                        decode_error='strict',\n",
       "                                                        dtype=<class 'numpy.int64'>,\n",
       "                                                        encoding='utf-8',\n",
       "                                                        input='content',\n",
       "                                                        lowercase=True,\n",
       "                                                        max_df=1.0,\n",
       "                                                        max_features=None,\n",
       "                                                        min_df=1,\n",
       "                                                        ngram_range=(1, 1),\n",
       "                                                        preprocessor=None,\n",
       "                                                        stop_words=['https',\n",
       "                                                                    'tldr',\n",
       "                                                                    'tl', 'dr',\n",
       "                                                                    '...\n",
       "                                                           multi_class='warn',\n",
       "                                                           n_jobs=None,\n",
       "                                                           penalty='l2',\n",
       "                                                           random_state=None,\n",
       "                                                           solver='warn',\n",
       "                                                           tol=0.0001,\n",
       "                                                           verbose=0,\n",
       "                                                           warm_start=False))],\n",
       "                                verbose=False),\n",
       "             iid='warn', n_jobs=-1,\n",
       "             param_grid={'cvec__max_df': [0.2, 0.25, 0.3],\n",
       "                         'cvec__max_features': [5, 8, 10],\n",
       "                         'cvec__min_df': [2, 3],\n",
       "                         'cvec__ngram_range': [(1, 1), (1, 2)]},\n",
       "             pre_dispatch='2*n_jobs', refit=True, return_train_score=False,\n",
       "             scoring=None, verbose=0)"
      ]
     },
     "execution_count": 93,
     "metadata": {},
     "output_type": "execute_result"
    }
   ],
   "source": [
    "pipe_params = {\n",
    "    'cvec__max_features': [5, 8, 10],\n",
    "    'cvec__min_df': [2, 3],\n",
    "    'cvec__max_df': [.2, .25, .3],\n",
    "    'cvec__ngram_range': [(1,1), (1,2)]\n",
    "}\n",
    "gs = GridSearchCV(pipe, param_grid=pipe_params, cv=5, n_jobs = -1)\n",
    "gs.fit(X_train, y_train)"
   ]
  },
  {
   "cell_type": "code",
   "execution_count": 94,
   "metadata": {},
   "outputs": [
    {
     "name": "stdout",
     "output_type": "stream",
     "text": [
      "0.8294573643410853\n"
     ]
    },
    {
     "data": {
      "text/plain": [
       "{'cvec__max_df': 0.25,\n",
       " 'cvec__max_features': 10,\n",
       " 'cvec__min_df': 2,\n",
       " 'cvec__ngram_range': (1, 1)}"
      ]
     },
     "execution_count": 94,
     "metadata": {},
     "output_type": "execute_result"
    }
   ],
   "source": [
    "print(gs.best_score_)\n",
    "gs.best_params_"
   ]
  },
  {
   "cell_type": "code",
   "execution_count": 95,
   "metadata": {},
   "outputs": [
    {
     "data": {
      "text/plain": [
       "0.8430232558139535"
      ]
     },
     "execution_count": 95,
     "metadata": {},
     "output_type": "execute_result"
    }
   ],
   "source": [
    "gs.score(X_train, y_train)"
   ]
  },
  {
   "cell_type": "code",
   "execution_count": 96,
   "metadata": {},
   "outputs": [
    {
     "data": {
      "text/plain": [
       "0.8468992248062015"
      ]
     },
     "execution_count": 96,
     "metadata": {},
     "output_type": "execute_result"
    }
   ],
   "source": [
    "gs.score(X_test, y_test)"
   ]
  },
  {
   "cell_type": "markdown",
   "metadata": {},
   "source": [
    "Hyperparameters seems well-tuned, so I will proceed to run a Linear Regression model on the dataset."
   ]
  },
  {
   "cell_type": "code",
   "execution_count": 97,
   "metadata": {},
   "outputs": [],
   "source": [
    "# Instantiate cvec with tuned hyperparameters:\n",
    "\n",
    "cvec1 = CountVectorizer(max_df = 0.2, max_features = 10, min_df = 2, ngram_range = (1, 1),\n",
    "                        stop_words = ['https', 'tldr', 'tl', 'dr', 'reddit', 'tl dr'])"
   ]
  },
  {
   "cell_type": "code",
   "execution_count": 98,
   "metadata": {},
   "outputs": [],
   "source": [
    "# fit and transform train/test sets:\n",
    "\n",
    "X_train_cvec = cvec1.fit_transform(X_train).todense()\n",
    "X_test_cvec = cvec1.transform(X_test).todense()"
   ]
  },
  {
   "cell_type": "code",
   "execution_count": 99,
   "metadata": {},
   "outputs": [],
   "source": [
    "# create DataFrame for both:\n",
    "\n",
    "X_train_cvec_df = pd.DataFrame(X_train_cvec, columns = cvec1.get_feature_names())\n",
    "X_test_cvec_df = pd.DataFrame(X_test_cvec, columns = cvec1.get_feature_names())"
   ]
  },
  {
   "cell_type": "code",
   "execution_count": 100,
   "metadata": {},
   "outputs": [
    {
     "name": "stderr",
     "output_type": "stream",
     "text": [
      "/Users/user/opt/anaconda3/lib/python3.7/site-packages/sklearn/linear_model/logistic.py:432: FutureWarning: Default solver will be changed to 'lbfgs' in 0.22. Specify a solver to silence this warning.\n",
      "  FutureWarning)\n"
     ]
    },
    {
     "data": {
      "text/plain": [
       "LogisticRegression(C=1.0, class_weight=None, dual=False, fit_intercept=True,\n",
       "                   intercept_scaling=1, l1_ratio=None, max_iter=100,\n",
       "                   multi_class='warn', n_jobs=None, penalty='l2',\n",
       "                   random_state=None, solver='warn', tol=0.0001, verbose=0,\n",
       "                   warm_start=False)"
      ]
     },
     "execution_count": 100,
     "metadata": {},
     "output_type": "execute_result"
    }
   ],
   "source": [
    "# fit Linear Regression model on train set first:\n",
    "\n",
    "lr = LogisticRegression()\n",
    "lr.fit(X_train_cvec_df, y_train)"
   ]
  },
  {
   "cell_type": "code",
   "execution_count": 101,
   "metadata": {},
   "outputs": [
    {
     "data": {
      "text/plain": [
       "0.7919896640826873"
      ]
     },
     "execution_count": 101,
     "metadata": {},
     "output_type": "execute_result"
    }
   ],
   "source": [
    "# score lr model on train set:\n",
    "\n",
    "lr.score(X_train_cvec, y_train)"
   ]
  },
  {
   "cell_type": "code",
   "execution_count": 102,
   "metadata": {},
   "outputs": [
    {
     "data": {
      "text/plain": [
       "0.8488372093023255"
      ]
     },
     "execution_count": 102,
     "metadata": {},
     "output_type": "execute_result"
    }
   ],
   "source": [
    "# score lr model on test set:\n",
    "\n",
    "lr.score(X_test_cvec, y_test)"
   ]
  },
  {
   "cell_type": "markdown",
   "metadata": {},
   "source": [
    "- Same scores as the above GridSearchCV for both train and test sets"
   ]
  },
  {
   "cell_type": "markdown",
   "metadata": {},
   "source": [
    "Plot a Receiver Operating Characteristic (ROC) curve to visualize the overlap between the positive class (Relationship_Advice subreddit) and negative class (Dating_Advice subreddit):"
   ]
  },
  {
   "cell_type": "code",
   "execution_count": 103,
   "metadata": {},
   "outputs": [],
   "source": [
    "pred_proba = [i[1] for i in lr.predict_proba(X_test_cvec)]\n",
    "preds = lr.predict(X_test_cvec)\n",
    "preds_df = pd.DataFrame({'true_values': y_test,\n",
    "                        'pred_probs':pred_proba})"
   ]
  },
  {
   "cell_type": "code",
   "execution_count": 104,
   "metadata": {},
   "outputs": [
    {
     "data": {
      "image/png": "[encoded data removed]",
      "text/plain": [
       "<Figure size 720x504 with 1 Axes>"
      ]
     },
     "metadata": {
      "needs_background": "light"
     },
     "output_type": "display_data"
    }
   ],
   "source": [
    "# Create figure.\n",
    "plt.figure(figsize = (10,7))\n",
    "\n",
    "# Create threshold values.\n",
    "thresholds = np.linspace(0, 1, 200)\n",
    "\n",
    "# Define function to calculate sensitivity. (True positive rate.)\n",
    "def TPR(data, true_col, pred_prob_col, threshold):\n",
    "    true_positive = data[(data[true_col] == 1) & (data[pred_prob_col] >= threshold)].shape[0]\n",
    "    false_negative = data[(data[true_col] == 1) & (data[pred_prob_col] < threshold)].shape[0]\n",
    "    return true_positive / (true_positive + false_negative)\n",
    "\n",
    "# Define function to calculate 1 - specificity. (False positive rate.)\n",
    "def FPR(data, true_col, pred_prob_col, threshold):\n",
    "    true_negative = data[(data[true_col] == 0) & (data[pred_prob_col] <= threshold)].shape[0]\n",
    "    false_positive = data[(data[true_col] == 0) & (data[pred_prob_col] > threshold)].shape[0]\n",
    "    return 1 - (true_negative / (true_negative + false_positive))\n",
    "    \n",
    "# Calculate sensitivity & 1-specificity for each threshold between 0 and 1.\n",
    "tpr_values = [TPR(preds_df, 'true_values', 'pred_probs', prob) for prob in thresholds]\n",
    "fpr_values = [FPR(preds_df, 'true_values', 'pred_probs', prob) for prob in thresholds]\n",
    "\n",
    "# Plot ROC curve.\n",
    "plt.plot(fpr_values, # False Positive Rate on X-axis\n",
    "         tpr_values, # True Positive Rate on Y-axis\n",
    "         label='ROC Curve')\n",
    "\n",
    "# Plot baseline. (Perfect overlap between the two populations.)\n",
    "plt.plot(np.linspace(0, 1, 200),\n",
    "         np.linspace(0, 1, 200),\n",
    "         label='baseline',\n",
    "         linestyle='--')\n",
    "\n",
    "# Label axes.\n",
    "plt.title('Receiver Operating Characteristic Curve', fontsize=22)\n",
    "plt.ylabel('Sensitivity', fontsize=18)\n",
    "plt.xlabel('1 - Specificity', fontsize=18)\n",
    "\n",
    "# Create legend.\n",
    "plt.legend(fontsize=16);"
   ]
  },
  {
   "cell_type": "markdown",
   "metadata": {},
   "source": [
    "As seen from the plot, there is quite a large AUC, demonstrating that this LR model is performing much better than the mean/baseline."
   ]
  },
  {
   "cell_type": "markdown",
   "metadata": {},
   "source": [
    "### TVEC\n",
    "- Same as above: reexplore data via fitting and transforming data onto a tvec"
   ]
  },
  {
   "cell_type": "code",
   "execution_count": 110,
   "metadata": {},
   "outputs": [],
   "source": [
    "from sklearn.feature_extraction.text import TfidfVectorizer\n",
    "tvec = TfidfVectorizer(stop_words = ['tldr', 'tl', 'dr', 'reddit', 'tl dr'])"
   ]
  },
  {
   "cell_type": "code",
   "execution_count": 111,
   "metadata": {},
   "outputs": [],
   "source": [
    "X_train_tvec_naive = tvec.fit_transform(X_train).todense()\n",
    "X_test_tvec_naive = tvec.transform(X_test).todense()"
   ]
  },
  {
   "cell_type": "code",
   "execution_count": 112,
   "metadata": {},
   "outputs": [],
   "source": [
    "X_train_tvec_naive_df = pd.DataFrame(X_train_tvec_naive, columns = tvec.get_feature_names())\n",
    "X_test_tvec_naive_df = pd.DataFrame(X_test_tvec_naive, columns = tvec.get_feature_names())"
   ]
  },
  {
   "cell_type": "code",
   "execution_count": 113,
   "metadata": {},
   "outputs": [
    {
     "data": {
      "text/plain": [
       "wa             110.684964\n",
       "like            74.240044\n",
       "want            61.646023\n",
       "know            59.393229\n",
       "time            53.292350\n",
       "                  ...    \n",
       "warmed           0.031808\n",
       "friendzoned      0.031808\n",
       "consoling        0.031808\n",
       "compromised      0.031808\n",
       "giver            0.031808\n",
       "Name: Total, Length: 5990, dtype: float64"
      ]
     },
     "execution_count": 113,
     "metadata": {},
     "output_type": "execute_result"
    }
   ],
   "source": [
    "X_train_tvec_naive_df.loc['Total',:]= X_train_tvec_naive_df.sum(axis=0)\n",
    "X_train_tvec_naive_df.loc['Total',:].sort_values(ascending=False)"
   ]
  },
  {
   "cell_type": "code",
   "execution_count": 114,
   "metadata": {},
   "outputs": [
    {
     "data": {
      "text/html": [
       "<div>\n",
       "<style scoped>\n",
       "    .dataframe tbody tr th:only-of-type {\n",
       "        vertical-align: middle;\n",
       "    }\n",
       "\n",
       "    .dataframe tbody tr th {\n",
       "        vertical-align: top;\n",
       "    }\n",
       "\n",
       "    .dataframe thead th {\n",
       "        text-align: right;\n",
       "    }\n",
       "</style>\n",
       "<table border=\"1\" class=\"dataframe\">\n",
       "  <thead>\n",
       "    <tr style=\"text-align: right;\">\n",
       "      <th></th>\n",
       "      <th>Total</th>\n",
       "    </tr>\n",
       "  </thead>\n",
       "  <tbody>\n",
       "    <tr>\n",
       "      <td>wa</td>\n",
       "      <td>110.684964</td>\n",
       "    </tr>\n",
       "    <tr>\n",
       "      <td>like</td>\n",
       "      <td>74.240044</td>\n",
       "    </tr>\n",
       "    <tr>\n",
       "      <td>want</td>\n",
       "      <td>61.646023</td>\n",
       "    </tr>\n",
       "    <tr>\n",
       "      <td>know</td>\n",
       "      <td>59.393229</td>\n",
       "    </tr>\n",
       "    <tr>\n",
       "      <td>time</td>\n",
       "      <td>53.292350</td>\n",
       "    </tr>\n",
       "  </tbody>\n",
       "</table>\n",
       "</div>"
      ],
      "text/plain": [
       "           Total\n",
       "wa    110.684964\n",
       "like   74.240044\n",
       "want   61.646023\n",
       "know   59.393229\n",
       "time   53.292350"
      ]
     },
     "execution_count": 114,
     "metadata": {},
     "output_type": "execute_result"
    }
   ],
   "source": [
    "Xtrain_total_TVEC_naive = pd.DataFrame(X_train_tvec_naive_df.loc['Total',:].sort_values(ascending=False))\n",
    "Xtrain_total_TVEC_naive.head()"
   ]
  },
  {
   "cell_type": "code",
   "execution_count": 115,
   "metadata": {},
   "outputs": [
    {
     "name": "stdout",
     "output_type": "stream",
     "text": [
      "4571\n",
      "5719\n",
      "5896\n",
      "5950\n"
     ]
    }
   ],
   "source": [
    "print(len(Xtrain_total_TVEC_naive.loc[Xtrain_total_TVEC_naive['Total'] <= 2]))\n",
    "print(len(Xtrain_total_TVEC_naive.loc[Xtrain_total_TVEC_naive['Total'] <= 10]))\n",
    "print(len(Xtrain_total_TVEC_naive.loc[Xtrain_total_TVEC_naive['Total'] <= 20]))\n",
    "print(len(Xtrain_total_TVEC_naive.loc[Xtrain_total_TVEC_naive['Total'] <= 30]))"
   ]
  },
  {
   "cell_type": "code",
   "execution_count": 116,
   "metadata": {},
   "outputs": [
    {
     "data": {
      "text/plain": [
       "<matplotlib.axes._subplots.AxesSubplot at 0x1a2ed95a10>"
      ]
     },
     "execution_count": 116,
     "metadata": {},
     "output_type": "execute_result"
    },
    {
     "data": {
      "image/png": "[encoded data removed]",
      "text/plain": [
       "<Figure size 432x288 with 1 Axes>"
      ]
     },
     "metadata": {
      "needs_background": "light"
     },
     "output_type": "display_data"
    }
   ],
   "source": [
    "# plot histogram to observe the distribution\n",
    "\n",
    "Xtrain_total_TVEC_naive[Xtrain_total_TVEC_naive.Total > 30].plot(kind='bar')"
   ]
  },
  {
   "cell_type": "code",
   "execution_count": 117,
   "metadata": {},
   "outputs": [
    {
     "name": "stdout",
     "output_type": "stream",
     "text": [
      "40\n"
     ]
    }
   ],
   "source": [
    "print(len(Xtrain_total_TVEC_naive[Xtrain_total_TVEC_naive.Total > 30]))"
   ]
  },
  {
   "cell_type": "markdown",
   "metadata": {},
   "source": [
    "I will thus, use the above exploratory analysis to input appropriate range of values for the cvec hyperparameter tuning."
   ]
  },
  {
   "cell_type": "code",
   "execution_count": 119,
   "metadata": {},
   "outputs": [],
   "source": [
    "pipe2 = Pipeline([\n",
    "    (\"tvec\", TfidfVectorizer(stop_words = ['tldr', 'tl', 'dr', 'reddit', 'tl dr'])),\n",
    "    (\"lr\", LogisticRegression())\n",
    "     ])"
   ]
  },
  {
   "cell_type": "code",
   "execution_count": 120,
   "metadata": {},
   "outputs": [
    {
     "name": "stderr",
     "output_type": "stream",
     "text": [
      "/Users/user/opt/anaconda3/lib/python3.7/site-packages/sklearn/linear_model/logistic.py:432: FutureWarning: Default solver will be changed to 'lbfgs' in 0.22. Specify a solver to silence this warning.\n",
      "  FutureWarning)\n"
     ]
    },
    {
     "data": {
      "text/plain": [
       "GridSearchCV(cv=5, error_score='raise-deprecating',\n",
       "             estimator=Pipeline(memory=None,\n",
       "                                steps=[('tvec',\n",
       "                                        TfidfVectorizer(analyzer='word',\n",
       "                                                        binary=False,\n",
       "                                                        decode_error='strict',\n",
       "                                                        dtype=<class 'numpy.float64'>,\n",
       "                                                        encoding='utf-8',\n",
       "                                                        input='content',\n",
       "                                                        lowercase=True,\n",
       "                                                        max_df=1.0,\n",
       "                                                        max_features=None,\n",
       "                                                        min_df=1,\n",
       "                                                        ngram_range=(1, 1),\n",
       "                                                        norm='l2',\n",
       "                                                        preprocessor=None,\n",
       "                                                        smooth_idf=True,\n",
       "                                                        stop_words...\n",
       "                                                           multi_class='warn',\n",
       "                                                           n_jobs=None,\n",
       "                                                           penalty='l2',\n",
       "                                                           random_state=None,\n",
       "                                                           solver='warn',\n",
       "                                                           tol=0.0001,\n",
       "                                                           verbose=0,\n",
       "                                                           warm_start=False))],\n",
       "                                verbose=False),\n",
       "             iid='warn', n_jobs=-1,\n",
       "             param_grid={'tvec__max_df': [0.2, 0.25, 0.3],\n",
       "                         'tvec__max_features': [20, 30, 40],\n",
       "                         'tvec__min_df': [2, 3],\n",
       "                         'tvec__ngram_range': [(1, 1), (1, 2)]},\n",
       "             pre_dispatch='2*n_jobs', refit=True, return_train_score=False,\n",
       "             scoring=None, verbose=0)"
      ]
     },
     "execution_count": 120,
     "metadata": {},
     "output_type": "execute_result"
    }
   ],
   "source": [
    "pipe2_params = {\n",
    "    'tvec__max_features': [20, 30, 40],\n",
    "    'tvec__min_df': [2, 3],\n",
    "    'tvec__max_df': [.2, .25, .3],\n",
    "    'tvec__ngram_range': [(1,1), (1,2)]\n",
    "}\n",
    "gs = GridSearchCV(pipe2, param_grid=pipe2_params, cv=5, n_jobs = -1)\n",
    "gs.fit(X_train, y_train)"
   ]
  },
  {
   "cell_type": "code",
   "execution_count": 121,
   "metadata": {},
   "outputs": [
    {
     "name": "stdout",
     "output_type": "stream",
     "text": [
      "0.9528423772609819\n"
     ]
    },
    {
     "data": {
      "text/plain": [
       "{'tvec__max_df': 0.3,\n",
       " 'tvec__max_features': 40,\n",
       " 'tvec__min_df': 2,\n",
       " 'tvec__ngram_range': (1, 1)}"
      ]
     },
     "execution_count": 121,
     "metadata": {},
     "output_type": "execute_result"
    }
   ],
   "source": [
    "print(gs.best_score_)\n",
    "gs.best_params_"
   ]
  },
  {
   "cell_type": "code",
   "execution_count": 122,
   "metadata": {},
   "outputs": [
    {
     "data": {
      "text/plain": [
       "0.962532299741602"
      ]
     },
     "execution_count": 122,
     "metadata": {},
     "output_type": "execute_result"
    }
   ],
   "source": [
    "gs.score(X_train, y_train)"
   ]
  },
  {
   "cell_type": "code",
   "execution_count": 123,
   "metadata": {},
   "outputs": [
    {
     "data": {
      "text/plain": [
       "0.9612403100775194"
      ]
     },
     "execution_count": 123,
     "metadata": {},
     "output_type": "execute_result"
    }
   ],
   "source": [
    "gs.score(X_test, y_test)"
   ]
  },
  {
   "cell_type": "markdown",
   "metadata": {},
   "source": [
    "Once again, model's high score indicates overfitting, but also demonstrates stability and robustness as it scored slightly higher on test set than on train set (with not too large a jump in score as well).\n",
    "\n",
    "Hence, further tune hyperparameters, with respect to max_features."
   ]
  },
  {
   "cell_type": "code",
   "execution_count": 124,
   "metadata": {},
   "outputs": [
    {
     "name": "stderr",
     "output_type": "stream",
     "text": [
      "/Users/user/opt/anaconda3/lib/python3.7/site-packages/sklearn/linear_model/logistic.py:432: FutureWarning: Default solver will be changed to 'lbfgs' in 0.22. Specify a solver to silence this warning.\n",
      "  FutureWarning)\n"
     ]
    },
    {
     "data": {
      "text/plain": [
       "GridSearchCV(cv=5, error_score='raise-deprecating',\n",
       "             estimator=Pipeline(memory=None,\n",
       "                                steps=[('tvec',\n",
       "                                        TfidfVectorizer(analyzer='word',\n",
       "                                                        binary=False,\n",
       "                                                        decode_error='strict',\n",
       "                                                        dtype=<class 'numpy.float64'>,\n",
       "                                                        encoding='utf-8',\n",
       "                                                        input='content',\n",
       "                                                        lowercase=True,\n",
       "                                                        max_df=1.0,\n",
       "                                                        max_features=None,\n",
       "                                                        min_df=1,\n",
       "                                                        ngram_range=(1, 1),\n",
       "                                                        norm='l2',\n",
       "                                                        preprocessor=None,\n",
       "                                                        smooth_idf=True,\n",
       "                                                        stop_words...\n",
       "                                                           multi_class='warn',\n",
       "                                                           n_jobs=None,\n",
       "                                                           penalty='l2',\n",
       "                                                           random_state=None,\n",
       "                                                           solver='warn',\n",
       "                                                           tol=0.0001,\n",
       "                                                           verbose=0,\n",
       "                                                           warm_start=False))],\n",
       "                                verbose=False),\n",
       "             iid='warn', n_jobs=-1,\n",
       "             param_grid={'tvec__max_df': [0.2, 0.25, 0.3],\n",
       "                         'tvec__max_features': [5, 8, 10],\n",
       "                         'tvec__min_df': [2, 3],\n",
       "                         'tvec__ngram_range': [(1, 1), (1, 2)]},\n",
       "             pre_dispatch='2*n_jobs', refit=True, return_train_score=False,\n",
       "             scoring=None, verbose=0)"
      ]
     },
     "execution_count": 124,
     "metadata": {},
     "output_type": "execute_result"
    }
   ],
   "source": [
    "pipe2_params = {\n",
    "    'tvec__max_features': [5, 8, 10],\n",
    "    'tvec__min_df': [2, 3],\n",
    "    'tvec__max_df': [.2, .25, .3],\n",
    "    'tvec__ngram_range': [(1,1), (1,2)]\n",
    "}\n",
    "gs = GridSearchCV(pipe2, param_grid=pipe2_params, cv=5, n_jobs = -1)\n",
    "gs.fit(X_train, y_train)"
   ]
  },
  {
   "cell_type": "code",
   "execution_count": 125,
   "metadata": {},
   "outputs": [
    {
     "name": "stdout",
     "output_type": "stream",
     "text": [
      "0.8307493540051679\n"
     ]
    },
    {
     "data": {
      "text/plain": [
       "{'tvec__max_df': 0.25,\n",
       " 'tvec__max_features': 10,\n",
       " 'tvec__min_df': 2,\n",
       " 'tvec__ngram_range': (1, 1)}"
      ]
     },
     "execution_count": 125,
     "metadata": {},
     "output_type": "execute_result"
    }
   ],
   "source": [
    "print(gs.best_score_)\n",
    "gs.best_params_"
   ]
  },
  {
   "cell_type": "code",
   "execution_count": 126,
   "metadata": {},
   "outputs": [
    {
     "data": {
      "text/plain": [
       "0.813953488372093"
      ]
     },
     "execution_count": 126,
     "metadata": {},
     "output_type": "execute_result"
    }
   ],
   "source": [
    "gs.score(X_train, y_train)"
   ]
  },
  {
   "cell_type": "code",
   "execution_count": 127,
   "metadata": {
    "scrolled": true
   },
   "outputs": [
    {
     "data": {
      "text/plain": [
       "0.8236434108527132"
      ]
     },
     "execution_count": 127,
     "metadata": {},
     "output_type": "execute_result"
    }
   ],
   "source": [
    "gs.score(X_test, y_test)"
   ]
  },
  {
   "cell_type": "markdown",
   "metadata": {},
   "source": [
    "Model seems well-tuned, so I will proceed to create Naive Bayes classifier."
   ]
  },
  {
   "cell_type": "code",
   "execution_count": 154,
   "metadata": {},
   "outputs": [],
   "source": [
    "# from per documentation:\n",
    "# The multinomial Naive Bayes classifier is suitable for classification with discrete features (e.g., word counts for text classification).\n",
    "# In practice, fractional counts such as tf-idf also work.\n",
    "# Hence, instantiate model:\n",
    "\n",
    "from sklearn.naive_bayes import MultinomialNB\n",
    "mnb = MultinomialNB()"
   ]
  },
  {
   "cell_type": "code",
   "execution_count": 155,
   "metadata": {},
   "outputs": [],
   "source": [
    "# Instantiate tvec1 with tuned hyperparameters:\n",
    "\n",
    "tvec1 = TfidfVectorizer(max_df = 0.2, max_features = 10, min_df = 3, ngram_range =(1, 1),\n",
    "                        stop_words = ['tldr', 'tl', 'dr', 'reddit', 'tl dr'])"
   ]
  },
  {
   "cell_type": "code",
   "execution_count": 156,
   "metadata": {},
   "outputs": [],
   "source": [
    "# Fit and transform train and test datasets:\n",
    "\n",
    "X_train_tvec = tvec1.fit_transform(X_train).todense()\n",
    "X_test_tvec = tvec1.transform(X_test).todense()"
   ]
  },
  {
   "cell_type": "code",
   "execution_count": 157,
   "metadata": {},
   "outputs": [],
   "source": [
    "# create DataFrame:\n",
    "\n",
    "X_train_tvec_df = pd.DataFrame(X_train_tvec, columns = tvec1.get_feature_names())\n",
    "X_test_tvec_df = pd.DataFrame(X_test_tvec, columns = tvec1.get_feature_names())"
   ]
  },
  {
   "cell_type": "code",
   "execution_count": 158,
   "metadata": {},
   "outputs": [],
   "source": [
    "# fit Naive Bayes model:\n",
    "\n",
    "model = mnb.fit(X_train_tvec, y_train)"
   ]
  },
  {
   "cell_type": "code",
   "execution_count": 159,
   "metadata": {},
   "outputs": [],
   "source": [
    "# Generate predictions:\n",
    "\n",
    "predictions = model.predict(X_test_tvec)"
   ]
  },
  {
   "cell_type": "code",
   "execution_count": 160,
   "metadata": {},
   "outputs": [
    {
     "name": "stdout",
     "output_type": "stream",
     "text": [
      "0.5859173126614987\n"
     ]
    }
   ],
   "source": [
    "# Score our model on the training set.\n",
    "\n",
    "print(model.score(X_train_tvec, y_train))"
   ]
  },
  {
   "cell_type": "code",
   "execution_count": 161,
   "metadata": {},
   "outputs": [
    {
     "name": "stdout",
     "output_type": "stream",
     "text": [
      "0.5968992248062015\n"
     ]
    }
   ],
   "source": [
    "# Score our model on the test set.\n",
    "\n",
    "print(model.score(X_test_tvec, y_test))"
   ]
  },
  {
   "cell_type": "code",
   "execution_count": 162,
   "metadata": {},
   "outputs": [
    {
     "data": {
      "text/plain": [
       "array([[104, 142],\n",
       "       [ 66, 204]])"
      ]
     },
     "execution_count": 162,
     "metadata": {},
     "output_type": "execute_result"
    }
   ],
   "source": [
    "# Import the confusion matrix function and generate one:\n",
    "\n",
    "from sklearn.metrics import confusion_matrix\n",
    "cm = confusion_matrix(y_test, predictions)\n",
    "cm"
   ]
  },
  {
   "cell_type": "code",
   "execution_count": 163,
   "metadata": {},
   "outputs": [
    {
     "data": {
      "text/html": [
       "<div>\n",
       "<style scoped>\n",
       "    .dataframe tbody tr th:only-of-type {\n",
       "        vertical-align: middle;\n",
       "    }\n",
       "\n",
       "    .dataframe tbody tr th {\n",
       "        vertical-align: top;\n",
       "    }\n",
       "\n",
       "    .dataframe thead th {\n",
       "        text-align: right;\n",
       "    }\n",
       "</style>\n",
       "<table border=\"1\" class=\"dataframe\">\n",
       "  <thead>\n",
       "    <tr style=\"text-align: right;\">\n",
       "      <th></th>\n",
       "      <th>pred_subred_RLship</th>\n",
       "      <th>pred_subred_Dating</th>\n",
       "    </tr>\n",
       "  </thead>\n",
       "  <tbody>\n",
       "    <tr>\n",
       "      <td>actual_subred_RLship</td>\n",
       "      <td>104</td>\n",
       "      <td>142</td>\n",
       "    </tr>\n",
       "    <tr>\n",
       "      <td>actual_subred_Dating</td>\n",
       "      <td>66</td>\n",
       "      <td>204</td>\n",
       "    </tr>\n",
       "  </tbody>\n",
       "</table>\n",
       "</div>"
      ],
      "text/plain": [
       "                      pred_subred_RLship  pred_subred_Dating\n",
       "actual_subred_RLship                 104                 142\n",
       "actual_subred_Dating                  66                 204"
      ]
     },
     "execution_count": 163,
     "metadata": {},
     "output_type": "execute_result"
    }
   ],
   "source": [
    "con_matrix = pd.DataFrame(cm, columns = ['pred_subred_RLship', 'pred_subred_Dating'], index = ['actual_subred_RLship', 'actual_subred_Dating'])\n",
    "con_matrix"
   ]
  },
  {
   "cell_type": "code",
   "execution_count": 164,
   "metadata": {},
   "outputs": [],
   "source": [
    "tn, fp, fn, tp = confusion_matrix(y_test, predictions).ravel()"
   ]
  },
  {
   "cell_type": "code",
   "execution_count": 165,
   "metadata": {},
   "outputs": [
    {
     "name": "stdout",
     "output_type": "stream",
     "text": [
      "True Negatives: 104\n",
      "False Positives: 142\n",
      "False Negatives: 66\n",
      "True Positives: 204\n"
     ]
    }
   ],
   "source": [
    "print(\"True Negatives: %s\" % tn)\n",
    "print(\"False Positives: %s\" % fp)\n",
    "print(\"False Negatives: %s\" % fn)\n",
    "print(\"True Positives: %s\" % tp)"
   ]
  },
  {
   "cell_type": "code",
   "execution_count": 166,
   "metadata": {},
   "outputs": [
    {
     "name": "stdout",
     "output_type": "stream",
     "text": [
      "Sensitivity is 0.7556\n",
      "Specificity is 0.4228\n",
      "Precision is 0.5896\n",
      "Accuracy is 0.5969\n"
     ]
    }
   ],
   "source": [
    "print(f\"Sensitivity is {round((tp / (tp + fn)), 4)}\")\n",
    "print(f\"Specificity is {round((tn / (tn + fp)), 4)}\")\n",
    "print(f\"Precision is {round((tp / (tp + fp)), 4)}\")\n",
    "print(f\"Accuracy is {round((tp + tn) / (tn + fp + fn + tp), 4)}\")"
   ]
  },
  {
   "cell_type": "markdown",
   "metadata": {},
   "source": [
    "#### For comparison's sake, create a Naive Bayes classifier for tvec as well"
   ]
  },
  {
   "cell_type": "code",
   "execution_count": 141,
   "metadata": {},
   "outputs": [],
   "source": [
    "from sklearn.naive_bayes import BernoulliNB\n",
    "nb = BernoulliNB()"
   ]
  },
  {
   "cell_type": "code",
   "execution_count": 142,
   "metadata": {},
   "outputs": [],
   "source": [
    "model = nb.fit(X_train_cvec, y_train)"
   ]
  },
  {
   "cell_type": "code",
   "execution_count": 143,
   "metadata": {},
   "outputs": [],
   "source": [
    "predictions = model.predict(X_test_cvec)"
   ]
  },
  {
   "cell_type": "code",
   "execution_count": 144,
   "metadata": {},
   "outputs": [
    {
     "name": "stdout",
     "output_type": "stream",
     "text": [
      "0.7196382428940569\n"
     ]
    }
   ],
   "source": [
    "print(model.score(X_train_cvec, y_train))"
   ]
  },
  {
   "cell_type": "code",
   "execution_count": 145,
   "metadata": {},
   "outputs": [
    {
     "name": "stdout",
     "output_type": "stream",
     "text": [
      "0.75\n"
     ]
    }
   ],
   "source": [
    "print(model.score(X_test_cvec, y_test))"
   ]
  },
  {
   "cell_type": "code",
   "execution_count": 146,
   "metadata": {},
   "outputs": [
    {
     "data": {
      "text/plain": [
       "array([[189,  57],\n",
       "       [ 72, 198]])"
      ]
     },
     "execution_count": 146,
     "metadata": {},
     "output_type": "execute_result"
    }
   ],
   "source": [
    "cm2 = confusion_matrix(y_test, predictions)\n",
    "cm2"
   ]
  },
  {
   "cell_type": "code",
   "execution_count": 147,
   "metadata": {},
   "outputs": [
    {
     "data": {
      "text/html": [
       "<div>\n",
       "<style scoped>\n",
       "    .dataframe tbody tr th:only-of-type {\n",
       "        vertical-align: middle;\n",
       "    }\n",
       "\n",
       "    .dataframe tbody tr th {\n",
       "        vertical-align: top;\n",
       "    }\n",
       "\n",
       "    .dataframe thead th {\n",
       "        text-align: right;\n",
       "    }\n",
       "</style>\n",
       "<table border=\"1\" class=\"dataframe\">\n",
       "  <thead>\n",
       "    <tr style=\"text-align: right;\">\n",
       "      <th></th>\n",
       "      <th>pred_subred_RLship</th>\n",
       "      <th>pred_subred_Dating</th>\n",
       "    </tr>\n",
       "  </thead>\n",
       "  <tbody>\n",
       "    <tr>\n",
       "      <td>actual_subred_RLship</td>\n",
       "      <td>189</td>\n",
       "      <td>57</td>\n",
       "    </tr>\n",
       "    <tr>\n",
       "      <td>actual_subred_Dating</td>\n",
       "      <td>72</td>\n",
       "      <td>198</td>\n",
       "    </tr>\n",
       "  </tbody>\n",
       "</table>\n",
       "</div>"
      ],
      "text/plain": [
       "                      pred_subred_RLship  pred_subred_Dating\n",
       "actual_subred_RLship                 189                  57\n",
       "actual_subred_Dating                  72                 198"
      ]
     },
     "execution_count": 147,
     "metadata": {},
     "output_type": "execute_result"
    }
   ],
   "source": [
    "con_matrix2 = pd.DataFrame(cm2, columns = ['pred_subred_RLship', 'pred_subred_Dating'], index = ['actual_subred_RLship', 'actual_subred_Dating'])\n",
    "con_matrix2"
   ]
  },
  {
   "cell_type": "code",
   "execution_count": 148,
   "metadata": {},
   "outputs": [],
   "source": [
    "tn, fp, fn, tp = confusion_matrix(y_test, predictions).ravel()"
   ]
  },
  {
   "cell_type": "code",
   "execution_count": 149,
   "metadata": {
    "scrolled": true
   },
   "outputs": [
    {
     "name": "stdout",
     "output_type": "stream",
     "text": [
      "True Negatives: 189\n",
      "False Positives: 57\n",
      "False Negatives: 72\n",
      "True Positives: 198\n"
     ]
    }
   ],
   "source": [
    "print(\"True Negatives: %s\" % tn)\n",
    "print(\"False Positives: %s\" % fp)\n",
    "print(\"False Negatives: %s\" % fn)\n",
    "print(\"True Positives: %s\" % tp)"
   ]
  },
  {
   "cell_type": "code",
   "execution_count": 152,
   "metadata": {},
   "outputs": [
    {
     "name": "stdout",
     "output_type": "stream",
     "text": [
      "Sensitivity is 0.7333\n",
      "Specificity is 0.7683\n",
      "Precision is 0.7765\n",
      "Accuracy is 0.75\n"
     ]
    }
   ],
   "source": [
    "print(f\"Sensitivity is {round((tp / (tp + fn)), 4)}\")\n",
    "print(f\"Specificity is {round((tn / (tn + fp)), 4)}\")\n",
    "print(f\"Precision is {round((tp / (tp + fp)),4)}\")\n",
    "print(f\"Accuracy is {round((tp + tn) / (tn + fp + fn + tp), 4)}\")"
   ]
  },
  {
   "cell_type": "markdown",
   "metadata": {},
   "source": [
    "## Final Comparison:"
   ]
  },
  {
   "cell_type": "code",
   "execution_count": 167,
   "metadata": {},
   "outputs": [
    {
     "data": {
      "text/html": [
       "<div>\n",
       "<style scoped>\n",
       "    .dataframe tbody tr th:only-of-type {\n",
       "        vertical-align: middle;\n",
       "    }\n",
       "\n",
       "    .dataframe tbody tr th {\n",
       "        vertical-align: top;\n",
       "    }\n",
       "\n",
       "    .dataframe thead th {\n",
       "        text-align: right;\n",
       "    }\n",
       "</style>\n",
       "<table border=\"1\" class=\"dataframe\">\n",
       "  <thead>\n",
       "    <tr style=\"text-align: right;\">\n",
       "      <th></th>\n",
       "      <th>cvec_metrics</th>\n",
       "      <th>tvec_metrics</th>\n",
       "    </tr>\n",
       "  </thead>\n",
       "  <tbody>\n",
       "    <tr>\n",
       "      <td>True Negatives</td>\n",
       "      <td>189.0000</td>\n",
       "      <td>104.0000</td>\n",
       "    </tr>\n",
       "    <tr>\n",
       "      <td>False Positives</td>\n",
       "      <td>57.0000</td>\n",
       "      <td>142.0000</td>\n",
       "    </tr>\n",
       "    <tr>\n",
       "      <td>False Negatives</td>\n",
       "      <td>72.0000</td>\n",
       "      <td>66.0000</td>\n",
       "    </tr>\n",
       "    <tr>\n",
       "      <td>True Positives</td>\n",
       "      <td>198.0000</td>\n",
       "      <td>204.0000</td>\n",
       "    </tr>\n",
       "    <tr>\n",
       "      <td>Sensitivity</td>\n",
       "      <td>0.7333</td>\n",
       "      <td>0.7556</td>\n",
       "    </tr>\n",
       "    <tr>\n",
       "      <td>Specificity</td>\n",
       "      <td>0.7683</td>\n",
       "      <td>0.4228</td>\n",
       "    </tr>\n",
       "    <tr>\n",
       "      <td>Precision</td>\n",
       "      <td>0.7765</td>\n",
       "      <td>0.5896</td>\n",
       "    </tr>\n",
       "    <tr>\n",
       "      <td>Accuracy</td>\n",
       "      <td>0.7500</td>\n",
       "      <td>0.5969</td>\n",
       "    </tr>\n",
       "    <tr>\n",
       "      <td>LogReg Test Score</td>\n",
       "      <td>0.8488</td>\n",
       "      <td>0.8236</td>\n",
       "    </tr>\n",
       "    <tr>\n",
       "      <td>Naive Bayes Test Score</td>\n",
       "      <td>0.7500</td>\n",
       "      <td>0.5969</td>\n",
       "    </tr>\n",
       "  </tbody>\n",
       "</table>\n",
       "</div>"
      ],
      "text/plain": [
       "                        cvec_metrics  tvec_metrics\n",
       "True Negatives              189.0000      104.0000\n",
       "False Positives              57.0000      142.0000\n",
       "False Negatives              72.0000       66.0000\n",
       "True Positives              198.0000      204.0000\n",
       "Sensitivity                   0.7333        0.7556\n",
       "Specificity                   0.7683        0.4228\n",
       "Precision                     0.7765        0.5896\n",
       "Accuracy                      0.7500        0.5969\n",
       "LogReg Test Score             0.8488        0.8236\n",
       "Naive Bayes Test Score        0.7500        0.5969"
      ]
     },
     "execution_count": 167,
     "metadata": {},
     "output_type": "execute_result"
    }
   ],
   "source": [
    "cvec_metrics = {'True Negatives': 189, 'False Positives': 57, 'False Negatives': 72, 'True Positives': 198,\n",
    "               'Sensitivity': 0.7333, 'Specificity': 0.7683, 'Precision': 0.7765, 'Accuracy': 0.75,\n",
    "                'LogReg Test Score': 0.8488, 'Naive Bayes Test Score': 0.75}\n",
    "tvec_metrics = {'True Negatives': 104, 'False Positives': 142, 'False Negatives': 66, 'True Positives': 204,\n",
    "                'Sensitivity': 0.7556, 'Specificity': 0.4228, 'Precision': 0.5896, 'Accuracy': 0.5969,\n",
    "               'LogReg Test Score': 0.8236, 'Naive Bayes Test Score': 0.5969}\n",
    "\n",
    "comparison_df = pd.DataFrame({'cvec_metrics':pd.Series(cvec_metrics),'tvec_metrics':pd.Series(tvec_metrics)})\n",
    "comparison_df"
   ]
  },
  {
   "cell_type": "markdown",
   "metadata": {},
   "source": [
    "*'LogReg Test Score' for tvec_metrics was obtained from its GridSearchCV pipeline, where LogReg was used as an estimator*"
   ]
  },
  {
   "cell_type": "markdown",
   "metadata": {},
   "source": [
    "...just for comparison, try using SVM to classify and check the scores for cvec and tvec:"
   ]
  },
  {
   "cell_type": "code",
   "execution_count": 168,
   "metadata": {},
   "outputs": [],
   "source": [
    "from sklearn.svm import SVC"
   ]
  },
  {
   "cell_type": "code",
   "execution_count": 169,
   "metadata": {},
   "outputs": [],
   "source": [
    "# 'linear' kernel is chosen since there are more feature than training samples:\n",
    "\n",
    "svc = SVC(kernel = 'linear')"
   ]
  },
  {
   "cell_type": "code",
   "execution_count": 170,
   "metadata": {},
   "outputs": [
    {
     "data": {
      "text/plain": [
       "SVC(C=1.0, cache_size=200, class_weight=None, coef0=0.0,\n",
       "    decision_function_shape='ovr', degree=3, gamma='auto_deprecated',\n",
       "    kernel='linear', max_iter=-1, probability=False, random_state=None,\n",
       "    shrinking=True, tol=0.001, verbose=False)"
      ]
     },
     "execution_count": 170,
     "metadata": {},
     "output_type": "execute_result"
    }
   ],
   "source": [
    "svc.fit(X_train_cvec, y_train)"
   ]
  },
  {
   "cell_type": "code",
   "execution_count": 171,
   "metadata": {},
   "outputs": [
    {
     "data": {
      "text/plain": [
       "0.7687338501291989"
      ]
     },
     "execution_count": 171,
     "metadata": {},
     "output_type": "execute_result"
    }
   ],
   "source": [
    "svc.score(X_train_cvec, y_train)"
   ]
  },
  {
   "cell_type": "code",
   "execution_count": 172,
   "metadata": {},
   "outputs": [],
   "source": [
    "y_pred = svc.predict(X_test_cvec)"
   ]
  },
  {
   "cell_type": "code",
   "execution_count": 173,
   "metadata": {},
   "outputs": [
    {
     "data": {
      "text/plain": [
       "0.8352713178294574"
      ]
     },
     "execution_count": 173,
     "metadata": {},
     "output_type": "execute_result"
    }
   ],
   "source": [
    "from sklearn.metrics import accuracy_score\n",
    "accuracy_score(y_test, y_pred)"
   ]
  },
  {
   "cell_type": "markdown",
   "metadata": {},
   "source": [
    "Perhaps unsurprisingly, SVM does improve the cvec score (accuracy) even more, but at risk of overfitting.\n",
    "\n",
    "Proceed to tvec:"
   ]
  },
  {
   "cell_type": "code",
   "execution_count": 174,
   "metadata": {
    "scrolled": true
   },
   "outputs": [
    {
     "data": {
      "text/plain": [
       "SVC(C=1.0, cache_size=200, class_weight=None, coef0=0.0,\n",
       "    decision_function_shape='ovr', degree=3, gamma='auto_deprecated',\n",
       "    kernel='linear', max_iter=-1, probability=False, random_state=None,\n",
       "    shrinking=True, tol=0.001, verbose=False)"
      ]
     },
     "execution_count": 174,
     "metadata": {},
     "output_type": "execute_result"
    }
   ],
   "source": [
    "svc.fit(X_train_tvec, y_train)"
   ]
  },
  {
   "cell_type": "code",
   "execution_count": 175,
   "metadata": {},
   "outputs": [
    {
     "data": {
      "text/plain": [
       "0.6931524547803618"
      ]
     },
     "execution_count": 175,
     "metadata": {},
     "output_type": "execute_result"
    }
   ],
   "source": [
    "svc.score(X_train_tvec, y_train)"
   ]
  },
  {
   "cell_type": "code",
   "execution_count": 176,
   "metadata": {},
   "outputs": [
    {
     "data": {
      "text/plain": [
       "0.7461240310077519"
      ]
     },
     "execution_count": 176,
     "metadata": {},
     "output_type": "execute_result"
    }
   ],
   "source": [
    "y_pred = svc.predict(X_test_tvec)\n",
    "accuracy_score(y_test, y_pred)"
   ]
  },
  {
   "cell_type": "markdown",
   "metadata": {},
   "source": [
    "SVM improves tvec score tremedously and to an acceptable value."
   ]
  }
 ],
 "metadata": {
  "kernelspec": {
   "display_name": "Python 3",
   "language": "python",
   "name": "python3"
  },
  "language_info": {
   "codemirror_mode": {
    "name": "ipython",
    "version": 3
   },
   "file_extension": ".py",
   "mimetype": "text/x-python",
   "name": "python",
   "nbconvert_exporter": "python",
   "pygments_lexer": "ipython3",
   "version": "3.7.4"
  }
 },
 "nbformat": 4,
 "nbformat_minor": 2
}
